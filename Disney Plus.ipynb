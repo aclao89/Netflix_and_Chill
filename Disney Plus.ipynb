{
 "cells": [
  {
   "cell_type": "code",
   "execution_count": 2,
   "metadata": {},
   "outputs": [],
   "source": [
    "import pandas as pd \n",
    "import numpy as np\n",
    "import matplotlib.pyplot as plt \n",
    "import seaborn as sns \n",
    "%matplotlib inline \n",
    "import plotly.graph_objects as go\n",
    "import plotly.express as pex\n",
    "import plotly.offline as py\n",
    "from plotly.offline import init_notebook_mode, iplot\n",
    "from plotly.subplots import make_subplots\n",
    "import calmap\n",
    "import squarify\n",
    "from wordcloud import WordCloud, STOPWORDS, ImageColorGenerator\n",
    "from collections import Counter"
   ]
  },
  {
   "cell_type": "code",
   "execution_count": 4,
   "metadata": {},
   "outputs": [
    {
     "data": {
      "text/html": [
       "<div>\n",
       "<style scoped>\n",
       "    .dataframe tbody tr th:only-of-type {\n",
       "        vertical-align: middle;\n",
       "    }\n",
       "\n",
       "    .dataframe tbody tr th {\n",
       "        vertical-align: top;\n",
       "    }\n",
       "\n",
       "    .dataframe thead th {\n",
       "        text-align: right;\n",
       "    }\n",
       "</style>\n",
       "<table border=\"1\" class=\"dataframe\">\n",
       "  <thead>\n",
       "    <tr style=\"text-align: right;\">\n",
       "      <th></th>\n",
       "      <th>imdb_id</th>\n",
       "      <th>title</th>\n",
       "      <th>plot</th>\n",
       "      <th>type</th>\n",
       "      <th>rated</th>\n",
       "      <th>year</th>\n",
       "      <th>released_at</th>\n",
       "      <th>added_at</th>\n",
       "      <th>runtime</th>\n",
       "      <th>genre</th>\n",
       "      <th>director</th>\n",
       "      <th>writer</th>\n",
       "      <th>actors</th>\n",
       "      <th>language</th>\n",
       "      <th>country</th>\n",
       "      <th>awards</th>\n",
       "      <th>metascore</th>\n",
       "      <th>imdb_rating</th>\n",
       "      <th>imdb_votes</th>\n",
       "    </tr>\n",
       "  </thead>\n",
       "  <tbody>\n",
       "    <tr>\n",
       "      <th>0</th>\n",
       "      <td>tt0147800</td>\n",
       "      <td>10 Things I Hate About You</td>\n",
       "      <td>A pretty, popular teenager can't go out on a d...</td>\n",
       "      <td>movie</td>\n",
       "      <td>PG-13</td>\n",
       "      <td>1999</td>\n",
       "      <td>31 Mar 1999</td>\n",
       "      <td>November 12, 2019</td>\n",
       "      <td>97 min</td>\n",
       "      <td>Comedy, Drama, Romance</td>\n",
       "      <td>Gil Junger</td>\n",
       "      <td>Karen McCullah, Kirsten Smith</td>\n",
       "      <td>Heath Ledger, Julia Stiles, Joseph Gordon-Levi...</td>\n",
       "      <td>English, French</td>\n",
       "      <td>USA</td>\n",
       "      <td>2 wins &amp; 13 nominations.</td>\n",
       "      <td>70.0</td>\n",
       "      <td>7.3</td>\n",
       "      <td>281,399</td>\n",
       "    </tr>\n",
       "    <tr>\n",
       "      <th>1</th>\n",
       "      <td>tt7019028</td>\n",
       "      <td>101 Dalmatian Street</td>\n",
       "      <td>This series follows the lives of Delilah and D...</td>\n",
       "      <td>series</td>\n",
       "      <td>NaN</td>\n",
       "      <td>2018–</td>\n",
       "      <td>25 Mar 2019</td>\n",
       "      <td>February 28, 2020</td>\n",
       "      <td>NaN</td>\n",
       "      <td>Animation, Comedy, Family</td>\n",
       "      <td>NaN</td>\n",
       "      <td>NaN</td>\n",
       "      <td>Josh Brener, Michaela Dietz, Bert Davis, Abiga...</td>\n",
       "      <td>English</td>\n",
       "      <td>UK, USA, Canada</td>\n",
       "      <td>NaN</td>\n",
       "      <td>NaN</td>\n",
       "      <td>6.2</td>\n",
       "      <td>124</td>\n",
       "    </tr>\n",
       "    <tr>\n",
       "      <th>2</th>\n",
       "      <td>tt0115433</td>\n",
       "      <td>101 Dalmatians</td>\n",
       "      <td>An evil high-fashion designer plots to steal D...</td>\n",
       "      <td>movie</td>\n",
       "      <td>G</td>\n",
       "      <td>1996</td>\n",
       "      <td>27 Nov 1996</td>\n",
       "      <td>November 12, 2019</td>\n",
       "      <td>103 min</td>\n",
       "      <td>Adventure, Comedy, Crime, Family</td>\n",
       "      <td>Stephen Herek</td>\n",
       "      <td>Dodie Smith (novel), John Hughes (screenplay)</td>\n",
       "      <td>Glenn Close, Jeff Daniels, Joely Richardson, J...</td>\n",
       "      <td>English, Spanish</td>\n",
       "      <td>USA, UK</td>\n",
       "      <td>Nominated for 1 Golden Globe. Another 3 wins &amp;...</td>\n",
       "      <td>49.0</td>\n",
       "      <td>5.7</td>\n",
       "      <td>96,739</td>\n",
       "    </tr>\n",
       "    <tr>\n",
       "      <th>3</th>\n",
       "      <td>tt0324941</td>\n",
       "      <td>101 Dalmatians 2: Patch's London Adventure</td>\n",
       "      <td>Being one of 101 takes its toll on Patch, who ...</td>\n",
       "      <td>movie</td>\n",
       "      <td>G</td>\n",
       "      <td>2002</td>\n",
       "      <td>21 Jan 2003</td>\n",
       "      <td>November 12, 2019</td>\n",
       "      <td>74 min</td>\n",
       "      <td>Animation, Adventure, Comedy, Family, Musical</td>\n",
       "      <td>Jim Kammerud, Brian Smith</td>\n",
       "      <td>Jim Kammerud (story), Dan Root (story), Garret...</td>\n",
       "      <td>Barry Bostwick, Jason Alexander, Martin Short,...</td>\n",
       "      <td>English</td>\n",
       "      <td>USA</td>\n",
       "      <td>5 wins &amp; 10 nominations.</td>\n",
       "      <td>NaN</td>\n",
       "      <td>5.8</td>\n",
       "      <td>7,299</td>\n",
       "    </tr>\n",
       "    <tr>\n",
       "      <th>4</th>\n",
       "      <td>tt0211181</td>\n",
       "      <td>102 Dalmatians</td>\n",
       "      <td>Cruella DeVil gets out of prison and goes afte...</td>\n",
       "      <td>movie</td>\n",
       "      <td>G</td>\n",
       "      <td>2000</td>\n",
       "      <td>22 Nov 2000</td>\n",
       "      <td>November 12, 2019</td>\n",
       "      <td>100 min</td>\n",
       "      <td>Adventure, Comedy, Family</td>\n",
       "      <td>Kevin Lima</td>\n",
       "      <td>Dodie Smith (novel), Kristen Buckley (story), ...</td>\n",
       "      <td>Glenn Close, Gérard Depardieu, Ioan Gruffudd, ...</td>\n",
       "      <td>English</td>\n",
       "      <td>USA, UK</td>\n",
       "      <td>Nominated for 1 Oscar. Another 1 win &amp; 7 nomin...</td>\n",
       "      <td>35.0</td>\n",
       "      <td>4.9</td>\n",
       "      <td>33,164</td>\n",
       "    </tr>\n",
       "  </tbody>\n",
       "</table>\n",
       "</div>"
      ],
      "text/plain": [
       "     imdb_id                                       title  \\\n",
       "0  tt0147800                  10 Things I Hate About You   \n",
       "1  tt7019028                        101 Dalmatian Street   \n",
       "2  tt0115433                              101 Dalmatians   \n",
       "3  tt0324941  101 Dalmatians 2: Patch's London Adventure   \n",
       "4  tt0211181                              102 Dalmatians   \n",
       "\n",
       "                                                plot    type  rated   year  \\\n",
       "0  A pretty, popular teenager can't go out on a d...   movie  PG-13   1999   \n",
       "1  This series follows the lives of Delilah and D...  series    NaN  2018–   \n",
       "2  An evil high-fashion designer plots to steal D...   movie      G   1996   \n",
       "3  Being one of 101 takes its toll on Patch, who ...   movie      G   2002   \n",
       "4  Cruella DeVil gets out of prison and goes afte...   movie      G   2000   \n",
       "\n",
       "   released_at           added_at  runtime  \\\n",
       "0  31 Mar 1999  November 12, 2019   97 min   \n",
       "1  25 Mar 2019  February 28, 2020      NaN   \n",
       "2  27 Nov 1996  November 12, 2019  103 min   \n",
       "3  21 Jan 2003  November 12, 2019   74 min   \n",
       "4  22 Nov 2000  November 12, 2019  100 min   \n",
       "\n",
       "                                           genre                   director  \\\n",
       "0                         Comedy, Drama, Romance                 Gil Junger   \n",
       "1                      Animation, Comedy, Family                        NaN   \n",
       "2               Adventure, Comedy, Crime, Family              Stephen Herek   \n",
       "3  Animation, Adventure, Comedy, Family, Musical  Jim Kammerud, Brian Smith   \n",
       "4                      Adventure, Comedy, Family                 Kevin Lima   \n",
       "\n",
       "                                              writer  \\\n",
       "0                      Karen McCullah, Kirsten Smith   \n",
       "1                                                NaN   \n",
       "2      Dodie Smith (novel), John Hughes (screenplay)   \n",
       "3  Jim Kammerud (story), Dan Root (story), Garret...   \n",
       "4  Dodie Smith (novel), Kristen Buckley (story), ...   \n",
       "\n",
       "                                              actors          language  \\\n",
       "0  Heath Ledger, Julia Stiles, Joseph Gordon-Levi...   English, French   \n",
       "1  Josh Brener, Michaela Dietz, Bert Davis, Abiga...           English   \n",
       "2  Glenn Close, Jeff Daniels, Joely Richardson, J...  English, Spanish   \n",
       "3  Barry Bostwick, Jason Alexander, Martin Short,...           English   \n",
       "4  Glenn Close, Gérard Depardieu, Ioan Gruffudd, ...           English   \n",
       "\n",
       "           country                                             awards  \\\n",
       "0              USA                           2 wins & 13 nominations.   \n",
       "1  UK, USA, Canada                                                NaN   \n",
       "2          USA, UK  Nominated for 1 Golden Globe. Another 3 wins &...   \n",
       "3              USA                           5 wins & 10 nominations.   \n",
       "4          USA, UK  Nominated for 1 Oscar. Another 1 win & 7 nomin...   \n",
       "\n",
       "   metascore  imdb_rating imdb_votes  \n",
       "0       70.0          7.3    281,399  \n",
       "1        NaN          6.2        124  \n",
       "2       49.0          5.7     96,739  \n",
       "3        NaN          5.8      7,299  \n",
       "4       35.0          4.9     33,164  "
      ]
     },
     "execution_count": 4,
     "metadata": {},
     "output_type": "execute_result"
    }
   ],
   "source": [
    "disney_plus = pd.read_csv('Resources/disney_plus_shows.csv')\n",
    "\n",
    "disney_plus.head()"
   ]
  },
  {
   "cell_type": "code",
   "execution_count": 5,
   "metadata": {},
   "outputs": [
    {
     "data": {
      "text/plain": [
       "(954, 19)"
      ]
     },
     "execution_count": 5,
     "metadata": {},
     "output_type": "execute_result"
    }
   ],
   "source": [
    "disney_plus.shape"
   ]
  },
  {
   "cell_type": "code",
   "execution_count": 8,
   "metadata": {},
   "outputs": [
    {
     "data": {
      "text/html": [
       "<div>\n",
       "<style scoped>\n",
       "    .dataframe tbody tr th:only-of-type {\n",
       "        vertical-align: middle;\n",
       "    }\n",
       "\n",
       "    .dataframe tbody tr th {\n",
       "        vertical-align: top;\n",
       "    }\n",
       "\n",
       "    .dataframe thead th {\n",
       "        text-align: right;\n",
       "    }\n",
       "</style>\n",
       "<table border=\"1\" class=\"dataframe\">\n",
       "  <thead>\n",
       "    <tr style=\"text-align: right;\">\n",
       "      <th></th>\n",
       "      <th>title</th>\n",
       "      <th>type</th>\n",
       "      <th>rated</th>\n",
       "      <th>added_at</th>\n",
       "      <th>genre</th>\n",
       "      <th>director</th>\n",
       "      <th>actors</th>\n",
       "      <th>country</th>\n",
       "    </tr>\n",
       "  </thead>\n",
       "  <tbody>\n",
       "    <tr>\n",
       "      <th>0</th>\n",
       "      <td>10 Things I Hate About You</td>\n",
       "      <td>movie</td>\n",
       "      <td>PG-13</td>\n",
       "      <td>November 12, 2019</td>\n",
       "      <td>Comedy, Drama, Romance</td>\n",
       "      <td>Gil Junger</td>\n",
       "      <td>Heath Ledger, Julia Stiles, Joseph Gordon-Levi...</td>\n",
       "      <td>USA</td>\n",
       "    </tr>\n",
       "    <tr>\n",
       "      <th>1</th>\n",
       "      <td>101 Dalmatian Street</td>\n",
       "      <td>series</td>\n",
       "      <td>NaN</td>\n",
       "      <td>February 28, 2020</td>\n",
       "      <td>Animation, Comedy, Family</td>\n",
       "      <td>NaN</td>\n",
       "      <td>Josh Brener, Michaela Dietz, Bert Davis, Abiga...</td>\n",
       "      <td>UK, USA, Canada</td>\n",
       "    </tr>\n",
       "    <tr>\n",
       "      <th>2</th>\n",
       "      <td>101 Dalmatians</td>\n",
       "      <td>movie</td>\n",
       "      <td>G</td>\n",
       "      <td>November 12, 2019</td>\n",
       "      <td>Adventure, Comedy, Crime, Family</td>\n",
       "      <td>Stephen Herek</td>\n",
       "      <td>Glenn Close, Jeff Daniels, Joely Richardson, J...</td>\n",
       "      <td>USA, UK</td>\n",
       "    </tr>\n",
       "    <tr>\n",
       "      <th>3</th>\n",
       "      <td>101 Dalmatians 2: Patch's London Adventure</td>\n",
       "      <td>movie</td>\n",
       "      <td>G</td>\n",
       "      <td>November 12, 2019</td>\n",
       "      <td>Animation, Adventure, Comedy, Family, Musical</td>\n",
       "      <td>Jim Kammerud, Brian Smith</td>\n",
       "      <td>Barry Bostwick, Jason Alexander, Martin Short,...</td>\n",
       "      <td>USA</td>\n",
       "    </tr>\n",
       "    <tr>\n",
       "      <th>4</th>\n",
       "      <td>102 Dalmatians</td>\n",
       "      <td>movie</td>\n",
       "      <td>G</td>\n",
       "      <td>November 12, 2019</td>\n",
       "      <td>Adventure, Comedy, Family</td>\n",
       "      <td>Kevin Lima</td>\n",
       "      <td>Glenn Close, Gérard Depardieu, Ioan Gruffudd, ...</td>\n",
       "      <td>USA, UK</td>\n",
       "    </tr>\n",
       "  </tbody>\n",
       "</table>\n",
       "</div>"
      ],
      "text/plain": [
       "                                        title    type  rated  \\\n",
       "0                  10 Things I Hate About You   movie  PG-13   \n",
       "1                        101 Dalmatian Street  series    NaN   \n",
       "2                              101 Dalmatians   movie      G   \n",
       "3  101 Dalmatians 2: Patch's London Adventure   movie      G   \n",
       "4                              102 Dalmatians   movie      G   \n",
       "\n",
       "            added_at                                          genre  \\\n",
       "0  November 12, 2019                         Comedy, Drama, Romance   \n",
       "1  February 28, 2020                      Animation, Comedy, Family   \n",
       "2  November 12, 2019               Adventure, Comedy, Crime, Family   \n",
       "3  November 12, 2019  Animation, Adventure, Comedy, Family, Musical   \n",
       "4  November 12, 2019                      Adventure, Comedy, Family   \n",
       "\n",
       "                    director  \\\n",
       "0                 Gil Junger   \n",
       "1                        NaN   \n",
       "2              Stephen Herek   \n",
       "3  Jim Kammerud, Brian Smith   \n",
       "4                 Kevin Lima   \n",
       "\n",
       "                                              actors          country  \n",
       "0  Heath Ledger, Julia Stiles, Joseph Gordon-Levi...              USA  \n",
       "1  Josh Brener, Michaela Dietz, Bert Davis, Abiga...  UK, USA, Canada  \n",
       "2  Glenn Close, Jeff Daniels, Joely Richardson, J...          USA, UK  \n",
       "3  Barry Bostwick, Jason Alexander, Martin Short,...              USA  \n",
       "4  Glenn Close, Gérard Depardieu, Ioan Gruffudd, ...          USA, UK  "
      ]
     },
     "execution_count": 8,
     "metadata": {},
     "output_type": "execute_result"
    }
   ],
   "source": [
    "disney_df = disney_plus[['title','type','rated','added_at', 'genre','director','actors','country']]\n",
    "\n",
    "disney_df.head()"
   ]
  },
  {
   "cell_type": "code",
   "execution_count": 10,
   "metadata": {},
   "outputs": [
    {
     "name": "stderr",
     "output_type": "stream",
     "text": [
      "C:\\Users\\alao8\\Anaconda3\\lib\\site-packages\\ipykernel_launcher.py:1: SettingWithCopyWarning:\n",
      "\n",
      "\n",
      "A value is trying to be set on a copy of a slice from a DataFrame.\n",
      "Try using .loc[row_indexer,col_indexer] = value instead\n",
      "\n",
      "See the caveats in the documentation: http://pandas.pydata.org/pandas-docs/stable/indexing.html#indexing-view-versus-copy\n",
      "\n"
     ]
    },
    {
     "data": {
      "text/html": [
       "<div>\n",
       "<style scoped>\n",
       "    .dataframe tbody tr th:only-of-type {\n",
       "        vertical-align: middle;\n",
       "    }\n",
       "\n",
       "    .dataframe tbody tr th {\n",
       "        vertical-align: top;\n",
       "    }\n",
       "\n",
       "    .dataframe thead th {\n",
       "        text-align: right;\n",
       "    }\n",
       "</style>\n",
       "<table border=\"1\" class=\"dataframe\">\n",
       "  <thead>\n",
       "    <tr style=\"text-align: right;\">\n",
       "      <th></th>\n",
       "      <th>title</th>\n",
       "      <th>type</th>\n",
       "      <th>rated</th>\n",
       "      <th>added_at</th>\n",
       "      <th>genre</th>\n",
       "      <th>director</th>\n",
       "      <th>actors</th>\n",
       "      <th>country</th>\n",
       "    </tr>\n",
       "  </thead>\n",
       "  <tbody>\n",
       "    <tr>\n",
       "      <th>0</th>\n",
       "      <td>10 Things I Hate About You</td>\n",
       "      <td>movie</td>\n",
       "      <td>PG-13</td>\n",
       "      <td>2019-11-12</td>\n",
       "      <td>Comedy, Drama, Romance</td>\n",
       "      <td>Gil Junger</td>\n",
       "      <td>Heath Ledger, Julia Stiles, Joseph Gordon-Levi...</td>\n",
       "      <td>USA</td>\n",
       "    </tr>\n",
       "    <tr>\n",
       "      <th>1</th>\n",
       "      <td>101 Dalmatian Street</td>\n",
       "      <td>series</td>\n",
       "      <td>NaN</td>\n",
       "      <td>2020-02-28</td>\n",
       "      <td>Animation, Comedy, Family</td>\n",
       "      <td>NaN</td>\n",
       "      <td>Josh Brener, Michaela Dietz, Bert Davis, Abiga...</td>\n",
       "      <td>UK, USA, Canada</td>\n",
       "    </tr>\n",
       "    <tr>\n",
       "      <th>2</th>\n",
       "      <td>101 Dalmatians</td>\n",
       "      <td>movie</td>\n",
       "      <td>G</td>\n",
       "      <td>2019-11-12</td>\n",
       "      <td>Adventure, Comedy, Crime, Family</td>\n",
       "      <td>Stephen Herek</td>\n",
       "      <td>Glenn Close, Jeff Daniels, Joely Richardson, J...</td>\n",
       "      <td>USA, UK</td>\n",
       "    </tr>\n",
       "    <tr>\n",
       "      <th>3</th>\n",
       "      <td>101 Dalmatians 2: Patch's London Adventure</td>\n",
       "      <td>movie</td>\n",
       "      <td>G</td>\n",
       "      <td>2019-11-12</td>\n",
       "      <td>Animation, Adventure, Comedy, Family, Musical</td>\n",
       "      <td>Jim Kammerud, Brian Smith</td>\n",
       "      <td>Barry Bostwick, Jason Alexander, Martin Short,...</td>\n",
       "      <td>USA</td>\n",
       "    </tr>\n",
       "    <tr>\n",
       "      <th>4</th>\n",
       "      <td>102 Dalmatians</td>\n",
       "      <td>movie</td>\n",
       "      <td>G</td>\n",
       "      <td>2019-11-12</td>\n",
       "      <td>Adventure, Comedy, Family</td>\n",
       "      <td>Kevin Lima</td>\n",
       "      <td>Glenn Close, Gérard Depardieu, Ioan Gruffudd, ...</td>\n",
       "      <td>USA, UK</td>\n",
       "    </tr>\n",
       "  </tbody>\n",
       "</table>\n",
       "</div>"
      ],
      "text/plain": [
       "                                        title    type  rated   added_at  \\\n",
       "0                  10 Things I Hate About You   movie  PG-13 2019-11-12   \n",
       "1                        101 Dalmatian Street  series    NaN 2020-02-28   \n",
       "2                              101 Dalmatians   movie      G 2019-11-12   \n",
       "3  101 Dalmatians 2: Patch's London Adventure   movie      G 2019-11-12   \n",
       "4                              102 Dalmatians   movie      G 2019-11-12   \n",
       "\n",
       "                                           genre                   director  \\\n",
       "0                         Comedy, Drama, Romance                 Gil Junger   \n",
       "1                      Animation, Comedy, Family                        NaN   \n",
       "2               Adventure, Comedy, Crime, Family              Stephen Herek   \n",
       "3  Animation, Adventure, Comedy, Family, Musical  Jim Kammerud, Brian Smith   \n",
       "4                      Adventure, Comedy, Family                 Kevin Lima   \n",
       "\n",
       "                                              actors          country  \n",
       "0  Heath Ledger, Julia Stiles, Joseph Gordon-Levi...              USA  \n",
       "1  Josh Brener, Michaela Dietz, Bert Davis, Abiga...  UK, USA, Canada  \n",
       "2  Glenn Close, Jeff Daniels, Joely Richardson, J...          USA, UK  \n",
       "3  Barry Bostwick, Jason Alexander, Martin Short,...              USA  \n",
       "4  Glenn Close, Gérard Depardieu, Ioan Gruffudd, ...          USA, UK  "
      ]
     },
     "execution_count": 10,
     "metadata": {},
     "output_type": "execute_result"
    }
   ],
   "source": [
    "disney_df['added_at'] = pd.to_datetime(disney_df['added_at'])\n",
    "\n",
    "disney_df.head()"
   ]
  },
  {
   "cell_type": "code",
   "execution_count": 11,
   "metadata": {},
   "outputs": [
    {
     "data": {
      "text/plain": [
       "title        84\n",
       "type         84\n",
       "rated       235\n",
       "added_at      0\n",
       "genre        94\n",
       "director    286\n",
       "actors      109\n",
       "country     108\n",
       "dtype: int64"
      ]
     },
     "execution_count": 11,
     "metadata": {},
     "output_type": "execute_result"
    }
   ],
   "source": [
    "disney_df.isnull().sum()"
   ]
  },
  {
   "cell_type": "code",
   "execution_count": 12,
   "metadata": {},
   "outputs": [
    {
     "data": {
      "text/plain": [
       "(954, 8)"
      ]
     },
     "execution_count": 12,
     "metadata": {},
     "output_type": "execute_result"
    }
   ],
   "source": [
    "disney_df.shape"
   ]
  },
  {
   "cell_type": "code",
   "execution_count": 16,
   "metadata": {},
   "outputs": [
    {
     "data": {
      "text/plain": [
       "(643, 8)"
      ]
     },
     "execution_count": 16,
     "metadata": {},
     "output_type": "execute_result"
    }
   ],
   "source": [
    "disney_df = disney_df.dropna(subset=['director', 'actors','country'], how='any')\n",
    "disney_df.shape"
   ]
  },
  {
   "cell_type": "code",
   "execution_count": 17,
   "metadata": {},
   "outputs": [
    {
     "data": {
      "text/plain": [
       "title        0\n",
       "type         0\n",
       "rated       65\n",
       "added_at     0\n",
       "genre        2\n",
       "director     0\n",
       "actors       0\n",
       "country      0\n",
       "dtype: int64"
      ]
     },
     "execution_count": 17,
     "metadata": {},
     "output_type": "execute_result"
    }
   ],
   "source": [
    "disney_df.isnull().sum()"
   ]
  },
  {
   "cell_type": "code",
   "execution_count": 18,
   "metadata": {},
   "outputs": [
    {
     "data": {
      "text/plain": [
       "title               object\n",
       "type                object\n",
       "rated               object\n",
       "added_at    datetime64[ns]\n",
       "genre               object\n",
       "director            object\n",
       "actors              object\n",
       "country             object\n",
       "dtype: object"
      ]
     },
     "execution_count": 18,
     "metadata": {},
     "output_type": "execute_result"
    }
   ],
   "source": [
    "disney_df.dtypes"
   ]
  },
  {
   "cell_type": "code",
   "execution_count": 20,
   "metadata": {},
   "outputs": [
    {
     "data": {
      "text/html": [
       "<div>\n",
       "<style scoped>\n",
       "    .dataframe tbody tr th:only-of-type {\n",
       "        vertical-align: middle;\n",
       "    }\n",
       "\n",
       "    .dataframe tbody tr th {\n",
       "        vertical-align: top;\n",
       "    }\n",
       "\n",
       "    .dataframe thead th {\n",
       "        text-align: right;\n",
       "    }\n",
       "</style>\n",
       "<table border=\"1\" class=\"dataframe\">\n",
       "  <thead>\n",
       "    <tr style=\"text-align: right;\">\n",
       "      <th></th>\n",
       "      <th>title</th>\n",
       "      <th>show_type</th>\n",
       "      <th>film_rating</th>\n",
       "      <th>added_at</th>\n",
       "      <th>genre</th>\n",
       "      <th>director</th>\n",
       "      <th>cast</th>\n",
       "      <th>country</th>\n",
       "    </tr>\n",
       "  </thead>\n",
       "  <tbody>\n",
       "    <tr>\n",
       "      <th>0</th>\n",
       "      <td>10 Things I Hate About You</td>\n",
       "      <td>movie</td>\n",
       "      <td>PG-13</td>\n",
       "      <td>2019-11-12</td>\n",
       "      <td>Comedy, Drama, Romance</td>\n",
       "      <td>Gil Junger</td>\n",
       "      <td>Heath Ledger, Julia Stiles, Joseph Gordon-Levi...</td>\n",
       "      <td>USA</td>\n",
       "    </tr>\n",
       "    <tr>\n",
       "      <th>2</th>\n",
       "      <td>101 Dalmatians</td>\n",
       "      <td>movie</td>\n",
       "      <td>G</td>\n",
       "      <td>2019-11-12</td>\n",
       "      <td>Adventure, Comedy, Crime, Family</td>\n",
       "      <td>Stephen Herek</td>\n",
       "      <td>Glenn Close, Jeff Daniels, Joely Richardson, J...</td>\n",
       "      <td>USA, UK</td>\n",
       "    </tr>\n",
       "    <tr>\n",
       "      <th>3</th>\n",
       "      <td>101 Dalmatians 2: Patch's London Adventure</td>\n",
       "      <td>movie</td>\n",
       "      <td>G</td>\n",
       "      <td>2019-11-12</td>\n",
       "      <td>Animation, Adventure, Comedy, Family, Musical</td>\n",
       "      <td>Jim Kammerud, Brian Smith</td>\n",
       "      <td>Barry Bostwick, Jason Alexander, Martin Short,...</td>\n",
       "      <td>USA</td>\n",
       "    </tr>\n",
       "    <tr>\n",
       "      <th>4</th>\n",
       "      <td>102 Dalmatians</td>\n",
       "      <td>movie</td>\n",
       "      <td>G</td>\n",
       "      <td>2019-11-12</td>\n",
       "      <td>Adventure, Comedy, Family</td>\n",
       "      <td>Kevin Lima</td>\n",
       "      <td>Glenn Close, Gérard Depardieu, Ioan Gruffudd, ...</td>\n",
       "      <td>USA, UK</td>\n",
       "    </tr>\n",
       "    <tr>\n",
       "      <th>5</th>\n",
       "      <td>12 Dates of Christmas</td>\n",
       "      <td>movie</td>\n",
       "      <td>PG</td>\n",
       "      <td>2019-11-12</td>\n",
       "      <td>Comedy, Fantasy, Romance</td>\n",
       "      <td>James Hayman</td>\n",
       "      <td>Laura Miyata, Vijay Mehta, Amy Smart, Audrey D...</td>\n",
       "      <td>USA</td>\n",
       "    </tr>\n",
       "    <tr>\n",
       "      <th>6</th>\n",
       "      <td>20,000 Leagues Under the Sea</td>\n",
       "      <td>movie</td>\n",
       "      <td>G</td>\n",
       "      <td>2019-11-12</td>\n",
       "      <td>Adventure, Drama, Family, Fantasy, Sci-Fi</td>\n",
       "      <td>Richard Fleischer</td>\n",
       "      <td>Kirk Douglas, James Mason, Paul Lukas, Peter L...</td>\n",
       "      <td>USA</td>\n",
       "    </tr>\n",
       "    <tr>\n",
       "      <th>7</th>\n",
       "      <td>A Bug's Life</td>\n",
       "      <td>movie</td>\n",
       "      <td>G</td>\n",
       "      <td>2019-11-12</td>\n",
       "      <td>Animation, Adventure, Comedy, Family</td>\n",
       "      <td>John Lasseter, Andrew Stanton(co-director)</td>\n",
       "      <td>Dave Foley, Kevin Spacey, Julia Louis-Dreyfus,...</td>\n",
       "      <td>USA</td>\n",
       "    </tr>\n",
       "    <tr>\n",
       "      <th>9</th>\n",
       "      <td>A Goofy Movie</td>\n",
       "      <td>movie</td>\n",
       "      <td>G</td>\n",
       "      <td>2019-11-12</td>\n",
       "      <td>Animation, Adventure, Comedy, Family, Musical,...</td>\n",
       "      <td>Kevin Lima</td>\n",
       "      <td>Bill Farmer, Jason Marsden, Jim Cummings, Kell...</td>\n",
       "      <td>USA, Australia, France, Canada</td>\n",
       "    </tr>\n",
       "    <tr>\n",
       "      <th>10</th>\n",
       "      <td>A Kid in King Arthur's Court</td>\n",
       "      <td>movie</td>\n",
       "      <td>PG</td>\n",
       "      <td>2019-11-12</td>\n",
       "      <td>Adventure, Comedy, Family, Fantasy, Romance</td>\n",
       "      <td>Michael Gottlieb</td>\n",
       "      <td>Thomas Ian Nicholas, Joss Ackland, Art Malik, ...</td>\n",
       "      <td>USA, Hungary, UK</td>\n",
       "    </tr>\n",
       "    <tr>\n",
       "      <th>11</th>\n",
       "      <td>A Knight for a Day</td>\n",
       "      <td>movie</td>\n",
       "      <td>APPROVED</td>\n",
       "      <td>2019-11-12</td>\n",
       "      <td>Animation, Short, Comedy</td>\n",
       "      <td>Jack Hannah</td>\n",
       "      <td>Pinto Colvig</td>\n",
       "      <td>USA</td>\n",
       "    </tr>\n",
       "    <tr>\n",
       "      <th>12</th>\n",
       "      <td>A Ring of Endless Light</td>\n",
       "      <td>movie</td>\n",
       "      <td>TV-G</td>\n",
       "      <td>2019-11-12</td>\n",
       "      <td>Drama, Family, Romance</td>\n",
       "      <td>Greg Beeman</td>\n",
       "      <td>Mischa Barton, Ryan Merriman, Jared Padalecki,...</td>\n",
       "      <td>USA</td>\n",
       "    </tr>\n",
       "    <tr>\n",
       "      <th>13</th>\n",
       "      <td>A Tale of Two Critters</td>\n",
       "      <td>movie</td>\n",
       "      <td>G</td>\n",
       "      <td>2020-04-03</td>\n",
       "      <td>Adventure, Family</td>\n",
       "      <td>Jack Speirs</td>\n",
       "      <td>Mayf Nutter</td>\n",
       "      <td>USA</td>\n",
       "    </tr>\n",
       "    <tr>\n",
       "      <th>14</th>\n",
       "      <td>A Wrinkle in Time</td>\n",
       "      <td>movie</td>\n",
       "      <td>PG</td>\n",
       "      <td>2020-03-25</td>\n",
       "      <td>Adventure, Family, Fantasy, Sci-Fi</td>\n",
       "      <td>Ava DuVernay</td>\n",
       "      <td>Storm Reid, Oprah Winfrey, Reese Witherspoon, ...</td>\n",
       "      <td>USA</td>\n",
       "    </tr>\n",
       "    <tr>\n",
       "      <th>15</th>\n",
       "      <td>Aladdin</td>\n",
       "      <td>movie</td>\n",
       "      <td>PG</td>\n",
       "      <td>2020-01-08</td>\n",
       "      <td>Adventure, Family, Fantasy, Musical, Romance</td>\n",
       "      <td>Guy Ritchie</td>\n",
       "      <td>Will Smith, Mena Massoud, Naomi Scott, Marwan ...</td>\n",
       "      <td>USA</td>\n",
       "    </tr>\n",
       "    <tr>\n",
       "      <th>16</th>\n",
       "      <td>Aladdin</td>\n",
       "      <td>movie</td>\n",
       "      <td>G</td>\n",
       "      <td>2019-11-12</td>\n",
       "      <td>Animation, Adventure, Comedy, Family, Fantasy,...</td>\n",
       "      <td>Ron Clements, John Musker</td>\n",
       "      <td>Scott Weinger, Robin Williams, Linda Larkin, J...</td>\n",
       "      <td>USA</td>\n",
       "    </tr>\n",
       "    <tr>\n",
       "      <th>17</th>\n",
       "      <td>Aladdin and the King of Thieves</td>\n",
       "      <td>movie</td>\n",
       "      <td>Not Rated</td>\n",
       "      <td>2019-11-12</td>\n",
       "      <td>Animation, Adventure, Comedy, Family, Fantasy,...</td>\n",
       "      <td>Tad Stones</td>\n",
       "      <td>Val Bettin, Jim Cummings, Gilbert Gottfried, L...</td>\n",
       "      <td>USA</td>\n",
       "    </tr>\n",
       "    <tr>\n",
       "      <th>18</th>\n",
       "      <td>Aladdin and the Return of Jafar</td>\n",
       "      <td>movie</td>\n",
       "      <td>G</td>\n",
       "      <td>2019-11-12</td>\n",
       "      <td>Animation, Adventure, Comedy, Family, Fantasy,...</td>\n",
       "      <td>Toby Shelton, Tad Stones, Alan Zaslove</td>\n",
       "      <td>Jason Alexander, Jonathan Freeman, Jeff Bennet...</td>\n",
       "      <td>USA</td>\n",
       "    </tr>\n",
       "    <tr>\n",
       "      <th>19</th>\n",
       "      <td>Alice in Wonderland</td>\n",
       "      <td>movie</td>\n",
       "      <td>G</td>\n",
       "      <td>2019-11-12</td>\n",
       "      <td>Animation, Adventure, Family, Fantasy, Musical</td>\n",
       "      <td>Clyde Geronimi, Wilfred Jackson, Hamilton Luske</td>\n",
       "      <td>Kathryn Beaumont, Ed Wynn, Richard Haydn, Ster...</td>\n",
       "      <td>USA</td>\n",
       "    </tr>\n",
       "    <tr>\n",
       "      <th>20</th>\n",
       "      <td>Alice in Wonderland</td>\n",
       "      <td>movie</td>\n",
       "      <td>PG</td>\n",
       "      <td>2019-11-12</td>\n",
       "      <td>Adventure, Family, Fantasy</td>\n",
       "      <td>Tim Burton</td>\n",
       "      <td>Johnny Depp, Mia Wasikowska, Helena Bonham Car...</td>\n",
       "      <td>USA</td>\n",
       "    </tr>\n",
       "    <tr>\n",
       "      <th>21</th>\n",
       "      <td>Aliens of the Deep</td>\n",
       "      <td>movie</td>\n",
       "      <td>G</td>\n",
       "      <td>2019-11-12</td>\n",
       "      <td>Documentary, Family</td>\n",
       "      <td>James Cameron, Steven Quale</td>\n",
       "      <td>Anatoly M. Sagalevitch, Genya Chernaiev, Victo...</td>\n",
       "      <td>USA</td>\n",
       "    </tr>\n",
       "    <tr>\n",
       "      <th>22</th>\n",
       "      <td>All in a Nutshell</td>\n",
       "      <td>movie</td>\n",
       "      <td>Approved</td>\n",
       "      <td>2020-04-03</td>\n",
       "      <td>Family, Comedy, Animation, Short</td>\n",
       "      <td>Jack Hannah</td>\n",
       "      <td>Dessie Flynn, James MacDonald, Clarence Nash</td>\n",
       "      <td>USA</td>\n",
       "    </tr>\n",
       "    <tr>\n",
       "      <th>23</th>\n",
       "      <td>Alley Cats Strike</td>\n",
       "      <td>movie</td>\n",
       "      <td>TV-G</td>\n",
       "      <td>2019-11-12</td>\n",
       "      <td>Drama, Family, Sport</td>\n",
       "      <td>Rod Daniel</td>\n",
       "      <td>Kyle Schmid, Robert Ri'chard, Kaley Cuoco, Mim...</td>\n",
       "      <td>USA, Canada</td>\n",
       "    </tr>\n",
       "    <tr>\n",
       "      <th>24</th>\n",
       "      <td>Almost Angels</td>\n",
       "      <td>movie</td>\n",
       "      <td>Not Rated</td>\n",
       "      <td>2019-11-12</td>\n",
       "      <td>Comedy, Family, Music</td>\n",
       "      <td>Steve Previn</td>\n",
       "      <td>Vincent Winter, Sean Scully, Peter Weck, Hans ...</td>\n",
       "      <td>USA</td>\n",
       "    </tr>\n",
       "    <tr>\n",
       "      <th>25</th>\n",
       "      <td>America's Heart &amp; Soul</td>\n",
       "      <td>movie</td>\n",
       "      <td>PG</td>\n",
       "      <td>2019-11-12</td>\n",
       "      <td>Documentary</td>\n",
       "      <td>Louie Schwartzberg</td>\n",
       "      <td>George Woodard, Charles Jimmie Sr., The Vasque...</td>\n",
       "      <td>USA</td>\n",
       "    </tr>\n",
       "    <tr>\n",
       "      <th>27</th>\n",
       "      <td>Amy</td>\n",
       "      <td>movie</td>\n",
       "      <td>G</td>\n",
       "      <td>2019-11-12</td>\n",
       "      <td>Family, Drama</td>\n",
       "      <td>Vincent McEveety</td>\n",
       "      <td>Jenny Agutter, Barry Newman, Kathleen Nolan, C...</td>\n",
       "      <td>USA</td>\n",
       "    </tr>\n",
       "    <tr>\n",
       "      <th>28</th>\n",
       "      <td>An Extremely Goofy Movie</td>\n",
       "      <td>movie</td>\n",
       "      <td>G</td>\n",
       "      <td>2019-11-12</td>\n",
       "      <td>Animation, Comedy, Family, Sport</td>\n",
       "      <td>Douglas McCarthy</td>\n",
       "      <td>Bill Farmer, Jason Marsden, Jeff Bennett, Jim ...</td>\n",
       "      <td>USA, Australia</td>\n",
       "    </tr>\n",
       "    <tr>\n",
       "      <th>30</th>\n",
       "      <td>Annie</td>\n",
       "      <td>movie</td>\n",
       "      <td>UNRATED</td>\n",
       "      <td>2019-11-12</td>\n",
       "      <td>Family, Comedy, Musical</td>\n",
       "      <td>Rob Marshall</td>\n",
       "      <td>Kathy Bates, Victor Garber, Alan Cumming, Audr...</td>\n",
       "      <td>USA</td>\n",
       "    </tr>\n",
       "    <tr>\n",
       "      <th>31</th>\n",
       "      <td>Apollo: Missions to the Moon</td>\n",
       "      <td>movie</td>\n",
       "      <td>Not Rated</td>\n",
       "      <td>2019-11-12</td>\n",
       "      <td>History</td>\n",
       "      <td>Tom Jennings</td>\n",
       "      <td>Buzz Aldrin, Bill Anders, Neil Armstrong, Fran...</td>\n",
       "      <td>USA</td>\n",
       "    </tr>\n",
       "    <tr>\n",
       "      <th>33</th>\n",
       "      <td>Around the World in 80 Days</td>\n",
       "      <td>movie</td>\n",
       "      <td>PG</td>\n",
       "      <td>2020-02-01</td>\n",
       "      <td>Action, Adventure, Comedy, Family, Western</td>\n",
       "      <td>Frank Coraci</td>\n",
       "      <td>Jackie Chan, Steve Coogan, Cécile de France, R...</td>\n",
       "      <td>USA, Germany, Ireland, UK</td>\n",
       "    </tr>\n",
       "    <tr>\n",
       "      <th>34</th>\n",
       "      <td>Atlantis Rising</td>\n",
       "      <td>movie</td>\n",
       "      <td>NaN</td>\n",
       "      <td>2019-11-12</td>\n",
       "      <td>Documentary, Adventure, Mystery</td>\n",
       "      <td>Simcha Jacobovici</td>\n",
       "      <td>James Cameron, Georgeos Díaz-Montexano, Peter ...</td>\n",
       "      <td>Canada</td>\n",
       "    </tr>\n",
       "    <tr>\n",
       "      <th>...</th>\n",
       "      <td>...</td>\n",
       "      <td>...</td>\n",
       "      <td>...</td>\n",
       "      <td>...</td>\n",
       "      <td>...</td>\n",
       "      <td>...</td>\n",
       "      <td>...</td>\n",
       "      <td>...</td>\n",
       "    </tr>\n",
       "    <tr>\n",
       "      <th>910</th>\n",
       "      <td>Twitches Too</td>\n",
       "      <td>movie</td>\n",
       "      <td>TV-PG</td>\n",
       "      <td>2019-11-12</td>\n",
       "      <td>Drama, Family, Fantasy</td>\n",
       "      <td>Stuart Gillard</td>\n",
       "      <td>Tia Mowry-Hardrict, Tamera Mowry-Housley, Kris...</td>\n",
       "      <td>USA</td>\n",
       "    </tr>\n",
       "    <tr>\n",
       "      <th>911</th>\n",
       "      <td>Unidentified Flying Oddball</td>\n",
       "      <td>movie</td>\n",
       "      <td>G</td>\n",
       "      <td>2019-11-12</td>\n",
       "      <td>Comedy, Family, Adventure, Fantasy, Sci-Fi</td>\n",
       "      <td>Russ Mayberry</td>\n",
       "      <td>Dennis Dugan, Jim Dale, Ron Moody, Kenneth More</td>\n",
       "      <td>USA</td>\n",
       "    </tr>\n",
       "    <tr>\n",
       "      <th>913</th>\n",
       "      <td>Up</td>\n",
       "      <td>movie</td>\n",
       "      <td>PG</td>\n",
       "      <td>2019-11-12</td>\n",
       "      <td>Animation, Adventure, Comedy, Family</td>\n",
       "      <td>Pete Docter, Bob Peterson(co-director)</td>\n",
       "      <td>Edward Asner, Christopher Plummer, Jordan Naga...</td>\n",
       "      <td>USA</td>\n",
       "    </tr>\n",
       "    <tr>\n",
       "      <th>914</th>\n",
       "      <td>Up, Up, and Away!</td>\n",
       "      <td>movie</td>\n",
       "      <td>TV-G</td>\n",
       "      <td>2019-11-12</td>\n",
       "      <td>Comedy, Family, Fantasy, Sci-Fi</td>\n",
       "      <td>Robert Townsend</td>\n",
       "      <td>Robert Townsend, Michael J. Pagan, Alex Datche...</td>\n",
       "      <td>Canada, USA</td>\n",
       "    </tr>\n",
       "    <tr>\n",
       "      <th>915</th>\n",
       "      <td>Valiant</td>\n",
       "      <td>movie</td>\n",
       "      <td>G</td>\n",
       "      <td>2019-11-12</td>\n",
       "      <td>Animation, Adventure, Comedy, Family, War</td>\n",
       "      <td>Gary Chapman</td>\n",
       "      <td>Ewan McGregor, Ricky Gervais, Tim Curry, Jim B...</td>\n",
       "      <td>UK, USA</td>\n",
       "    </tr>\n",
       "    <tr>\n",
       "      <th>916</th>\n",
       "      <td>Viking Warrior Women</td>\n",
       "      <td>movie</td>\n",
       "      <td>NaN</td>\n",
       "      <td>2020-02-28</td>\n",
       "      <td>Documentary, History</td>\n",
       "      <td>David Bartlett, Sebastian Peiter</td>\n",
       "      <td>Moa Enqvist Stefansdotter, Stina Edström, Denn...</td>\n",
       "      <td>UK</td>\n",
       "    </tr>\n",
       "    <tr>\n",
       "      <th>918</th>\n",
       "      <td>Waking Sleeping Beauty</td>\n",
       "      <td>movie</td>\n",
       "      <td>PG</td>\n",
       "      <td>2019-11-12</td>\n",
       "      <td>Documentary</td>\n",
       "      <td>Don Hahn</td>\n",
       "      <td>Don Hahn, Ron Clements, Peter Schneider, Roy E...</td>\n",
       "      <td>USA</td>\n",
       "    </tr>\n",
       "    <tr>\n",
       "      <th>919</th>\n",
       "      <td>WALL·E</td>\n",
       "      <td>movie</td>\n",
       "      <td>G</td>\n",
       "      <td>2019-11-12</td>\n",
       "      <td>Animation, Adventure, Family, Sci-Fi</td>\n",
       "      <td>Andrew Stanton</td>\n",
       "      <td>Ben Burtt, Elissa Knight, Jeff Garlin, Fred Wi...</td>\n",
       "      <td>USA</td>\n",
       "    </tr>\n",
       "    <tr>\n",
       "      <th>921</th>\n",
       "      <td>Wendy Wu: Homecoming Warrior</td>\n",
       "      <td>movie</td>\n",
       "      <td>TV-PG</td>\n",
       "      <td>2019-11-12</td>\n",
       "      <td>Action, Adventure, Family</td>\n",
       "      <td>John Laing</td>\n",
       "      <td>Brenda Song, Shin Koyamada, Susan Chuang, Just...</td>\n",
       "      <td>USA</td>\n",
       "    </tr>\n",
       "    <tr>\n",
       "      <th>922</th>\n",
       "      <td>Whispers: An Elephant's Tale</td>\n",
       "      <td>movie</td>\n",
       "      <td>G</td>\n",
       "      <td>2019-11-12</td>\n",
       "      <td>Family</td>\n",
       "      <td>Dereck Joubert</td>\n",
       "      <td>Angela Bassett, Joanna Lumley, Anne Archer, De...</td>\n",
       "      <td>USA</td>\n",
       "    </tr>\n",
       "    <tr>\n",
       "      <th>923</th>\n",
       "      <td>White Fang</td>\n",
       "      <td>movie</td>\n",
       "      <td>PG</td>\n",
       "      <td>2019-11-12</td>\n",
       "      <td>Adventure, Drama</td>\n",
       "      <td>Randal Kleiser</td>\n",
       "      <td>Jed, Klaus Maria Brandauer, Ethan Hawke, Seymo...</td>\n",
       "      <td>USA</td>\n",
       "    </tr>\n",
       "    <tr>\n",
       "      <th>924</th>\n",
       "      <td>Who Framed Roger Rabbit</td>\n",
       "      <td>movie</td>\n",
       "      <td>PG</td>\n",
       "      <td>2019-11-12</td>\n",
       "      <td>Animation, Adventure, Comedy, Crime, Family, F...</td>\n",
       "      <td>Robert Zemeckis, Richard Williams</td>\n",
       "      <td>Bob Hoskins, Christopher Lloyd, Joanna Cassidy...</td>\n",
       "      <td>USA</td>\n",
       "    </tr>\n",
       "    <tr>\n",
       "      <th>929</th>\n",
       "      <td>Willow</td>\n",
       "      <td>movie</td>\n",
       "      <td>PG</td>\n",
       "      <td>2019-11-12</td>\n",
       "      <td>Action, Adventure, Drama, Fantasy, Romance</td>\n",
       "      <td>Ron Howard</td>\n",
       "      <td>Val Kilmer, Joanne Whalley, Warwick Davis, Jea...</td>\n",
       "      <td>USA</td>\n",
       "    </tr>\n",
       "    <tr>\n",
       "      <th>931</th>\n",
       "      <td>Winged Seduction: Birds of Paradise</td>\n",
       "      <td>movie</td>\n",
       "      <td>NaN</td>\n",
       "      <td>2019-11-12</td>\n",
       "      <td>Documentary</td>\n",
       "      <td>Molly Hermann</td>\n",
       "      <td>Josh Goodman</td>\n",
       "      <td>USA</td>\n",
       "    </tr>\n",
       "    <tr>\n",
       "      <th>932</th>\n",
       "      <td>Winnie the Pooh</td>\n",
       "      <td>movie</td>\n",
       "      <td>G</td>\n",
       "      <td>2019-11-12</td>\n",
       "      <td>Animation, Adventure, Comedy, Family, Musical</td>\n",
       "      <td>Stephen J. Anderson, Don Hall</td>\n",
       "      <td>John Cleese, Jim Cummings, Bud Luckey, Craig F...</td>\n",
       "      <td>USA</td>\n",
       "    </tr>\n",
       "    <tr>\n",
       "      <th>933</th>\n",
       "      <td>Winnie the Pooh: A Very Merry Pooh Year</td>\n",
       "      <td>movie</td>\n",
       "      <td>G</td>\n",
       "      <td>2019-11-12</td>\n",
       "      <td>Animation, Comedy, Drama, Family, Fantasy, Mus...</td>\n",
       "      <td>Gary Katona, Ed Wexler, Jamie Mitchell</td>\n",
       "      <td>Jim Cummings, Peter Cullen, John Fiedler, Mich...</td>\n",
       "      <td>USA</td>\n",
       "    </tr>\n",
       "    <tr>\n",
       "      <th>934</th>\n",
       "      <td>Winnie the Pooh: Springtime with Roo</td>\n",
       "      <td>movie</td>\n",
       "      <td>G</td>\n",
       "      <td>2019-11-12</td>\n",
       "      <td>Animation, Adventure, Comedy, Drama, Family, M...</td>\n",
       "      <td>Saul Blinkoff, Elliot M. Bour</td>\n",
       "      <td>Jim Cummings, Ken Sansom, Jimmy Bennett, David...</td>\n",
       "      <td>USA</td>\n",
       "    </tr>\n",
       "    <tr>\n",
       "      <th>935</th>\n",
       "      <td>Winter Storage</td>\n",
       "      <td>movie</td>\n",
       "      <td>Approved</td>\n",
       "      <td>2019-11-12</td>\n",
       "      <td>Animation, Comedy, Family, Short</td>\n",
       "      <td>Jack Hannah</td>\n",
       "      <td>Dessie Flynn, James MacDonald</td>\n",
       "      <td>USA</td>\n",
       "    </tr>\n",
       "    <tr>\n",
       "      <th>937</th>\n",
       "      <td>Wizards of Waverly Place: The Movie</td>\n",
       "      <td>movie</td>\n",
       "      <td>TV-G</td>\n",
       "      <td>2019-11-12</td>\n",
       "      <td>Adventure, Comedy, Drama, Family, Fantasy</td>\n",
       "      <td>Lev L. Spiro</td>\n",
       "      <td>Selena Gomez, David Henrie, Jake T. Austin, Je...</td>\n",
       "      <td>USA</td>\n",
       "    </tr>\n",
       "    <tr>\n",
       "      <th>940</th>\n",
       "      <td>Wreck-It Ralph</td>\n",
       "      <td>movie</td>\n",
       "      <td>PG</td>\n",
       "      <td>2019-11-12</td>\n",
       "      <td>Animation, Adventure, Comedy, Family, Fantasy</td>\n",
       "      <td>Rich Moore</td>\n",
       "      <td>John C. Reilly, Sarah Silverman, Jack McBrayer...</td>\n",
       "      <td>USA</td>\n",
       "    </tr>\n",
       "    <tr>\n",
       "      <th>944</th>\n",
       "      <td>Yellowstone Cubs</td>\n",
       "      <td>movie</td>\n",
       "      <td>Not Rated</td>\n",
       "      <td>2019-11-12</td>\n",
       "      <td>Family</td>\n",
       "      <td>Charles L. Draper</td>\n",
       "      <td>Rex Allen, Joe Way</td>\n",
       "      <td>USA</td>\n",
       "    </tr>\n",
       "    <tr>\n",
       "      <th>945</th>\n",
       "      <td>You Lucky Dog</td>\n",
       "      <td>movie</td>\n",
       "      <td>TV-G</td>\n",
       "      <td>2019-11-12</td>\n",
       "      <td>Comedy, Family, Fantasy, Mystery</td>\n",
       "      <td>Paul Schneider</td>\n",
       "      <td>Kirk Cameron, Chelsea Noble, John de Lancie, C...</td>\n",
       "      <td>USA</td>\n",
       "    </tr>\n",
       "    <tr>\n",
       "      <th>946</th>\n",
       "      <td>You Wish!</td>\n",
       "      <td>movie</td>\n",
       "      <td>TV-G</td>\n",
       "      <td>2019-11-12</td>\n",
       "      <td>Comedy, Family, Fantasy, Drama</td>\n",
       "      <td>Paul Hoen</td>\n",
       "      <td>A.J. Trauth, Spencer Breslin, Lalaine, Tim Reid</td>\n",
       "      <td>New Zealand, USA</td>\n",
       "    </tr>\n",
       "    <tr>\n",
       "      <th>947</th>\n",
       "      <td>Your Friend the Rat</td>\n",
       "      <td>movie</td>\n",
       "      <td>G</td>\n",
       "      <td>2019-11-12</td>\n",
       "      <td>Animation, Short, Comedy, Family</td>\n",
       "      <td>Jim Capobianco</td>\n",
       "      <td>Patton Oswalt, Peter Sohn, Lou Romano, Tony Ru...</td>\n",
       "      <td>USA</td>\n",
       "    </tr>\n",
       "    <tr>\n",
       "      <th>948</th>\n",
       "      <td>Z-O-M-B-I-E-S</td>\n",
       "      <td>movie</td>\n",
       "      <td>TV-G</td>\n",
       "      <td>2019-11-12</td>\n",
       "      <td>Family, Musical, Romance</td>\n",
       "      <td>Paul Hoen</td>\n",
       "      <td>Milo Manheim, Meg Donnelly, Trevor Tordjman, K...</td>\n",
       "      <td>USA</td>\n",
       "    </tr>\n",
       "    <tr>\n",
       "      <th>949</th>\n",
       "      <td>Zapped</td>\n",
       "      <td>movie</td>\n",
       "      <td>TV-G</td>\n",
       "      <td>2019-11-12</td>\n",
       "      <td>Comedy, Family, Fantasy</td>\n",
       "      <td>Peter DeLuise</td>\n",
       "      <td>Zendaya, Chanelle Peloso, Spencer Boldman, Emi...</td>\n",
       "      <td>Canada, USA</td>\n",
       "    </tr>\n",
       "    <tr>\n",
       "      <th>950</th>\n",
       "      <td>Zenon: Girl of the 21st Century</td>\n",
       "      <td>movie</td>\n",
       "      <td>TV-G</td>\n",
       "      <td>2019-11-12</td>\n",
       "      <td>Adventure, Comedy, Family, Sci-Fi</td>\n",
       "      <td>Kenneth Johnson</td>\n",
       "      <td>Kirsten Storms, Raven-Symoné, Stuart Pankin, H...</td>\n",
       "      <td>USA</td>\n",
       "    </tr>\n",
       "    <tr>\n",
       "      <th>951</th>\n",
       "      <td>Zenon: The Zequel</td>\n",
       "      <td>movie</td>\n",
       "      <td>TV-G</td>\n",
       "      <td>2019-11-12</td>\n",
       "      <td>Comedy, Family, Adventure, Sci-Fi</td>\n",
       "      <td>Manny Coto</td>\n",
       "      <td>Kirsten Storms, Shadia Simmons, Lauren Maltby,...</td>\n",
       "      <td>USA, New Zealand</td>\n",
       "    </tr>\n",
       "    <tr>\n",
       "      <th>952</th>\n",
       "      <td>Zenon: Z3</td>\n",
       "      <td>movie</td>\n",
       "      <td>TV-G</td>\n",
       "      <td>2019-11-12</td>\n",
       "      <td>Adventure, Comedy, Family, Sci-Fi</td>\n",
       "      <td>Steve Rash</td>\n",
       "      <td>Kirsten Storms, Lauren Maltby, Alyson Morgan, ...</td>\n",
       "      <td>USA</td>\n",
       "    </tr>\n",
       "    <tr>\n",
       "      <th>953</th>\n",
       "      <td>Zootopia</td>\n",
       "      <td>movie</td>\n",
       "      <td>PG</td>\n",
       "      <td>2019-11-12</td>\n",
       "      <td>Animation, Adventure, Comedy, Crime, Family, M...</td>\n",
       "      <td>Byron Howard, Rich Moore, Jared Bush(co-director)</td>\n",
       "      <td>Ginnifer Goodwin, Jason Bateman, Idris Elba, J...</td>\n",
       "      <td>USA</td>\n",
       "    </tr>\n",
       "  </tbody>\n",
       "</table>\n",
       "<p>643 rows × 8 columns</p>\n",
       "</div>"
      ],
      "text/plain": [
       "                                          title show_type film_rating  \\\n",
       "0                    10 Things I Hate About You     movie       PG-13   \n",
       "2                                101 Dalmatians     movie           G   \n",
       "3    101 Dalmatians 2: Patch's London Adventure     movie           G   \n",
       "4                                102 Dalmatians     movie           G   \n",
       "5                         12 Dates of Christmas     movie          PG   \n",
       "6                  20,000 Leagues Under the Sea     movie           G   \n",
       "7                                  A Bug's Life     movie           G   \n",
       "9                                 A Goofy Movie     movie           G   \n",
       "10                 A Kid in King Arthur's Court     movie          PG   \n",
       "11                           A Knight for a Day     movie    APPROVED   \n",
       "12                      A Ring of Endless Light     movie        TV-G   \n",
       "13                       A Tale of Two Critters     movie           G   \n",
       "14                            A Wrinkle in Time     movie          PG   \n",
       "15                                      Aladdin     movie          PG   \n",
       "16                                      Aladdin     movie           G   \n",
       "17              Aladdin and the King of Thieves     movie   Not Rated   \n",
       "18              Aladdin and the Return of Jafar     movie           G   \n",
       "19                          Alice in Wonderland     movie           G   \n",
       "20                          Alice in Wonderland     movie          PG   \n",
       "21                           Aliens of the Deep     movie           G   \n",
       "22                            All in a Nutshell     movie    Approved   \n",
       "23                            Alley Cats Strike     movie        TV-G   \n",
       "24                                Almost Angels     movie   Not Rated   \n",
       "25                       America's Heart & Soul     movie          PG   \n",
       "27                                          Amy     movie           G   \n",
       "28                     An Extremely Goofy Movie     movie           G   \n",
       "30                                        Annie     movie     UNRATED   \n",
       "31                 Apollo: Missions to the Moon     movie   Not Rated   \n",
       "33                  Around the World in 80 Days     movie          PG   \n",
       "34                              Atlantis Rising     movie         NaN   \n",
       "..                                          ...       ...         ...   \n",
       "910                                Twitches Too     movie       TV-PG   \n",
       "911                 Unidentified Flying Oddball     movie           G   \n",
       "913                                          Up     movie          PG   \n",
       "914                           Up, Up, and Away!     movie        TV-G   \n",
       "915                                     Valiant     movie           G   \n",
       "916                        Viking Warrior Women     movie         NaN   \n",
       "918                      Waking Sleeping Beauty     movie          PG   \n",
       "919                                      WALL·E     movie           G   \n",
       "921                Wendy Wu: Homecoming Warrior     movie       TV-PG   \n",
       "922                Whispers: An Elephant's Tale     movie           G   \n",
       "923                                  White Fang     movie          PG   \n",
       "924                     Who Framed Roger Rabbit     movie          PG   \n",
       "929                                      Willow     movie          PG   \n",
       "931         Winged Seduction: Birds of Paradise     movie         NaN   \n",
       "932                             Winnie the Pooh     movie           G   \n",
       "933     Winnie the Pooh: A Very Merry Pooh Year     movie           G   \n",
       "934        Winnie the Pooh: Springtime with Roo     movie           G   \n",
       "935                              Winter Storage     movie    Approved   \n",
       "937         Wizards of Waverly Place: The Movie     movie        TV-G   \n",
       "940                              Wreck-It Ralph     movie          PG   \n",
       "944                            Yellowstone Cubs     movie   Not Rated   \n",
       "945                               You Lucky Dog     movie        TV-G   \n",
       "946                                   You Wish!     movie        TV-G   \n",
       "947                         Your Friend the Rat     movie           G   \n",
       "948                               Z-O-M-B-I-E-S     movie        TV-G   \n",
       "949                                      Zapped     movie        TV-G   \n",
       "950             Zenon: Girl of the 21st Century     movie        TV-G   \n",
       "951                           Zenon: The Zequel     movie        TV-G   \n",
       "952                                   Zenon: Z3     movie        TV-G   \n",
       "953                                    Zootopia     movie          PG   \n",
       "\n",
       "      added_at                                              genre  \\\n",
       "0   2019-11-12                             Comedy, Drama, Romance   \n",
       "2   2019-11-12                   Adventure, Comedy, Crime, Family   \n",
       "3   2019-11-12      Animation, Adventure, Comedy, Family, Musical   \n",
       "4   2019-11-12                          Adventure, Comedy, Family   \n",
       "5   2019-11-12                           Comedy, Fantasy, Romance   \n",
       "6   2019-11-12          Adventure, Drama, Family, Fantasy, Sci-Fi   \n",
       "7   2019-11-12               Animation, Adventure, Comedy, Family   \n",
       "9   2019-11-12  Animation, Adventure, Comedy, Family, Musical,...   \n",
       "10  2019-11-12        Adventure, Comedy, Family, Fantasy, Romance   \n",
       "11  2019-11-12                           Animation, Short, Comedy   \n",
       "12  2019-11-12                             Drama, Family, Romance   \n",
       "13  2020-04-03                                  Adventure, Family   \n",
       "14  2020-03-25                 Adventure, Family, Fantasy, Sci-Fi   \n",
       "15  2020-01-08       Adventure, Family, Fantasy, Musical, Romance   \n",
       "16  2019-11-12  Animation, Adventure, Comedy, Family, Fantasy,...   \n",
       "17  2019-11-12  Animation, Adventure, Comedy, Family, Fantasy,...   \n",
       "18  2019-11-12  Animation, Adventure, Comedy, Family, Fantasy,...   \n",
       "19  2019-11-12     Animation, Adventure, Family, Fantasy, Musical   \n",
       "20  2019-11-12                         Adventure, Family, Fantasy   \n",
       "21  2019-11-12                                Documentary, Family   \n",
       "22  2020-04-03                   Family, Comedy, Animation, Short   \n",
       "23  2019-11-12                               Drama, Family, Sport   \n",
       "24  2019-11-12                              Comedy, Family, Music   \n",
       "25  2019-11-12                                        Documentary   \n",
       "27  2019-11-12                                      Family, Drama   \n",
       "28  2019-11-12                   Animation, Comedy, Family, Sport   \n",
       "30  2019-11-12                            Family, Comedy, Musical   \n",
       "31  2019-11-12                                            History   \n",
       "33  2020-02-01         Action, Adventure, Comedy, Family, Western   \n",
       "34  2019-11-12                    Documentary, Adventure, Mystery   \n",
       "..         ...                                                ...   \n",
       "910 2019-11-12                             Drama, Family, Fantasy   \n",
       "911 2019-11-12         Comedy, Family, Adventure, Fantasy, Sci-Fi   \n",
       "913 2019-11-12               Animation, Adventure, Comedy, Family   \n",
       "914 2019-11-12                    Comedy, Family, Fantasy, Sci-Fi   \n",
       "915 2019-11-12          Animation, Adventure, Comedy, Family, War   \n",
       "916 2020-02-28                               Documentary, History   \n",
       "918 2019-11-12                                        Documentary   \n",
       "919 2019-11-12               Animation, Adventure, Family, Sci-Fi   \n",
       "921 2019-11-12                          Action, Adventure, Family   \n",
       "922 2019-11-12                                             Family   \n",
       "923 2019-11-12                                   Adventure, Drama   \n",
       "924 2019-11-12  Animation, Adventure, Comedy, Crime, Family, F...   \n",
       "929 2019-11-12         Action, Adventure, Drama, Fantasy, Romance   \n",
       "931 2019-11-12                                        Documentary   \n",
       "932 2019-11-12      Animation, Adventure, Comedy, Family, Musical   \n",
       "933 2019-11-12  Animation, Comedy, Drama, Family, Fantasy, Mus...   \n",
       "934 2019-11-12  Animation, Adventure, Comedy, Drama, Family, M...   \n",
       "935 2019-11-12                   Animation, Comedy, Family, Short   \n",
       "937 2019-11-12          Adventure, Comedy, Drama, Family, Fantasy   \n",
       "940 2019-11-12      Animation, Adventure, Comedy, Family, Fantasy   \n",
       "944 2019-11-12                                             Family   \n",
       "945 2019-11-12                   Comedy, Family, Fantasy, Mystery   \n",
       "946 2019-11-12                     Comedy, Family, Fantasy, Drama   \n",
       "947 2019-11-12                   Animation, Short, Comedy, Family   \n",
       "948 2019-11-12                           Family, Musical, Romance   \n",
       "949 2019-11-12                            Comedy, Family, Fantasy   \n",
       "950 2019-11-12                  Adventure, Comedy, Family, Sci-Fi   \n",
       "951 2019-11-12                  Comedy, Family, Adventure, Sci-Fi   \n",
       "952 2019-11-12                  Adventure, Comedy, Family, Sci-Fi   \n",
       "953 2019-11-12  Animation, Adventure, Comedy, Crime, Family, M...   \n",
       "\n",
       "                                              director  \\\n",
       "0                                           Gil Junger   \n",
       "2                                        Stephen Herek   \n",
       "3                            Jim Kammerud, Brian Smith   \n",
       "4                                           Kevin Lima   \n",
       "5                                         James Hayman   \n",
       "6                                    Richard Fleischer   \n",
       "7           John Lasseter, Andrew Stanton(co-director)   \n",
       "9                                           Kevin Lima   \n",
       "10                                    Michael Gottlieb   \n",
       "11                                         Jack Hannah   \n",
       "12                                         Greg Beeman   \n",
       "13                                         Jack Speirs   \n",
       "14                                        Ava DuVernay   \n",
       "15                                         Guy Ritchie   \n",
       "16                           Ron Clements, John Musker   \n",
       "17                                          Tad Stones   \n",
       "18              Toby Shelton, Tad Stones, Alan Zaslove   \n",
       "19     Clyde Geronimi, Wilfred Jackson, Hamilton Luske   \n",
       "20                                          Tim Burton   \n",
       "21                         James Cameron, Steven Quale   \n",
       "22                                         Jack Hannah   \n",
       "23                                          Rod Daniel   \n",
       "24                                        Steve Previn   \n",
       "25                                  Louie Schwartzberg   \n",
       "27                                    Vincent McEveety   \n",
       "28                                    Douglas McCarthy   \n",
       "30                                        Rob Marshall   \n",
       "31                                        Tom Jennings   \n",
       "33                                        Frank Coraci   \n",
       "34                                   Simcha Jacobovici   \n",
       "..                                                 ...   \n",
       "910                                     Stuart Gillard   \n",
       "911                                      Russ Mayberry   \n",
       "913             Pete Docter, Bob Peterson(co-director)   \n",
       "914                                    Robert Townsend   \n",
       "915                                       Gary Chapman   \n",
       "916                   David Bartlett, Sebastian Peiter   \n",
       "918                                           Don Hahn   \n",
       "919                                     Andrew Stanton   \n",
       "921                                         John Laing   \n",
       "922                                     Dereck Joubert   \n",
       "923                                     Randal Kleiser   \n",
       "924                  Robert Zemeckis, Richard Williams   \n",
       "929                                         Ron Howard   \n",
       "931                                      Molly Hermann   \n",
       "932                      Stephen J. Anderson, Don Hall   \n",
       "933             Gary Katona, Ed Wexler, Jamie Mitchell   \n",
       "934                      Saul Blinkoff, Elliot M. Bour   \n",
       "935                                        Jack Hannah   \n",
       "937                                       Lev L. Spiro   \n",
       "940                                         Rich Moore   \n",
       "944                                  Charles L. Draper   \n",
       "945                                     Paul Schneider   \n",
       "946                                          Paul Hoen   \n",
       "947                                     Jim Capobianco   \n",
       "948                                          Paul Hoen   \n",
       "949                                      Peter DeLuise   \n",
       "950                                    Kenneth Johnson   \n",
       "951                                         Manny Coto   \n",
       "952                                         Steve Rash   \n",
       "953  Byron Howard, Rich Moore, Jared Bush(co-director)   \n",
       "\n",
       "                                                  cast  \\\n",
       "0    Heath Ledger, Julia Stiles, Joseph Gordon-Levi...   \n",
       "2    Glenn Close, Jeff Daniels, Joely Richardson, J...   \n",
       "3    Barry Bostwick, Jason Alexander, Martin Short,...   \n",
       "4    Glenn Close, Gérard Depardieu, Ioan Gruffudd, ...   \n",
       "5    Laura Miyata, Vijay Mehta, Amy Smart, Audrey D...   \n",
       "6    Kirk Douglas, James Mason, Paul Lukas, Peter L...   \n",
       "7    Dave Foley, Kevin Spacey, Julia Louis-Dreyfus,...   \n",
       "9    Bill Farmer, Jason Marsden, Jim Cummings, Kell...   \n",
       "10   Thomas Ian Nicholas, Joss Ackland, Art Malik, ...   \n",
       "11                                        Pinto Colvig   \n",
       "12   Mischa Barton, Ryan Merriman, Jared Padalecki,...   \n",
       "13                                         Mayf Nutter   \n",
       "14   Storm Reid, Oprah Winfrey, Reese Witherspoon, ...   \n",
       "15   Will Smith, Mena Massoud, Naomi Scott, Marwan ...   \n",
       "16   Scott Weinger, Robin Williams, Linda Larkin, J...   \n",
       "17   Val Bettin, Jim Cummings, Gilbert Gottfried, L...   \n",
       "18   Jason Alexander, Jonathan Freeman, Jeff Bennet...   \n",
       "19   Kathryn Beaumont, Ed Wynn, Richard Haydn, Ster...   \n",
       "20   Johnny Depp, Mia Wasikowska, Helena Bonham Car...   \n",
       "21   Anatoly M. Sagalevitch, Genya Chernaiev, Victo...   \n",
       "22        Dessie Flynn, James MacDonald, Clarence Nash   \n",
       "23   Kyle Schmid, Robert Ri'chard, Kaley Cuoco, Mim...   \n",
       "24   Vincent Winter, Sean Scully, Peter Weck, Hans ...   \n",
       "25   George Woodard, Charles Jimmie Sr., The Vasque...   \n",
       "27   Jenny Agutter, Barry Newman, Kathleen Nolan, C...   \n",
       "28   Bill Farmer, Jason Marsden, Jeff Bennett, Jim ...   \n",
       "30   Kathy Bates, Victor Garber, Alan Cumming, Audr...   \n",
       "31   Buzz Aldrin, Bill Anders, Neil Armstrong, Fran...   \n",
       "33   Jackie Chan, Steve Coogan, Cécile de France, R...   \n",
       "34   James Cameron, Georgeos Díaz-Montexano, Peter ...   \n",
       "..                                                 ...   \n",
       "910  Tia Mowry-Hardrict, Tamera Mowry-Housley, Kris...   \n",
       "911    Dennis Dugan, Jim Dale, Ron Moody, Kenneth More   \n",
       "913  Edward Asner, Christopher Plummer, Jordan Naga...   \n",
       "914  Robert Townsend, Michael J. Pagan, Alex Datche...   \n",
       "915  Ewan McGregor, Ricky Gervais, Tim Curry, Jim B...   \n",
       "916  Moa Enqvist Stefansdotter, Stina Edström, Denn...   \n",
       "918  Don Hahn, Ron Clements, Peter Schneider, Roy E...   \n",
       "919  Ben Burtt, Elissa Knight, Jeff Garlin, Fred Wi...   \n",
       "921  Brenda Song, Shin Koyamada, Susan Chuang, Just...   \n",
       "922  Angela Bassett, Joanna Lumley, Anne Archer, De...   \n",
       "923  Jed, Klaus Maria Brandauer, Ethan Hawke, Seymo...   \n",
       "924  Bob Hoskins, Christopher Lloyd, Joanna Cassidy...   \n",
       "929  Val Kilmer, Joanne Whalley, Warwick Davis, Jea...   \n",
       "931                                       Josh Goodman   \n",
       "932  John Cleese, Jim Cummings, Bud Luckey, Craig F...   \n",
       "933  Jim Cummings, Peter Cullen, John Fiedler, Mich...   \n",
       "934  Jim Cummings, Ken Sansom, Jimmy Bennett, David...   \n",
       "935                      Dessie Flynn, James MacDonald   \n",
       "937  Selena Gomez, David Henrie, Jake T. Austin, Je...   \n",
       "940  John C. Reilly, Sarah Silverman, Jack McBrayer...   \n",
       "944                                 Rex Allen, Joe Way   \n",
       "945  Kirk Cameron, Chelsea Noble, John de Lancie, C...   \n",
       "946    A.J. Trauth, Spencer Breslin, Lalaine, Tim Reid   \n",
       "947  Patton Oswalt, Peter Sohn, Lou Romano, Tony Ru...   \n",
       "948  Milo Manheim, Meg Donnelly, Trevor Tordjman, K...   \n",
       "949  Zendaya, Chanelle Peloso, Spencer Boldman, Emi...   \n",
       "950  Kirsten Storms, Raven-Symoné, Stuart Pankin, H...   \n",
       "951  Kirsten Storms, Shadia Simmons, Lauren Maltby,...   \n",
       "952  Kirsten Storms, Lauren Maltby, Alyson Morgan, ...   \n",
       "953  Ginnifer Goodwin, Jason Bateman, Idris Elba, J...   \n",
       "\n",
       "                            country  \n",
       "0                               USA  \n",
       "2                           USA, UK  \n",
       "3                               USA  \n",
       "4                           USA, UK  \n",
       "5                               USA  \n",
       "6                               USA  \n",
       "7                               USA  \n",
       "9    USA, Australia, France, Canada  \n",
       "10                 USA, Hungary, UK  \n",
       "11                              USA  \n",
       "12                              USA  \n",
       "13                              USA  \n",
       "14                              USA  \n",
       "15                              USA  \n",
       "16                              USA  \n",
       "17                              USA  \n",
       "18                              USA  \n",
       "19                              USA  \n",
       "20                              USA  \n",
       "21                              USA  \n",
       "22                              USA  \n",
       "23                      USA, Canada  \n",
       "24                              USA  \n",
       "25                              USA  \n",
       "27                              USA  \n",
       "28                   USA, Australia  \n",
       "30                              USA  \n",
       "31                              USA  \n",
       "33        USA, Germany, Ireland, UK  \n",
       "34                           Canada  \n",
       "..                              ...  \n",
       "910                             USA  \n",
       "911                             USA  \n",
       "913                             USA  \n",
       "914                     Canada, USA  \n",
       "915                         UK, USA  \n",
       "916                              UK  \n",
       "918                             USA  \n",
       "919                             USA  \n",
       "921                             USA  \n",
       "922                             USA  \n",
       "923                             USA  \n",
       "924                             USA  \n",
       "929                             USA  \n",
       "931                             USA  \n",
       "932                             USA  \n",
       "933                             USA  \n",
       "934                             USA  \n",
       "935                             USA  \n",
       "937                             USA  \n",
       "940                             USA  \n",
       "944                             USA  \n",
       "945                             USA  \n",
       "946                New Zealand, USA  \n",
       "947                             USA  \n",
       "948                             USA  \n",
       "949                     Canada, USA  \n",
       "950                             USA  \n",
       "951                USA, New Zealand  \n",
       "952                             USA  \n",
       "953                             USA  \n",
       "\n",
       "[643 rows x 8 columns]"
      ]
     },
     "execution_count": 20,
     "metadata": {},
     "output_type": "execute_result"
    }
   ],
   "source": [
    "disney_df = disney_df.rename(columns={'type':'show_type',\n",
    "                                     'rated': 'film_rating',\n",
    "                                     'actors':'cast'})\n",
    "\n",
    "disney_df"
   ]
  },
  {
   "cell_type": "code",
   "execution_count": 21,
   "metadata": {},
   "outputs": [
    {
     "data": {
      "text/html": [
       "<div>\n",
       "<style scoped>\n",
       "    .dataframe tbody tr th:only-of-type {\n",
       "        vertical-align: middle;\n",
       "    }\n",
       "\n",
       "    .dataframe tbody tr th {\n",
       "        vertical-align: top;\n",
       "    }\n",
       "\n",
       "    .dataframe thead th {\n",
       "        text-align: right;\n",
       "    }\n",
       "</style>\n",
       "<table border=\"1\" class=\"dataframe\">\n",
       "  <thead>\n",
       "    <tr style=\"text-align: right;\">\n",
       "      <th></th>\n",
       "      <th>title</th>\n",
       "      <th>show_type</th>\n",
       "      <th>film_rating</th>\n",
       "      <th>added_at</th>\n",
       "      <th>genre</th>\n",
       "      <th>director</th>\n",
       "      <th>cast</th>\n",
       "      <th>country</th>\n",
       "      <th>month_added</th>\n",
       "      <th>day_added</th>\n",
       "      <th>year_added</th>\n",
       "    </tr>\n",
       "  </thead>\n",
       "  <tbody>\n",
       "    <tr>\n",
       "      <th>0</th>\n",
       "      <td>10 Things I Hate About You</td>\n",
       "      <td>movie</td>\n",
       "      <td>PG-13</td>\n",
       "      <td>2019-11-12</td>\n",
       "      <td>Comedy, Drama, Romance</td>\n",
       "      <td>Gil Junger</td>\n",
       "      <td>Heath Ledger, Julia Stiles, Joseph Gordon-Levi...</td>\n",
       "      <td>USA</td>\n",
       "      <td>11</td>\n",
       "      <td>12</td>\n",
       "      <td>2019</td>\n",
       "    </tr>\n",
       "    <tr>\n",
       "      <th>2</th>\n",
       "      <td>101 Dalmatians</td>\n",
       "      <td>movie</td>\n",
       "      <td>G</td>\n",
       "      <td>2019-11-12</td>\n",
       "      <td>Adventure, Comedy, Crime, Family</td>\n",
       "      <td>Stephen Herek</td>\n",
       "      <td>Glenn Close, Jeff Daniels, Joely Richardson, J...</td>\n",
       "      <td>USA, UK</td>\n",
       "      <td>11</td>\n",
       "      <td>12</td>\n",
       "      <td>2019</td>\n",
       "    </tr>\n",
       "    <tr>\n",
       "      <th>3</th>\n",
       "      <td>101 Dalmatians 2: Patch's London Adventure</td>\n",
       "      <td>movie</td>\n",
       "      <td>G</td>\n",
       "      <td>2019-11-12</td>\n",
       "      <td>Animation, Adventure, Comedy, Family, Musical</td>\n",
       "      <td>Jim Kammerud, Brian Smith</td>\n",
       "      <td>Barry Bostwick, Jason Alexander, Martin Short,...</td>\n",
       "      <td>USA</td>\n",
       "      <td>11</td>\n",
       "      <td>12</td>\n",
       "      <td>2019</td>\n",
       "    </tr>\n",
       "    <tr>\n",
       "      <th>4</th>\n",
       "      <td>102 Dalmatians</td>\n",
       "      <td>movie</td>\n",
       "      <td>G</td>\n",
       "      <td>2019-11-12</td>\n",
       "      <td>Adventure, Comedy, Family</td>\n",
       "      <td>Kevin Lima</td>\n",
       "      <td>Glenn Close, Gérard Depardieu, Ioan Gruffudd, ...</td>\n",
       "      <td>USA, UK</td>\n",
       "      <td>11</td>\n",
       "      <td>12</td>\n",
       "      <td>2019</td>\n",
       "    </tr>\n",
       "    <tr>\n",
       "      <th>5</th>\n",
       "      <td>12 Dates of Christmas</td>\n",
       "      <td>movie</td>\n",
       "      <td>PG</td>\n",
       "      <td>2019-11-12</td>\n",
       "      <td>Comedy, Fantasy, Romance</td>\n",
       "      <td>James Hayman</td>\n",
       "      <td>Laura Miyata, Vijay Mehta, Amy Smart, Audrey D...</td>\n",
       "      <td>USA</td>\n",
       "      <td>11</td>\n",
       "      <td>12</td>\n",
       "      <td>2019</td>\n",
       "    </tr>\n",
       "  </tbody>\n",
       "</table>\n",
       "</div>"
      ],
      "text/plain": [
       "                                        title show_type film_rating  \\\n",
       "0                  10 Things I Hate About You     movie       PG-13   \n",
       "2                              101 Dalmatians     movie           G   \n",
       "3  101 Dalmatians 2: Patch's London Adventure     movie           G   \n",
       "4                              102 Dalmatians     movie           G   \n",
       "5                       12 Dates of Christmas     movie          PG   \n",
       "\n",
       "    added_at                                          genre  \\\n",
       "0 2019-11-12                         Comedy, Drama, Romance   \n",
       "2 2019-11-12               Adventure, Comedy, Crime, Family   \n",
       "3 2019-11-12  Animation, Adventure, Comedy, Family, Musical   \n",
       "4 2019-11-12                      Adventure, Comedy, Family   \n",
       "5 2019-11-12                       Comedy, Fantasy, Romance   \n",
       "\n",
       "                    director  \\\n",
       "0                 Gil Junger   \n",
       "2              Stephen Herek   \n",
       "3  Jim Kammerud, Brian Smith   \n",
       "4                 Kevin Lima   \n",
       "5               James Hayman   \n",
       "\n",
       "                                                cast  country  month_added  \\\n",
       "0  Heath Ledger, Julia Stiles, Joseph Gordon-Levi...      USA           11   \n",
       "2  Glenn Close, Jeff Daniels, Joely Richardson, J...  USA, UK           11   \n",
       "3  Barry Bostwick, Jason Alexander, Martin Short,...      USA           11   \n",
       "4  Glenn Close, Gérard Depardieu, Ioan Gruffudd, ...  USA, UK           11   \n",
       "5  Laura Miyata, Vijay Mehta, Amy Smart, Audrey D...      USA           11   \n",
       "\n",
       "   day_added  year_added  \n",
       "0         12        2019  \n",
       "2         12        2019  \n",
       "3         12        2019  \n",
       "4         12        2019  \n",
       "5         12        2019  "
      ]
     },
     "execution_count": 21,
     "metadata": {},
     "output_type": "execute_result"
    }
   ],
   "source": [
    "disney_df['month_added'] = pd.DatetimeIndex(disney_df['added_at']).month\n",
    "disney_df['day_added'] = pd.DatetimeIndex(disney_df['added_at']).day\n",
    "disney_df['year_added'] = pd.DatetimeIndex(disney_df['added_at']).year\n",
    "\n",
    "disney_df.head()"
   ]
  },
  {
   "cell_type": "code",
   "execution_count": 31,
   "metadata": {},
   "outputs": [
    {
     "data": {
      "text/plain": [
       "title                  object\n",
       "show_type              object\n",
       "film_rating            object\n",
       "added_at       datetime64[ns]\n",
       "genre                  object\n",
       "director               object\n",
       "cast                   object\n",
       "country                object\n",
       "month_added             int64\n",
       "day_added               int64\n",
       "year_added              int64\n",
       "dtype: object"
      ]
     },
     "execution_count": 31,
     "metadata": {},
     "output_type": "execute_result"
    }
   ],
   "source": [
    "disney_df_copy = disney_df.copy()\n",
    "\n",
    "disney_df_copy.dtypes"
   ]
  },
  {
   "cell_type": "code",
   "execution_count": 27,
   "metadata": {},
   "outputs": [
    {
     "data": {
      "application/vnd.plotly.v1+json": {
       "config": {
        "linkText": "Export to plot.ly",
        "plotlyServerURL": "https://plot.ly",
        "showLink": false
       },
       "data": [
        {
         "labels": [
          "movie",
          "episode"
         ],
         "marker": {
          "colors": [
           "#6ad49b",
           "#1f77b4"
          ]
         },
         "pull": [
          0.05,
          0
         ],
         "type": "pie",
         "values": [
          635,
          8
         ]
        }
       ],
       "layout": {
        "height": 400,
        "legend": {
         "x": 0.1,
         "y": 1.1
        },
        "template": {
         "data": {
          "bar": [
           {
            "error_x": {
             "color": "#2a3f5f"
            },
            "error_y": {
             "color": "#2a3f5f"
            },
            "marker": {
             "line": {
              "color": "#E5ECF6",
              "width": 0.5
             }
            },
            "type": "bar"
           }
          ],
          "barpolar": [
           {
            "marker": {
             "line": {
              "color": "#E5ECF6",
              "width": 0.5
             }
            },
            "type": "barpolar"
           }
          ],
          "carpet": [
           {
            "aaxis": {
             "endlinecolor": "#2a3f5f",
             "gridcolor": "white",
             "linecolor": "white",
             "minorgridcolor": "white",
             "startlinecolor": "#2a3f5f"
            },
            "baxis": {
             "endlinecolor": "#2a3f5f",
             "gridcolor": "white",
             "linecolor": "white",
             "minorgridcolor": "white",
             "startlinecolor": "#2a3f5f"
            },
            "type": "carpet"
           }
          ],
          "choropleth": [
           {
            "colorbar": {
             "outlinewidth": 0,
             "ticks": ""
            },
            "type": "choropleth"
           }
          ],
          "contour": [
           {
            "colorbar": {
             "outlinewidth": 0,
             "ticks": ""
            },
            "colorscale": [
             [
              0,
              "#0d0887"
             ],
             [
              0.1111111111111111,
              "#46039f"
             ],
             [
              0.2222222222222222,
              "#7201a8"
             ],
             [
              0.3333333333333333,
              "#9c179e"
             ],
             [
              0.4444444444444444,
              "#bd3786"
             ],
             [
              0.5555555555555556,
              "#d8576b"
             ],
             [
              0.6666666666666666,
              "#ed7953"
             ],
             [
              0.7777777777777778,
              "#fb9f3a"
             ],
             [
              0.8888888888888888,
              "#fdca26"
             ],
             [
              1,
              "#f0f921"
             ]
            ],
            "type": "contour"
           }
          ],
          "contourcarpet": [
           {
            "colorbar": {
             "outlinewidth": 0,
             "ticks": ""
            },
            "type": "contourcarpet"
           }
          ],
          "heatmap": [
           {
            "colorbar": {
             "outlinewidth": 0,
             "ticks": ""
            },
            "colorscale": [
             [
              0,
              "#0d0887"
             ],
             [
              0.1111111111111111,
              "#46039f"
             ],
             [
              0.2222222222222222,
              "#7201a8"
             ],
             [
              0.3333333333333333,
              "#9c179e"
             ],
             [
              0.4444444444444444,
              "#bd3786"
             ],
             [
              0.5555555555555556,
              "#d8576b"
             ],
             [
              0.6666666666666666,
              "#ed7953"
             ],
             [
              0.7777777777777778,
              "#fb9f3a"
             ],
             [
              0.8888888888888888,
              "#fdca26"
             ],
             [
              1,
              "#f0f921"
             ]
            ],
            "type": "heatmap"
           }
          ],
          "heatmapgl": [
           {
            "colorbar": {
             "outlinewidth": 0,
             "ticks": ""
            },
            "colorscale": [
             [
              0,
              "#0d0887"
             ],
             [
              0.1111111111111111,
              "#46039f"
             ],
             [
              0.2222222222222222,
              "#7201a8"
             ],
             [
              0.3333333333333333,
              "#9c179e"
             ],
             [
              0.4444444444444444,
              "#bd3786"
             ],
             [
              0.5555555555555556,
              "#d8576b"
             ],
             [
              0.6666666666666666,
              "#ed7953"
             ],
             [
              0.7777777777777778,
              "#fb9f3a"
             ],
             [
              0.8888888888888888,
              "#fdca26"
             ],
             [
              1,
              "#f0f921"
             ]
            ],
            "type": "heatmapgl"
           }
          ],
          "histogram": [
           {
            "marker": {
             "colorbar": {
              "outlinewidth": 0,
              "ticks": ""
             }
            },
            "type": "histogram"
           }
          ],
          "histogram2d": [
           {
            "colorbar": {
             "outlinewidth": 0,
             "ticks": ""
            },
            "colorscale": [
             [
              0,
              "#0d0887"
             ],
             [
              0.1111111111111111,
              "#46039f"
             ],
             [
              0.2222222222222222,
              "#7201a8"
             ],
             [
              0.3333333333333333,
              "#9c179e"
             ],
             [
              0.4444444444444444,
              "#bd3786"
             ],
             [
              0.5555555555555556,
              "#d8576b"
             ],
             [
              0.6666666666666666,
              "#ed7953"
             ],
             [
              0.7777777777777778,
              "#fb9f3a"
             ],
             [
              0.8888888888888888,
              "#fdca26"
             ],
             [
              1,
              "#f0f921"
             ]
            ],
            "type": "histogram2d"
           }
          ],
          "histogram2dcontour": [
           {
            "colorbar": {
             "outlinewidth": 0,
             "ticks": ""
            },
            "colorscale": [
             [
              0,
              "#0d0887"
             ],
             [
              0.1111111111111111,
              "#46039f"
             ],
             [
              0.2222222222222222,
              "#7201a8"
             ],
             [
              0.3333333333333333,
              "#9c179e"
             ],
             [
              0.4444444444444444,
              "#bd3786"
             ],
             [
              0.5555555555555556,
              "#d8576b"
             ],
             [
              0.6666666666666666,
              "#ed7953"
             ],
             [
              0.7777777777777778,
              "#fb9f3a"
             ],
             [
              0.8888888888888888,
              "#fdca26"
             ],
             [
              1,
              "#f0f921"
             ]
            ],
            "type": "histogram2dcontour"
           }
          ],
          "mesh3d": [
           {
            "colorbar": {
             "outlinewidth": 0,
             "ticks": ""
            },
            "type": "mesh3d"
           }
          ],
          "parcoords": [
           {
            "line": {
             "colorbar": {
              "outlinewidth": 0,
              "ticks": ""
             }
            },
            "type": "parcoords"
           }
          ],
          "pie": [
           {
            "automargin": true,
            "type": "pie"
           }
          ],
          "scatter": [
           {
            "marker": {
             "colorbar": {
              "outlinewidth": 0,
              "ticks": ""
             }
            },
            "type": "scatter"
           }
          ],
          "scatter3d": [
           {
            "line": {
             "colorbar": {
              "outlinewidth": 0,
              "ticks": ""
             }
            },
            "marker": {
             "colorbar": {
              "outlinewidth": 0,
              "ticks": ""
             }
            },
            "type": "scatter3d"
           }
          ],
          "scattercarpet": [
           {
            "marker": {
             "colorbar": {
              "outlinewidth": 0,
              "ticks": ""
             }
            },
            "type": "scattercarpet"
           }
          ],
          "scattergeo": [
           {
            "marker": {
             "colorbar": {
              "outlinewidth": 0,
              "ticks": ""
             }
            },
            "type": "scattergeo"
           }
          ],
          "scattergl": [
           {
            "marker": {
             "colorbar": {
              "outlinewidth": 0,
              "ticks": ""
             }
            },
            "type": "scattergl"
           }
          ],
          "scattermapbox": [
           {
            "marker": {
             "colorbar": {
              "outlinewidth": 0,
              "ticks": ""
             }
            },
            "type": "scattermapbox"
           }
          ],
          "scatterpolar": [
           {
            "marker": {
             "colorbar": {
              "outlinewidth": 0,
              "ticks": ""
             }
            },
            "type": "scatterpolar"
           }
          ],
          "scatterpolargl": [
           {
            "marker": {
             "colorbar": {
              "outlinewidth": 0,
              "ticks": ""
             }
            },
            "type": "scatterpolargl"
           }
          ],
          "scatterternary": [
           {
            "marker": {
             "colorbar": {
              "outlinewidth": 0,
              "ticks": ""
             }
            },
            "type": "scatterternary"
           }
          ],
          "surface": [
           {
            "colorbar": {
             "outlinewidth": 0,
             "ticks": ""
            },
            "colorscale": [
             [
              0,
              "#0d0887"
             ],
             [
              0.1111111111111111,
              "#46039f"
             ],
             [
              0.2222222222222222,
              "#7201a8"
             ],
             [
              0.3333333333333333,
              "#9c179e"
             ],
             [
              0.4444444444444444,
              "#bd3786"
             ],
             [
              0.5555555555555556,
              "#d8576b"
             ],
             [
              0.6666666666666666,
              "#ed7953"
             ],
             [
              0.7777777777777778,
              "#fb9f3a"
             ],
             [
              0.8888888888888888,
              "#fdca26"
             ],
             [
              1,
              "#f0f921"
             ]
            ],
            "type": "surface"
           }
          ],
          "table": [
           {
            "cells": {
             "fill": {
              "color": "#EBF0F8"
             },
             "line": {
              "color": "white"
             }
            },
            "header": {
             "fill": {
              "color": "#C8D4E3"
             },
             "line": {
              "color": "white"
             }
            },
            "type": "table"
           }
          ]
         },
         "layout": {
          "annotationdefaults": {
           "arrowcolor": "#2a3f5f",
           "arrowhead": 0,
           "arrowwidth": 1
          },
          "coloraxis": {
           "colorbar": {
            "outlinewidth": 0,
            "ticks": ""
           }
          },
          "colorscale": {
           "diverging": [
            [
             0,
             "#8e0152"
            ],
            [
             0.1,
             "#c51b7d"
            ],
            [
             0.2,
             "#de77ae"
            ],
            [
             0.3,
             "#f1b6da"
            ],
            [
             0.4,
             "#fde0ef"
            ],
            [
             0.5,
             "#f7f7f7"
            ],
            [
             0.6,
             "#e6f5d0"
            ],
            [
             0.7,
             "#b8e186"
            ],
            [
             0.8,
             "#7fbc41"
            ],
            [
             0.9,
             "#4d9221"
            ],
            [
             1,
             "#276419"
            ]
           ],
           "sequential": [
            [
             0,
             "#0d0887"
            ],
            [
             0.1111111111111111,
             "#46039f"
            ],
            [
             0.2222222222222222,
             "#7201a8"
            ],
            [
             0.3333333333333333,
             "#9c179e"
            ],
            [
             0.4444444444444444,
             "#bd3786"
            ],
            [
             0.5555555555555556,
             "#d8576b"
            ],
            [
             0.6666666666666666,
             "#ed7953"
            ],
            [
             0.7777777777777778,
             "#fb9f3a"
            ],
            [
             0.8888888888888888,
             "#fdca26"
            ],
            [
             1,
             "#f0f921"
            ]
           ],
           "sequentialminus": [
            [
             0,
             "#0d0887"
            ],
            [
             0.1111111111111111,
             "#46039f"
            ],
            [
             0.2222222222222222,
             "#7201a8"
            ],
            [
             0.3333333333333333,
             "#9c179e"
            ],
            [
             0.4444444444444444,
             "#bd3786"
            ],
            [
             0.5555555555555556,
             "#d8576b"
            ],
            [
             0.6666666666666666,
             "#ed7953"
            ],
            [
             0.7777777777777778,
             "#fb9f3a"
            ],
            [
             0.8888888888888888,
             "#fdca26"
            ],
            [
             1,
             "#f0f921"
            ]
           ]
          },
          "colorway": [
           "#636efa",
           "#EF553B",
           "#00cc96",
           "#ab63fa",
           "#FFA15A",
           "#19d3f3",
           "#FF6692",
           "#B6E880",
           "#FF97FF",
           "#FECB52"
          ],
          "font": {
           "color": "#2a3f5f"
          },
          "geo": {
           "bgcolor": "white",
           "lakecolor": "white",
           "landcolor": "#E5ECF6",
           "showlakes": true,
           "showland": true,
           "subunitcolor": "white"
          },
          "hoverlabel": {
           "align": "left"
          },
          "hovermode": "closest",
          "mapbox": {
           "style": "light"
          },
          "paper_bgcolor": "white",
          "plot_bgcolor": "#E5ECF6",
          "polar": {
           "angularaxis": {
            "gridcolor": "white",
            "linecolor": "white",
            "ticks": ""
           },
           "bgcolor": "#E5ECF6",
           "radialaxis": {
            "gridcolor": "white",
            "linecolor": "white",
            "ticks": ""
           }
          },
          "scene": {
           "xaxis": {
            "backgroundcolor": "#E5ECF6",
            "gridcolor": "white",
            "gridwidth": 2,
            "linecolor": "white",
            "showbackground": true,
            "ticks": "",
            "zerolinecolor": "white"
           },
           "yaxis": {
            "backgroundcolor": "#E5ECF6",
            "gridcolor": "white",
            "gridwidth": 2,
            "linecolor": "white",
            "showbackground": true,
            "ticks": "",
            "zerolinecolor": "white"
           },
           "zaxis": {
            "backgroundcolor": "#E5ECF6",
            "gridcolor": "white",
            "gridwidth": 2,
            "linecolor": "white",
            "showbackground": true,
            "ticks": "",
            "zerolinecolor": "white"
           }
          },
          "shapedefaults": {
           "line": {
            "color": "#2a3f5f"
           }
          },
          "ternary": {
           "aaxis": {
            "gridcolor": "white",
            "linecolor": "white",
            "ticks": ""
           },
           "baxis": {
            "gridcolor": "white",
            "linecolor": "white",
            "ticks": ""
           },
           "bgcolor": "#E5ECF6",
           "caxis": {
            "gridcolor": "white",
            "linecolor": "white",
            "ticks": ""
           }
          },
          "title": {
           "x": 0.05
          },
          "xaxis": {
           "automargin": true,
           "gridcolor": "white",
           "linecolor": "white",
           "ticks": "",
           "title": {
            "standoff": 15
           },
           "zerolinecolor": "white",
           "zerolinewidth": 2
          },
          "yaxis": {
           "automargin": true,
           "gridcolor": "white",
           "linecolor": "white",
           "ticks": "",
           "title": {
            "standoff": 15
           },
           "zerolinecolor": "white",
           "zerolinewidth": 2
          }
         }
        },
        "title": {
         "text": " Distribution of Show Types on Disney +"
        }
       }
      },
      "text/html": [
       "<div>\n",
       "        \n",
       "        \n",
       "            <div id=\"71babb11-9837-43eb-9498-8923c3f78633\" class=\"plotly-graph-div\" style=\"height:400px; width:100%;\"></div>\n",
       "            <script type=\"text/javascript\">\n",
       "                require([\"plotly\"], function(Plotly) {\n",
       "                    window.PLOTLYENV=window.PLOTLYENV || {};\n",
       "                    \n",
       "                if (document.getElementById(\"71babb11-9837-43eb-9498-8923c3f78633\")) {\n",
       "                    Plotly.newPlot(\n",
       "                        '71babb11-9837-43eb-9498-8923c3f78633',\n",
       "                        [{\"labels\": [\"movie\", \"episode\"], \"marker\": {\"colors\": [\"#6ad49b\", \"#1f77b4\"]}, \"pull\": [0.05, 0], \"type\": \"pie\", \"values\": [635, 8]}],\n",
       "                        {\"height\": 400, \"legend\": {\"x\": 0.1, \"y\": 1.1}, \"template\": {\"data\": {\"bar\": [{\"error_x\": {\"color\": \"#2a3f5f\"}, \"error_y\": {\"color\": \"#2a3f5f\"}, \"marker\": {\"line\": {\"color\": \"#E5ECF6\", \"width\": 0.5}}, \"type\": \"bar\"}], \"barpolar\": [{\"marker\": {\"line\": {\"color\": \"#E5ECF6\", \"width\": 0.5}}, \"type\": \"barpolar\"}], \"carpet\": [{\"aaxis\": {\"endlinecolor\": \"#2a3f5f\", \"gridcolor\": \"white\", \"linecolor\": \"white\", \"minorgridcolor\": \"white\", \"startlinecolor\": \"#2a3f5f\"}, \"baxis\": {\"endlinecolor\": \"#2a3f5f\", \"gridcolor\": \"white\", \"linecolor\": \"white\", \"minorgridcolor\": \"white\", \"startlinecolor\": \"#2a3f5f\"}, \"type\": \"carpet\"}], \"choropleth\": [{\"colorbar\": {\"outlinewidth\": 0, \"ticks\": \"\"}, \"type\": \"choropleth\"}], \"contour\": [{\"colorbar\": {\"outlinewidth\": 0, \"ticks\": \"\"}, \"colorscale\": [[0.0, \"#0d0887\"], [0.1111111111111111, \"#46039f\"], [0.2222222222222222, \"#7201a8\"], [0.3333333333333333, \"#9c179e\"], [0.4444444444444444, \"#bd3786\"], [0.5555555555555556, \"#d8576b\"], [0.6666666666666666, \"#ed7953\"], [0.7777777777777778, \"#fb9f3a\"], [0.8888888888888888, \"#fdca26\"], [1.0, \"#f0f921\"]], \"type\": \"contour\"}], \"contourcarpet\": [{\"colorbar\": {\"outlinewidth\": 0, \"ticks\": \"\"}, \"type\": \"contourcarpet\"}], \"heatmap\": [{\"colorbar\": {\"outlinewidth\": 0, \"ticks\": \"\"}, \"colorscale\": [[0.0, \"#0d0887\"], [0.1111111111111111, \"#46039f\"], [0.2222222222222222, \"#7201a8\"], [0.3333333333333333, \"#9c179e\"], [0.4444444444444444, \"#bd3786\"], [0.5555555555555556, \"#d8576b\"], [0.6666666666666666, \"#ed7953\"], [0.7777777777777778, \"#fb9f3a\"], [0.8888888888888888, \"#fdca26\"], [1.0, \"#f0f921\"]], \"type\": \"heatmap\"}], \"heatmapgl\": [{\"colorbar\": {\"outlinewidth\": 0, \"ticks\": \"\"}, \"colorscale\": [[0.0, \"#0d0887\"], [0.1111111111111111, \"#46039f\"], [0.2222222222222222, \"#7201a8\"], [0.3333333333333333, \"#9c179e\"], [0.4444444444444444, \"#bd3786\"], [0.5555555555555556, \"#d8576b\"], [0.6666666666666666, \"#ed7953\"], [0.7777777777777778, \"#fb9f3a\"], [0.8888888888888888, \"#fdca26\"], [1.0, \"#f0f921\"]], \"type\": \"heatmapgl\"}], \"histogram\": [{\"marker\": {\"colorbar\": {\"outlinewidth\": 0, \"ticks\": \"\"}}, \"type\": \"histogram\"}], \"histogram2d\": [{\"colorbar\": {\"outlinewidth\": 0, \"ticks\": \"\"}, \"colorscale\": [[0.0, \"#0d0887\"], [0.1111111111111111, \"#46039f\"], [0.2222222222222222, \"#7201a8\"], [0.3333333333333333, \"#9c179e\"], [0.4444444444444444, \"#bd3786\"], [0.5555555555555556, \"#d8576b\"], [0.6666666666666666, \"#ed7953\"], [0.7777777777777778, \"#fb9f3a\"], [0.8888888888888888, \"#fdca26\"], [1.0, \"#f0f921\"]], \"type\": \"histogram2d\"}], \"histogram2dcontour\": [{\"colorbar\": {\"outlinewidth\": 0, \"ticks\": \"\"}, \"colorscale\": [[0.0, \"#0d0887\"], [0.1111111111111111, \"#46039f\"], [0.2222222222222222, \"#7201a8\"], [0.3333333333333333, \"#9c179e\"], [0.4444444444444444, \"#bd3786\"], [0.5555555555555556, \"#d8576b\"], [0.6666666666666666, \"#ed7953\"], [0.7777777777777778, \"#fb9f3a\"], [0.8888888888888888, \"#fdca26\"], [1.0, \"#f0f921\"]], \"type\": \"histogram2dcontour\"}], \"mesh3d\": [{\"colorbar\": {\"outlinewidth\": 0, \"ticks\": \"\"}, \"type\": \"mesh3d\"}], \"parcoords\": [{\"line\": {\"colorbar\": {\"outlinewidth\": 0, \"ticks\": \"\"}}, \"type\": \"parcoords\"}], \"pie\": [{\"automargin\": true, \"type\": \"pie\"}], \"scatter\": [{\"marker\": {\"colorbar\": {\"outlinewidth\": 0, \"ticks\": \"\"}}, \"type\": \"scatter\"}], \"scatter3d\": [{\"line\": {\"colorbar\": {\"outlinewidth\": 0, \"ticks\": \"\"}}, \"marker\": {\"colorbar\": {\"outlinewidth\": 0, \"ticks\": \"\"}}, \"type\": \"scatter3d\"}], \"scattercarpet\": [{\"marker\": {\"colorbar\": {\"outlinewidth\": 0, \"ticks\": \"\"}}, \"type\": \"scattercarpet\"}], \"scattergeo\": [{\"marker\": {\"colorbar\": {\"outlinewidth\": 0, \"ticks\": \"\"}}, \"type\": \"scattergeo\"}], \"scattergl\": [{\"marker\": {\"colorbar\": {\"outlinewidth\": 0, \"ticks\": \"\"}}, \"type\": \"scattergl\"}], \"scattermapbox\": [{\"marker\": {\"colorbar\": {\"outlinewidth\": 0, \"ticks\": \"\"}}, \"type\": \"scattermapbox\"}], \"scatterpolar\": [{\"marker\": {\"colorbar\": {\"outlinewidth\": 0, \"ticks\": \"\"}}, \"type\": \"scatterpolar\"}], \"scatterpolargl\": [{\"marker\": {\"colorbar\": {\"outlinewidth\": 0, \"ticks\": \"\"}}, \"type\": \"scatterpolargl\"}], \"scatterternary\": [{\"marker\": {\"colorbar\": {\"outlinewidth\": 0, \"ticks\": \"\"}}, \"type\": \"scatterternary\"}], \"surface\": [{\"colorbar\": {\"outlinewidth\": 0, \"ticks\": \"\"}, \"colorscale\": [[0.0, \"#0d0887\"], [0.1111111111111111, \"#46039f\"], [0.2222222222222222, \"#7201a8\"], [0.3333333333333333, \"#9c179e\"], [0.4444444444444444, \"#bd3786\"], [0.5555555555555556, \"#d8576b\"], [0.6666666666666666, \"#ed7953\"], [0.7777777777777778, \"#fb9f3a\"], [0.8888888888888888, \"#fdca26\"], [1.0, \"#f0f921\"]], \"type\": \"surface\"}], \"table\": [{\"cells\": {\"fill\": {\"color\": \"#EBF0F8\"}, \"line\": {\"color\": \"white\"}}, \"header\": {\"fill\": {\"color\": \"#C8D4E3\"}, \"line\": {\"color\": \"white\"}}, \"type\": \"table\"}]}, \"layout\": {\"annotationdefaults\": {\"arrowcolor\": \"#2a3f5f\", \"arrowhead\": 0, \"arrowwidth\": 1}, \"coloraxis\": {\"colorbar\": {\"outlinewidth\": 0, \"ticks\": \"\"}}, \"colorscale\": {\"diverging\": [[0, \"#8e0152\"], [0.1, \"#c51b7d\"], [0.2, \"#de77ae\"], [0.3, \"#f1b6da\"], [0.4, \"#fde0ef\"], [0.5, \"#f7f7f7\"], [0.6, \"#e6f5d0\"], [0.7, \"#b8e186\"], [0.8, \"#7fbc41\"], [0.9, \"#4d9221\"], [1, \"#276419\"]], \"sequential\": [[0.0, \"#0d0887\"], [0.1111111111111111, \"#46039f\"], [0.2222222222222222, \"#7201a8\"], [0.3333333333333333, \"#9c179e\"], [0.4444444444444444, \"#bd3786\"], [0.5555555555555556, \"#d8576b\"], [0.6666666666666666, \"#ed7953\"], [0.7777777777777778, \"#fb9f3a\"], [0.8888888888888888, \"#fdca26\"], [1.0, \"#f0f921\"]], \"sequentialminus\": [[0.0, \"#0d0887\"], [0.1111111111111111, \"#46039f\"], [0.2222222222222222, \"#7201a8\"], [0.3333333333333333, \"#9c179e\"], [0.4444444444444444, \"#bd3786\"], [0.5555555555555556, \"#d8576b\"], [0.6666666666666666, \"#ed7953\"], [0.7777777777777778, \"#fb9f3a\"], [0.8888888888888888, \"#fdca26\"], [1.0, \"#f0f921\"]]}, \"colorway\": [\"#636efa\", \"#EF553B\", \"#00cc96\", \"#ab63fa\", \"#FFA15A\", \"#19d3f3\", \"#FF6692\", \"#B6E880\", \"#FF97FF\", \"#FECB52\"], \"font\": {\"color\": \"#2a3f5f\"}, \"geo\": {\"bgcolor\": \"white\", \"lakecolor\": \"white\", \"landcolor\": \"#E5ECF6\", \"showlakes\": true, \"showland\": true, \"subunitcolor\": \"white\"}, \"hoverlabel\": {\"align\": \"left\"}, \"hovermode\": \"closest\", \"mapbox\": {\"style\": \"light\"}, \"paper_bgcolor\": \"white\", \"plot_bgcolor\": \"#E5ECF6\", \"polar\": {\"angularaxis\": {\"gridcolor\": \"white\", \"linecolor\": \"white\", \"ticks\": \"\"}, \"bgcolor\": \"#E5ECF6\", \"radialaxis\": {\"gridcolor\": \"white\", \"linecolor\": \"white\", \"ticks\": \"\"}}, \"scene\": {\"xaxis\": {\"backgroundcolor\": \"#E5ECF6\", \"gridcolor\": \"white\", \"gridwidth\": 2, \"linecolor\": \"white\", \"showbackground\": true, \"ticks\": \"\", \"zerolinecolor\": \"white\"}, \"yaxis\": {\"backgroundcolor\": \"#E5ECF6\", \"gridcolor\": \"white\", \"gridwidth\": 2, \"linecolor\": \"white\", \"showbackground\": true, \"ticks\": \"\", \"zerolinecolor\": \"white\"}, \"zaxis\": {\"backgroundcolor\": \"#E5ECF6\", \"gridcolor\": \"white\", \"gridwidth\": 2, \"linecolor\": \"white\", \"showbackground\": true, \"ticks\": \"\", \"zerolinecolor\": \"white\"}}, \"shapedefaults\": {\"line\": {\"color\": \"#2a3f5f\"}}, \"ternary\": {\"aaxis\": {\"gridcolor\": \"white\", \"linecolor\": \"white\", \"ticks\": \"\"}, \"baxis\": {\"gridcolor\": \"white\", \"linecolor\": \"white\", \"ticks\": \"\"}, \"bgcolor\": \"#E5ECF6\", \"caxis\": {\"gridcolor\": \"white\", \"linecolor\": \"white\", \"ticks\": \"\"}}, \"title\": {\"x\": 0.05}, \"xaxis\": {\"automargin\": true, \"gridcolor\": \"white\", \"linecolor\": \"white\", \"ticks\": \"\", \"title\": {\"standoff\": 15}, \"zerolinecolor\": \"white\", \"zerolinewidth\": 2}, \"yaxis\": {\"automargin\": true, \"gridcolor\": \"white\", \"linecolor\": \"white\", \"ticks\": \"\", \"title\": {\"standoff\": 15}, \"zerolinecolor\": \"white\", \"zerolinewidth\": 2}}}, \"title\": {\"text\": \" Distribution of Show Types on Disney +\"}},\n",
       "                        {\"responsive\": true}\n",
       "                    ).then(function(){\n",
       "                            \n",
       "var gd = document.getElementById('71babb11-9837-43eb-9498-8923c3f78633');\n",
       "var x = new MutationObserver(function (mutations, observer) {{\n",
       "        var display = window.getComputedStyle(gd).display;\n",
       "        if (!display || display === 'none') {{\n",
       "            console.log([gd, 'removed!']);\n",
       "            Plotly.purge(gd);\n",
       "            observer.disconnect();\n",
       "        }}\n",
       "}});\n",
       "\n",
       "// Listen for the removal of the full notebook cells\n",
       "var notebookContainer = gd.closest('#notebook-container');\n",
       "if (notebookContainer) {{\n",
       "    x.observe(notebookContainer, {childList: true});\n",
       "}}\n",
       "\n",
       "// Listen for the clearing of the current output cell\n",
       "var outputEl = gd.closest('.output');\n",
       "if (outputEl) {{\n",
       "    x.observe(outputEl, {childList: true});\n",
       "}}\n",
       "\n",
       "                        })\n",
       "                };\n",
       "                });\n",
       "            </script>\n",
       "        </div>"
      ]
     },
     "metadata": {},
     "output_type": "display_data"
    }
   ],
   "source": [
    "dy_show_type = disney_df_copy['show_type'].value_counts().reset_index()\n",
    "\n",
    "dy_show_type = dy_show_type.rename(columns={'index':'show_type',\n",
    "                                           'show_type': 'Count'})\n",
    "dy_show_type\n",
    "\n",
    "pie_chart = go.Pie(labels=dy_show_type['show_type'], values=dy_show_type['Count'],\n",
    "                   pull=[0.05,0],\n",
    "                   marker = dict(colors=[\"#6ad49b\", \"#1f77b4\"]))\n",
    "\n",
    "fig_layout = go.Layout(title=\" Distribution of Show Types on Disney +\", height = 400, legend=dict(x=0.1, y=1.1))\n",
    "fig = go.Figure(data= pie_chart, layout=fig_layout)\n",
    "iplot(fig)\n"
   ]
  },
  {
   "cell_type": "code",
   "execution_count": 32,
   "metadata": {},
   "outputs": [
    {
     "data": {
      "text/html": [
       "<div>\n",
       "<style scoped>\n",
       "    .dataframe tbody tr th:only-of-type {\n",
       "        vertical-align: middle;\n",
       "    }\n",
       "\n",
       "    .dataframe tbody tr th {\n",
       "        vertical-align: top;\n",
       "    }\n",
       "\n",
       "    .dataframe thead th {\n",
       "        text-align: right;\n",
       "    }\n",
       "</style>\n",
       "<table border=\"1\" class=\"dataframe\">\n",
       "  <thead>\n",
       "    <tr style=\"text-align: right;\">\n",
       "      <th></th>\n",
       "      <th>title</th>\n",
       "      <th>show_type</th>\n",
       "      <th>film_rating</th>\n",
       "      <th>added_at</th>\n",
       "      <th>genre</th>\n",
       "      <th>director</th>\n",
       "      <th>cast</th>\n",
       "      <th>country</th>\n",
       "      <th>month_added</th>\n",
       "      <th>day_added</th>\n",
       "      <th>year_added</th>\n",
       "    </tr>\n",
       "  </thead>\n",
       "  <tbody>\n",
       "    <tr>\n",
       "      <th>0</th>\n",
       "      <td>10 Things I Hate About You</td>\n",
       "      <td>movie</td>\n",
       "      <td>PG-13</td>\n",
       "      <td>2019-11-12</td>\n",
       "      <td>Comedy, Drama, Romance</td>\n",
       "      <td>Gil Junger</td>\n",
       "      <td>Heath Ledger, Julia Stiles, Joseph Gordon-Levi...</td>\n",
       "      <td>USA</td>\n",
       "      <td>November</td>\n",
       "      <td>12</td>\n",
       "      <td>2019</td>\n",
       "    </tr>\n",
       "    <tr>\n",
       "      <th>2</th>\n",
       "      <td>101 Dalmatians</td>\n",
       "      <td>movie</td>\n",
       "      <td>G</td>\n",
       "      <td>2019-11-12</td>\n",
       "      <td>Adventure, Comedy, Crime, Family</td>\n",
       "      <td>Stephen Herek</td>\n",
       "      <td>Glenn Close, Jeff Daniels, Joely Richardson, J...</td>\n",
       "      <td>USA, UK</td>\n",
       "      <td>November</td>\n",
       "      <td>12</td>\n",
       "      <td>2019</td>\n",
       "    </tr>\n",
       "    <tr>\n",
       "      <th>3</th>\n",
       "      <td>101 Dalmatians 2: Patch's London Adventure</td>\n",
       "      <td>movie</td>\n",
       "      <td>G</td>\n",
       "      <td>2019-11-12</td>\n",
       "      <td>Animation, Adventure, Comedy, Family, Musical</td>\n",
       "      <td>Jim Kammerud, Brian Smith</td>\n",
       "      <td>Barry Bostwick, Jason Alexander, Martin Short,...</td>\n",
       "      <td>USA</td>\n",
       "      <td>November</td>\n",
       "      <td>12</td>\n",
       "      <td>2019</td>\n",
       "    </tr>\n",
       "    <tr>\n",
       "      <th>4</th>\n",
       "      <td>102 Dalmatians</td>\n",
       "      <td>movie</td>\n",
       "      <td>G</td>\n",
       "      <td>2019-11-12</td>\n",
       "      <td>Adventure, Comedy, Family</td>\n",
       "      <td>Kevin Lima</td>\n",
       "      <td>Glenn Close, Gérard Depardieu, Ioan Gruffudd, ...</td>\n",
       "      <td>USA, UK</td>\n",
       "      <td>November</td>\n",
       "      <td>12</td>\n",
       "      <td>2019</td>\n",
       "    </tr>\n",
       "    <tr>\n",
       "      <th>5</th>\n",
       "      <td>12 Dates of Christmas</td>\n",
       "      <td>movie</td>\n",
       "      <td>PG</td>\n",
       "      <td>2019-11-12</td>\n",
       "      <td>Comedy, Fantasy, Romance</td>\n",
       "      <td>James Hayman</td>\n",
       "      <td>Laura Miyata, Vijay Mehta, Amy Smart, Audrey D...</td>\n",
       "      <td>USA</td>\n",
       "      <td>November</td>\n",
       "      <td>12</td>\n",
       "      <td>2019</td>\n",
       "    </tr>\n",
       "  </tbody>\n",
       "</table>\n",
       "</div>"
      ],
      "text/plain": [
       "                                        title show_type film_rating  \\\n",
       "0                  10 Things I Hate About You     movie       PG-13   \n",
       "2                              101 Dalmatians     movie           G   \n",
       "3  101 Dalmatians 2: Patch's London Adventure     movie           G   \n",
       "4                              102 Dalmatians     movie           G   \n",
       "5                       12 Dates of Christmas     movie          PG   \n",
       "\n",
       "    added_at                                          genre  \\\n",
       "0 2019-11-12                         Comedy, Drama, Romance   \n",
       "2 2019-11-12               Adventure, Comedy, Crime, Family   \n",
       "3 2019-11-12  Animation, Adventure, Comedy, Family, Musical   \n",
       "4 2019-11-12                      Adventure, Comedy, Family   \n",
       "5 2019-11-12                       Comedy, Fantasy, Romance   \n",
       "\n",
       "                    director  \\\n",
       "0                 Gil Junger   \n",
       "2              Stephen Herek   \n",
       "3  Jim Kammerud, Brian Smith   \n",
       "4                 Kevin Lima   \n",
       "5               James Hayman   \n",
       "\n",
       "                                                cast  country month_added  \\\n",
       "0  Heath Ledger, Julia Stiles, Joseph Gordon-Levi...      USA    November   \n",
       "2  Glenn Close, Jeff Daniels, Joely Richardson, J...  USA, UK    November   \n",
       "3  Barry Bostwick, Jason Alexander, Martin Short,...      USA    November   \n",
       "4  Glenn Close, Gérard Depardieu, Ioan Gruffudd, ...  USA, UK    November   \n",
       "5  Laura Miyata, Vijay Mehta, Amy Smart, Audrey D...      USA    November   \n",
       "\n",
       "   day_added  year_added  \n",
       "0         12        2019  \n",
       "2         12        2019  \n",
       "3         12        2019  \n",
       "4         12        2019  \n",
       "5         12        2019  "
      ]
     },
     "execution_count": 32,
     "metadata": {},
     "output_type": "execute_result"
    }
   ],
   "source": [
    "#Created a dict to change the numerics months to strings so easier to read on graph \n",
    "months = {'1': 'January', '2':'February', '3':'March','4':'April','10':'October', '11':'November','12':'December'}\n",
    "\n",
    "#Change the date time month_released_on_nf column to string \n",
    "disney_df_copy['month_added'] = disney_df_copy['month_added'].astype(str)\n",
    "disney_df_copy = disney_df_copy.replace({'month_added': months})\n",
    "\n",
    "disney_df_copy.head()"
   ]
  },
  {
   "cell_type": "code",
   "execution_count": 39,
   "metadata": {},
   "outputs": [
    {
     "data": {
      "application/vnd.plotly.v1+json": {
       "config": {
        "plotlyServerURL": "https://plot.ly"
       },
       "data": [
        {
         "marker": {
          "color": "#6ad49b"
         },
         "name": "Number of Content Added",
         "type": "bar",
         "x": [
          "November",
          "April",
          "January",
          "February",
          "March",
          "October",
          "December"
         ],
         "y": [
          558,
          24,
          20,
          14,
          10,
          9,
          8
         ]
        }
       ],
       "layout": {
        "legend": {
         "x": 0.1,
         "y": 1.1
        },
        "template": {
         "data": {
          "bar": [
           {
            "error_x": {
             "color": "#2a3f5f"
            },
            "error_y": {
             "color": "#2a3f5f"
            },
            "marker": {
             "line": {
              "color": "#E5ECF6",
              "width": 0.5
             }
            },
            "type": "bar"
           }
          ],
          "barpolar": [
           {
            "marker": {
             "line": {
              "color": "#E5ECF6",
              "width": 0.5
             }
            },
            "type": "barpolar"
           }
          ],
          "carpet": [
           {
            "aaxis": {
             "endlinecolor": "#2a3f5f",
             "gridcolor": "white",
             "linecolor": "white",
             "minorgridcolor": "white",
             "startlinecolor": "#2a3f5f"
            },
            "baxis": {
             "endlinecolor": "#2a3f5f",
             "gridcolor": "white",
             "linecolor": "white",
             "minorgridcolor": "white",
             "startlinecolor": "#2a3f5f"
            },
            "type": "carpet"
           }
          ],
          "choropleth": [
           {
            "colorbar": {
             "outlinewidth": 0,
             "ticks": ""
            },
            "type": "choropleth"
           }
          ],
          "contour": [
           {
            "colorbar": {
             "outlinewidth": 0,
             "ticks": ""
            },
            "colorscale": [
             [
              0,
              "#0d0887"
             ],
             [
              0.1111111111111111,
              "#46039f"
             ],
             [
              0.2222222222222222,
              "#7201a8"
             ],
             [
              0.3333333333333333,
              "#9c179e"
             ],
             [
              0.4444444444444444,
              "#bd3786"
             ],
             [
              0.5555555555555556,
              "#d8576b"
             ],
             [
              0.6666666666666666,
              "#ed7953"
             ],
             [
              0.7777777777777778,
              "#fb9f3a"
             ],
             [
              0.8888888888888888,
              "#fdca26"
             ],
             [
              1,
              "#f0f921"
             ]
            ],
            "type": "contour"
           }
          ],
          "contourcarpet": [
           {
            "colorbar": {
             "outlinewidth": 0,
             "ticks": ""
            },
            "type": "contourcarpet"
           }
          ],
          "heatmap": [
           {
            "colorbar": {
             "outlinewidth": 0,
             "ticks": ""
            },
            "colorscale": [
             [
              0,
              "#0d0887"
             ],
             [
              0.1111111111111111,
              "#46039f"
             ],
             [
              0.2222222222222222,
              "#7201a8"
             ],
             [
              0.3333333333333333,
              "#9c179e"
             ],
             [
              0.4444444444444444,
              "#bd3786"
             ],
             [
              0.5555555555555556,
              "#d8576b"
             ],
             [
              0.6666666666666666,
              "#ed7953"
             ],
             [
              0.7777777777777778,
              "#fb9f3a"
             ],
             [
              0.8888888888888888,
              "#fdca26"
             ],
             [
              1,
              "#f0f921"
             ]
            ],
            "type": "heatmap"
           }
          ],
          "heatmapgl": [
           {
            "colorbar": {
             "outlinewidth": 0,
             "ticks": ""
            },
            "colorscale": [
             [
              0,
              "#0d0887"
             ],
             [
              0.1111111111111111,
              "#46039f"
             ],
             [
              0.2222222222222222,
              "#7201a8"
             ],
             [
              0.3333333333333333,
              "#9c179e"
             ],
             [
              0.4444444444444444,
              "#bd3786"
             ],
             [
              0.5555555555555556,
              "#d8576b"
             ],
             [
              0.6666666666666666,
              "#ed7953"
             ],
             [
              0.7777777777777778,
              "#fb9f3a"
             ],
             [
              0.8888888888888888,
              "#fdca26"
             ],
             [
              1,
              "#f0f921"
             ]
            ],
            "type": "heatmapgl"
           }
          ],
          "histogram": [
           {
            "marker": {
             "colorbar": {
              "outlinewidth": 0,
              "ticks": ""
             }
            },
            "type": "histogram"
           }
          ],
          "histogram2d": [
           {
            "colorbar": {
             "outlinewidth": 0,
             "ticks": ""
            },
            "colorscale": [
             [
              0,
              "#0d0887"
             ],
             [
              0.1111111111111111,
              "#46039f"
             ],
             [
              0.2222222222222222,
              "#7201a8"
             ],
             [
              0.3333333333333333,
              "#9c179e"
             ],
             [
              0.4444444444444444,
              "#bd3786"
             ],
             [
              0.5555555555555556,
              "#d8576b"
             ],
             [
              0.6666666666666666,
              "#ed7953"
             ],
             [
              0.7777777777777778,
              "#fb9f3a"
             ],
             [
              0.8888888888888888,
              "#fdca26"
             ],
             [
              1,
              "#f0f921"
             ]
            ],
            "type": "histogram2d"
           }
          ],
          "histogram2dcontour": [
           {
            "colorbar": {
             "outlinewidth": 0,
             "ticks": ""
            },
            "colorscale": [
             [
              0,
              "#0d0887"
             ],
             [
              0.1111111111111111,
              "#46039f"
             ],
             [
              0.2222222222222222,
              "#7201a8"
             ],
             [
              0.3333333333333333,
              "#9c179e"
             ],
             [
              0.4444444444444444,
              "#bd3786"
             ],
             [
              0.5555555555555556,
              "#d8576b"
             ],
             [
              0.6666666666666666,
              "#ed7953"
             ],
             [
              0.7777777777777778,
              "#fb9f3a"
             ],
             [
              0.8888888888888888,
              "#fdca26"
             ],
             [
              1,
              "#f0f921"
             ]
            ],
            "type": "histogram2dcontour"
           }
          ],
          "mesh3d": [
           {
            "colorbar": {
             "outlinewidth": 0,
             "ticks": ""
            },
            "type": "mesh3d"
           }
          ],
          "parcoords": [
           {
            "line": {
             "colorbar": {
              "outlinewidth": 0,
              "ticks": ""
             }
            },
            "type": "parcoords"
           }
          ],
          "pie": [
           {
            "automargin": true,
            "type": "pie"
           }
          ],
          "scatter": [
           {
            "marker": {
             "colorbar": {
              "outlinewidth": 0,
              "ticks": ""
             }
            },
            "type": "scatter"
           }
          ],
          "scatter3d": [
           {
            "line": {
             "colorbar": {
              "outlinewidth": 0,
              "ticks": ""
             }
            },
            "marker": {
             "colorbar": {
              "outlinewidth": 0,
              "ticks": ""
             }
            },
            "type": "scatter3d"
           }
          ],
          "scattercarpet": [
           {
            "marker": {
             "colorbar": {
              "outlinewidth": 0,
              "ticks": ""
             }
            },
            "type": "scattercarpet"
           }
          ],
          "scattergeo": [
           {
            "marker": {
             "colorbar": {
              "outlinewidth": 0,
              "ticks": ""
             }
            },
            "type": "scattergeo"
           }
          ],
          "scattergl": [
           {
            "marker": {
             "colorbar": {
              "outlinewidth": 0,
              "ticks": ""
             }
            },
            "type": "scattergl"
           }
          ],
          "scattermapbox": [
           {
            "marker": {
             "colorbar": {
              "outlinewidth": 0,
              "ticks": ""
             }
            },
            "type": "scattermapbox"
           }
          ],
          "scatterpolar": [
           {
            "marker": {
             "colorbar": {
              "outlinewidth": 0,
              "ticks": ""
             }
            },
            "type": "scatterpolar"
           }
          ],
          "scatterpolargl": [
           {
            "marker": {
             "colorbar": {
              "outlinewidth": 0,
              "ticks": ""
             }
            },
            "type": "scatterpolargl"
           }
          ],
          "scatterternary": [
           {
            "marker": {
             "colorbar": {
              "outlinewidth": 0,
              "ticks": ""
             }
            },
            "type": "scatterternary"
           }
          ],
          "surface": [
           {
            "colorbar": {
             "outlinewidth": 0,
             "ticks": ""
            },
            "colorscale": [
             [
              0,
              "#0d0887"
             ],
             [
              0.1111111111111111,
              "#46039f"
             ],
             [
              0.2222222222222222,
              "#7201a8"
             ],
             [
              0.3333333333333333,
              "#9c179e"
             ],
             [
              0.4444444444444444,
              "#bd3786"
             ],
             [
              0.5555555555555556,
              "#d8576b"
             ],
             [
              0.6666666666666666,
              "#ed7953"
             ],
             [
              0.7777777777777778,
              "#fb9f3a"
             ],
             [
              0.8888888888888888,
              "#fdca26"
             ],
             [
              1,
              "#f0f921"
             ]
            ],
            "type": "surface"
           }
          ],
          "table": [
           {
            "cells": {
             "fill": {
              "color": "#EBF0F8"
             },
             "line": {
              "color": "white"
             }
            },
            "header": {
             "fill": {
              "color": "#C8D4E3"
             },
             "line": {
              "color": "white"
             }
            },
            "type": "table"
           }
          ]
         },
         "layout": {
          "annotationdefaults": {
           "arrowcolor": "#2a3f5f",
           "arrowhead": 0,
           "arrowwidth": 1
          },
          "coloraxis": {
           "colorbar": {
            "outlinewidth": 0,
            "ticks": ""
           }
          },
          "colorscale": {
           "diverging": [
            [
             0,
             "#8e0152"
            ],
            [
             0.1,
             "#c51b7d"
            ],
            [
             0.2,
             "#de77ae"
            ],
            [
             0.3,
             "#f1b6da"
            ],
            [
             0.4,
             "#fde0ef"
            ],
            [
             0.5,
             "#f7f7f7"
            ],
            [
             0.6,
             "#e6f5d0"
            ],
            [
             0.7,
             "#b8e186"
            ],
            [
             0.8,
             "#7fbc41"
            ],
            [
             0.9,
             "#4d9221"
            ],
            [
             1,
             "#276419"
            ]
           ],
           "sequential": [
            [
             0,
             "#0d0887"
            ],
            [
             0.1111111111111111,
             "#46039f"
            ],
            [
             0.2222222222222222,
             "#7201a8"
            ],
            [
             0.3333333333333333,
             "#9c179e"
            ],
            [
             0.4444444444444444,
             "#bd3786"
            ],
            [
             0.5555555555555556,
             "#d8576b"
            ],
            [
             0.6666666666666666,
             "#ed7953"
            ],
            [
             0.7777777777777778,
             "#fb9f3a"
            ],
            [
             0.8888888888888888,
             "#fdca26"
            ],
            [
             1,
             "#f0f921"
            ]
           ],
           "sequentialminus": [
            [
             0,
             "#0d0887"
            ],
            [
             0.1111111111111111,
             "#46039f"
            ],
            [
             0.2222222222222222,
             "#7201a8"
            ],
            [
             0.3333333333333333,
             "#9c179e"
            ],
            [
             0.4444444444444444,
             "#bd3786"
            ],
            [
             0.5555555555555556,
             "#d8576b"
            ],
            [
             0.6666666666666666,
             "#ed7953"
            ],
            [
             0.7777777777777778,
             "#fb9f3a"
            ],
            [
             0.8888888888888888,
             "#fdca26"
            ],
            [
             1,
             "#f0f921"
            ]
           ]
          },
          "colorway": [
           "#636efa",
           "#EF553B",
           "#00cc96",
           "#ab63fa",
           "#FFA15A",
           "#19d3f3",
           "#FF6692",
           "#B6E880",
           "#FF97FF",
           "#FECB52"
          ],
          "font": {
           "color": "#2a3f5f"
          },
          "geo": {
           "bgcolor": "white",
           "lakecolor": "white",
           "landcolor": "#E5ECF6",
           "showlakes": true,
           "showland": true,
           "subunitcolor": "white"
          },
          "hoverlabel": {
           "align": "left"
          },
          "hovermode": "closest",
          "mapbox": {
           "style": "light"
          },
          "paper_bgcolor": "white",
          "plot_bgcolor": "#E5ECF6",
          "polar": {
           "angularaxis": {
            "gridcolor": "white",
            "linecolor": "white",
            "ticks": ""
           },
           "bgcolor": "#E5ECF6",
           "radialaxis": {
            "gridcolor": "white",
            "linecolor": "white",
            "ticks": ""
           }
          },
          "scene": {
           "xaxis": {
            "backgroundcolor": "#E5ECF6",
            "gridcolor": "white",
            "gridwidth": 2,
            "linecolor": "white",
            "showbackground": true,
            "ticks": "",
            "zerolinecolor": "white"
           },
           "yaxis": {
            "backgroundcolor": "#E5ECF6",
            "gridcolor": "white",
            "gridwidth": 2,
            "linecolor": "white",
            "showbackground": true,
            "ticks": "",
            "zerolinecolor": "white"
           },
           "zaxis": {
            "backgroundcolor": "#E5ECF6",
            "gridcolor": "white",
            "gridwidth": 2,
            "linecolor": "white",
            "showbackground": true,
            "ticks": "",
            "zerolinecolor": "white"
           }
          },
          "shapedefaults": {
           "line": {
            "color": "#2a3f5f"
           }
          },
          "ternary": {
           "aaxis": {
            "gridcolor": "white",
            "linecolor": "white",
            "ticks": ""
           },
           "baxis": {
            "gridcolor": "white",
            "linecolor": "white",
            "ticks": ""
           },
           "bgcolor": "#E5ECF6",
           "caxis": {
            "gridcolor": "white",
            "linecolor": "white",
            "ticks": ""
           }
          },
          "title": {
           "x": 0.05
          },
          "xaxis": {
           "automargin": true,
           "gridcolor": "white",
           "linecolor": "white",
           "ticks": "",
           "title": {
            "standoff": 15
           },
           "zerolinecolor": "white",
           "zerolinewidth": 2
          },
          "yaxis": {
           "automargin": true,
           "gridcolor": "white",
           "linecolor": "white",
           "ticks": "",
           "title": {
            "standoff": 15
           },
           "zerolinecolor": "white",
           "zerolinewidth": 2
          }
         }
        },
        "title": {
         "text": "Number of content released by month"
        }
       }
      },
      "text/html": [
       "<div>\n",
       "        \n",
       "        \n",
       "            <div id=\"9913f13e-6a0d-4981-a295-b5250a1d20d8\" class=\"plotly-graph-div\" style=\"height:525px; width:100%;\"></div>\n",
       "            <script type=\"text/javascript\">\n",
       "                require([\"plotly\"], function(Plotly) {\n",
       "                    window.PLOTLYENV=window.PLOTLYENV || {};\n",
       "                    \n",
       "                if (document.getElementById(\"9913f13e-6a0d-4981-a295-b5250a1d20d8\")) {\n",
       "                    Plotly.newPlot(\n",
       "                        '9913f13e-6a0d-4981-a295-b5250a1d20d8',\n",
       "                        [{\"marker\": {\"color\": \"#6ad49b\"}, \"name\": \"Number of Content Added\", \"type\": \"bar\", \"x\": [\"November\", \"April\", \"January\", \"February\", \"March\", \"October\", \"December\"], \"y\": [558, 24, 20, 14, 10, 9, 8]}],\n",
       "                        {\"legend\": {\"x\": 0.1, \"y\": 1.1}, \"template\": {\"data\": {\"bar\": [{\"error_x\": {\"color\": \"#2a3f5f\"}, \"error_y\": {\"color\": \"#2a3f5f\"}, \"marker\": {\"line\": {\"color\": \"#E5ECF6\", \"width\": 0.5}}, \"type\": \"bar\"}], \"barpolar\": [{\"marker\": {\"line\": {\"color\": \"#E5ECF6\", \"width\": 0.5}}, \"type\": \"barpolar\"}], \"carpet\": [{\"aaxis\": {\"endlinecolor\": \"#2a3f5f\", \"gridcolor\": \"white\", \"linecolor\": \"white\", \"minorgridcolor\": \"white\", \"startlinecolor\": \"#2a3f5f\"}, \"baxis\": {\"endlinecolor\": \"#2a3f5f\", \"gridcolor\": \"white\", \"linecolor\": \"white\", \"minorgridcolor\": \"white\", \"startlinecolor\": \"#2a3f5f\"}, \"type\": \"carpet\"}], \"choropleth\": [{\"colorbar\": {\"outlinewidth\": 0, \"ticks\": \"\"}, \"type\": \"choropleth\"}], \"contour\": [{\"colorbar\": {\"outlinewidth\": 0, \"ticks\": \"\"}, \"colorscale\": [[0.0, \"#0d0887\"], [0.1111111111111111, \"#46039f\"], [0.2222222222222222, \"#7201a8\"], [0.3333333333333333, \"#9c179e\"], [0.4444444444444444, \"#bd3786\"], [0.5555555555555556, \"#d8576b\"], [0.6666666666666666, \"#ed7953\"], [0.7777777777777778, \"#fb9f3a\"], [0.8888888888888888, \"#fdca26\"], [1.0, \"#f0f921\"]], \"type\": \"contour\"}], \"contourcarpet\": [{\"colorbar\": {\"outlinewidth\": 0, \"ticks\": \"\"}, \"type\": \"contourcarpet\"}], \"heatmap\": [{\"colorbar\": {\"outlinewidth\": 0, \"ticks\": \"\"}, \"colorscale\": [[0.0, \"#0d0887\"], [0.1111111111111111, \"#46039f\"], [0.2222222222222222, \"#7201a8\"], [0.3333333333333333, \"#9c179e\"], [0.4444444444444444, \"#bd3786\"], [0.5555555555555556, \"#d8576b\"], [0.6666666666666666, \"#ed7953\"], [0.7777777777777778, \"#fb9f3a\"], [0.8888888888888888, \"#fdca26\"], [1.0, \"#f0f921\"]], \"type\": \"heatmap\"}], \"heatmapgl\": [{\"colorbar\": {\"outlinewidth\": 0, \"ticks\": \"\"}, \"colorscale\": [[0.0, \"#0d0887\"], [0.1111111111111111, \"#46039f\"], [0.2222222222222222, \"#7201a8\"], [0.3333333333333333, \"#9c179e\"], [0.4444444444444444, \"#bd3786\"], [0.5555555555555556, \"#d8576b\"], [0.6666666666666666, \"#ed7953\"], [0.7777777777777778, \"#fb9f3a\"], [0.8888888888888888, \"#fdca26\"], [1.0, \"#f0f921\"]], \"type\": \"heatmapgl\"}], \"histogram\": [{\"marker\": {\"colorbar\": {\"outlinewidth\": 0, \"ticks\": \"\"}}, \"type\": \"histogram\"}], \"histogram2d\": [{\"colorbar\": {\"outlinewidth\": 0, \"ticks\": \"\"}, \"colorscale\": [[0.0, \"#0d0887\"], [0.1111111111111111, \"#46039f\"], [0.2222222222222222, \"#7201a8\"], [0.3333333333333333, \"#9c179e\"], [0.4444444444444444, \"#bd3786\"], [0.5555555555555556, \"#d8576b\"], [0.6666666666666666, \"#ed7953\"], [0.7777777777777778, \"#fb9f3a\"], [0.8888888888888888, \"#fdca26\"], [1.0, \"#f0f921\"]], \"type\": \"histogram2d\"}], \"histogram2dcontour\": [{\"colorbar\": {\"outlinewidth\": 0, \"ticks\": \"\"}, \"colorscale\": [[0.0, \"#0d0887\"], [0.1111111111111111, \"#46039f\"], [0.2222222222222222, \"#7201a8\"], [0.3333333333333333, \"#9c179e\"], [0.4444444444444444, \"#bd3786\"], [0.5555555555555556, \"#d8576b\"], [0.6666666666666666, \"#ed7953\"], [0.7777777777777778, \"#fb9f3a\"], [0.8888888888888888, \"#fdca26\"], [1.0, \"#f0f921\"]], \"type\": \"histogram2dcontour\"}], \"mesh3d\": [{\"colorbar\": {\"outlinewidth\": 0, \"ticks\": \"\"}, \"type\": \"mesh3d\"}], \"parcoords\": [{\"line\": {\"colorbar\": {\"outlinewidth\": 0, \"ticks\": \"\"}}, \"type\": \"parcoords\"}], \"pie\": [{\"automargin\": true, \"type\": \"pie\"}], \"scatter\": [{\"marker\": {\"colorbar\": {\"outlinewidth\": 0, \"ticks\": \"\"}}, \"type\": \"scatter\"}], \"scatter3d\": [{\"line\": {\"colorbar\": {\"outlinewidth\": 0, \"ticks\": \"\"}}, \"marker\": {\"colorbar\": {\"outlinewidth\": 0, \"ticks\": \"\"}}, \"type\": \"scatter3d\"}], \"scattercarpet\": [{\"marker\": {\"colorbar\": {\"outlinewidth\": 0, \"ticks\": \"\"}}, \"type\": \"scattercarpet\"}], \"scattergeo\": [{\"marker\": {\"colorbar\": {\"outlinewidth\": 0, \"ticks\": \"\"}}, \"type\": \"scattergeo\"}], \"scattergl\": [{\"marker\": {\"colorbar\": {\"outlinewidth\": 0, \"ticks\": \"\"}}, \"type\": \"scattergl\"}], \"scattermapbox\": [{\"marker\": {\"colorbar\": {\"outlinewidth\": 0, \"ticks\": \"\"}}, \"type\": \"scattermapbox\"}], \"scatterpolar\": [{\"marker\": {\"colorbar\": {\"outlinewidth\": 0, \"ticks\": \"\"}}, \"type\": \"scatterpolar\"}], \"scatterpolargl\": [{\"marker\": {\"colorbar\": {\"outlinewidth\": 0, \"ticks\": \"\"}}, \"type\": \"scatterpolargl\"}], \"scatterternary\": [{\"marker\": {\"colorbar\": {\"outlinewidth\": 0, \"ticks\": \"\"}}, \"type\": \"scatterternary\"}], \"surface\": [{\"colorbar\": {\"outlinewidth\": 0, \"ticks\": \"\"}, \"colorscale\": [[0.0, \"#0d0887\"], [0.1111111111111111, \"#46039f\"], [0.2222222222222222, \"#7201a8\"], [0.3333333333333333, \"#9c179e\"], [0.4444444444444444, \"#bd3786\"], [0.5555555555555556, \"#d8576b\"], [0.6666666666666666, \"#ed7953\"], [0.7777777777777778, \"#fb9f3a\"], [0.8888888888888888, \"#fdca26\"], [1.0, \"#f0f921\"]], \"type\": \"surface\"}], \"table\": [{\"cells\": {\"fill\": {\"color\": \"#EBF0F8\"}, \"line\": {\"color\": \"white\"}}, \"header\": {\"fill\": {\"color\": \"#C8D4E3\"}, \"line\": {\"color\": \"white\"}}, \"type\": \"table\"}]}, \"layout\": {\"annotationdefaults\": {\"arrowcolor\": \"#2a3f5f\", \"arrowhead\": 0, \"arrowwidth\": 1}, \"coloraxis\": {\"colorbar\": {\"outlinewidth\": 0, \"ticks\": \"\"}}, \"colorscale\": {\"diverging\": [[0, \"#8e0152\"], [0.1, \"#c51b7d\"], [0.2, \"#de77ae\"], [0.3, \"#f1b6da\"], [0.4, \"#fde0ef\"], [0.5, \"#f7f7f7\"], [0.6, \"#e6f5d0\"], [0.7, \"#b8e186\"], [0.8, \"#7fbc41\"], [0.9, \"#4d9221\"], [1, \"#276419\"]], \"sequential\": [[0.0, \"#0d0887\"], [0.1111111111111111, \"#46039f\"], [0.2222222222222222, \"#7201a8\"], [0.3333333333333333, \"#9c179e\"], [0.4444444444444444, \"#bd3786\"], [0.5555555555555556, \"#d8576b\"], [0.6666666666666666, \"#ed7953\"], [0.7777777777777778, \"#fb9f3a\"], [0.8888888888888888, \"#fdca26\"], [1.0, \"#f0f921\"]], \"sequentialminus\": [[0.0, \"#0d0887\"], [0.1111111111111111, \"#46039f\"], [0.2222222222222222, \"#7201a8\"], [0.3333333333333333, \"#9c179e\"], [0.4444444444444444, \"#bd3786\"], [0.5555555555555556, \"#d8576b\"], [0.6666666666666666, \"#ed7953\"], [0.7777777777777778, \"#fb9f3a\"], [0.8888888888888888, \"#fdca26\"], [1.0, \"#f0f921\"]]}, \"colorway\": [\"#636efa\", \"#EF553B\", \"#00cc96\", \"#ab63fa\", \"#FFA15A\", \"#19d3f3\", \"#FF6692\", \"#B6E880\", \"#FF97FF\", \"#FECB52\"], \"font\": {\"color\": \"#2a3f5f\"}, \"geo\": {\"bgcolor\": \"white\", \"lakecolor\": \"white\", \"landcolor\": \"#E5ECF6\", \"showlakes\": true, \"showland\": true, \"subunitcolor\": \"white\"}, \"hoverlabel\": {\"align\": \"left\"}, \"hovermode\": \"closest\", \"mapbox\": {\"style\": \"light\"}, \"paper_bgcolor\": \"white\", \"plot_bgcolor\": \"#E5ECF6\", \"polar\": {\"angularaxis\": {\"gridcolor\": \"white\", \"linecolor\": \"white\", \"ticks\": \"\"}, \"bgcolor\": \"#E5ECF6\", \"radialaxis\": {\"gridcolor\": \"white\", \"linecolor\": \"white\", \"ticks\": \"\"}}, \"scene\": {\"xaxis\": {\"backgroundcolor\": \"#E5ECF6\", \"gridcolor\": \"white\", \"gridwidth\": 2, \"linecolor\": \"white\", \"showbackground\": true, \"ticks\": \"\", \"zerolinecolor\": \"white\"}, \"yaxis\": {\"backgroundcolor\": \"#E5ECF6\", \"gridcolor\": \"white\", \"gridwidth\": 2, \"linecolor\": \"white\", \"showbackground\": true, \"ticks\": \"\", \"zerolinecolor\": \"white\"}, \"zaxis\": {\"backgroundcolor\": \"#E5ECF6\", \"gridcolor\": \"white\", \"gridwidth\": 2, \"linecolor\": \"white\", \"showbackground\": true, \"ticks\": \"\", \"zerolinecolor\": \"white\"}}, \"shapedefaults\": {\"line\": {\"color\": \"#2a3f5f\"}}, \"ternary\": {\"aaxis\": {\"gridcolor\": \"white\", \"linecolor\": \"white\", \"ticks\": \"\"}, \"baxis\": {\"gridcolor\": \"white\", \"linecolor\": \"white\", \"ticks\": \"\"}, \"bgcolor\": \"#E5ECF6\", \"caxis\": {\"gridcolor\": \"white\", \"linecolor\": \"white\", \"ticks\": \"\"}}, \"title\": {\"x\": 0.05}, \"xaxis\": {\"automargin\": true, \"gridcolor\": \"white\", \"linecolor\": \"white\", \"ticks\": \"\", \"title\": {\"standoff\": 15}, \"zerolinecolor\": \"white\", \"zerolinewidth\": 2}, \"yaxis\": {\"automargin\": true, \"gridcolor\": \"white\", \"linecolor\": \"white\", \"ticks\": \"\", \"title\": {\"standoff\": 15}, \"zerolinecolor\": \"white\", \"zerolinewidth\": 2}}}, \"title\": {\"text\": \"Number of content released by month\"}},\n",
       "                        {\"responsive\": true}\n",
       "                    ).then(function(){\n",
       "                            \n",
       "var gd = document.getElementById('9913f13e-6a0d-4981-a295-b5250a1d20d8');\n",
       "var x = new MutationObserver(function (mutations, observer) {{\n",
       "        var display = window.getComputedStyle(gd).display;\n",
       "        if (!display || display === 'none') {{\n",
       "            console.log([gd, 'removed!']);\n",
       "            Plotly.purge(gd);\n",
       "            observer.disconnect();\n",
       "        }}\n",
       "}});\n",
       "\n",
       "// Listen for the removal of the full notebook cells\n",
       "var notebookContainer = gd.closest('#notebook-container');\n",
       "if (notebookContainer) {{\n",
       "    x.observe(notebookContainer, {childList: true});\n",
       "}}\n",
       "\n",
       "// Listen for the clearing of the current output cell\n",
       "var outputEl = gd.closest('.output');\n",
       "if (outputEl) {{\n",
       "    x.observe(outputEl, {childList: true});\n",
       "}}\n",
       "\n",
       "                        })\n",
       "                };\n",
       "                });\n",
       "            </script>\n",
       "        </div>"
      ]
     },
     "metadata": {},
     "output_type": "display_data"
    }
   ],
   "source": [
    "month_releases = disney_df_copy['month_added'].value_counts().reset_index()\n",
    "month_releases = month_releases.rename(columns = {'index':'Month','month_added':'Count'})\n",
    "\n",
    "# month_releases\n",
    "bar_graph = go.Bar(x=month_releases['Month'],y=month_releases['Count'], name=\"Number of Content Added\", marker=dict(color=\"#6ad49b\"))\n",
    "data = [bar_graph]\n",
    "layout = go.Layout(title=\"Number of content released by month\", legend =dict(x=0.1, y=1.1))\n",
    "fig =go.Figure(data,layout=layout)\n",
    "fig.show()"
   ]
  },
  {
   "cell_type": "markdown",
   "metadata": {},
   "source": [
    "Disney + officially launched in the United States on November 12, 2019. This explains the intial surge in content added. "
   ]
  }
 ],
 "metadata": {
  "kernelspec": {
   "display_name": "Python 3",
   "language": "python",
   "name": "python3"
  },
  "language_info": {
   "codemirror_mode": {
    "name": "ipython",
    "version": 3
   },
   "file_extension": ".py",
   "mimetype": "text/x-python",
   "name": "python",
   "nbconvert_exporter": "python",
   "pygments_lexer": "ipython3",
   "version": "3.7.3"
  }
 },
 "nbformat": 4,
 "nbformat_minor": 2
}
