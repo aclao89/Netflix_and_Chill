{
 "cells": [
  {
   "cell_type": "code",
   "execution_count": 1,
   "metadata": {},
   "outputs": [],
   "source": [
    "import pandas as pd \n",
    "import numpy as np\n",
    "import matplotlib.pyplot as plt \n",
    "import seaborn as sns \n",
    "%matplotlib inline \n",
    "import plotly.graph_objects as go\n",
    "import plotly.express as pex\n",
    "import plotly.offline as py\n",
    "from plotly.offline import init_notebook_mode, iplot\n",
    "from plotly.subplots import make_subplots\n",
    "import calmap\n",
    "import squarify\n",
    "from wordcloud import WordCloud, STOPWORDS, ImageColorGenerator\n",
    "from collections import Counter"
   ]
  },
  {
   "cell_type": "markdown",
   "metadata": {},
   "source": [
    "# Data Wrangling"
   ]
  },
  {
   "cell_type": "code",
   "execution_count": 2,
   "metadata": {},
   "outputs": [
    {
     "data": {
      "text/html": [
       "<div>\n",
       "<style scoped>\n",
       "    .dataframe tbody tr th:only-of-type {\n",
       "        vertical-align: middle;\n",
       "    }\n",
       "\n",
       "    .dataframe tbody tr th {\n",
       "        vertical-align: top;\n",
       "    }\n",
       "\n",
       "    .dataframe thead th {\n",
       "        text-align: right;\n",
       "    }\n",
       "</style>\n",
       "<table border=\"1\" class=\"dataframe\">\n",
       "  <thead>\n",
       "    <tr style=\"text-align: right;\">\n",
       "      <th></th>\n",
       "      <th>imdb_id</th>\n",
       "      <th>title</th>\n",
       "      <th>plot</th>\n",
       "      <th>type</th>\n",
       "      <th>rated</th>\n",
       "      <th>year</th>\n",
       "      <th>released_at</th>\n",
       "      <th>added_at</th>\n",
       "      <th>runtime</th>\n",
       "      <th>genre</th>\n",
       "      <th>director</th>\n",
       "      <th>writer</th>\n",
       "      <th>actors</th>\n",
       "      <th>language</th>\n",
       "      <th>country</th>\n",
       "      <th>awards</th>\n",
       "      <th>metascore</th>\n",
       "      <th>imdb_rating</th>\n",
       "      <th>imdb_votes</th>\n",
       "    </tr>\n",
       "  </thead>\n",
       "  <tbody>\n",
       "    <tr>\n",
       "      <th>0</th>\n",
       "      <td>tt0147800</td>\n",
       "      <td>10 Things I Hate About You</td>\n",
       "      <td>A pretty, popular teenager can't go out on a d...</td>\n",
       "      <td>movie</td>\n",
       "      <td>PG-13</td>\n",
       "      <td>1999</td>\n",
       "      <td>31 Mar 1999</td>\n",
       "      <td>November 12, 2019</td>\n",
       "      <td>97 min</td>\n",
       "      <td>Comedy, Drama, Romance</td>\n",
       "      <td>Gil Junger</td>\n",
       "      <td>Karen McCullah, Kirsten Smith</td>\n",
       "      <td>Heath Ledger, Julia Stiles, Joseph Gordon-Levi...</td>\n",
       "      <td>English, French</td>\n",
       "      <td>USA</td>\n",
       "      <td>2 wins &amp; 13 nominations.</td>\n",
       "      <td>70.0</td>\n",
       "      <td>7.3</td>\n",
       "      <td>281,399</td>\n",
       "    </tr>\n",
       "    <tr>\n",
       "      <th>1</th>\n",
       "      <td>tt7019028</td>\n",
       "      <td>101 Dalmatian Street</td>\n",
       "      <td>This series follows the lives of Delilah and D...</td>\n",
       "      <td>series</td>\n",
       "      <td>NaN</td>\n",
       "      <td>2018–</td>\n",
       "      <td>25 Mar 2019</td>\n",
       "      <td>February 28, 2020</td>\n",
       "      <td>NaN</td>\n",
       "      <td>Animation, Comedy, Family</td>\n",
       "      <td>NaN</td>\n",
       "      <td>NaN</td>\n",
       "      <td>Josh Brener, Michaela Dietz, Bert Davis, Abiga...</td>\n",
       "      <td>English</td>\n",
       "      <td>UK, USA, Canada</td>\n",
       "      <td>NaN</td>\n",
       "      <td>NaN</td>\n",
       "      <td>6.2</td>\n",
       "      <td>124</td>\n",
       "    </tr>\n",
       "    <tr>\n",
       "      <th>2</th>\n",
       "      <td>tt0115433</td>\n",
       "      <td>101 Dalmatians</td>\n",
       "      <td>An evil high-fashion designer plots to steal D...</td>\n",
       "      <td>movie</td>\n",
       "      <td>G</td>\n",
       "      <td>1996</td>\n",
       "      <td>27 Nov 1996</td>\n",
       "      <td>November 12, 2019</td>\n",
       "      <td>103 min</td>\n",
       "      <td>Adventure, Comedy, Crime, Family</td>\n",
       "      <td>Stephen Herek</td>\n",
       "      <td>Dodie Smith (novel), John Hughes (screenplay)</td>\n",
       "      <td>Glenn Close, Jeff Daniels, Joely Richardson, J...</td>\n",
       "      <td>English, Spanish</td>\n",
       "      <td>USA, UK</td>\n",
       "      <td>Nominated for 1 Golden Globe. Another 3 wins &amp;...</td>\n",
       "      <td>49.0</td>\n",
       "      <td>5.7</td>\n",
       "      <td>96,739</td>\n",
       "    </tr>\n",
       "    <tr>\n",
       "      <th>3</th>\n",
       "      <td>tt0324941</td>\n",
       "      <td>101 Dalmatians 2: Patch's London Adventure</td>\n",
       "      <td>Being one of 101 takes its toll on Patch, who ...</td>\n",
       "      <td>movie</td>\n",
       "      <td>G</td>\n",
       "      <td>2002</td>\n",
       "      <td>21 Jan 2003</td>\n",
       "      <td>November 12, 2019</td>\n",
       "      <td>74 min</td>\n",
       "      <td>Animation, Adventure, Comedy, Family, Musical</td>\n",
       "      <td>Jim Kammerud, Brian Smith</td>\n",
       "      <td>Jim Kammerud (story), Dan Root (story), Garret...</td>\n",
       "      <td>Barry Bostwick, Jason Alexander, Martin Short,...</td>\n",
       "      <td>English</td>\n",
       "      <td>USA</td>\n",
       "      <td>5 wins &amp; 10 nominations.</td>\n",
       "      <td>NaN</td>\n",
       "      <td>5.8</td>\n",
       "      <td>7,299</td>\n",
       "    </tr>\n",
       "    <tr>\n",
       "      <th>4</th>\n",
       "      <td>tt0211181</td>\n",
       "      <td>102 Dalmatians</td>\n",
       "      <td>Cruella DeVil gets out of prison and goes afte...</td>\n",
       "      <td>movie</td>\n",
       "      <td>G</td>\n",
       "      <td>2000</td>\n",
       "      <td>22 Nov 2000</td>\n",
       "      <td>November 12, 2019</td>\n",
       "      <td>100 min</td>\n",
       "      <td>Adventure, Comedy, Family</td>\n",
       "      <td>Kevin Lima</td>\n",
       "      <td>Dodie Smith (novel), Kristen Buckley (story), ...</td>\n",
       "      <td>Glenn Close, Gérard Depardieu, Ioan Gruffudd, ...</td>\n",
       "      <td>English</td>\n",
       "      <td>USA, UK</td>\n",
       "      <td>Nominated for 1 Oscar. Another 1 win &amp; 7 nomin...</td>\n",
       "      <td>35.0</td>\n",
       "      <td>4.9</td>\n",
       "      <td>33,164</td>\n",
       "    </tr>\n",
       "  </tbody>\n",
       "</table>\n",
       "</div>"
      ],
      "text/plain": [
       "     imdb_id                                       title  \\\n",
       "0  tt0147800                  10 Things I Hate About You   \n",
       "1  tt7019028                        101 Dalmatian Street   \n",
       "2  tt0115433                              101 Dalmatians   \n",
       "3  tt0324941  101 Dalmatians 2: Patch's London Adventure   \n",
       "4  tt0211181                              102 Dalmatians   \n",
       "\n",
       "                                                plot    type  rated   year  \\\n",
       "0  A pretty, popular teenager can't go out on a d...   movie  PG-13   1999   \n",
       "1  This series follows the lives of Delilah and D...  series    NaN  2018–   \n",
       "2  An evil high-fashion designer plots to steal D...   movie      G   1996   \n",
       "3  Being one of 101 takes its toll on Patch, who ...   movie      G   2002   \n",
       "4  Cruella DeVil gets out of prison and goes afte...   movie      G   2000   \n",
       "\n",
       "   released_at           added_at  runtime  \\\n",
       "0  31 Mar 1999  November 12, 2019   97 min   \n",
       "1  25 Mar 2019  February 28, 2020      NaN   \n",
       "2  27 Nov 1996  November 12, 2019  103 min   \n",
       "3  21 Jan 2003  November 12, 2019   74 min   \n",
       "4  22 Nov 2000  November 12, 2019  100 min   \n",
       "\n",
       "                                           genre                   director  \\\n",
       "0                         Comedy, Drama, Romance                 Gil Junger   \n",
       "1                      Animation, Comedy, Family                        NaN   \n",
       "2               Adventure, Comedy, Crime, Family              Stephen Herek   \n",
       "3  Animation, Adventure, Comedy, Family, Musical  Jim Kammerud, Brian Smith   \n",
       "4                      Adventure, Comedy, Family                 Kevin Lima   \n",
       "\n",
       "                                              writer  \\\n",
       "0                      Karen McCullah, Kirsten Smith   \n",
       "1                                                NaN   \n",
       "2      Dodie Smith (novel), John Hughes (screenplay)   \n",
       "3  Jim Kammerud (story), Dan Root (story), Garret...   \n",
       "4  Dodie Smith (novel), Kristen Buckley (story), ...   \n",
       "\n",
       "                                              actors          language  \\\n",
       "0  Heath Ledger, Julia Stiles, Joseph Gordon-Levi...   English, French   \n",
       "1  Josh Brener, Michaela Dietz, Bert Davis, Abiga...           English   \n",
       "2  Glenn Close, Jeff Daniels, Joely Richardson, J...  English, Spanish   \n",
       "3  Barry Bostwick, Jason Alexander, Martin Short,...           English   \n",
       "4  Glenn Close, Gérard Depardieu, Ioan Gruffudd, ...           English   \n",
       "\n",
       "           country                                             awards  \\\n",
       "0              USA                           2 wins & 13 nominations.   \n",
       "1  UK, USA, Canada                                                NaN   \n",
       "2          USA, UK  Nominated for 1 Golden Globe. Another 3 wins &...   \n",
       "3              USA                           5 wins & 10 nominations.   \n",
       "4          USA, UK  Nominated for 1 Oscar. Another 1 win & 7 nomin...   \n",
       "\n",
       "   metascore  imdb_rating imdb_votes  \n",
       "0       70.0          7.3    281,399  \n",
       "1        NaN          6.2        124  \n",
       "2       49.0          5.7     96,739  \n",
       "3        NaN          5.8      7,299  \n",
       "4       35.0          4.9     33,164  "
      ]
     },
     "execution_count": 2,
     "metadata": {},
     "output_type": "execute_result"
    }
   ],
   "source": [
    "disney_plus = pd.read_csv('Resources/disney_plus_shows.csv')\n",
    "\n",
    "disney_plus.head()"
   ]
  },
  {
   "cell_type": "code",
   "execution_count": 3,
   "metadata": {},
   "outputs": [
    {
     "data": {
      "text/plain": [
       "(954, 19)"
      ]
     },
     "execution_count": 3,
     "metadata": {},
     "output_type": "execute_result"
    }
   ],
   "source": [
    "disney_plus.shape"
   ]
  },
  {
   "cell_type": "code",
   "execution_count": 4,
   "metadata": {},
   "outputs": [
    {
     "data": {
      "text/html": [
       "<div>\n",
       "<style scoped>\n",
       "    .dataframe tbody tr th:only-of-type {\n",
       "        vertical-align: middle;\n",
       "    }\n",
       "\n",
       "    .dataframe tbody tr th {\n",
       "        vertical-align: top;\n",
       "    }\n",
       "\n",
       "    .dataframe thead th {\n",
       "        text-align: right;\n",
       "    }\n",
       "</style>\n",
       "<table border=\"1\" class=\"dataframe\">\n",
       "  <thead>\n",
       "    <tr style=\"text-align: right;\">\n",
       "      <th></th>\n",
       "      <th>title</th>\n",
       "      <th>type</th>\n",
       "      <th>rated</th>\n",
       "      <th>released_at</th>\n",
       "      <th>runtime</th>\n",
       "      <th>added_at</th>\n",
       "      <th>genre</th>\n",
       "      <th>director</th>\n",
       "      <th>actors</th>\n",
       "      <th>country</th>\n",
       "    </tr>\n",
       "  </thead>\n",
       "  <tbody>\n",
       "    <tr>\n",
       "      <th>0</th>\n",
       "      <td>10 Things I Hate About You</td>\n",
       "      <td>movie</td>\n",
       "      <td>PG-13</td>\n",
       "      <td>31 Mar 1999</td>\n",
       "      <td>97 min</td>\n",
       "      <td>November 12, 2019</td>\n",
       "      <td>Comedy, Drama, Romance</td>\n",
       "      <td>Gil Junger</td>\n",
       "      <td>Heath Ledger, Julia Stiles, Joseph Gordon-Levi...</td>\n",
       "      <td>USA</td>\n",
       "    </tr>\n",
       "    <tr>\n",
       "      <th>1</th>\n",
       "      <td>101 Dalmatian Street</td>\n",
       "      <td>series</td>\n",
       "      <td>NaN</td>\n",
       "      <td>25 Mar 2019</td>\n",
       "      <td>NaN</td>\n",
       "      <td>February 28, 2020</td>\n",
       "      <td>Animation, Comedy, Family</td>\n",
       "      <td>NaN</td>\n",
       "      <td>Josh Brener, Michaela Dietz, Bert Davis, Abiga...</td>\n",
       "      <td>UK, USA, Canada</td>\n",
       "    </tr>\n",
       "    <tr>\n",
       "      <th>2</th>\n",
       "      <td>101 Dalmatians</td>\n",
       "      <td>movie</td>\n",
       "      <td>G</td>\n",
       "      <td>27 Nov 1996</td>\n",
       "      <td>103 min</td>\n",
       "      <td>November 12, 2019</td>\n",
       "      <td>Adventure, Comedy, Crime, Family</td>\n",
       "      <td>Stephen Herek</td>\n",
       "      <td>Glenn Close, Jeff Daniels, Joely Richardson, J...</td>\n",
       "      <td>USA, UK</td>\n",
       "    </tr>\n",
       "    <tr>\n",
       "      <th>3</th>\n",
       "      <td>101 Dalmatians 2: Patch's London Adventure</td>\n",
       "      <td>movie</td>\n",
       "      <td>G</td>\n",
       "      <td>21 Jan 2003</td>\n",
       "      <td>74 min</td>\n",
       "      <td>November 12, 2019</td>\n",
       "      <td>Animation, Adventure, Comedy, Family, Musical</td>\n",
       "      <td>Jim Kammerud, Brian Smith</td>\n",
       "      <td>Barry Bostwick, Jason Alexander, Martin Short,...</td>\n",
       "      <td>USA</td>\n",
       "    </tr>\n",
       "    <tr>\n",
       "      <th>4</th>\n",
       "      <td>102 Dalmatians</td>\n",
       "      <td>movie</td>\n",
       "      <td>G</td>\n",
       "      <td>22 Nov 2000</td>\n",
       "      <td>100 min</td>\n",
       "      <td>November 12, 2019</td>\n",
       "      <td>Adventure, Comedy, Family</td>\n",
       "      <td>Kevin Lima</td>\n",
       "      <td>Glenn Close, Gérard Depardieu, Ioan Gruffudd, ...</td>\n",
       "      <td>USA, UK</td>\n",
       "    </tr>\n",
       "  </tbody>\n",
       "</table>\n",
       "</div>"
      ],
      "text/plain": [
       "                                        title    type  rated  released_at  \\\n",
       "0                  10 Things I Hate About You   movie  PG-13  31 Mar 1999   \n",
       "1                        101 Dalmatian Street  series    NaN  25 Mar 2019   \n",
       "2                              101 Dalmatians   movie      G  27 Nov 1996   \n",
       "3  101 Dalmatians 2: Patch's London Adventure   movie      G  21 Jan 2003   \n",
       "4                              102 Dalmatians   movie      G  22 Nov 2000   \n",
       "\n",
       "   runtime           added_at                                          genre  \\\n",
       "0   97 min  November 12, 2019                         Comedy, Drama, Romance   \n",
       "1      NaN  February 28, 2020                      Animation, Comedy, Family   \n",
       "2  103 min  November 12, 2019               Adventure, Comedy, Crime, Family   \n",
       "3   74 min  November 12, 2019  Animation, Adventure, Comedy, Family, Musical   \n",
       "4  100 min  November 12, 2019                      Adventure, Comedy, Family   \n",
       "\n",
       "                    director  \\\n",
       "0                 Gil Junger   \n",
       "1                        NaN   \n",
       "2              Stephen Herek   \n",
       "3  Jim Kammerud, Brian Smith   \n",
       "4                 Kevin Lima   \n",
       "\n",
       "                                              actors          country  \n",
       "0  Heath Ledger, Julia Stiles, Joseph Gordon-Levi...              USA  \n",
       "1  Josh Brener, Michaela Dietz, Bert Davis, Abiga...  UK, USA, Canada  \n",
       "2  Glenn Close, Jeff Daniels, Joely Richardson, J...          USA, UK  \n",
       "3  Barry Bostwick, Jason Alexander, Martin Short,...              USA  \n",
       "4  Glenn Close, Gérard Depardieu, Ioan Gruffudd, ...          USA, UK  "
      ]
     },
     "execution_count": 4,
     "metadata": {},
     "output_type": "execute_result"
    }
   ],
   "source": [
    "disney_df = disney_plus[['title','type','rated','released_at','runtime','added_at', 'genre','director','actors','country']]\n",
    "\n",
    "disney_df.head()"
   ]
  },
  {
   "cell_type": "code",
   "execution_count": 5,
   "metadata": {},
   "outputs": [
    {
     "name": "stderr",
     "output_type": "stream",
     "text": [
      "C:\\Users\\alao8\\Anaconda3\\lib\\site-packages\\ipykernel_launcher.py:1: SettingWithCopyWarning:\n",
      "\n",
      "\n",
      "A value is trying to be set on a copy of a slice from a DataFrame.\n",
      "Try using .loc[row_indexer,col_indexer] = value instead\n",
      "\n",
      "See the caveats in the documentation: http://pandas.pydata.org/pandas-docs/stable/indexing.html#indexing-view-versus-copy\n",
      "\n"
     ]
    },
    {
     "data": {
      "text/html": [
       "<div>\n",
       "<style scoped>\n",
       "    .dataframe tbody tr th:only-of-type {\n",
       "        vertical-align: middle;\n",
       "    }\n",
       "\n",
       "    .dataframe tbody tr th {\n",
       "        vertical-align: top;\n",
       "    }\n",
       "\n",
       "    .dataframe thead th {\n",
       "        text-align: right;\n",
       "    }\n",
       "</style>\n",
       "<table border=\"1\" class=\"dataframe\">\n",
       "  <thead>\n",
       "    <tr style=\"text-align: right;\">\n",
       "      <th></th>\n",
       "      <th>title</th>\n",
       "      <th>type</th>\n",
       "      <th>rated</th>\n",
       "      <th>released_at</th>\n",
       "      <th>runtime</th>\n",
       "      <th>added_at</th>\n",
       "      <th>genre</th>\n",
       "      <th>director</th>\n",
       "      <th>actors</th>\n",
       "      <th>country</th>\n",
       "    </tr>\n",
       "  </thead>\n",
       "  <tbody>\n",
       "    <tr>\n",
       "      <th>0</th>\n",
       "      <td>10 Things I Hate About You</td>\n",
       "      <td>movie</td>\n",
       "      <td>PG-13</td>\n",
       "      <td>31 Mar 1999</td>\n",
       "      <td>97 min</td>\n",
       "      <td>2019-11-12</td>\n",
       "      <td>Comedy, Drama, Romance</td>\n",
       "      <td>Gil Junger</td>\n",
       "      <td>Heath Ledger, Julia Stiles, Joseph Gordon-Levi...</td>\n",
       "      <td>USA</td>\n",
       "    </tr>\n",
       "    <tr>\n",
       "      <th>1</th>\n",
       "      <td>101 Dalmatian Street</td>\n",
       "      <td>series</td>\n",
       "      <td>NaN</td>\n",
       "      <td>25 Mar 2019</td>\n",
       "      <td>NaN</td>\n",
       "      <td>2020-02-28</td>\n",
       "      <td>Animation, Comedy, Family</td>\n",
       "      <td>NaN</td>\n",
       "      <td>Josh Brener, Michaela Dietz, Bert Davis, Abiga...</td>\n",
       "      <td>UK, USA, Canada</td>\n",
       "    </tr>\n",
       "    <tr>\n",
       "      <th>2</th>\n",
       "      <td>101 Dalmatians</td>\n",
       "      <td>movie</td>\n",
       "      <td>G</td>\n",
       "      <td>27 Nov 1996</td>\n",
       "      <td>103 min</td>\n",
       "      <td>2019-11-12</td>\n",
       "      <td>Adventure, Comedy, Crime, Family</td>\n",
       "      <td>Stephen Herek</td>\n",
       "      <td>Glenn Close, Jeff Daniels, Joely Richardson, J...</td>\n",
       "      <td>USA, UK</td>\n",
       "    </tr>\n",
       "    <tr>\n",
       "      <th>3</th>\n",
       "      <td>101 Dalmatians 2: Patch's London Adventure</td>\n",
       "      <td>movie</td>\n",
       "      <td>G</td>\n",
       "      <td>21 Jan 2003</td>\n",
       "      <td>74 min</td>\n",
       "      <td>2019-11-12</td>\n",
       "      <td>Animation, Adventure, Comedy, Family, Musical</td>\n",
       "      <td>Jim Kammerud, Brian Smith</td>\n",
       "      <td>Barry Bostwick, Jason Alexander, Martin Short,...</td>\n",
       "      <td>USA</td>\n",
       "    </tr>\n",
       "    <tr>\n",
       "      <th>4</th>\n",
       "      <td>102 Dalmatians</td>\n",
       "      <td>movie</td>\n",
       "      <td>G</td>\n",
       "      <td>22 Nov 2000</td>\n",
       "      <td>100 min</td>\n",
       "      <td>2019-11-12</td>\n",
       "      <td>Adventure, Comedy, Family</td>\n",
       "      <td>Kevin Lima</td>\n",
       "      <td>Glenn Close, Gérard Depardieu, Ioan Gruffudd, ...</td>\n",
       "      <td>USA, UK</td>\n",
       "    </tr>\n",
       "  </tbody>\n",
       "</table>\n",
       "</div>"
      ],
      "text/plain": [
       "                                        title    type  rated  released_at  \\\n",
       "0                  10 Things I Hate About You   movie  PG-13  31 Mar 1999   \n",
       "1                        101 Dalmatian Street  series    NaN  25 Mar 2019   \n",
       "2                              101 Dalmatians   movie      G  27 Nov 1996   \n",
       "3  101 Dalmatians 2: Patch's London Adventure   movie      G  21 Jan 2003   \n",
       "4                              102 Dalmatians   movie      G  22 Nov 2000   \n",
       "\n",
       "   runtime   added_at                                          genre  \\\n",
       "0   97 min 2019-11-12                         Comedy, Drama, Romance   \n",
       "1      NaN 2020-02-28                      Animation, Comedy, Family   \n",
       "2  103 min 2019-11-12               Adventure, Comedy, Crime, Family   \n",
       "3   74 min 2019-11-12  Animation, Adventure, Comedy, Family, Musical   \n",
       "4  100 min 2019-11-12                      Adventure, Comedy, Family   \n",
       "\n",
       "                    director  \\\n",
       "0                 Gil Junger   \n",
       "1                        NaN   \n",
       "2              Stephen Herek   \n",
       "3  Jim Kammerud, Brian Smith   \n",
       "4                 Kevin Lima   \n",
       "\n",
       "                                              actors          country  \n",
       "0  Heath Ledger, Julia Stiles, Joseph Gordon-Levi...              USA  \n",
       "1  Josh Brener, Michaela Dietz, Bert Davis, Abiga...  UK, USA, Canada  \n",
       "2  Glenn Close, Jeff Daniels, Joely Richardson, J...          USA, UK  \n",
       "3  Barry Bostwick, Jason Alexander, Martin Short,...              USA  \n",
       "4  Glenn Close, Gérard Depardieu, Ioan Gruffudd, ...          USA, UK  "
      ]
     },
     "execution_count": 5,
     "metadata": {},
     "output_type": "execute_result"
    }
   ],
   "source": [
    "disney_df['added_at'] = pd.to_datetime(disney_df['added_at'])\n",
    "\n",
    "disney_df.head()"
   ]
  },
  {
   "cell_type": "code",
   "execution_count": 6,
   "metadata": {},
   "outputs": [
    {
     "data": {
      "text/plain": [
       "title           84\n",
       "type            84\n",
       "rated          235\n",
       "released_at    105\n",
       "runtime        140\n",
       "added_at         0\n",
       "genre           94\n",
       "director       286\n",
       "actors         109\n",
       "country        108\n",
       "dtype: int64"
      ]
     },
     "execution_count": 6,
     "metadata": {},
     "output_type": "execute_result"
    }
   ],
   "source": [
    "disney_df.isnull().sum()"
   ]
  },
  {
   "cell_type": "code",
   "execution_count": 7,
   "metadata": {},
   "outputs": [
    {
     "data": {
      "text/plain": [
       "(954, 10)"
      ]
     },
     "execution_count": 7,
     "metadata": {},
     "output_type": "execute_result"
    }
   ],
   "source": [
    "disney_df.shape"
   ]
  },
  {
   "cell_type": "code",
   "execution_count": 8,
   "metadata": {},
   "outputs": [
    {
     "data": {
      "text/plain": [
       "(643, 10)"
      ]
     },
     "execution_count": 8,
     "metadata": {},
     "output_type": "execute_result"
    }
   ],
   "source": [
    "disney_df = disney_df.dropna(subset=['director', 'actors','country'], how='any')\n",
    "disney_df.shape"
   ]
  },
  {
   "cell_type": "code",
   "execution_count": 9,
   "metadata": {},
   "outputs": [
    {
     "data": {
      "text/plain": [
       "title           0\n",
       "type            0\n",
       "rated          65\n",
       "released_at     3\n",
       "runtime         9\n",
       "added_at        0\n",
       "genre           2\n",
       "director        0\n",
       "actors          0\n",
       "country         0\n",
       "dtype: int64"
      ]
     },
     "execution_count": 9,
     "metadata": {},
     "output_type": "execute_result"
    }
   ],
   "source": [
    "disney_df.isnull().sum()"
   ]
  },
  {
   "cell_type": "code",
   "execution_count": 10,
   "metadata": {},
   "outputs": [
    {
     "data": {
      "text/plain": [
       "title                  object\n",
       "type                   object\n",
       "rated                  object\n",
       "released_at            object\n",
       "runtime                object\n",
       "added_at       datetime64[ns]\n",
       "genre                  object\n",
       "director               object\n",
       "actors                 object\n",
       "country                object\n",
       "dtype: object"
      ]
     },
     "execution_count": 10,
     "metadata": {},
     "output_type": "execute_result"
    }
   ],
   "source": [
    "disney_df.dtypes"
   ]
  },
  {
   "cell_type": "code",
   "execution_count": 11,
   "metadata": {},
   "outputs": [
    {
     "data": {
      "text/html": [
       "<div>\n",
       "<style scoped>\n",
       "    .dataframe tbody tr th:only-of-type {\n",
       "        vertical-align: middle;\n",
       "    }\n",
       "\n",
       "    .dataframe tbody tr th {\n",
       "        vertical-align: top;\n",
       "    }\n",
       "\n",
       "    .dataframe thead th {\n",
       "        text-align: right;\n",
       "    }\n",
       "</style>\n",
       "<table border=\"1\" class=\"dataframe\">\n",
       "  <thead>\n",
       "    <tr style=\"text-align: right;\">\n",
       "      <th></th>\n",
       "      <th>title</th>\n",
       "      <th>show_type</th>\n",
       "      <th>film_rating</th>\n",
       "      <th>released_at</th>\n",
       "      <th>runtime</th>\n",
       "      <th>added_at</th>\n",
       "      <th>genre</th>\n",
       "      <th>director</th>\n",
       "      <th>cast</th>\n",
       "      <th>country</th>\n",
       "    </tr>\n",
       "  </thead>\n",
       "  <tbody>\n",
       "    <tr>\n",
       "      <th>0</th>\n",
       "      <td>10 Things I Hate About You</td>\n",
       "      <td>movie</td>\n",
       "      <td>PG-13</td>\n",
       "      <td>31 Mar 1999</td>\n",
       "      <td>97 min</td>\n",
       "      <td>2019-11-12</td>\n",
       "      <td>Comedy, Drama, Romance</td>\n",
       "      <td>Gil Junger</td>\n",
       "      <td>Heath Ledger, Julia Stiles, Joseph Gordon-Levi...</td>\n",
       "      <td>USA</td>\n",
       "    </tr>\n",
       "    <tr>\n",
       "      <th>2</th>\n",
       "      <td>101 Dalmatians</td>\n",
       "      <td>movie</td>\n",
       "      <td>G</td>\n",
       "      <td>27 Nov 1996</td>\n",
       "      <td>103 min</td>\n",
       "      <td>2019-11-12</td>\n",
       "      <td>Adventure, Comedy, Crime, Family</td>\n",
       "      <td>Stephen Herek</td>\n",
       "      <td>Glenn Close, Jeff Daniels, Joely Richardson, J...</td>\n",
       "      <td>USA, UK</td>\n",
       "    </tr>\n",
       "    <tr>\n",
       "      <th>3</th>\n",
       "      <td>101 Dalmatians 2: Patch's London Adventure</td>\n",
       "      <td>movie</td>\n",
       "      <td>G</td>\n",
       "      <td>21 Jan 2003</td>\n",
       "      <td>74 min</td>\n",
       "      <td>2019-11-12</td>\n",
       "      <td>Animation, Adventure, Comedy, Family, Musical</td>\n",
       "      <td>Jim Kammerud, Brian Smith</td>\n",
       "      <td>Barry Bostwick, Jason Alexander, Martin Short,...</td>\n",
       "      <td>USA</td>\n",
       "    </tr>\n",
       "    <tr>\n",
       "      <th>4</th>\n",
       "      <td>102 Dalmatians</td>\n",
       "      <td>movie</td>\n",
       "      <td>G</td>\n",
       "      <td>22 Nov 2000</td>\n",
       "      <td>100 min</td>\n",
       "      <td>2019-11-12</td>\n",
       "      <td>Adventure, Comedy, Family</td>\n",
       "      <td>Kevin Lima</td>\n",
       "      <td>Glenn Close, Gérard Depardieu, Ioan Gruffudd, ...</td>\n",
       "      <td>USA, UK</td>\n",
       "    </tr>\n",
       "    <tr>\n",
       "      <th>5</th>\n",
       "      <td>12 Dates of Christmas</td>\n",
       "      <td>movie</td>\n",
       "      <td>PG</td>\n",
       "      <td>11 Dec 2011</td>\n",
       "      <td>90 min</td>\n",
       "      <td>2019-11-12</td>\n",
       "      <td>Comedy, Fantasy, Romance</td>\n",
       "      <td>James Hayman</td>\n",
       "      <td>Laura Miyata, Vijay Mehta, Amy Smart, Audrey D...</td>\n",
       "      <td>USA</td>\n",
       "    </tr>\n",
       "    <tr>\n",
       "      <th>6</th>\n",
       "      <td>20,000 Leagues Under the Sea</td>\n",
       "      <td>movie</td>\n",
       "      <td>G</td>\n",
       "      <td>20 Jul 1955</td>\n",
       "      <td>127 min</td>\n",
       "      <td>2019-11-12</td>\n",
       "      <td>Adventure, Drama, Family, Fantasy, Sci-Fi</td>\n",
       "      <td>Richard Fleischer</td>\n",
       "      <td>Kirk Douglas, James Mason, Paul Lukas, Peter L...</td>\n",
       "      <td>USA</td>\n",
       "    </tr>\n",
       "    <tr>\n",
       "      <th>7</th>\n",
       "      <td>A Bug's Life</td>\n",
       "      <td>movie</td>\n",
       "      <td>G</td>\n",
       "      <td>25 Nov 1998</td>\n",
       "      <td>95 min</td>\n",
       "      <td>2019-11-12</td>\n",
       "      <td>Animation, Adventure, Comedy, Family</td>\n",
       "      <td>John Lasseter, Andrew Stanton(co-director)</td>\n",
       "      <td>Dave Foley, Kevin Spacey, Julia Louis-Dreyfus,...</td>\n",
       "      <td>USA</td>\n",
       "    </tr>\n",
       "    <tr>\n",
       "      <th>9</th>\n",
       "      <td>A Goofy Movie</td>\n",
       "      <td>movie</td>\n",
       "      <td>G</td>\n",
       "      <td>07 Apr 1995</td>\n",
       "      <td>78 min</td>\n",
       "      <td>2019-11-12</td>\n",
       "      <td>Animation, Adventure, Comedy, Family, Musical,...</td>\n",
       "      <td>Kevin Lima</td>\n",
       "      <td>Bill Farmer, Jason Marsden, Jim Cummings, Kell...</td>\n",
       "      <td>USA, Australia, France, Canada</td>\n",
       "    </tr>\n",
       "    <tr>\n",
       "      <th>10</th>\n",
       "      <td>A Kid in King Arthur's Court</td>\n",
       "      <td>movie</td>\n",
       "      <td>PG</td>\n",
       "      <td>11 Aug 1995</td>\n",
       "      <td>89 min</td>\n",
       "      <td>2019-11-12</td>\n",
       "      <td>Adventure, Comedy, Family, Fantasy, Romance</td>\n",
       "      <td>Michael Gottlieb</td>\n",
       "      <td>Thomas Ian Nicholas, Joss Ackland, Art Malik, ...</td>\n",
       "      <td>USA, Hungary, UK</td>\n",
       "    </tr>\n",
       "    <tr>\n",
       "      <th>11</th>\n",
       "      <td>A Knight for a Day</td>\n",
       "      <td>movie</td>\n",
       "      <td>APPROVED</td>\n",
       "      <td>08 Mar 1946</td>\n",
       "      <td>7 min</td>\n",
       "      <td>2019-11-12</td>\n",
       "      <td>Animation, Short, Comedy</td>\n",
       "      <td>Jack Hannah</td>\n",
       "      <td>Pinto Colvig</td>\n",
       "      <td>USA</td>\n",
       "    </tr>\n",
       "    <tr>\n",
       "      <th>12</th>\n",
       "      <td>A Ring of Endless Light</td>\n",
       "      <td>movie</td>\n",
       "      <td>TV-G</td>\n",
       "      <td>23 Aug 2002</td>\n",
       "      <td>88 min</td>\n",
       "      <td>2019-11-12</td>\n",
       "      <td>Drama, Family, Romance</td>\n",
       "      <td>Greg Beeman</td>\n",
       "      <td>Mischa Barton, Ryan Merriman, Jared Padalecki,...</td>\n",
       "      <td>USA</td>\n",
       "    </tr>\n",
       "    <tr>\n",
       "      <th>13</th>\n",
       "      <td>A Tale of Two Critters</td>\n",
       "      <td>movie</td>\n",
       "      <td>G</td>\n",
       "      <td>22 Jun 1977</td>\n",
       "      <td>48 min</td>\n",
       "      <td>2020-04-03</td>\n",
       "      <td>Adventure, Family</td>\n",
       "      <td>Jack Speirs</td>\n",
       "      <td>Mayf Nutter</td>\n",
       "      <td>USA</td>\n",
       "    </tr>\n",
       "    <tr>\n",
       "      <th>14</th>\n",
       "      <td>A Wrinkle in Time</td>\n",
       "      <td>movie</td>\n",
       "      <td>PG</td>\n",
       "      <td>09 Mar 2018</td>\n",
       "      <td>109 min</td>\n",
       "      <td>2020-03-25</td>\n",
       "      <td>Adventure, Family, Fantasy, Sci-Fi</td>\n",
       "      <td>Ava DuVernay</td>\n",
       "      <td>Storm Reid, Oprah Winfrey, Reese Witherspoon, ...</td>\n",
       "      <td>USA</td>\n",
       "    </tr>\n",
       "    <tr>\n",
       "      <th>15</th>\n",
       "      <td>Aladdin</td>\n",
       "      <td>movie</td>\n",
       "      <td>PG</td>\n",
       "      <td>24 May 2019</td>\n",
       "      <td>128 min</td>\n",
       "      <td>2020-01-08</td>\n",
       "      <td>Adventure, Family, Fantasy, Musical, Romance</td>\n",
       "      <td>Guy Ritchie</td>\n",
       "      <td>Will Smith, Mena Massoud, Naomi Scott, Marwan ...</td>\n",
       "      <td>USA</td>\n",
       "    </tr>\n",
       "    <tr>\n",
       "      <th>16</th>\n",
       "      <td>Aladdin</td>\n",
       "      <td>movie</td>\n",
       "      <td>G</td>\n",
       "      <td>25 Nov 1992</td>\n",
       "      <td>90 min</td>\n",
       "      <td>2019-11-12</td>\n",
       "      <td>Animation, Adventure, Comedy, Family, Fantasy,...</td>\n",
       "      <td>Ron Clements, John Musker</td>\n",
       "      <td>Scott Weinger, Robin Williams, Linda Larkin, J...</td>\n",
       "      <td>USA</td>\n",
       "    </tr>\n",
       "    <tr>\n",
       "      <th>17</th>\n",
       "      <td>Aladdin and the King of Thieves</td>\n",
       "      <td>movie</td>\n",
       "      <td>Not Rated</td>\n",
       "      <td>13 Aug 1996</td>\n",
       "      <td>81 min</td>\n",
       "      <td>2019-11-12</td>\n",
       "      <td>Animation, Adventure, Comedy, Family, Fantasy,...</td>\n",
       "      <td>Tad Stones</td>\n",
       "      <td>Val Bettin, Jim Cummings, Gilbert Gottfried, L...</td>\n",
       "      <td>USA</td>\n",
       "    </tr>\n",
       "    <tr>\n",
       "      <th>18</th>\n",
       "      <td>Aladdin and the Return of Jafar</td>\n",
       "      <td>movie</td>\n",
       "      <td>G</td>\n",
       "      <td>20 May 1994</td>\n",
       "      <td>69 min</td>\n",
       "      <td>2019-11-12</td>\n",
       "      <td>Animation, Adventure, Comedy, Family, Fantasy,...</td>\n",
       "      <td>Toby Shelton, Tad Stones, Alan Zaslove</td>\n",
       "      <td>Jason Alexander, Jonathan Freeman, Jeff Bennet...</td>\n",
       "      <td>USA</td>\n",
       "    </tr>\n",
       "    <tr>\n",
       "      <th>19</th>\n",
       "      <td>Alice in Wonderland</td>\n",
       "      <td>movie</td>\n",
       "      <td>G</td>\n",
       "      <td>14 Sep 1951</td>\n",
       "      <td>75 min</td>\n",
       "      <td>2019-11-12</td>\n",
       "      <td>Animation, Adventure, Family, Fantasy, Musical</td>\n",
       "      <td>Clyde Geronimi, Wilfred Jackson, Hamilton Luske</td>\n",
       "      <td>Kathryn Beaumont, Ed Wynn, Richard Haydn, Ster...</td>\n",
       "      <td>USA</td>\n",
       "    </tr>\n",
       "    <tr>\n",
       "      <th>20</th>\n",
       "      <td>Alice in Wonderland</td>\n",
       "      <td>movie</td>\n",
       "      <td>PG</td>\n",
       "      <td>05 Mar 2010</td>\n",
       "      <td>108 min</td>\n",
       "      <td>2019-11-12</td>\n",
       "      <td>Adventure, Family, Fantasy</td>\n",
       "      <td>Tim Burton</td>\n",
       "      <td>Johnny Depp, Mia Wasikowska, Helena Bonham Car...</td>\n",
       "      <td>USA</td>\n",
       "    </tr>\n",
       "    <tr>\n",
       "      <th>21</th>\n",
       "      <td>Aliens of the Deep</td>\n",
       "      <td>movie</td>\n",
       "      <td>G</td>\n",
       "      <td>25 Aug 2005</td>\n",
       "      <td>100 min</td>\n",
       "      <td>2019-11-12</td>\n",
       "      <td>Documentary, Family</td>\n",
       "      <td>James Cameron, Steven Quale</td>\n",
       "      <td>Anatoly M. Sagalevitch, Genya Chernaiev, Victo...</td>\n",
       "      <td>USA</td>\n",
       "    </tr>\n",
       "    <tr>\n",
       "      <th>22</th>\n",
       "      <td>All in a Nutshell</td>\n",
       "      <td>movie</td>\n",
       "      <td>Approved</td>\n",
       "      <td>02 Sep 1949</td>\n",
       "      <td>7 min</td>\n",
       "      <td>2020-04-03</td>\n",
       "      <td>Family, Comedy, Animation, Short</td>\n",
       "      <td>Jack Hannah</td>\n",
       "      <td>Dessie Flynn, James MacDonald, Clarence Nash</td>\n",
       "      <td>USA</td>\n",
       "    </tr>\n",
       "    <tr>\n",
       "      <th>23</th>\n",
       "      <td>Alley Cats Strike</td>\n",
       "      <td>movie</td>\n",
       "      <td>TV-G</td>\n",
       "      <td>18 Mar 2000</td>\n",
       "      <td>103 min</td>\n",
       "      <td>2019-11-12</td>\n",
       "      <td>Drama, Family, Sport</td>\n",
       "      <td>Rod Daniel</td>\n",
       "      <td>Kyle Schmid, Robert Ri'chard, Kaley Cuoco, Mim...</td>\n",
       "      <td>USA, Canada</td>\n",
       "    </tr>\n",
       "    <tr>\n",
       "      <th>24</th>\n",
       "      <td>Almost Angels</td>\n",
       "      <td>movie</td>\n",
       "      <td>Not Rated</td>\n",
       "      <td>26 Sep 1962</td>\n",
       "      <td>93 min</td>\n",
       "      <td>2019-11-12</td>\n",
       "      <td>Comedy, Family, Music</td>\n",
       "      <td>Steve Previn</td>\n",
       "      <td>Vincent Winter, Sean Scully, Peter Weck, Hans ...</td>\n",
       "      <td>USA</td>\n",
       "    </tr>\n",
       "    <tr>\n",
       "      <th>25</th>\n",
       "      <td>America's Heart &amp; Soul</td>\n",
       "      <td>movie</td>\n",
       "      <td>PG</td>\n",
       "      <td>02 Jul 2004</td>\n",
       "      <td>84 min</td>\n",
       "      <td>2019-11-12</td>\n",
       "      <td>Documentary</td>\n",
       "      <td>Louie Schwartzberg</td>\n",
       "      <td>George Woodard, Charles Jimmie Sr., The Vasque...</td>\n",
       "      <td>USA</td>\n",
       "    </tr>\n",
       "    <tr>\n",
       "      <th>27</th>\n",
       "      <td>Amy</td>\n",
       "      <td>movie</td>\n",
       "      <td>G</td>\n",
       "      <td>20 Mar 1981</td>\n",
       "      <td>100 min</td>\n",
       "      <td>2019-11-12</td>\n",
       "      <td>Family, Drama</td>\n",
       "      <td>Vincent McEveety</td>\n",
       "      <td>Jenny Agutter, Barry Newman, Kathleen Nolan, C...</td>\n",
       "      <td>USA</td>\n",
       "    </tr>\n",
       "    <tr>\n",
       "      <th>28</th>\n",
       "      <td>An Extremely Goofy Movie</td>\n",
       "      <td>movie</td>\n",
       "      <td>G</td>\n",
       "      <td>29 Feb 2000</td>\n",
       "      <td>79 min</td>\n",
       "      <td>2019-11-12</td>\n",
       "      <td>Animation, Comedy, Family, Sport</td>\n",
       "      <td>Douglas McCarthy</td>\n",
       "      <td>Bill Farmer, Jason Marsden, Jeff Bennett, Jim ...</td>\n",
       "      <td>USA, Australia</td>\n",
       "    </tr>\n",
       "    <tr>\n",
       "      <th>30</th>\n",
       "      <td>Annie</td>\n",
       "      <td>movie</td>\n",
       "      <td>UNRATED</td>\n",
       "      <td>07 Nov 1999</td>\n",
       "      <td>90 min</td>\n",
       "      <td>2019-11-12</td>\n",
       "      <td>Family, Comedy, Musical</td>\n",
       "      <td>Rob Marshall</td>\n",
       "      <td>Kathy Bates, Victor Garber, Alan Cumming, Audr...</td>\n",
       "      <td>USA</td>\n",
       "    </tr>\n",
       "    <tr>\n",
       "      <th>31</th>\n",
       "      <td>Apollo: Missions to the Moon</td>\n",
       "      <td>movie</td>\n",
       "      <td>Not Rated</td>\n",
       "      <td>07 Jul 2019</td>\n",
       "      <td>94 min</td>\n",
       "      <td>2019-11-12</td>\n",
       "      <td>History</td>\n",
       "      <td>Tom Jennings</td>\n",
       "      <td>Buzz Aldrin, Bill Anders, Neil Armstrong, Fran...</td>\n",
       "      <td>USA</td>\n",
       "    </tr>\n",
       "    <tr>\n",
       "      <th>33</th>\n",
       "      <td>Around the World in 80 Days</td>\n",
       "      <td>movie</td>\n",
       "      <td>PG</td>\n",
       "      <td>16 Jun 2004</td>\n",
       "      <td>120 min</td>\n",
       "      <td>2020-02-01</td>\n",
       "      <td>Action, Adventure, Comedy, Family, Western</td>\n",
       "      <td>Frank Coraci</td>\n",
       "      <td>Jackie Chan, Steve Coogan, Cécile de France, R...</td>\n",
       "      <td>USA, Germany, Ireland, UK</td>\n",
       "    </tr>\n",
       "    <tr>\n",
       "      <th>34</th>\n",
       "      <td>Atlantis Rising</td>\n",
       "      <td>movie</td>\n",
       "      <td>NaN</td>\n",
       "      <td>29 Jan 2017</td>\n",
       "      <td>93 min</td>\n",
       "      <td>2019-11-12</td>\n",
       "      <td>Documentary, Adventure, Mystery</td>\n",
       "      <td>Simcha Jacobovici</td>\n",
       "      <td>James Cameron, Georgeos Díaz-Montexano, Peter ...</td>\n",
       "      <td>Canada</td>\n",
       "    </tr>\n",
       "    <tr>\n",
       "      <th>...</th>\n",
       "      <td>...</td>\n",
       "      <td>...</td>\n",
       "      <td>...</td>\n",
       "      <td>...</td>\n",
       "      <td>...</td>\n",
       "      <td>...</td>\n",
       "      <td>...</td>\n",
       "      <td>...</td>\n",
       "      <td>...</td>\n",
       "      <td>...</td>\n",
       "    </tr>\n",
       "    <tr>\n",
       "      <th>910</th>\n",
       "      <td>Twitches Too</td>\n",
       "      <td>movie</td>\n",
       "      <td>TV-PG</td>\n",
       "      <td>12 Oct 2007</td>\n",
       "      <td>83 min</td>\n",
       "      <td>2019-11-12</td>\n",
       "      <td>Drama, Family, Fantasy</td>\n",
       "      <td>Stuart Gillard</td>\n",
       "      <td>Tia Mowry-Hardrict, Tamera Mowry-Housley, Kris...</td>\n",
       "      <td>USA</td>\n",
       "    </tr>\n",
       "    <tr>\n",
       "      <th>911</th>\n",
       "      <td>Unidentified Flying Oddball</td>\n",
       "      <td>movie</td>\n",
       "      <td>G</td>\n",
       "      <td>26 Jul 1979</td>\n",
       "      <td>93 min</td>\n",
       "      <td>2019-11-12</td>\n",
       "      <td>Comedy, Family, Adventure, Fantasy, Sci-Fi</td>\n",
       "      <td>Russ Mayberry</td>\n",
       "      <td>Dennis Dugan, Jim Dale, Ron Moody, Kenneth More</td>\n",
       "      <td>USA</td>\n",
       "    </tr>\n",
       "    <tr>\n",
       "      <th>913</th>\n",
       "      <td>Up</td>\n",
       "      <td>movie</td>\n",
       "      <td>PG</td>\n",
       "      <td>29 May 2009</td>\n",
       "      <td>96 min</td>\n",
       "      <td>2019-11-12</td>\n",
       "      <td>Animation, Adventure, Comedy, Family</td>\n",
       "      <td>Pete Docter, Bob Peterson(co-director)</td>\n",
       "      <td>Edward Asner, Christopher Plummer, Jordan Naga...</td>\n",
       "      <td>USA</td>\n",
       "    </tr>\n",
       "    <tr>\n",
       "      <th>914</th>\n",
       "      <td>Up, Up, and Away!</td>\n",
       "      <td>movie</td>\n",
       "      <td>TV-G</td>\n",
       "      <td>22 Jan 2000</td>\n",
       "      <td>90 min</td>\n",
       "      <td>2019-11-12</td>\n",
       "      <td>Comedy, Family, Fantasy, Sci-Fi</td>\n",
       "      <td>Robert Townsend</td>\n",
       "      <td>Robert Townsend, Michael J. Pagan, Alex Datche...</td>\n",
       "      <td>Canada, USA</td>\n",
       "    </tr>\n",
       "    <tr>\n",
       "      <th>915</th>\n",
       "      <td>Valiant</td>\n",
       "      <td>movie</td>\n",
       "      <td>G</td>\n",
       "      <td>19 Aug 2005</td>\n",
       "      <td>76 min</td>\n",
       "      <td>2019-11-12</td>\n",
       "      <td>Animation, Adventure, Comedy, Family, War</td>\n",
       "      <td>Gary Chapman</td>\n",
       "      <td>Ewan McGregor, Ricky Gervais, Tim Curry, Jim B...</td>\n",
       "      <td>UK, USA</td>\n",
       "    </tr>\n",
       "    <tr>\n",
       "      <th>916</th>\n",
       "      <td>Viking Warrior Women</td>\n",
       "      <td>movie</td>\n",
       "      <td>NaN</td>\n",
       "      <td>07 Jun 2019</td>\n",
       "      <td>51 min</td>\n",
       "      <td>2020-02-28</td>\n",
       "      <td>Documentary, History</td>\n",
       "      <td>David Bartlett, Sebastian Peiter</td>\n",
       "      <td>Moa Enqvist Stefansdotter, Stina Edström, Denn...</td>\n",
       "      <td>UK</td>\n",
       "    </tr>\n",
       "    <tr>\n",
       "      <th>918</th>\n",
       "      <td>Waking Sleeping Beauty</td>\n",
       "      <td>movie</td>\n",
       "      <td>PG</td>\n",
       "      <td>06 Oct 2010</td>\n",
       "      <td>86 min</td>\n",
       "      <td>2019-11-12</td>\n",
       "      <td>Documentary</td>\n",
       "      <td>Don Hahn</td>\n",
       "      <td>Don Hahn, Ron Clements, Peter Schneider, Roy E...</td>\n",
       "      <td>USA</td>\n",
       "    </tr>\n",
       "    <tr>\n",
       "      <th>919</th>\n",
       "      <td>WALL·E</td>\n",
       "      <td>movie</td>\n",
       "      <td>G</td>\n",
       "      <td>27 Jun 2008</td>\n",
       "      <td>98 min</td>\n",
       "      <td>2019-11-12</td>\n",
       "      <td>Animation, Adventure, Family, Sci-Fi</td>\n",
       "      <td>Andrew Stanton</td>\n",
       "      <td>Ben Burtt, Elissa Knight, Jeff Garlin, Fred Wi...</td>\n",
       "      <td>USA</td>\n",
       "    </tr>\n",
       "    <tr>\n",
       "      <th>921</th>\n",
       "      <td>Wendy Wu: Homecoming Warrior</td>\n",
       "      <td>movie</td>\n",
       "      <td>TV-PG</td>\n",
       "      <td>16 Jun 2006</td>\n",
       "      <td>91 min</td>\n",
       "      <td>2019-11-12</td>\n",
       "      <td>Action, Adventure, Family</td>\n",
       "      <td>John Laing</td>\n",
       "      <td>Brenda Song, Shin Koyamada, Susan Chuang, Just...</td>\n",
       "      <td>USA</td>\n",
       "    </tr>\n",
       "    <tr>\n",
       "      <th>922</th>\n",
       "      <td>Whispers: An Elephant's Tale</td>\n",
       "      <td>movie</td>\n",
       "      <td>G</td>\n",
       "      <td>10 Mar 2000</td>\n",
       "      <td>72 min</td>\n",
       "      <td>2019-11-12</td>\n",
       "      <td>Family</td>\n",
       "      <td>Dereck Joubert</td>\n",
       "      <td>Angela Bassett, Joanna Lumley, Anne Archer, De...</td>\n",
       "      <td>USA</td>\n",
       "    </tr>\n",
       "    <tr>\n",
       "      <th>923</th>\n",
       "      <td>White Fang</td>\n",
       "      <td>movie</td>\n",
       "      <td>PG</td>\n",
       "      <td>18 Jan 1991</td>\n",
       "      <td>107 min</td>\n",
       "      <td>2019-11-12</td>\n",
       "      <td>Adventure, Drama</td>\n",
       "      <td>Randal Kleiser</td>\n",
       "      <td>Jed, Klaus Maria Brandauer, Ethan Hawke, Seymo...</td>\n",
       "      <td>USA</td>\n",
       "    </tr>\n",
       "    <tr>\n",
       "      <th>924</th>\n",
       "      <td>Who Framed Roger Rabbit</td>\n",
       "      <td>movie</td>\n",
       "      <td>PG</td>\n",
       "      <td>22 Jun 1988</td>\n",
       "      <td>104 min</td>\n",
       "      <td>2019-11-12</td>\n",
       "      <td>Animation, Adventure, Comedy, Crime, Family, F...</td>\n",
       "      <td>Robert Zemeckis, Richard Williams</td>\n",
       "      <td>Bob Hoskins, Christopher Lloyd, Joanna Cassidy...</td>\n",
       "      <td>USA</td>\n",
       "    </tr>\n",
       "    <tr>\n",
       "      <th>929</th>\n",
       "      <td>Willow</td>\n",
       "      <td>movie</td>\n",
       "      <td>PG</td>\n",
       "      <td>20 May 1988</td>\n",
       "      <td>126 min</td>\n",
       "      <td>2019-11-12</td>\n",
       "      <td>Action, Adventure, Drama, Fantasy, Romance</td>\n",
       "      <td>Ron Howard</td>\n",
       "      <td>Val Kilmer, Joanne Whalley, Warwick Davis, Jea...</td>\n",
       "      <td>USA</td>\n",
       "    </tr>\n",
       "    <tr>\n",
       "      <th>931</th>\n",
       "      <td>Winged Seduction: Birds of Paradise</td>\n",
       "      <td>movie</td>\n",
       "      <td>NaN</td>\n",
       "      <td>22 Nov 2012</td>\n",
       "      <td>NaN</td>\n",
       "      <td>2019-11-12</td>\n",
       "      <td>Documentary</td>\n",
       "      <td>Molly Hermann</td>\n",
       "      <td>Josh Goodman</td>\n",
       "      <td>USA</td>\n",
       "    </tr>\n",
       "    <tr>\n",
       "      <th>932</th>\n",
       "      <td>Winnie the Pooh</td>\n",
       "      <td>movie</td>\n",
       "      <td>G</td>\n",
       "      <td>15 Jul 2011</td>\n",
       "      <td>63 min</td>\n",
       "      <td>2019-11-12</td>\n",
       "      <td>Animation, Adventure, Comedy, Family, Musical</td>\n",
       "      <td>Stephen J. Anderson, Don Hall</td>\n",
       "      <td>John Cleese, Jim Cummings, Bud Luckey, Craig F...</td>\n",
       "      <td>USA</td>\n",
       "    </tr>\n",
       "    <tr>\n",
       "      <th>933</th>\n",
       "      <td>Winnie the Pooh: A Very Merry Pooh Year</td>\n",
       "      <td>movie</td>\n",
       "      <td>G</td>\n",
       "      <td>12 Nov 2002</td>\n",
       "      <td>65 min</td>\n",
       "      <td>2019-11-12</td>\n",
       "      <td>Animation, Comedy, Drama, Family, Fantasy, Mus...</td>\n",
       "      <td>Gary Katona, Ed Wexler, Jamie Mitchell</td>\n",
       "      <td>Jim Cummings, Peter Cullen, John Fiedler, Mich...</td>\n",
       "      <td>USA</td>\n",
       "    </tr>\n",
       "    <tr>\n",
       "      <th>934</th>\n",
       "      <td>Winnie the Pooh: Springtime with Roo</td>\n",
       "      <td>movie</td>\n",
       "      <td>G</td>\n",
       "      <td>09 Mar 2004</td>\n",
       "      <td>65 min</td>\n",
       "      <td>2019-11-12</td>\n",
       "      <td>Animation, Adventure, Comedy, Drama, Family, M...</td>\n",
       "      <td>Saul Blinkoff, Elliot M. Bour</td>\n",
       "      <td>Jim Cummings, Ken Sansom, Jimmy Bennett, David...</td>\n",
       "      <td>USA</td>\n",
       "    </tr>\n",
       "    <tr>\n",
       "      <th>935</th>\n",
       "      <td>Winter Storage</td>\n",
       "      <td>movie</td>\n",
       "      <td>Approved</td>\n",
       "      <td>03 Jun 1949</td>\n",
       "      <td>7 min</td>\n",
       "      <td>2019-11-12</td>\n",
       "      <td>Animation, Comedy, Family, Short</td>\n",
       "      <td>Jack Hannah</td>\n",
       "      <td>Dessie Flynn, James MacDonald</td>\n",
       "      <td>USA</td>\n",
       "    </tr>\n",
       "    <tr>\n",
       "      <th>937</th>\n",
       "      <td>Wizards of Waverly Place: The Movie</td>\n",
       "      <td>movie</td>\n",
       "      <td>TV-G</td>\n",
       "      <td>28 Aug 2009</td>\n",
       "      <td>94 min</td>\n",
       "      <td>2019-11-12</td>\n",
       "      <td>Adventure, Comedy, Drama, Family, Fantasy</td>\n",
       "      <td>Lev L. Spiro</td>\n",
       "      <td>Selena Gomez, David Henrie, Jake T. Austin, Je...</td>\n",
       "      <td>USA</td>\n",
       "    </tr>\n",
       "    <tr>\n",
       "      <th>940</th>\n",
       "      <td>Wreck-It Ralph</td>\n",
       "      <td>movie</td>\n",
       "      <td>PG</td>\n",
       "      <td>02 Nov 2012</td>\n",
       "      <td>101 min</td>\n",
       "      <td>2019-11-12</td>\n",
       "      <td>Animation, Adventure, Comedy, Family, Fantasy</td>\n",
       "      <td>Rich Moore</td>\n",
       "      <td>John C. Reilly, Sarah Silverman, Jack McBrayer...</td>\n",
       "      <td>USA</td>\n",
       "    </tr>\n",
       "    <tr>\n",
       "      <th>944</th>\n",
       "      <td>Yellowstone Cubs</td>\n",
       "      <td>movie</td>\n",
       "      <td>Not Rated</td>\n",
       "      <td>01 Jun 1963</td>\n",
       "      <td>48 min</td>\n",
       "      <td>2019-11-12</td>\n",
       "      <td>Family</td>\n",
       "      <td>Charles L. Draper</td>\n",
       "      <td>Rex Allen, Joe Way</td>\n",
       "      <td>USA</td>\n",
       "    </tr>\n",
       "    <tr>\n",
       "      <th>945</th>\n",
       "      <td>You Lucky Dog</td>\n",
       "      <td>movie</td>\n",
       "      <td>TV-G</td>\n",
       "      <td>27 Jun 1998</td>\n",
       "      <td>89 min</td>\n",
       "      <td>2019-11-12</td>\n",
       "      <td>Comedy, Family, Fantasy, Mystery</td>\n",
       "      <td>Paul Schneider</td>\n",
       "      <td>Kirk Cameron, Chelsea Noble, John de Lancie, C...</td>\n",
       "      <td>USA</td>\n",
       "    </tr>\n",
       "    <tr>\n",
       "      <th>946</th>\n",
       "      <td>You Wish!</td>\n",
       "      <td>movie</td>\n",
       "      <td>TV-G</td>\n",
       "      <td>10 Jan 2003</td>\n",
       "      <td>84 min</td>\n",
       "      <td>2019-11-12</td>\n",
       "      <td>Comedy, Family, Fantasy, Drama</td>\n",
       "      <td>Paul Hoen</td>\n",
       "      <td>A.J. Trauth, Spencer Breslin, Lalaine, Tim Reid</td>\n",
       "      <td>New Zealand, USA</td>\n",
       "    </tr>\n",
       "    <tr>\n",
       "      <th>947</th>\n",
       "      <td>Your Friend the Rat</td>\n",
       "      <td>movie</td>\n",
       "      <td>G</td>\n",
       "      <td>06 Nov 2007</td>\n",
       "      <td>11 min</td>\n",
       "      <td>2019-11-12</td>\n",
       "      <td>Animation, Short, Comedy, Family</td>\n",
       "      <td>Jim Capobianco</td>\n",
       "      <td>Patton Oswalt, Peter Sohn, Lou Romano, Tony Ru...</td>\n",
       "      <td>USA</td>\n",
       "    </tr>\n",
       "    <tr>\n",
       "      <th>948</th>\n",
       "      <td>Z-O-M-B-I-E-S</td>\n",
       "      <td>movie</td>\n",
       "      <td>TV-G</td>\n",
       "      <td>16 Feb 2018</td>\n",
       "      <td>94 min</td>\n",
       "      <td>2019-11-12</td>\n",
       "      <td>Family, Musical, Romance</td>\n",
       "      <td>Paul Hoen</td>\n",
       "      <td>Milo Manheim, Meg Donnelly, Trevor Tordjman, K...</td>\n",
       "      <td>USA</td>\n",
       "    </tr>\n",
       "    <tr>\n",
       "      <th>949</th>\n",
       "      <td>Zapped</td>\n",
       "      <td>movie</td>\n",
       "      <td>TV-G</td>\n",
       "      <td>23 Jun 2014</td>\n",
       "      <td>102 min</td>\n",
       "      <td>2019-11-12</td>\n",
       "      <td>Comedy, Family, Fantasy</td>\n",
       "      <td>Peter DeLuise</td>\n",
       "      <td>Zendaya, Chanelle Peloso, Spencer Boldman, Emi...</td>\n",
       "      <td>Canada, USA</td>\n",
       "    </tr>\n",
       "    <tr>\n",
       "      <th>950</th>\n",
       "      <td>Zenon: Girl of the 21st Century</td>\n",
       "      <td>movie</td>\n",
       "      <td>TV-G</td>\n",
       "      <td>23 Jan 1999</td>\n",
       "      <td>97 min</td>\n",
       "      <td>2019-11-12</td>\n",
       "      <td>Adventure, Comedy, Family, Sci-Fi</td>\n",
       "      <td>Kenneth Johnson</td>\n",
       "      <td>Kirsten Storms, Raven-Symoné, Stuart Pankin, H...</td>\n",
       "      <td>USA</td>\n",
       "    </tr>\n",
       "    <tr>\n",
       "      <th>951</th>\n",
       "      <td>Zenon: The Zequel</td>\n",
       "      <td>movie</td>\n",
       "      <td>TV-G</td>\n",
       "      <td>12 Jan 2001</td>\n",
       "      <td>100 min</td>\n",
       "      <td>2019-11-12</td>\n",
       "      <td>Comedy, Family, Adventure, Sci-Fi</td>\n",
       "      <td>Manny Coto</td>\n",
       "      <td>Kirsten Storms, Shadia Simmons, Lauren Maltby,...</td>\n",
       "      <td>USA, New Zealand</td>\n",
       "    </tr>\n",
       "    <tr>\n",
       "      <th>952</th>\n",
       "      <td>Zenon: Z3</td>\n",
       "      <td>movie</td>\n",
       "      <td>TV-G</td>\n",
       "      <td>11 Jun 2004</td>\n",
       "      <td>81 min</td>\n",
       "      <td>2019-11-12</td>\n",
       "      <td>Adventure, Comedy, Family, Sci-Fi</td>\n",
       "      <td>Steve Rash</td>\n",
       "      <td>Kirsten Storms, Lauren Maltby, Alyson Morgan, ...</td>\n",
       "      <td>USA</td>\n",
       "    </tr>\n",
       "    <tr>\n",
       "      <th>953</th>\n",
       "      <td>Zootopia</td>\n",
       "      <td>movie</td>\n",
       "      <td>PG</td>\n",
       "      <td>04 Mar 2016</td>\n",
       "      <td>108 min</td>\n",
       "      <td>2019-11-12</td>\n",
       "      <td>Animation, Adventure, Comedy, Crime, Family, M...</td>\n",
       "      <td>Byron Howard, Rich Moore, Jared Bush(co-director)</td>\n",
       "      <td>Ginnifer Goodwin, Jason Bateman, Idris Elba, J...</td>\n",
       "      <td>USA</td>\n",
       "    </tr>\n",
       "  </tbody>\n",
       "</table>\n",
       "<p>643 rows × 10 columns</p>\n",
       "</div>"
      ],
      "text/plain": [
       "                                          title show_type film_rating  \\\n",
       "0                    10 Things I Hate About You     movie       PG-13   \n",
       "2                                101 Dalmatians     movie           G   \n",
       "3    101 Dalmatians 2: Patch's London Adventure     movie           G   \n",
       "4                                102 Dalmatians     movie           G   \n",
       "5                         12 Dates of Christmas     movie          PG   \n",
       "6                  20,000 Leagues Under the Sea     movie           G   \n",
       "7                                  A Bug's Life     movie           G   \n",
       "9                                 A Goofy Movie     movie           G   \n",
       "10                 A Kid in King Arthur's Court     movie          PG   \n",
       "11                           A Knight for a Day     movie    APPROVED   \n",
       "12                      A Ring of Endless Light     movie        TV-G   \n",
       "13                       A Tale of Two Critters     movie           G   \n",
       "14                            A Wrinkle in Time     movie          PG   \n",
       "15                                      Aladdin     movie          PG   \n",
       "16                                      Aladdin     movie           G   \n",
       "17              Aladdin and the King of Thieves     movie   Not Rated   \n",
       "18              Aladdin and the Return of Jafar     movie           G   \n",
       "19                          Alice in Wonderland     movie           G   \n",
       "20                          Alice in Wonderland     movie          PG   \n",
       "21                           Aliens of the Deep     movie           G   \n",
       "22                            All in a Nutshell     movie    Approved   \n",
       "23                            Alley Cats Strike     movie        TV-G   \n",
       "24                                Almost Angels     movie   Not Rated   \n",
       "25                       America's Heart & Soul     movie          PG   \n",
       "27                                          Amy     movie           G   \n",
       "28                     An Extremely Goofy Movie     movie           G   \n",
       "30                                        Annie     movie     UNRATED   \n",
       "31                 Apollo: Missions to the Moon     movie   Not Rated   \n",
       "33                  Around the World in 80 Days     movie          PG   \n",
       "34                              Atlantis Rising     movie         NaN   \n",
       "..                                          ...       ...         ...   \n",
       "910                                Twitches Too     movie       TV-PG   \n",
       "911                 Unidentified Flying Oddball     movie           G   \n",
       "913                                          Up     movie          PG   \n",
       "914                           Up, Up, and Away!     movie        TV-G   \n",
       "915                                     Valiant     movie           G   \n",
       "916                        Viking Warrior Women     movie         NaN   \n",
       "918                      Waking Sleeping Beauty     movie          PG   \n",
       "919                                      WALL·E     movie           G   \n",
       "921                Wendy Wu: Homecoming Warrior     movie       TV-PG   \n",
       "922                Whispers: An Elephant's Tale     movie           G   \n",
       "923                                  White Fang     movie          PG   \n",
       "924                     Who Framed Roger Rabbit     movie          PG   \n",
       "929                                      Willow     movie          PG   \n",
       "931         Winged Seduction: Birds of Paradise     movie         NaN   \n",
       "932                             Winnie the Pooh     movie           G   \n",
       "933     Winnie the Pooh: A Very Merry Pooh Year     movie           G   \n",
       "934        Winnie the Pooh: Springtime with Roo     movie           G   \n",
       "935                              Winter Storage     movie    Approved   \n",
       "937         Wizards of Waverly Place: The Movie     movie        TV-G   \n",
       "940                              Wreck-It Ralph     movie          PG   \n",
       "944                            Yellowstone Cubs     movie   Not Rated   \n",
       "945                               You Lucky Dog     movie        TV-G   \n",
       "946                                   You Wish!     movie        TV-G   \n",
       "947                         Your Friend the Rat     movie           G   \n",
       "948                               Z-O-M-B-I-E-S     movie        TV-G   \n",
       "949                                      Zapped     movie        TV-G   \n",
       "950             Zenon: Girl of the 21st Century     movie        TV-G   \n",
       "951                           Zenon: The Zequel     movie        TV-G   \n",
       "952                                   Zenon: Z3     movie        TV-G   \n",
       "953                                    Zootopia     movie          PG   \n",
       "\n",
       "     released_at  runtime   added_at  \\\n",
       "0    31 Mar 1999   97 min 2019-11-12   \n",
       "2    27 Nov 1996  103 min 2019-11-12   \n",
       "3    21 Jan 2003   74 min 2019-11-12   \n",
       "4    22 Nov 2000  100 min 2019-11-12   \n",
       "5    11 Dec 2011   90 min 2019-11-12   \n",
       "6    20 Jul 1955  127 min 2019-11-12   \n",
       "7    25 Nov 1998   95 min 2019-11-12   \n",
       "9    07 Apr 1995   78 min 2019-11-12   \n",
       "10   11 Aug 1995   89 min 2019-11-12   \n",
       "11   08 Mar 1946    7 min 2019-11-12   \n",
       "12   23 Aug 2002   88 min 2019-11-12   \n",
       "13   22 Jun 1977   48 min 2020-04-03   \n",
       "14   09 Mar 2018  109 min 2020-03-25   \n",
       "15   24 May 2019  128 min 2020-01-08   \n",
       "16   25 Nov 1992   90 min 2019-11-12   \n",
       "17   13 Aug 1996   81 min 2019-11-12   \n",
       "18   20 May 1994   69 min 2019-11-12   \n",
       "19   14 Sep 1951   75 min 2019-11-12   \n",
       "20   05 Mar 2010  108 min 2019-11-12   \n",
       "21   25 Aug 2005  100 min 2019-11-12   \n",
       "22   02 Sep 1949    7 min 2020-04-03   \n",
       "23   18 Mar 2000  103 min 2019-11-12   \n",
       "24   26 Sep 1962   93 min 2019-11-12   \n",
       "25   02 Jul 2004   84 min 2019-11-12   \n",
       "27   20 Mar 1981  100 min 2019-11-12   \n",
       "28   29 Feb 2000   79 min 2019-11-12   \n",
       "30   07 Nov 1999   90 min 2019-11-12   \n",
       "31   07 Jul 2019   94 min 2019-11-12   \n",
       "33   16 Jun 2004  120 min 2020-02-01   \n",
       "34   29 Jan 2017   93 min 2019-11-12   \n",
       "..           ...      ...        ...   \n",
       "910  12 Oct 2007   83 min 2019-11-12   \n",
       "911  26 Jul 1979   93 min 2019-11-12   \n",
       "913  29 May 2009   96 min 2019-11-12   \n",
       "914  22 Jan 2000   90 min 2019-11-12   \n",
       "915  19 Aug 2005   76 min 2019-11-12   \n",
       "916  07 Jun 2019   51 min 2020-02-28   \n",
       "918  06 Oct 2010   86 min 2019-11-12   \n",
       "919  27 Jun 2008   98 min 2019-11-12   \n",
       "921  16 Jun 2006   91 min 2019-11-12   \n",
       "922  10 Mar 2000   72 min 2019-11-12   \n",
       "923  18 Jan 1991  107 min 2019-11-12   \n",
       "924  22 Jun 1988  104 min 2019-11-12   \n",
       "929  20 May 1988  126 min 2019-11-12   \n",
       "931  22 Nov 2012      NaN 2019-11-12   \n",
       "932  15 Jul 2011   63 min 2019-11-12   \n",
       "933  12 Nov 2002   65 min 2019-11-12   \n",
       "934  09 Mar 2004   65 min 2019-11-12   \n",
       "935  03 Jun 1949    7 min 2019-11-12   \n",
       "937  28 Aug 2009   94 min 2019-11-12   \n",
       "940  02 Nov 2012  101 min 2019-11-12   \n",
       "944  01 Jun 1963   48 min 2019-11-12   \n",
       "945  27 Jun 1998   89 min 2019-11-12   \n",
       "946  10 Jan 2003   84 min 2019-11-12   \n",
       "947  06 Nov 2007   11 min 2019-11-12   \n",
       "948  16 Feb 2018   94 min 2019-11-12   \n",
       "949  23 Jun 2014  102 min 2019-11-12   \n",
       "950  23 Jan 1999   97 min 2019-11-12   \n",
       "951  12 Jan 2001  100 min 2019-11-12   \n",
       "952  11 Jun 2004   81 min 2019-11-12   \n",
       "953  04 Mar 2016  108 min 2019-11-12   \n",
       "\n",
       "                                                 genre  \\\n",
       "0                               Comedy, Drama, Romance   \n",
       "2                     Adventure, Comedy, Crime, Family   \n",
       "3        Animation, Adventure, Comedy, Family, Musical   \n",
       "4                            Adventure, Comedy, Family   \n",
       "5                             Comedy, Fantasy, Romance   \n",
       "6            Adventure, Drama, Family, Fantasy, Sci-Fi   \n",
       "7                 Animation, Adventure, Comedy, Family   \n",
       "9    Animation, Adventure, Comedy, Family, Musical,...   \n",
       "10         Adventure, Comedy, Family, Fantasy, Romance   \n",
       "11                            Animation, Short, Comedy   \n",
       "12                              Drama, Family, Romance   \n",
       "13                                   Adventure, Family   \n",
       "14                  Adventure, Family, Fantasy, Sci-Fi   \n",
       "15        Adventure, Family, Fantasy, Musical, Romance   \n",
       "16   Animation, Adventure, Comedy, Family, Fantasy,...   \n",
       "17   Animation, Adventure, Comedy, Family, Fantasy,...   \n",
       "18   Animation, Adventure, Comedy, Family, Fantasy,...   \n",
       "19      Animation, Adventure, Family, Fantasy, Musical   \n",
       "20                          Adventure, Family, Fantasy   \n",
       "21                                 Documentary, Family   \n",
       "22                    Family, Comedy, Animation, Short   \n",
       "23                                Drama, Family, Sport   \n",
       "24                               Comedy, Family, Music   \n",
       "25                                         Documentary   \n",
       "27                                       Family, Drama   \n",
       "28                    Animation, Comedy, Family, Sport   \n",
       "30                             Family, Comedy, Musical   \n",
       "31                                             History   \n",
       "33          Action, Adventure, Comedy, Family, Western   \n",
       "34                     Documentary, Adventure, Mystery   \n",
       "..                                                 ...   \n",
       "910                             Drama, Family, Fantasy   \n",
       "911         Comedy, Family, Adventure, Fantasy, Sci-Fi   \n",
       "913               Animation, Adventure, Comedy, Family   \n",
       "914                    Comedy, Family, Fantasy, Sci-Fi   \n",
       "915          Animation, Adventure, Comedy, Family, War   \n",
       "916                               Documentary, History   \n",
       "918                                        Documentary   \n",
       "919               Animation, Adventure, Family, Sci-Fi   \n",
       "921                          Action, Adventure, Family   \n",
       "922                                             Family   \n",
       "923                                   Adventure, Drama   \n",
       "924  Animation, Adventure, Comedy, Crime, Family, F...   \n",
       "929         Action, Adventure, Drama, Fantasy, Romance   \n",
       "931                                        Documentary   \n",
       "932      Animation, Adventure, Comedy, Family, Musical   \n",
       "933  Animation, Comedy, Drama, Family, Fantasy, Mus...   \n",
       "934  Animation, Adventure, Comedy, Drama, Family, M...   \n",
       "935                   Animation, Comedy, Family, Short   \n",
       "937          Adventure, Comedy, Drama, Family, Fantasy   \n",
       "940      Animation, Adventure, Comedy, Family, Fantasy   \n",
       "944                                             Family   \n",
       "945                   Comedy, Family, Fantasy, Mystery   \n",
       "946                     Comedy, Family, Fantasy, Drama   \n",
       "947                   Animation, Short, Comedy, Family   \n",
       "948                           Family, Musical, Romance   \n",
       "949                            Comedy, Family, Fantasy   \n",
       "950                  Adventure, Comedy, Family, Sci-Fi   \n",
       "951                  Comedy, Family, Adventure, Sci-Fi   \n",
       "952                  Adventure, Comedy, Family, Sci-Fi   \n",
       "953  Animation, Adventure, Comedy, Crime, Family, M...   \n",
       "\n",
       "                                              director  \\\n",
       "0                                           Gil Junger   \n",
       "2                                        Stephen Herek   \n",
       "3                            Jim Kammerud, Brian Smith   \n",
       "4                                           Kevin Lima   \n",
       "5                                         James Hayman   \n",
       "6                                    Richard Fleischer   \n",
       "7           John Lasseter, Andrew Stanton(co-director)   \n",
       "9                                           Kevin Lima   \n",
       "10                                    Michael Gottlieb   \n",
       "11                                         Jack Hannah   \n",
       "12                                         Greg Beeman   \n",
       "13                                         Jack Speirs   \n",
       "14                                        Ava DuVernay   \n",
       "15                                         Guy Ritchie   \n",
       "16                           Ron Clements, John Musker   \n",
       "17                                          Tad Stones   \n",
       "18              Toby Shelton, Tad Stones, Alan Zaslove   \n",
       "19     Clyde Geronimi, Wilfred Jackson, Hamilton Luske   \n",
       "20                                          Tim Burton   \n",
       "21                         James Cameron, Steven Quale   \n",
       "22                                         Jack Hannah   \n",
       "23                                          Rod Daniel   \n",
       "24                                        Steve Previn   \n",
       "25                                  Louie Schwartzberg   \n",
       "27                                    Vincent McEveety   \n",
       "28                                    Douglas McCarthy   \n",
       "30                                        Rob Marshall   \n",
       "31                                        Tom Jennings   \n",
       "33                                        Frank Coraci   \n",
       "34                                   Simcha Jacobovici   \n",
       "..                                                 ...   \n",
       "910                                     Stuart Gillard   \n",
       "911                                      Russ Mayberry   \n",
       "913             Pete Docter, Bob Peterson(co-director)   \n",
       "914                                    Robert Townsend   \n",
       "915                                       Gary Chapman   \n",
       "916                   David Bartlett, Sebastian Peiter   \n",
       "918                                           Don Hahn   \n",
       "919                                     Andrew Stanton   \n",
       "921                                         John Laing   \n",
       "922                                     Dereck Joubert   \n",
       "923                                     Randal Kleiser   \n",
       "924                  Robert Zemeckis, Richard Williams   \n",
       "929                                         Ron Howard   \n",
       "931                                      Molly Hermann   \n",
       "932                      Stephen J. Anderson, Don Hall   \n",
       "933             Gary Katona, Ed Wexler, Jamie Mitchell   \n",
       "934                      Saul Blinkoff, Elliot M. Bour   \n",
       "935                                        Jack Hannah   \n",
       "937                                       Lev L. Spiro   \n",
       "940                                         Rich Moore   \n",
       "944                                  Charles L. Draper   \n",
       "945                                     Paul Schneider   \n",
       "946                                          Paul Hoen   \n",
       "947                                     Jim Capobianco   \n",
       "948                                          Paul Hoen   \n",
       "949                                      Peter DeLuise   \n",
       "950                                    Kenneth Johnson   \n",
       "951                                         Manny Coto   \n",
       "952                                         Steve Rash   \n",
       "953  Byron Howard, Rich Moore, Jared Bush(co-director)   \n",
       "\n",
       "                                                  cast  \\\n",
       "0    Heath Ledger, Julia Stiles, Joseph Gordon-Levi...   \n",
       "2    Glenn Close, Jeff Daniels, Joely Richardson, J...   \n",
       "3    Barry Bostwick, Jason Alexander, Martin Short,...   \n",
       "4    Glenn Close, Gérard Depardieu, Ioan Gruffudd, ...   \n",
       "5    Laura Miyata, Vijay Mehta, Amy Smart, Audrey D...   \n",
       "6    Kirk Douglas, James Mason, Paul Lukas, Peter L...   \n",
       "7    Dave Foley, Kevin Spacey, Julia Louis-Dreyfus,...   \n",
       "9    Bill Farmer, Jason Marsden, Jim Cummings, Kell...   \n",
       "10   Thomas Ian Nicholas, Joss Ackland, Art Malik, ...   \n",
       "11                                        Pinto Colvig   \n",
       "12   Mischa Barton, Ryan Merriman, Jared Padalecki,...   \n",
       "13                                         Mayf Nutter   \n",
       "14   Storm Reid, Oprah Winfrey, Reese Witherspoon, ...   \n",
       "15   Will Smith, Mena Massoud, Naomi Scott, Marwan ...   \n",
       "16   Scott Weinger, Robin Williams, Linda Larkin, J...   \n",
       "17   Val Bettin, Jim Cummings, Gilbert Gottfried, L...   \n",
       "18   Jason Alexander, Jonathan Freeman, Jeff Bennet...   \n",
       "19   Kathryn Beaumont, Ed Wynn, Richard Haydn, Ster...   \n",
       "20   Johnny Depp, Mia Wasikowska, Helena Bonham Car...   \n",
       "21   Anatoly M. Sagalevitch, Genya Chernaiev, Victo...   \n",
       "22        Dessie Flynn, James MacDonald, Clarence Nash   \n",
       "23   Kyle Schmid, Robert Ri'chard, Kaley Cuoco, Mim...   \n",
       "24   Vincent Winter, Sean Scully, Peter Weck, Hans ...   \n",
       "25   George Woodard, Charles Jimmie Sr., The Vasque...   \n",
       "27   Jenny Agutter, Barry Newman, Kathleen Nolan, C...   \n",
       "28   Bill Farmer, Jason Marsden, Jeff Bennett, Jim ...   \n",
       "30   Kathy Bates, Victor Garber, Alan Cumming, Audr...   \n",
       "31   Buzz Aldrin, Bill Anders, Neil Armstrong, Fran...   \n",
       "33   Jackie Chan, Steve Coogan, Cécile de France, R...   \n",
       "34   James Cameron, Georgeos Díaz-Montexano, Peter ...   \n",
       "..                                                 ...   \n",
       "910  Tia Mowry-Hardrict, Tamera Mowry-Housley, Kris...   \n",
       "911    Dennis Dugan, Jim Dale, Ron Moody, Kenneth More   \n",
       "913  Edward Asner, Christopher Plummer, Jordan Naga...   \n",
       "914  Robert Townsend, Michael J. Pagan, Alex Datche...   \n",
       "915  Ewan McGregor, Ricky Gervais, Tim Curry, Jim B...   \n",
       "916  Moa Enqvist Stefansdotter, Stina Edström, Denn...   \n",
       "918  Don Hahn, Ron Clements, Peter Schneider, Roy E...   \n",
       "919  Ben Burtt, Elissa Knight, Jeff Garlin, Fred Wi...   \n",
       "921  Brenda Song, Shin Koyamada, Susan Chuang, Just...   \n",
       "922  Angela Bassett, Joanna Lumley, Anne Archer, De...   \n",
       "923  Jed, Klaus Maria Brandauer, Ethan Hawke, Seymo...   \n",
       "924  Bob Hoskins, Christopher Lloyd, Joanna Cassidy...   \n",
       "929  Val Kilmer, Joanne Whalley, Warwick Davis, Jea...   \n",
       "931                                       Josh Goodman   \n",
       "932  John Cleese, Jim Cummings, Bud Luckey, Craig F...   \n",
       "933  Jim Cummings, Peter Cullen, John Fiedler, Mich...   \n",
       "934  Jim Cummings, Ken Sansom, Jimmy Bennett, David...   \n",
       "935                      Dessie Flynn, James MacDonald   \n",
       "937  Selena Gomez, David Henrie, Jake T. Austin, Je...   \n",
       "940  John C. Reilly, Sarah Silverman, Jack McBrayer...   \n",
       "944                                 Rex Allen, Joe Way   \n",
       "945  Kirk Cameron, Chelsea Noble, John de Lancie, C...   \n",
       "946    A.J. Trauth, Spencer Breslin, Lalaine, Tim Reid   \n",
       "947  Patton Oswalt, Peter Sohn, Lou Romano, Tony Ru...   \n",
       "948  Milo Manheim, Meg Donnelly, Trevor Tordjman, K...   \n",
       "949  Zendaya, Chanelle Peloso, Spencer Boldman, Emi...   \n",
       "950  Kirsten Storms, Raven-Symoné, Stuart Pankin, H...   \n",
       "951  Kirsten Storms, Shadia Simmons, Lauren Maltby,...   \n",
       "952  Kirsten Storms, Lauren Maltby, Alyson Morgan, ...   \n",
       "953  Ginnifer Goodwin, Jason Bateman, Idris Elba, J...   \n",
       "\n",
       "                            country  \n",
       "0                               USA  \n",
       "2                           USA, UK  \n",
       "3                               USA  \n",
       "4                           USA, UK  \n",
       "5                               USA  \n",
       "6                               USA  \n",
       "7                               USA  \n",
       "9    USA, Australia, France, Canada  \n",
       "10                 USA, Hungary, UK  \n",
       "11                              USA  \n",
       "12                              USA  \n",
       "13                              USA  \n",
       "14                              USA  \n",
       "15                              USA  \n",
       "16                              USA  \n",
       "17                              USA  \n",
       "18                              USA  \n",
       "19                              USA  \n",
       "20                              USA  \n",
       "21                              USA  \n",
       "22                              USA  \n",
       "23                      USA, Canada  \n",
       "24                              USA  \n",
       "25                              USA  \n",
       "27                              USA  \n",
       "28                   USA, Australia  \n",
       "30                              USA  \n",
       "31                              USA  \n",
       "33        USA, Germany, Ireland, UK  \n",
       "34                           Canada  \n",
       "..                              ...  \n",
       "910                             USA  \n",
       "911                             USA  \n",
       "913                             USA  \n",
       "914                     Canada, USA  \n",
       "915                         UK, USA  \n",
       "916                              UK  \n",
       "918                             USA  \n",
       "919                             USA  \n",
       "921                             USA  \n",
       "922                             USA  \n",
       "923                             USA  \n",
       "924                             USA  \n",
       "929                             USA  \n",
       "931                             USA  \n",
       "932                             USA  \n",
       "933                             USA  \n",
       "934                             USA  \n",
       "935                             USA  \n",
       "937                             USA  \n",
       "940                             USA  \n",
       "944                             USA  \n",
       "945                             USA  \n",
       "946                New Zealand, USA  \n",
       "947                             USA  \n",
       "948                             USA  \n",
       "949                     Canada, USA  \n",
       "950                             USA  \n",
       "951                USA, New Zealand  \n",
       "952                             USA  \n",
       "953                             USA  \n",
       "\n",
       "[643 rows x 10 columns]"
      ]
     },
     "execution_count": 11,
     "metadata": {},
     "output_type": "execute_result"
    }
   ],
   "source": [
    "disney_df = disney_df.rename(columns={'type':'show_type',\n",
    "                                     'rated': 'film_rating',\n",
    "                                     'actors':'cast'})\n",
    "\n",
    "disney_df"
   ]
  },
  {
   "cell_type": "code",
   "execution_count": 12,
   "metadata": {},
   "outputs": [
    {
     "data": {
      "text/html": [
       "<div>\n",
       "<style scoped>\n",
       "    .dataframe tbody tr th:only-of-type {\n",
       "        vertical-align: middle;\n",
       "    }\n",
       "\n",
       "    .dataframe tbody tr th {\n",
       "        vertical-align: top;\n",
       "    }\n",
       "\n",
       "    .dataframe thead th {\n",
       "        text-align: right;\n",
       "    }\n",
       "</style>\n",
       "<table border=\"1\" class=\"dataframe\">\n",
       "  <thead>\n",
       "    <tr style=\"text-align: right;\">\n",
       "      <th></th>\n",
       "      <th>title</th>\n",
       "      <th>show_type</th>\n",
       "      <th>film_rating</th>\n",
       "      <th>released_at</th>\n",
       "      <th>runtime</th>\n",
       "      <th>added_at</th>\n",
       "      <th>genre</th>\n",
       "      <th>director</th>\n",
       "      <th>cast</th>\n",
       "      <th>country</th>\n",
       "      <th>month_added</th>\n",
       "      <th>day_added</th>\n",
       "      <th>year_added</th>\n",
       "    </tr>\n",
       "  </thead>\n",
       "  <tbody>\n",
       "    <tr>\n",
       "      <th>0</th>\n",
       "      <td>10 Things I Hate About You</td>\n",
       "      <td>movie</td>\n",
       "      <td>PG-13</td>\n",
       "      <td>31 Mar 1999</td>\n",
       "      <td>97 min</td>\n",
       "      <td>2019-11-12</td>\n",
       "      <td>Comedy, Drama, Romance</td>\n",
       "      <td>Gil Junger</td>\n",
       "      <td>Heath Ledger, Julia Stiles, Joseph Gordon-Levi...</td>\n",
       "      <td>USA</td>\n",
       "      <td>11</td>\n",
       "      <td>12</td>\n",
       "      <td>2019</td>\n",
       "    </tr>\n",
       "    <tr>\n",
       "      <th>2</th>\n",
       "      <td>101 Dalmatians</td>\n",
       "      <td>movie</td>\n",
       "      <td>G</td>\n",
       "      <td>27 Nov 1996</td>\n",
       "      <td>103 min</td>\n",
       "      <td>2019-11-12</td>\n",
       "      <td>Adventure, Comedy, Crime, Family</td>\n",
       "      <td>Stephen Herek</td>\n",
       "      <td>Glenn Close, Jeff Daniels, Joely Richardson, J...</td>\n",
       "      <td>USA, UK</td>\n",
       "      <td>11</td>\n",
       "      <td>12</td>\n",
       "      <td>2019</td>\n",
       "    </tr>\n",
       "    <tr>\n",
       "      <th>3</th>\n",
       "      <td>101 Dalmatians 2: Patch's London Adventure</td>\n",
       "      <td>movie</td>\n",
       "      <td>G</td>\n",
       "      <td>21 Jan 2003</td>\n",
       "      <td>74 min</td>\n",
       "      <td>2019-11-12</td>\n",
       "      <td>Animation, Adventure, Comedy, Family, Musical</td>\n",
       "      <td>Jim Kammerud, Brian Smith</td>\n",
       "      <td>Barry Bostwick, Jason Alexander, Martin Short,...</td>\n",
       "      <td>USA</td>\n",
       "      <td>11</td>\n",
       "      <td>12</td>\n",
       "      <td>2019</td>\n",
       "    </tr>\n",
       "    <tr>\n",
       "      <th>4</th>\n",
       "      <td>102 Dalmatians</td>\n",
       "      <td>movie</td>\n",
       "      <td>G</td>\n",
       "      <td>22 Nov 2000</td>\n",
       "      <td>100 min</td>\n",
       "      <td>2019-11-12</td>\n",
       "      <td>Adventure, Comedy, Family</td>\n",
       "      <td>Kevin Lima</td>\n",
       "      <td>Glenn Close, Gérard Depardieu, Ioan Gruffudd, ...</td>\n",
       "      <td>USA, UK</td>\n",
       "      <td>11</td>\n",
       "      <td>12</td>\n",
       "      <td>2019</td>\n",
       "    </tr>\n",
       "    <tr>\n",
       "      <th>5</th>\n",
       "      <td>12 Dates of Christmas</td>\n",
       "      <td>movie</td>\n",
       "      <td>PG</td>\n",
       "      <td>11 Dec 2011</td>\n",
       "      <td>90 min</td>\n",
       "      <td>2019-11-12</td>\n",
       "      <td>Comedy, Fantasy, Romance</td>\n",
       "      <td>James Hayman</td>\n",
       "      <td>Laura Miyata, Vijay Mehta, Amy Smart, Audrey D...</td>\n",
       "      <td>USA</td>\n",
       "      <td>11</td>\n",
       "      <td>12</td>\n",
       "      <td>2019</td>\n",
       "    </tr>\n",
       "  </tbody>\n",
       "</table>\n",
       "</div>"
      ],
      "text/plain": [
       "                                        title show_type film_rating  \\\n",
       "0                  10 Things I Hate About You     movie       PG-13   \n",
       "2                              101 Dalmatians     movie           G   \n",
       "3  101 Dalmatians 2: Patch's London Adventure     movie           G   \n",
       "4                              102 Dalmatians     movie           G   \n",
       "5                       12 Dates of Christmas     movie          PG   \n",
       "\n",
       "   released_at  runtime   added_at  \\\n",
       "0  31 Mar 1999   97 min 2019-11-12   \n",
       "2  27 Nov 1996  103 min 2019-11-12   \n",
       "3  21 Jan 2003   74 min 2019-11-12   \n",
       "4  22 Nov 2000  100 min 2019-11-12   \n",
       "5  11 Dec 2011   90 min 2019-11-12   \n",
       "\n",
       "                                           genre                   director  \\\n",
       "0                         Comedy, Drama, Romance                 Gil Junger   \n",
       "2               Adventure, Comedy, Crime, Family              Stephen Herek   \n",
       "3  Animation, Adventure, Comedy, Family, Musical  Jim Kammerud, Brian Smith   \n",
       "4                      Adventure, Comedy, Family                 Kevin Lima   \n",
       "5                       Comedy, Fantasy, Romance               James Hayman   \n",
       "\n",
       "                                                cast  country  month_added  \\\n",
       "0  Heath Ledger, Julia Stiles, Joseph Gordon-Levi...      USA           11   \n",
       "2  Glenn Close, Jeff Daniels, Joely Richardson, J...  USA, UK           11   \n",
       "3  Barry Bostwick, Jason Alexander, Martin Short,...      USA           11   \n",
       "4  Glenn Close, Gérard Depardieu, Ioan Gruffudd, ...  USA, UK           11   \n",
       "5  Laura Miyata, Vijay Mehta, Amy Smart, Audrey D...      USA           11   \n",
       "\n",
       "   day_added  year_added  \n",
       "0         12        2019  \n",
       "2         12        2019  \n",
       "3         12        2019  \n",
       "4         12        2019  \n",
       "5         12        2019  "
      ]
     },
     "execution_count": 12,
     "metadata": {},
     "output_type": "execute_result"
    }
   ],
   "source": [
    "disney_df['month_added'] = pd.DatetimeIndex(disney_df['added_at']).month\n",
    "disney_df['day_added'] = pd.DatetimeIndex(disney_df['added_at']).day\n",
    "disney_df['year_added'] = pd.DatetimeIndex(disney_df['added_at']).year\n",
    "\n",
    "disney_df.head()"
   ]
  },
  {
   "cell_type": "code",
   "execution_count": 13,
   "metadata": {},
   "outputs": [
    {
     "data": {
      "text/plain": [
       "title                  object\n",
       "show_type              object\n",
       "film_rating            object\n",
       "released_at            object\n",
       "runtime                object\n",
       "added_at       datetime64[ns]\n",
       "genre                  object\n",
       "director               object\n",
       "cast                   object\n",
       "country                object\n",
       "month_added             int64\n",
       "day_added               int64\n",
       "year_added              int64\n",
       "dtype: object"
      ]
     },
     "execution_count": 13,
     "metadata": {},
     "output_type": "execute_result"
    }
   ],
   "source": [
    "disney_df_copy = disney_df.copy()\n",
    "\n",
    "disney_df_copy.dtypes"
   ]
  },
  {
   "cell_type": "code",
   "execution_count": 14,
   "metadata": {},
   "outputs": [
    {
     "data": {
      "text/html": [
       "<div>\n",
       "<style scoped>\n",
       "    .dataframe tbody tr th:only-of-type {\n",
       "        vertical-align: middle;\n",
       "    }\n",
       "\n",
       "    .dataframe tbody tr th {\n",
       "        vertical-align: top;\n",
       "    }\n",
       "\n",
       "    .dataframe thead th {\n",
       "        text-align: right;\n",
       "    }\n",
       "</style>\n",
       "<table border=\"1\" class=\"dataframe\">\n",
       "  <thead>\n",
       "    <tr style=\"text-align: right;\">\n",
       "      <th></th>\n",
       "      <th>title</th>\n",
       "      <th>show_type</th>\n",
       "      <th>film_rating</th>\n",
       "      <th>released_at</th>\n",
       "      <th>runtime</th>\n",
       "      <th>added_at</th>\n",
       "      <th>genre</th>\n",
       "      <th>director</th>\n",
       "      <th>cast</th>\n",
       "      <th>country</th>\n",
       "      <th>month_added</th>\n",
       "      <th>day_added</th>\n",
       "      <th>year_added</th>\n",
       "    </tr>\n",
       "  </thead>\n",
       "  <tbody>\n",
       "    <tr>\n",
       "      <th>0</th>\n",
       "      <td>10 Things I Hate About You</td>\n",
       "      <td>movie</td>\n",
       "      <td>PG-13</td>\n",
       "      <td>31 Mar 1999</td>\n",
       "      <td>97 min</td>\n",
       "      <td>2019-11-12</td>\n",
       "      <td>Comedy, Drama, Romance</td>\n",
       "      <td>Gil Junger</td>\n",
       "      <td>Heath Ledger, Julia Stiles, Joseph Gordon-Levi...</td>\n",
       "      <td>USA</td>\n",
       "      <td>November</td>\n",
       "      <td>12</td>\n",
       "      <td>2019</td>\n",
       "    </tr>\n",
       "    <tr>\n",
       "      <th>2</th>\n",
       "      <td>101 Dalmatians</td>\n",
       "      <td>movie</td>\n",
       "      <td>G</td>\n",
       "      <td>27 Nov 1996</td>\n",
       "      <td>103 min</td>\n",
       "      <td>2019-11-12</td>\n",
       "      <td>Adventure, Comedy, Crime, Family</td>\n",
       "      <td>Stephen Herek</td>\n",
       "      <td>Glenn Close, Jeff Daniels, Joely Richardson, J...</td>\n",
       "      <td>USA, UK</td>\n",
       "      <td>November</td>\n",
       "      <td>12</td>\n",
       "      <td>2019</td>\n",
       "    </tr>\n",
       "    <tr>\n",
       "      <th>3</th>\n",
       "      <td>101 Dalmatians 2: Patch's London Adventure</td>\n",
       "      <td>movie</td>\n",
       "      <td>G</td>\n",
       "      <td>21 Jan 2003</td>\n",
       "      <td>74 min</td>\n",
       "      <td>2019-11-12</td>\n",
       "      <td>Animation, Adventure, Comedy, Family, Musical</td>\n",
       "      <td>Jim Kammerud, Brian Smith</td>\n",
       "      <td>Barry Bostwick, Jason Alexander, Martin Short,...</td>\n",
       "      <td>USA</td>\n",
       "      <td>November</td>\n",
       "      <td>12</td>\n",
       "      <td>2019</td>\n",
       "    </tr>\n",
       "    <tr>\n",
       "      <th>4</th>\n",
       "      <td>102 Dalmatians</td>\n",
       "      <td>movie</td>\n",
       "      <td>G</td>\n",
       "      <td>22 Nov 2000</td>\n",
       "      <td>100 min</td>\n",
       "      <td>2019-11-12</td>\n",
       "      <td>Adventure, Comedy, Family</td>\n",
       "      <td>Kevin Lima</td>\n",
       "      <td>Glenn Close, Gérard Depardieu, Ioan Gruffudd, ...</td>\n",
       "      <td>USA, UK</td>\n",
       "      <td>November</td>\n",
       "      <td>12</td>\n",
       "      <td>2019</td>\n",
       "    </tr>\n",
       "    <tr>\n",
       "      <th>5</th>\n",
       "      <td>12 Dates of Christmas</td>\n",
       "      <td>movie</td>\n",
       "      <td>PG</td>\n",
       "      <td>11 Dec 2011</td>\n",
       "      <td>90 min</td>\n",
       "      <td>2019-11-12</td>\n",
       "      <td>Comedy, Fantasy, Romance</td>\n",
       "      <td>James Hayman</td>\n",
       "      <td>Laura Miyata, Vijay Mehta, Amy Smart, Audrey D...</td>\n",
       "      <td>USA</td>\n",
       "      <td>November</td>\n",
       "      <td>12</td>\n",
       "      <td>2019</td>\n",
       "    </tr>\n",
       "  </tbody>\n",
       "</table>\n",
       "</div>"
      ],
      "text/plain": [
       "                                        title show_type film_rating  \\\n",
       "0                  10 Things I Hate About You     movie       PG-13   \n",
       "2                              101 Dalmatians     movie           G   \n",
       "3  101 Dalmatians 2: Patch's London Adventure     movie           G   \n",
       "4                              102 Dalmatians     movie           G   \n",
       "5                       12 Dates of Christmas     movie          PG   \n",
       "\n",
       "   released_at  runtime   added_at  \\\n",
       "0  31 Mar 1999   97 min 2019-11-12   \n",
       "2  27 Nov 1996  103 min 2019-11-12   \n",
       "3  21 Jan 2003   74 min 2019-11-12   \n",
       "4  22 Nov 2000  100 min 2019-11-12   \n",
       "5  11 Dec 2011   90 min 2019-11-12   \n",
       "\n",
       "                                           genre                   director  \\\n",
       "0                         Comedy, Drama, Romance                 Gil Junger   \n",
       "2               Adventure, Comedy, Crime, Family              Stephen Herek   \n",
       "3  Animation, Adventure, Comedy, Family, Musical  Jim Kammerud, Brian Smith   \n",
       "4                      Adventure, Comedy, Family                 Kevin Lima   \n",
       "5                       Comedy, Fantasy, Romance               James Hayman   \n",
       "\n",
       "                                                cast  country month_added  \\\n",
       "0  Heath Ledger, Julia Stiles, Joseph Gordon-Levi...      USA    November   \n",
       "2  Glenn Close, Jeff Daniels, Joely Richardson, J...  USA, UK    November   \n",
       "3  Barry Bostwick, Jason Alexander, Martin Short,...      USA    November   \n",
       "4  Glenn Close, Gérard Depardieu, Ioan Gruffudd, ...  USA, UK    November   \n",
       "5  Laura Miyata, Vijay Mehta, Amy Smart, Audrey D...      USA    November   \n",
       "\n",
       "   day_added  year_added  \n",
       "0         12        2019  \n",
       "2         12        2019  \n",
       "3         12        2019  \n",
       "4         12        2019  \n",
       "5         12        2019  "
      ]
     },
     "execution_count": 14,
     "metadata": {},
     "output_type": "execute_result"
    }
   ],
   "source": [
    "#Created a dict to change the numerics months to strings so easier to read on graph \n",
    "months = {'1': 'January', '2':'February', '3':'March','4':'April','10':'October', '11':'November','12':'December'}\n",
    "\n",
    "#Change the date time month_released_on_nf column to string \n",
    "disney_df_copy['month_added'] = disney_df_copy['month_added'].astype(str)\n",
    "disney_df_copy = disney_df_copy.replace({'month_added': months})\n",
    "\n",
    "disney_df_copy.head()"
   ]
  },
  {
   "cell_type": "code",
   "execution_count": 15,
   "metadata": {},
   "outputs": [],
   "source": [
    "disney_plus = disney_plus[['title', 'type', 'runtime','rated', 'released_at', 'added_at', 'genre', 'director', 'imdb_rating']]\n",
    "\n",
    "disney_plus['added_at'] = pd.to_datetime(disney_plus['added_at'])\n",
    "\n",
    "disney_plus['month_added'] = pd.DatetimeIndex(disney_plus['added_at']).month\n",
    "disney_plus['year_added'] = pd.DatetimeIndex(disney_plus['added_at']).year\n",
    "\n",
    "#Created a dict to change the numerics months to strings so easier to read on graph \n",
    "months = {'1': 'January', '2':'February', '3':'March','4':'April','10':'October', '11':'November','12':'December'}\n",
    "\n",
    "#Change the date time month_released_on_nf column to string \n",
    "disney_plus['month_added'] = disney_plus['month_added'].astype(str)\n",
    "disney_plus = disney_plus.replace({'month_added': months})\n",
    "disney_plus = disney_plus.rename({'runtime': 'duration'}, axis=1)"
   ]
  },
  {
   "cell_type": "code",
   "execution_count": 52,
   "metadata": {},
   "outputs": [
    {
     "data": {
      "text/html": [
       "<div>\n",
       "<style scoped>\n",
       "    .dataframe tbody tr th:only-of-type {\n",
       "        vertical-align: middle;\n",
       "    }\n",
       "\n",
       "    .dataframe tbody tr th {\n",
       "        vertical-align: top;\n",
       "    }\n",
       "\n",
       "    .dataframe thead th {\n",
       "        text-align: right;\n",
       "    }\n",
       "</style>\n",
       "<table border=\"1\" class=\"dataframe\">\n",
       "  <thead>\n",
       "    <tr style=\"text-align: right;\">\n",
       "      <th></th>\n",
       "      <th>title</th>\n",
       "      <th>type</th>\n",
       "      <th>duration</th>\n",
       "      <th>rated</th>\n",
       "      <th>released_at</th>\n",
       "      <th>added_at</th>\n",
       "      <th>genre</th>\n",
       "      <th>director</th>\n",
       "      <th>imdb_rating</th>\n",
       "      <th>month_added</th>\n",
       "      <th>year_added</th>\n",
       "      <th>original_release_year</th>\n",
       "    </tr>\n",
       "  </thead>\n",
       "  <tbody>\n",
       "    <tr>\n",
       "      <th>0</th>\n",
       "      <td>10 Things I Hate About You</td>\n",
       "      <td>movie</td>\n",
       "      <td>97</td>\n",
       "      <td>PG-13</td>\n",
       "      <td>31 Mar 1999</td>\n",
       "      <td>2019-11-12</td>\n",
       "      <td>Comedy, Drama, Romance</td>\n",
       "      <td>Gil Junger</td>\n",
       "      <td>7.3</td>\n",
       "      <td>November</td>\n",
       "      <td>2019</td>\n",
       "      <td>1999</td>\n",
       "    </tr>\n",
       "    <tr>\n",
       "      <th>1</th>\n",
       "      <td>101 Dalmatian Street</td>\n",
       "      <td>series</td>\n",
       "      <td>0</td>\n",
       "      <td>NaN</td>\n",
       "      <td>25 Mar 2019</td>\n",
       "      <td>2020-02-28</td>\n",
       "      <td>Animation, Comedy, Family</td>\n",
       "      <td>NaN</td>\n",
       "      <td>6.2</td>\n",
       "      <td>February</td>\n",
       "      <td>2020</td>\n",
       "      <td>2019</td>\n",
       "    </tr>\n",
       "    <tr>\n",
       "      <th>2</th>\n",
       "      <td>101 Dalmatians</td>\n",
       "      <td>movie</td>\n",
       "      <td>103</td>\n",
       "      <td>G</td>\n",
       "      <td>27 Nov 1996</td>\n",
       "      <td>2019-11-12</td>\n",
       "      <td>Adventure, Comedy, Crime, Family</td>\n",
       "      <td>Stephen Herek</td>\n",
       "      <td>5.7</td>\n",
       "      <td>November</td>\n",
       "      <td>2019</td>\n",
       "      <td>1996</td>\n",
       "    </tr>\n",
       "    <tr>\n",
       "      <th>3</th>\n",
       "      <td>101 Dalmatians 2: Patch's London Adventure</td>\n",
       "      <td>movie</td>\n",
       "      <td>74</td>\n",
       "      <td>G</td>\n",
       "      <td>21 Jan 2003</td>\n",
       "      <td>2019-11-12</td>\n",
       "      <td>Animation, Adventure, Comedy, Family, Musical</td>\n",
       "      <td>Jim Kammerud, Brian Smith</td>\n",
       "      <td>5.8</td>\n",
       "      <td>November</td>\n",
       "      <td>2019</td>\n",
       "      <td>2003</td>\n",
       "    </tr>\n",
       "    <tr>\n",
       "      <th>4</th>\n",
       "      <td>102 Dalmatians</td>\n",
       "      <td>movie</td>\n",
       "      <td>100</td>\n",
       "      <td>G</td>\n",
       "      <td>22 Nov 2000</td>\n",
       "      <td>2019-11-12</td>\n",
       "      <td>Adventure, Comedy, Family</td>\n",
       "      <td>Kevin Lima</td>\n",
       "      <td>4.9</td>\n",
       "      <td>November</td>\n",
       "      <td>2019</td>\n",
       "      <td>2000</td>\n",
       "    </tr>\n",
       "  </tbody>\n",
       "</table>\n",
       "</div>"
      ],
      "text/plain": [
       "                                        title    type  duration  rated  \\\n",
       "0                  10 Things I Hate About You   movie        97  PG-13   \n",
       "1                        101 Dalmatian Street  series         0    NaN   \n",
       "2                              101 Dalmatians   movie       103      G   \n",
       "3  101 Dalmatians 2: Patch's London Adventure   movie        74      G   \n",
       "4                              102 Dalmatians   movie       100      G   \n",
       "\n",
       "   released_at   added_at                                          genre  \\\n",
       "0  31 Mar 1999 2019-11-12                         Comedy, Drama, Romance   \n",
       "1  25 Mar 2019 2020-02-28                      Animation, Comedy, Family   \n",
       "2  27 Nov 1996 2019-11-12               Adventure, Comedy, Crime, Family   \n",
       "3  21 Jan 2003 2019-11-12  Animation, Adventure, Comedy, Family, Musical   \n",
       "4  22 Nov 2000 2019-11-12                      Adventure, Comedy, Family   \n",
       "\n",
       "                    director  imdb_rating month_added  year_added  \\\n",
       "0                 Gil Junger          7.3    November        2019   \n",
       "1                        NaN          6.2    February        2020   \n",
       "2              Stephen Herek          5.7    November        2019   \n",
       "3  Jim Kammerud, Brian Smith          5.8    November        2019   \n",
       "4                 Kevin Lima          4.9    November        2019   \n",
       "\n",
       "  original_release_year  \n",
       "0                  1999  \n",
       "1                  2019  \n",
       "2                  1996  \n",
       "3                  2003  \n",
       "4                  2000  "
      ]
     },
     "execution_count": 52,
     "metadata": {},
     "output_type": "execute_result"
    }
   ],
   "source": [
    "disney_plus['released_at'] = disney_plus['released_at'].astype(str)\n",
    "\n",
    "disney_plus['original_release_year'] = disney_plus['released_at'].str.split(\" \").apply(lambda x:x[-1])\n",
    "disney_plus.head()"
   ]
  },
  {
   "cell_type": "code",
   "execution_count": 51,
   "metadata": {},
   "outputs": [
    {
     "ename": "AttributeError",
     "evalue": "Can only use .str accessor with string values, which use np.object_ dtype in pandas",
     "output_type": "error",
     "traceback": [
      "\u001b[1;31m---------------------------------------------------------------------------\u001b[0m",
      "\u001b[1;31mAttributeError\u001b[0m                            Traceback (most recent call last)",
      "\u001b[1;32m<ipython-input-51-fc328400921a>\u001b[0m in \u001b[0;36m<module>\u001b[1;34m\u001b[0m\n\u001b[0;32m      1\u001b[0m \u001b[1;31m#Replace the min & and one value with H so we can convert to int for aggregation\u001b[0m\u001b[1;33m\u001b[0m\u001b[1;33m\u001b[0m\u001b[1;33m\u001b[0m\u001b[0m\n\u001b[1;32m----> 2\u001b[1;33m \u001b[0mdisney_plus\u001b[0m\u001b[1;33m[\u001b[0m\u001b[1;34m'duration'\u001b[0m\u001b[1;33m]\u001b[0m \u001b[1;33m=\u001b[0m \u001b[0mdisney_plus\u001b[0m\u001b[1;33m[\u001b[0m\u001b[1;34m'duration'\u001b[0m\u001b[1;33m]\u001b[0m\u001b[1;33m.\u001b[0m\u001b[0mstr\u001b[0m\u001b[1;33m.\u001b[0m\u001b[0mreplace\u001b[0m\u001b[1;33m(\u001b[0m\u001b[1;34m\"min\"\u001b[0m\u001b[1;33m,\u001b[0m \u001b[1;34m\"\"\u001b[0m\u001b[1;33m)\u001b[0m\u001b[1;33m\u001b[0m\u001b[1;33m\u001b[0m\u001b[0m\n\u001b[0m\u001b[0;32m      3\u001b[0m \u001b[0mdisney_plus\u001b[0m\u001b[1;33m[\u001b[0m\u001b[1;34m'duration'\u001b[0m\u001b[1;33m]\u001b[0m \u001b[1;33m=\u001b[0m \u001b[0mdisney_plus\u001b[0m\u001b[1;33m[\u001b[0m\u001b[1;34m'duration'\u001b[0m\u001b[1;33m]\u001b[0m\u001b[1;33m.\u001b[0m\u001b[0mstr\u001b[0m\u001b[1;33m.\u001b[0m\u001b[0mreplace\u001b[0m\u001b[1;33m(\u001b[0m\u001b[1;34m\"h\"\u001b[0m\u001b[1;33m,\u001b[0m \u001b[1;34m\"\"\u001b[0m\u001b[1;33m)\u001b[0m\u001b[1;33m\u001b[0m\u001b[1;33m\u001b[0m\u001b[0m\n\u001b[0;32m      4\u001b[0m \u001b[1;33m\u001b[0m\u001b[0m\n\u001b[0;32m      5\u001b[0m \u001b[0mdisney_plus\u001b[0m\u001b[1;33m[\u001b[0m\u001b[1;34m'duration'\u001b[0m\u001b[1;33m]\u001b[0m \u001b[1;33m=\u001b[0m \u001b[0mdisney_plus\u001b[0m\u001b[1;33m[\u001b[0m\u001b[1;34m'duration'\u001b[0m\u001b[1;33m]\u001b[0m\u001b[1;33m.\u001b[0m\u001b[0mfillna\u001b[0m\u001b[1;33m(\u001b[0m\u001b[0mvalue\u001b[0m\u001b[1;33m=\u001b[0m\u001b[1;36m0\u001b[0m\u001b[1;33m)\u001b[0m\u001b[1;33m\u001b[0m\u001b[1;33m\u001b[0m\u001b[0m\n",
      "\u001b[1;32m~\\Anaconda3\\lib\\site-packages\\pandas\\core\\generic.py\u001b[0m in \u001b[0;36m__getattr__\u001b[1;34m(self, name)\u001b[0m\n\u001b[0;32m   5061\u001b[0m         if (name in self._internal_names_set or name in self._metadata or\n\u001b[0;32m   5062\u001b[0m                 name in self._accessors):\n\u001b[1;32m-> 5063\u001b[1;33m             \u001b[1;32mreturn\u001b[0m \u001b[0mobject\u001b[0m\u001b[1;33m.\u001b[0m\u001b[0m__getattribute__\u001b[0m\u001b[1;33m(\u001b[0m\u001b[0mself\u001b[0m\u001b[1;33m,\u001b[0m \u001b[0mname\u001b[0m\u001b[1;33m)\u001b[0m\u001b[1;33m\u001b[0m\u001b[1;33m\u001b[0m\u001b[0m\n\u001b[0m\u001b[0;32m   5064\u001b[0m         \u001b[1;32melse\u001b[0m\u001b[1;33m:\u001b[0m\u001b[1;33m\u001b[0m\u001b[1;33m\u001b[0m\u001b[0m\n\u001b[0;32m   5065\u001b[0m             \u001b[1;32mif\u001b[0m \u001b[0mself\u001b[0m\u001b[1;33m.\u001b[0m\u001b[0m_info_axis\u001b[0m\u001b[1;33m.\u001b[0m\u001b[0m_can_hold_identifiers_and_holds_name\u001b[0m\u001b[1;33m(\u001b[0m\u001b[0mname\u001b[0m\u001b[1;33m)\u001b[0m\u001b[1;33m:\u001b[0m\u001b[1;33m\u001b[0m\u001b[1;33m\u001b[0m\u001b[0m\n",
      "\u001b[1;32m~\\Anaconda3\\lib\\site-packages\\pandas\\core\\accessor.py\u001b[0m in \u001b[0;36m__get__\u001b[1;34m(self, obj, cls)\u001b[0m\n\u001b[0;32m    169\u001b[0m             \u001b[1;31m# we're accessing the attribute of the class, i.e., Dataset.geo\u001b[0m\u001b[1;33m\u001b[0m\u001b[1;33m\u001b[0m\u001b[1;33m\u001b[0m\u001b[0m\n\u001b[0;32m    170\u001b[0m             \u001b[1;32mreturn\u001b[0m \u001b[0mself\u001b[0m\u001b[1;33m.\u001b[0m\u001b[0m_accessor\u001b[0m\u001b[1;33m\u001b[0m\u001b[1;33m\u001b[0m\u001b[0m\n\u001b[1;32m--> 171\u001b[1;33m         \u001b[0maccessor_obj\u001b[0m \u001b[1;33m=\u001b[0m \u001b[0mself\u001b[0m\u001b[1;33m.\u001b[0m\u001b[0m_accessor\u001b[0m\u001b[1;33m(\u001b[0m\u001b[0mobj\u001b[0m\u001b[1;33m)\u001b[0m\u001b[1;33m\u001b[0m\u001b[1;33m\u001b[0m\u001b[0m\n\u001b[0m\u001b[0;32m    172\u001b[0m         \u001b[1;31m# Replace the property with the accessor object. Inspired by:\u001b[0m\u001b[1;33m\u001b[0m\u001b[1;33m\u001b[0m\u001b[1;33m\u001b[0m\u001b[0m\n\u001b[0;32m    173\u001b[0m         \u001b[1;31m# http://www.pydanny.com/cached-property.html\u001b[0m\u001b[1;33m\u001b[0m\u001b[1;33m\u001b[0m\u001b[1;33m\u001b[0m\u001b[0m\n",
      "\u001b[1;32m~\\Anaconda3\\lib\\site-packages\\pandas\\core\\strings.py\u001b[0m in \u001b[0;36m__init__\u001b[1;34m(self, data)\u001b[0m\n\u001b[0;32m   1794\u001b[0m \u001b[1;33m\u001b[0m\u001b[0m\n\u001b[0;32m   1795\u001b[0m     \u001b[1;32mdef\u001b[0m \u001b[0m__init__\u001b[0m\u001b[1;33m(\u001b[0m\u001b[0mself\u001b[0m\u001b[1;33m,\u001b[0m \u001b[0mdata\u001b[0m\u001b[1;33m)\u001b[0m\u001b[1;33m:\u001b[0m\u001b[1;33m\u001b[0m\u001b[1;33m\u001b[0m\u001b[0m\n\u001b[1;32m-> 1796\u001b[1;33m         \u001b[0mself\u001b[0m\u001b[1;33m.\u001b[0m\u001b[0m_validate\u001b[0m\u001b[1;33m(\u001b[0m\u001b[0mdata\u001b[0m\u001b[1;33m)\u001b[0m\u001b[1;33m\u001b[0m\u001b[1;33m\u001b[0m\u001b[0m\n\u001b[0m\u001b[0;32m   1797\u001b[0m         \u001b[0mself\u001b[0m\u001b[1;33m.\u001b[0m\u001b[0m_is_categorical\u001b[0m \u001b[1;33m=\u001b[0m \u001b[0mis_categorical_dtype\u001b[0m\u001b[1;33m(\u001b[0m\u001b[0mdata\u001b[0m\u001b[1;33m)\u001b[0m\u001b[1;33m\u001b[0m\u001b[1;33m\u001b[0m\u001b[0m\n\u001b[0;32m   1798\u001b[0m \u001b[1;33m\u001b[0m\u001b[0m\n",
      "\u001b[1;32m~\\Anaconda3\\lib\\site-packages\\pandas\\core\\strings.py\u001b[0m in \u001b[0;36m_validate\u001b[1;34m(data)\u001b[0m\n\u001b[0;32m   1816\u001b[0m             \u001b[1;31m# (instead of test for object dtype), but that isn't practical for\u001b[0m\u001b[1;33m\u001b[0m\u001b[1;33m\u001b[0m\u001b[1;33m\u001b[0m\u001b[0m\n\u001b[0;32m   1817\u001b[0m             \u001b[1;31m# performance reasons until we have a str dtype (GH 9343)\u001b[0m\u001b[1;33m\u001b[0m\u001b[1;33m\u001b[0m\u001b[1;33m\u001b[0m\u001b[0m\n\u001b[1;32m-> 1818\u001b[1;33m             raise AttributeError(\"Can only use .str accessor with string \"\n\u001b[0m\u001b[0;32m   1819\u001b[0m                                  \u001b[1;34m\"values, which use np.object_ dtype in \"\u001b[0m\u001b[1;33m\u001b[0m\u001b[1;33m\u001b[0m\u001b[0m\n\u001b[0;32m   1820\u001b[0m                                  \"pandas\")\n",
      "\u001b[1;31mAttributeError\u001b[0m: Can only use .str accessor with string values, which use np.object_ dtype in pandas"
     ]
    }
   ],
   "source": [
    "# #Replace the min & and one value with H so we can convert to int for aggregation\n",
    "# disney_plus['duration'] = disney_plus['duration'].str.replace(\"min\", \"\")\n",
    "# disney_plus['duration'] = disney_plus['duration'].str.replace(\"h\", \"\")\n",
    "\n",
    "# disney_plus['duration'] = disney_plus['duration'].fillna(value=0)\n",
    "# disney_plus['duration'] = disney_plus['duration'].astype(int)"
   ]
  },
  {
   "cell_type": "markdown",
   "metadata": {},
   "source": [
    "# Data Analysis"
   ]
  },
  {
   "cell_type": "code",
   "execution_count": 53,
   "metadata": {},
   "outputs": [
    {
     "data": {
      "application/vnd.plotly.v1+json": {
       "config": {
        "linkText": "Export to plot.ly",
        "plotlyServerURL": "https://plot.ly",
        "showLink": false
       },
       "data": [
        {
         "labels": [
          "movie",
          "series",
          "episode"
         ],
         "marker": {
          "colors": [
           "#6ad49b",
           "#1f77b4"
          ]
         },
         "pull": [
          0.05,
          0
         ],
         "type": "pie",
         "values": [
          660,
          187,
          23
         ]
        }
       ],
       "layout": {
        "height": 400,
        "legend": {
         "x": 0.1,
         "y": 1.1
        },
        "template": {
         "data": {
          "bar": [
           {
            "error_x": {
             "color": "#2a3f5f"
            },
            "error_y": {
             "color": "#2a3f5f"
            },
            "marker": {
             "line": {
              "color": "#E5ECF6",
              "width": 0.5
             }
            },
            "type": "bar"
           }
          ],
          "barpolar": [
           {
            "marker": {
             "line": {
              "color": "#E5ECF6",
              "width": 0.5
             }
            },
            "type": "barpolar"
           }
          ],
          "carpet": [
           {
            "aaxis": {
             "endlinecolor": "#2a3f5f",
             "gridcolor": "white",
             "linecolor": "white",
             "minorgridcolor": "white",
             "startlinecolor": "#2a3f5f"
            },
            "baxis": {
             "endlinecolor": "#2a3f5f",
             "gridcolor": "white",
             "linecolor": "white",
             "minorgridcolor": "white",
             "startlinecolor": "#2a3f5f"
            },
            "type": "carpet"
           }
          ],
          "choropleth": [
           {
            "colorbar": {
             "outlinewidth": 0,
             "ticks": ""
            },
            "type": "choropleth"
           }
          ],
          "contour": [
           {
            "colorbar": {
             "outlinewidth": 0,
             "ticks": ""
            },
            "colorscale": [
             [
              0,
              "#0d0887"
             ],
             [
              0.1111111111111111,
              "#46039f"
             ],
             [
              0.2222222222222222,
              "#7201a8"
             ],
             [
              0.3333333333333333,
              "#9c179e"
             ],
             [
              0.4444444444444444,
              "#bd3786"
             ],
             [
              0.5555555555555556,
              "#d8576b"
             ],
             [
              0.6666666666666666,
              "#ed7953"
             ],
             [
              0.7777777777777778,
              "#fb9f3a"
             ],
             [
              0.8888888888888888,
              "#fdca26"
             ],
             [
              1,
              "#f0f921"
             ]
            ],
            "type": "contour"
           }
          ],
          "contourcarpet": [
           {
            "colorbar": {
             "outlinewidth": 0,
             "ticks": ""
            },
            "type": "contourcarpet"
           }
          ],
          "heatmap": [
           {
            "colorbar": {
             "outlinewidth": 0,
             "ticks": ""
            },
            "colorscale": [
             [
              0,
              "#0d0887"
             ],
             [
              0.1111111111111111,
              "#46039f"
             ],
             [
              0.2222222222222222,
              "#7201a8"
             ],
             [
              0.3333333333333333,
              "#9c179e"
             ],
             [
              0.4444444444444444,
              "#bd3786"
             ],
             [
              0.5555555555555556,
              "#d8576b"
             ],
             [
              0.6666666666666666,
              "#ed7953"
             ],
             [
              0.7777777777777778,
              "#fb9f3a"
             ],
             [
              0.8888888888888888,
              "#fdca26"
             ],
             [
              1,
              "#f0f921"
             ]
            ],
            "type": "heatmap"
           }
          ],
          "heatmapgl": [
           {
            "colorbar": {
             "outlinewidth": 0,
             "ticks": ""
            },
            "colorscale": [
             [
              0,
              "#0d0887"
             ],
             [
              0.1111111111111111,
              "#46039f"
             ],
             [
              0.2222222222222222,
              "#7201a8"
             ],
             [
              0.3333333333333333,
              "#9c179e"
             ],
             [
              0.4444444444444444,
              "#bd3786"
             ],
             [
              0.5555555555555556,
              "#d8576b"
             ],
             [
              0.6666666666666666,
              "#ed7953"
             ],
             [
              0.7777777777777778,
              "#fb9f3a"
             ],
             [
              0.8888888888888888,
              "#fdca26"
             ],
             [
              1,
              "#f0f921"
             ]
            ],
            "type": "heatmapgl"
           }
          ],
          "histogram": [
           {
            "marker": {
             "colorbar": {
              "outlinewidth": 0,
              "ticks": ""
             }
            },
            "type": "histogram"
           }
          ],
          "histogram2d": [
           {
            "colorbar": {
             "outlinewidth": 0,
             "ticks": ""
            },
            "colorscale": [
             [
              0,
              "#0d0887"
             ],
             [
              0.1111111111111111,
              "#46039f"
             ],
             [
              0.2222222222222222,
              "#7201a8"
             ],
             [
              0.3333333333333333,
              "#9c179e"
             ],
             [
              0.4444444444444444,
              "#bd3786"
             ],
             [
              0.5555555555555556,
              "#d8576b"
             ],
             [
              0.6666666666666666,
              "#ed7953"
             ],
             [
              0.7777777777777778,
              "#fb9f3a"
             ],
             [
              0.8888888888888888,
              "#fdca26"
             ],
             [
              1,
              "#f0f921"
             ]
            ],
            "type": "histogram2d"
           }
          ],
          "histogram2dcontour": [
           {
            "colorbar": {
             "outlinewidth": 0,
             "ticks": ""
            },
            "colorscale": [
             [
              0,
              "#0d0887"
             ],
             [
              0.1111111111111111,
              "#46039f"
             ],
             [
              0.2222222222222222,
              "#7201a8"
             ],
             [
              0.3333333333333333,
              "#9c179e"
             ],
             [
              0.4444444444444444,
              "#bd3786"
             ],
             [
              0.5555555555555556,
              "#d8576b"
             ],
             [
              0.6666666666666666,
              "#ed7953"
             ],
             [
              0.7777777777777778,
              "#fb9f3a"
             ],
             [
              0.8888888888888888,
              "#fdca26"
             ],
             [
              1,
              "#f0f921"
             ]
            ],
            "type": "histogram2dcontour"
           }
          ],
          "mesh3d": [
           {
            "colorbar": {
             "outlinewidth": 0,
             "ticks": ""
            },
            "type": "mesh3d"
           }
          ],
          "parcoords": [
           {
            "line": {
             "colorbar": {
              "outlinewidth": 0,
              "ticks": ""
             }
            },
            "type": "parcoords"
           }
          ],
          "pie": [
           {
            "automargin": true,
            "type": "pie"
           }
          ],
          "scatter": [
           {
            "marker": {
             "colorbar": {
              "outlinewidth": 0,
              "ticks": ""
             }
            },
            "type": "scatter"
           }
          ],
          "scatter3d": [
           {
            "line": {
             "colorbar": {
              "outlinewidth": 0,
              "ticks": ""
             }
            },
            "marker": {
             "colorbar": {
              "outlinewidth": 0,
              "ticks": ""
             }
            },
            "type": "scatter3d"
           }
          ],
          "scattercarpet": [
           {
            "marker": {
             "colorbar": {
              "outlinewidth": 0,
              "ticks": ""
             }
            },
            "type": "scattercarpet"
           }
          ],
          "scattergeo": [
           {
            "marker": {
             "colorbar": {
              "outlinewidth": 0,
              "ticks": ""
             }
            },
            "type": "scattergeo"
           }
          ],
          "scattergl": [
           {
            "marker": {
             "colorbar": {
              "outlinewidth": 0,
              "ticks": ""
             }
            },
            "type": "scattergl"
           }
          ],
          "scattermapbox": [
           {
            "marker": {
             "colorbar": {
              "outlinewidth": 0,
              "ticks": ""
             }
            },
            "type": "scattermapbox"
           }
          ],
          "scatterpolar": [
           {
            "marker": {
             "colorbar": {
              "outlinewidth": 0,
              "ticks": ""
             }
            },
            "type": "scatterpolar"
           }
          ],
          "scatterpolargl": [
           {
            "marker": {
             "colorbar": {
              "outlinewidth": 0,
              "ticks": ""
             }
            },
            "type": "scatterpolargl"
           }
          ],
          "scatterternary": [
           {
            "marker": {
             "colorbar": {
              "outlinewidth": 0,
              "ticks": ""
             }
            },
            "type": "scatterternary"
           }
          ],
          "surface": [
           {
            "colorbar": {
             "outlinewidth": 0,
             "ticks": ""
            },
            "colorscale": [
             [
              0,
              "#0d0887"
             ],
             [
              0.1111111111111111,
              "#46039f"
             ],
             [
              0.2222222222222222,
              "#7201a8"
             ],
             [
              0.3333333333333333,
              "#9c179e"
             ],
             [
              0.4444444444444444,
              "#bd3786"
             ],
             [
              0.5555555555555556,
              "#d8576b"
             ],
             [
              0.6666666666666666,
              "#ed7953"
             ],
             [
              0.7777777777777778,
              "#fb9f3a"
             ],
             [
              0.8888888888888888,
              "#fdca26"
             ],
             [
              1,
              "#f0f921"
             ]
            ],
            "type": "surface"
           }
          ],
          "table": [
           {
            "cells": {
             "fill": {
              "color": "#EBF0F8"
             },
             "line": {
              "color": "white"
             }
            },
            "header": {
             "fill": {
              "color": "#C8D4E3"
             },
             "line": {
              "color": "white"
             }
            },
            "type": "table"
           }
          ]
         },
         "layout": {
          "annotationdefaults": {
           "arrowcolor": "#2a3f5f",
           "arrowhead": 0,
           "arrowwidth": 1
          },
          "coloraxis": {
           "colorbar": {
            "outlinewidth": 0,
            "ticks": ""
           }
          },
          "colorscale": {
           "diverging": [
            [
             0,
             "#8e0152"
            ],
            [
             0.1,
             "#c51b7d"
            ],
            [
             0.2,
             "#de77ae"
            ],
            [
             0.3,
             "#f1b6da"
            ],
            [
             0.4,
             "#fde0ef"
            ],
            [
             0.5,
             "#f7f7f7"
            ],
            [
             0.6,
             "#e6f5d0"
            ],
            [
             0.7,
             "#b8e186"
            ],
            [
             0.8,
             "#7fbc41"
            ],
            [
             0.9,
             "#4d9221"
            ],
            [
             1,
             "#276419"
            ]
           ],
           "sequential": [
            [
             0,
             "#0d0887"
            ],
            [
             0.1111111111111111,
             "#46039f"
            ],
            [
             0.2222222222222222,
             "#7201a8"
            ],
            [
             0.3333333333333333,
             "#9c179e"
            ],
            [
             0.4444444444444444,
             "#bd3786"
            ],
            [
             0.5555555555555556,
             "#d8576b"
            ],
            [
             0.6666666666666666,
             "#ed7953"
            ],
            [
             0.7777777777777778,
             "#fb9f3a"
            ],
            [
             0.8888888888888888,
             "#fdca26"
            ],
            [
             1,
             "#f0f921"
            ]
           ],
           "sequentialminus": [
            [
             0,
             "#0d0887"
            ],
            [
             0.1111111111111111,
             "#46039f"
            ],
            [
             0.2222222222222222,
             "#7201a8"
            ],
            [
             0.3333333333333333,
             "#9c179e"
            ],
            [
             0.4444444444444444,
             "#bd3786"
            ],
            [
             0.5555555555555556,
             "#d8576b"
            ],
            [
             0.6666666666666666,
             "#ed7953"
            ],
            [
             0.7777777777777778,
             "#fb9f3a"
            ],
            [
             0.8888888888888888,
             "#fdca26"
            ],
            [
             1,
             "#f0f921"
            ]
           ]
          },
          "colorway": [
           "#636efa",
           "#EF553B",
           "#00cc96",
           "#ab63fa",
           "#FFA15A",
           "#19d3f3",
           "#FF6692",
           "#B6E880",
           "#FF97FF",
           "#FECB52"
          ],
          "font": {
           "color": "#2a3f5f"
          },
          "geo": {
           "bgcolor": "white",
           "lakecolor": "white",
           "landcolor": "#E5ECF6",
           "showlakes": true,
           "showland": true,
           "subunitcolor": "white"
          },
          "hoverlabel": {
           "align": "left"
          },
          "hovermode": "closest",
          "mapbox": {
           "style": "light"
          },
          "paper_bgcolor": "white",
          "plot_bgcolor": "#E5ECF6",
          "polar": {
           "angularaxis": {
            "gridcolor": "white",
            "linecolor": "white",
            "ticks": ""
           },
           "bgcolor": "#E5ECF6",
           "radialaxis": {
            "gridcolor": "white",
            "linecolor": "white",
            "ticks": ""
           }
          },
          "scene": {
           "xaxis": {
            "backgroundcolor": "#E5ECF6",
            "gridcolor": "white",
            "gridwidth": 2,
            "linecolor": "white",
            "showbackground": true,
            "ticks": "",
            "zerolinecolor": "white"
           },
           "yaxis": {
            "backgroundcolor": "#E5ECF6",
            "gridcolor": "white",
            "gridwidth": 2,
            "linecolor": "white",
            "showbackground": true,
            "ticks": "",
            "zerolinecolor": "white"
           },
           "zaxis": {
            "backgroundcolor": "#E5ECF6",
            "gridcolor": "white",
            "gridwidth": 2,
            "linecolor": "white",
            "showbackground": true,
            "ticks": "",
            "zerolinecolor": "white"
           }
          },
          "shapedefaults": {
           "line": {
            "color": "#2a3f5f"
           }
          },
          "ternary": {
           "aaxis": {
            "gridcolor": "white",
            "linecolor": "white",
            "ticks": ""
           },
           "baxis": {
            "gridcolor": "white",
            "linecolor": "white",
            "ticks": ""
           },
           "bgcolor": "#E5ECF6",
           "caxis": {
            "gridcolor": "white",
            "linecolor": "white",
            "ticks": ""
           }
          },
          "title": {
           "x": 0.05
          },
          "xaxis": {
           "automargin": true,
           "gridcolor": "white",
           "linecolor": "white",
           "ticks": "",
           "title": {
            "standoff": 15
           },
           "zerolinecolor": "white",
           "zerolinewidth": 2
          },
          "yaxis": {
           "automargin": true,
           "gridcolor": "white",
           "linecolor": "white",
           "ticks": "",
           "title": {
            "standoff": 15
           },
           "zerolinecolor": "white",
           "zerolinewidth": 2
          }
         }
        },
        "title": {
         "text": " Distribution of Show Types on Disney +"
        }
       }
      },
      "text/html": [
       "<div>\n",
       "        \n",
       "        \n",
       "            <div id=\"c3d94db6-ff75-41a1-8277-3370a928b4fc\" class=\"plotly-graph-div\" style=\"height:400px; width:100%;\"></div>\n",
       "            <script type=\"text/javascript\">\n",
       "                require([\"plotly\"], function(Plotly) {\n",
       "                    window.PLOTLYENV=window.PLOTLYENV || {};\n",
       "                    \n",
       "                if (document.getElementById(\"c3d94db6-ff75-41a1-8277-3370a928b4fc\")) {\n",
       "                    Plotly.newPlot(\n",
       "                        'c3d94db6-ff75-41a1-8277-3370a928b4fc',\n",
       "                        [{\"labels\": [\"movie\", \"series\", \"episode\"], \"marker\": {\"colors\": [\"#6ad49b\", \"#1f77b4\"]}, \"pull\": [0.05, 0], \"type\": \"pie\", \"values\": [660, 187, 23]}],\n",
       "                        {\"height\": 400, \"legend\": {\"x\": 0.1, \"y\": 1.1}, \"template\": {\"data\": {\"bar\": [{\"error_x\": {\"color\": \"#2a3f5f\"}, \"error_y\": {\"color\": \"#2a3f5f\"}, \"marker\": {\"line\": {\"color\": \"#E5ECF6\", \"width\": 0.5}}, \"type\": \"bar\"}], \"barpolar\": [{\"marker\": {\"line\": {\"color\": \"#E5ECF6\", \"width\": 0.5}}, \"type\": \"barpolar\"}], \"carpet\": [{\"aaxis\": {\"endlinecolor\": \"#2a3f5f\", \"gridcolor\": \"white\", \"linecolor\": \"white\", \"minorgridcolor\": \"white\", \"startlinecolor\": \"#2a3f5f\"}, \"baxis\": {\"endlinecolor\": \"#2a3f5f\", \"gridcolor\": \"white\", \"linecolor\": \"white\", \"minorgridcolor\": \"white\", \"startlinecolor\": \"#2a3f5f\"}, \"type\": \"carpet\"}], \"choropleth\": [{\"colorbar\": {\"outlinewidth\": 0, \"ticks\": \"\"}, \"type\": \"choropleth\"}], \"contour\": [{\"colorbar\": {\"outlinewidth\": 0, \"ticks\": \"\"}, \"colorscale\": [[0.0, \"#0d0887\"], [0.1111111111111111, \"#46039f\"], [0.2222222222222222, \"#7201a8\"], [0.3333333333333333, \"#9c179e\"], [0.4444444444444444, \"#bd3786\"], [0.5555555555555556, \"#d8576b\"], [0.6666666666666666, \"#ed7953\"], [0.7777777777777778, \"#fb9f3a\"], [0.8888888888888888, \"#fdca26\"], [1.0, \"#f0f921\"]], \"type\": \"contour\"}], \"contourcarpet\": [{\"colorbar\": {\"outlinewidth\": 0, \"ticks\": \"\"}, \"type\": \"contourcarpet\"}], \"heatmap\": [{\"colorbar\": {\"outlinewidth\": 0, \"ticks\": \"\"}, \"colorscale\": [[0.0, \"#0d0887\"], [0.1111111111111111, \"#46039f\"], [0.2222222222222222, \"#7201a8\"], [0.3333333333333333, \"#9c179e\"], [0.4444444444444444, \"#bd3786\"], [0.5555555555555556, \"#d8576b\"], [0.6666666666666666, \"#ed7953\"], [0.7777777777777778, \"#fb9f3a\"], [0.8888888888888888, \"#fdca26\"], [1.0, \"#f0f921\"]], \"type\": \"heatmap\"}], \"heatmapgl\": [{\"colorbar\": {\"outlinewidth\": 0, \"ticks\": \"\"}, \"colorscale\": [[0.0, \"#0d0887\"], [0.1111111111111111, \"#46039f\"], [0.2222222222222222, \"#7201a8\"], [0.3333333333333333, \"#9c179e\"], [0.4444444444444444, \"#bd3786\"], [0.5555555555555556, \"#d8576b\"], [0.6666666666666666, \"#ed7953\"], [0.7777777777777778, \"#fb9f3a\"], [0.8888888888888888, \"#fdca26\"], [1.0, \"#f0f921\"]], \"type\": \"heatmapgl\"}], \"histogram\": [{\"marker\": {\"colorbar\": {\"outlinewidth\": 0, \"ticks\": \"\"}}, \"type\": \"histogram\"}], \"histogram2d\": [{\"colorbar\": {\"outlinewidth\": 0, \"ticks\": \"\"}, \"colorscale\": [[0.0, \"#0d0887\"], [0.1111111111111111, \"#46039f\"], [0.2222222222222222, \"#7201a8\"], [0.3333333333333333, \"#9c179e\"], [0.4444444444444444, \"#bd3786\"], [0.5555555555555556, \"#d8576b\"], [0.6666666666666666, \"#ed7953\"], [0.7777777777777778, \"#fb9f3a\"], [0.8888888888888888, \"#fdca26\"], [1.0, \"#f0f921\"]], \"type\": \"histogram2d\"}], \"histogram2dcontour\": [{\"colorbar\": {\"outlinewidth\": 0, \"ticks\": \"\"}, \"colorscale\": [[0.0, \"#0d0887\"], [0.1111111111111111, \"#46039f\"], [0.2222222222222222, \"#7201a8\"], [0.3333333333333333, \"#9c179e\"], [0.4444444444444444, \"#bd3786\"], [0.5555555555555556, \"#d8576b\"], [0.6666666666666666, \"#ed7953\"], [0.7777777777777778, \"#fb9f3a\"], [0.8888888888888888, \"#fdca26\"], [1.0, \"#f0f921\"]], \"type\": \"histogram2dcontour\"}], \"mesh3d\": [{\"colorbar\": {\"outlinewidth\": 0, \"ticks\": \"\"}, \"type\": \"mesh3d\"}], \"parcoords\": [{\"line\": {\"colorbar\": {\"outlinewidth\": 0, \"ticks\": \"\"}}, \"type\": \"parcoords\"}], \"pie\": [{\"automargin\": true, \"type\": \"pie\"}], \"scatter\": [{\"marker\": {\"colorbar\": {\"outlinewidth\": 0, \"ticks\": \"\"}}, \"type\": \"scatter\"}], \"scatter3d\": [{\"line\": {\"colorbar\": {\"outlinewidth\": 0, \"ticks\": \"\"}}, \"marker\": {\"colorbar\": {\"outlinewidth\": 0, \"ticks\": \"\"}}, \"type\": \"scatter3d\"}], \"scattercarpet\": [{\"marker\": {\"colorbar\": {\"outlinewidth\": 0, \"ticks\": \"\"}}, \"type\": \"scattercarpet\"}], \"scattergeo\": [{\"marker\": {\"colorbar\": {\"outlinewidth\": 0, \"ticks\": \"\"}}, \"type\": \"scattergeo\"}], \"scattergl\": [{\"marker\": {\"colorbar\": {\"outlinewidth\": 0, \"ticks\": \"\"}}, \"type\": \"scattergl\"}], \"scattermapbox\": [{\"marker\": {\"colorbar\": {\"outlinewidth\": 0, \"ticks\": \"\"}}, \"type\": \"scattermapbox\"}], \"scatterpolar\": [{\"marker\": {\"colorbar\": {\"outlinewidth\": 0, \"ticks\": \"\"}}, \"type\": \"scatterpolar\"}], \"scatterpolargl\": [{\"marker\": {\"colorbar\": {\"outlinewidth\": 0, \"ticks\": \"\"}}, \"type\": \"scatterpolargl\"}], \"scatterternary\": [{\"marker\": {\"colorbar\": {\"outlinewidth\": 0, \"ticks\": \"\"}}, \"type\": \"scatterternary\"}], \"surface\": [{\"colorbar\": {\"outlinewidth\": 0, \"ticks\": \"\"}, \"colorscale\": [[0.0, \"#0d0887\"], [0.1111111111111111, \"#46039f\"], [0.2222222222222222, \"#7201a8\"], [0.3333333333333333, \"#9c179e\"], [0.4444444444444444, \"#bd3786\"], [0.5555555555555556, \"#d8576b\"], [0.6666666666666666, \"#ed7953\"], [0.7777777777777778, \"#fb9f3a\"], [0.8888888888888888, \"#fdca26\"], [1.0, \"#f0f921\"]], \"type\": \"surface\"}], \"table\": [{\"cells\": {\"fill\": {\"color\": \"#EBF0F8\"}, \"line\": {\"color\": \"white\"}}, \"header\": {\"fill\": {\"color\": \"#C8D4E3\"}, \"line\": {\"color\": \"white\"}}, \"type\": \"table\"}]}, \"layout\": {\"annotationdefaults\": {\"arrowcolor\": \"#2a3f5f\", \"arrowhead\": 0, \"arrowwidth\": 1}, \"coloraxis\": {\"colorbar\": {\"outlinewidth\": 0, \"ticks\": \"\"}}, \"colorscale\": {\"diverging\": [[0, \"#8e0152\"], [0.1, \"#c51b7d\"], [0.2, \"#de77ae\"], [0.3, \"#f1b6da\"], [0.4, \"#fde0ef\"], [0.5, \"#f7f7f7\"], [0.6, \"#e6f5d0\"], [0.7, \"#b8e186\"], [0.8, \"#7fbc41\"], [0.9, \"#4d9221\"], [1, \"#276419\"]], \"sequential\": [[0.0, \"#0d0887\"], [0.1111111111111111, \"#46039f\"], [0.2222222222222222, \"#7201a8\"], [0.3333333333333333, \"#9c179e\"], [0.4444444444444444, \"#bd3786\"], [0.5555555555555556, \"#d8576b\"], [0.6666666666666666, \"#ed7953\"], [0.7777777777777778, \"#fb9f3a\"], [0.8888888888888888, \"#fdca26\"], [1.0, \"#f0f921\"]], \"sequentialminus\": [[0.0, \"#0d0887\"], [0.1111111111111111, \"#46039f\"], [0.2222222222222222, \"#7201a8\"], [0.3333333333333333, \"#9c179e\"], [0.4444444444444444, \"#bd3786\"], [0.5555555555555556, \"#d8576b\"], [0.6666666666666666, \"#ed7953\"], [0.7777777777777778, \"#fb9f3a\"], [0.8888888888888888, \"#fdca26\"], [1.0, \"#f0f921\"]]}, \"colorway\": [\"#636efa\", \"#EF553B\", \"#00cc96\", \"#ab63fa\", \"#FFA15A\", \"#19d3f3\", \"#FF6692\", \"#B6E880\", \"#FF97FF\", \"#FECB52\"], \"font\": {\"color\": \"#2a3f5f\"}, \"geo\": {\"bgcolor\": \"white\", \"lakecolor\": \"white\", \"landcolor\": \"#E5ECF6\", \"showlakes\": true, \"showland\": true, \"subunitcolor\": \"white\"}, \"hoverlabel\": {\"align\": \"left\"}, \"hovermode\": \"closest\", \"mapbox\": {\"style\": \"light\"}, \"paper_bgcolor\": \"white\", \"plot_bgcolor\": \"#E5ECF6\", \"polar\": {\"angularaxis\": {\"gridcolor\": \"white\", \"linecolor\": \"white\", \"ticks\": \"\"}, \"bgcolor\": \"#E5ECF6\", \"radialaxis\": {\"gridcolor\": \"white\", \"linecolor\": \"white\", \"ticks\": \"\"}}, \"scene\": {\"xaxis\": {\"backgroundcolor\": \"#E5ECF6\", \"gridcolor\": \"white\", \"gridwidth\": 2, \"linecolor\": \"white\", \"showbackground\": true, \"ticks\": \"\", \"zerolinecolor\": \"white\"}, \"yaxis\": {\"backgroundcolor\": \"#E5ECF6\", \"gridcolor\": \"white\", \"gridwidth\": 2, \"linecolor\": \"white\", \"showbackground\": true, \"ticks\": \"\", \"zerolinecolor\": \"white\"}, \"zaxis\": {\"backgroundcolor\": \"#E5ECF6\", \"gridcolor\": \"white\", \"gridwidth\": 2, \"linecolor\": \"white\", \"showbackground\": true, \"ticks\": \"\", \"zerolinecolor\": \"white\"}}, \"shapedefaults\": {\"line\": {\"color\": \"#2a3f5f\"}}, \"ternary\": {\"aaxis\": {\"gridcolor\": \"white\", \"linecolor\": \"white\", \"ticks\": \"\"}, \"baxis\": {\"gridcolor\": \"white\", \"linecolor\": \"white\", \"ticks\": \"\"}, \"bgcolor\": \"#E5ECF6\", \"caxis\": {\"gridcolor\": \"white\", \"linecolor\": \"white\", \"ticks\": \"\"}}, \"title\": {\"x\": 0.05}, \"xaxis\": {\"automargin\": true, \"gridcolor\": \"white\", \"linecolor\": \"white\", \"ticks\": \"\", \"title\": {\"standoff\": 15}, \"zerolinecolor\": \"white\", \"zerolinewidth\": 2}, \"yaxis\": {\"automargin\": true, \"gridcolor\": \"white\", \"linecolor\": \"white\", \"ticks\": \"\", \"title\": {\"standoff\": 15}, \"zerolinecolor\": \"white\", \"zerolinewidth\": 2}}}, \"title\": {\"text\": \" Distribution of Show Types on Disney +\"}},\n",
       "                        {\"responsive\": true}\n",
       "                    ).then(function(){\n",
       "                            \n",
       "var gd = document.getElementById('c3d94db6-ff75-41a1-8277-3370a928b4fc');\n",
       "var x = new MutationObserver(function (mutations, observer) {{\n",
       "        var display = window.getComputedStyle(gd).display;\n",
       "        if (!display || display === 'none') {{\n",
       "            console.log([gd, 'removed!']);\n",
       "            Plotly.purge(gd);\n",
       "            observer.disconnect();\n",
       "        }}\n",
       "}});\n",
       "\n",
       "// Listen for the removal of the full notebook cells\n",
       "var notebookContainer = gd.closest('#notebook-container');\n",
       "if (notebookContainer) {{\n",
       "    x.observe(notebookContainer, {childList: true});\n",
       "}}\n",
       "\n",
       "// Listen for the clearing of the current output cell\n",
       "var outputEl = gd.closest('.output');\n",
       "if (outputEl) {{\n",
       "    x.observe(outputEl, {childList: true});\n",
       "}}\n",
       "\n",
       "                        })\n",
       "                };\n",
       "                });\n",
       "            </script>\n",
       "        </div>"
      ]
     },
     "metadata": {},
     "output_type": "display_data"
    }
   ],
   "source": [
    "dy_show_type = disney_plus['type'].value_counts().reset_index()\n",
    "\n",
    "dy_show_type = dy_show_type.rename(columns={'index':'show_type',\n",
    "                                           'type': 'Count'})\n",
    "dy_show_type\n",
    "\n",
    "pie_chart = go.Pie(labels=dy_show_type['show_type'], values=dy_show_type['Count'],\n",
    "                   pull=[0.05,0],\n",
    "                   marker = dict(colors=[\"#6ad49b\", \"#1f77b4\"]))\n",
    "\n",
    "fig_layout = go.Layout(title=\" Distribution of Show Types on Disney +\", height = 400, legend=dict(x=0.1, y=1.1))\n",
    "fig = go.Figure(data= pie_chart, layout=fig_layout)\n",
    "iplot(fig)\n"
   ]
  },
  {
   "cell_type": "code",
   "execution_count": 54,
   "metadata": {},
   "outputs": [
    {
     "data": {
      "text/plain": [
       "Text(0.5, 1.0, \"Distribution of Disney+'s Content Duration\")"
      ]
     },
     "execution_count": 54,
     "metadata": {},
     "output_type": "execute_result"
    },
    {
     "data": {
      "image/png": "[encoded data removed]",
      "text/plain": [
       "<Figure size 576x432 with 1 Axes>"
      ]
     },
     "metadata": {},
     "output_type": "display_data"
    }
   ],
   "source": [
    "duration = pd.Series(disney_plus['duration'])\n",
    "\n",
    "duration = pd.to_numeric(duration, errors='coerce')\n",
    "\n",
    "sns.set(rc={'figure.figsize':(8,6)})\n",
    "\n",
    "ax = sns.set(style=\"darkgrid\")\n",
    "ax = sns.kdeplot(data=duration, shade=True)\n",
    "\n",
    "ax.get_yaxis().set_visible(False)\n",
    "ax.set_title(\"Distribution of Disney+'s Content Duration\", fontsize=18)\n",
    "\n"
   ]
  },
  {
   "cell_type": "code",
   "execution_count": 56,
   "metadata": {},
   "outputs": [
    {
     "data": {
      "application/vnd.plotly.v1+json": {
       "config": {
        "plotlyServerURL": "https://plot.ly"
       },
       "data": [
        {
         "marker": {
          "color": "#1f77b4"
         },
         "name": "series",
         "type": "scatter",
         "x": [
          "April",
          "December",
          "February",
          "January",
          "March",
          "November",
          "October"
         ],
         "y": [
          3,
          7,
          7,
          16,
          3,
          149,
          2
         ]
        },
        {
         "marker": {
          "color": "#6ad49b"
         },
         "name": "movies",
         "type": "scatter",
         "x": [
          "April",
          "December",
          "February",
          "January",
          "March",
          "November",
          "October"
         ],
         "y": [
          25,
          10,
          13,
          19,
          10,
          574,
          9
         ]
        },
        {
         "marker": {
          "color": "#9370DB"
         },
         "name": "episode",
         "type": "scatter",
         "x": [
          "December",
          "February",
          "January",
          "November"
         ],
         "y": [
          2,
          2,
          9,
          10
         ]
        }
       ],
       "layout": {
        "legend": {
         "orientation": "h",
         "x": 0.1,
         "y": 1.1
        },
        "template": {
         "data": {
          "bar": [
           {
            "error_x": {
             "color": "#2a3f5f"
            },
            "error_y": {
             "color": "#2a3f5f"
            },
            "marker": {
             "line": {
              "color": "#E5ECF6",
              "width": 0.5
             }
            },
            "type": "bar"
           }
          ],
          "barpolar": [
           {
            "marker": {
             "line": {
              "color": "#E5ECF6",
              "width": 0.5
             }
            },
            "type": "barpolar"
           }
          ],
          "carpet": [
           {
            "aaxis": {
             "endlinecolor": "#2a3f5f",
             "gridcolor": "white",
             "linecolor": "white",
             "minorgridcolor": "white",
             "startlinecolor": "#2a3f5f"
            },
            "baxis": {
             "endlinecolor": "#2a3f5f",
             "gridcolor": "white",
             "linecolor": "white",
             "minorgridcolor": "white",
             "startlinecolor": "#2a3f5f"
            },
            "type": "carpet"
           }
          ],
          "choropleth": [
           {
            "colorbar": {
             "outlinewidth": 0,
             "ticks": ""
            },
            "type": "choropleth"
           }
          ],
          "contour": [
           {
            "colorbar": {
             "outlinewidth": 0,
             "ticks": ""
            },
            "colorscale": [
             [
              0,
              "#0d0887"
             ],
             [
              0.1111111111111111,
              "#46039f"
             ],
             [
              0.2222222222222222,
              "#7201a8"
             ],
             [
              0.3333333333333333,
              "#9c179e"
             ],
             [
              0.4444444444444444,
              "#bd3786"
             ],
             [
              0.5555555555555556,
              "#d8576b"
             ],
             [
              0.6666666666666666,
              "#ed7953"
             ],
             [
              0.7777777777777778,
              "#fb9f3a"
             ],
             [
              0.8888888888888888,
              "#fdca26"
             ],
             [
              1,
              "#f0f921"
             ]
            ],
            "type": "contour"
           }
          ],
          "contourcarpet": [
           {
            "colorbar": {
             "outlinewidth": 0,
             "ticks": ""
            },
            "type": "contourcarpet"
           }
          ],
          "heatmap": [
           {
            "colorbar": {
             "outlinewidth": 0,
             "ticks": ""
            },
            "colorscale": [
             [
              0,
              "#0d0887"
             ],
             [
              0.1111111111111111,
              "#46039f"
             ],
             [
              0.2222222222222222,
              "#7201a8"
             ],
             [
              0.3333333333333333,
              "#9c179e"
             ],
             [
              0.4444444444444444,
              "#bd3786"
             ],
             [
              0.5555555555555556,
              "#d8576b"
             ],
             [
              0.6666666666666666,
              "#ed7953"
             ],
             [
              0.7777777777777778,
              "#fb9f3a"
             ],
             [
              0.8888888888888888,
              "#fdca26"
             ],
             [
              1,
              "#f0f921"
             ]
            ],
            "type": "heatmap"
           }
          ],
          "heatmapgl": [
           {
            "colorbar": {
             "outlinewidth": 0,
             "ticks": ""
            },
            "colorscale": [
             [
              0,
              "#0d0887"
             ],
             [
              0.1111111111111111,
              "#46039f"
             ],
             [
              0.2222222222222222,
              "#7201a8"
             ],
             [
              0.3333333333333333,
              "#9c179e"
             ],
             [
              0.4444444444444444,
              "#bd3786"
             ],
             [
              0.5555555555555556,
              "#d8576b"
             ],
             [
              0.6666666666666666,
              "#ed7953"
             ],
             [
              0.7777777777777778,
              "#fb9f3a"
             ],
             [
              0.8888888888888888,
              "#fdca26"
             ],
             [
              1,
              "#f0f921"
             ]
            ],
            "type": "heatmapgl"
           }
          ],
          "histogram": [
           {
            "marker": {
             "colorbar": {
              "outlinewidth": 0,
              "ticks": ""
             }
            },
            "type": "histogram"
           }
          ],
          "histogram2d": [
           {
            "colorbar": {
             "outlinewidth": 0,
             "ticks": ""
            },
            "colorscale": [
             [
              0,
              "#0d0887"
             ],
             [
              0.1111111111111111,
              "#46039f"
             ],
             [
              0.2222222222222222,
              "#7201a8"
             ],
             [
              0.3333333333333333,
              "#9c179e"
             ],
             [
              0.4444444444444444,
              "#bd3786"
             ],
             [
              0.5555555555555556,
              "#d8576b"
             ],
             [
              0.6666666666666666,
              "#ed7953"
             ],
             [
              0.7777777777777778,
              "#fb9f3a"
             ],
             [
              0.8888888888888888,
              "#fdca26"
             ],
             [
              1,
              "#f0f921"
             ]
            ],
            "type": "histogram2d"
           }
          ],
          "histogram2dcontour": [
           {
            "colorbar": {
             "outlinewidth": 0,
             "ticks": ""
            },
            "colorscale": [
             [
              0,
              "#0d0887"
             ],
             [
              0.1111111111111111,
              "#46039f"
             ],
             [
              0.2222222222222222,
              "#7201a8"
             ],
             [
              0.3333333333333333,
              "#9c179e"
             ],
             [
              0.4444444444444444,
              "#bd3786"
             ],
             [
              0.5555555555555556,
              "#d8576b"
             ],
             [
              0.6666666666666666,
              "#ed7953"
             ],
             [
              0.7777777777777778,
              "#fb9f3a"
             ],
             [
              0.8888888888888888,
              "#fdca26"
             ],
             [
              1,
              "#f0f921"
             ]
            ],
            "type": "histogram2dcontour"
           }
          ],
          "mesh3d": [
           {
            "colorbar": {
             "outlinewidth": 0,
             "ticks": ""
            },
            "type": "mesh3d"
           }
          ],
          "parcoords": [
           {
            "line": {
             "colorbar": {
              "outlinewidth": 0,
              "ticks": ""
             }
            },
            "type": "parcoords"
           }
          ],
          "pie": [
           {
            "automargin": true,
            "type": "pie"
           }
          ],
          "scatter": [
           {
            "marker": {
             "colorbar": {
              "outlinewidth": 0,
              "ticks": ""
             }
            },
            "type": "scatter"
           }
          ],
          "scatter3d": [
           {
            "line": {
             "colorbar": {
              "outlinewidth": 0,
              "ticks": ""
             }
            },
            "marker": {
             "colorbar": {
              "outlinewidth": 0,
              "ticks": ""
             }
            },
            "type": "scatter3d"
           }
          ],
          "scattercarpet": [
           {
            "marker": {
             "colorbar": {
              "outlinewidth": 0,
              "ticks": ""
             }
            },
            "type": "scattercarpet"
           }
          ],
          "scattergeo": [
           {
            "marker": {
             "colorbar": {
              "outlinewidth": 0,
              "ticks": ""
             }
            },
            "type": "scattergeo"
           }
          ],
          "scattergl": [
           {
            "marker": {
             "colorbar": {
              "outlinewidth": 0,
              "ticks": ""
             }
            },
            "type": "scattergl"
           }
          ],
          "scattermapbox": [
           {
            "marker": {
             "colorbar": {
              "outlinewidth": 0,
              "ticks": ""
             }
            },
            "type": "scattermapbox"
           }
          ],
          "scatterpolar": [
           {
            "marker": {
             "colorbar": {
              "outlinewidth": 0,
              "ticks": ""
             }
            },
            "type": "scatterpolar"
           }
          ],
          "scatterpolargl": [
           {
            "marker": {
             "colorbar": {
              "outlinewidth": 0,
              "ticks": ""
             }
            },
            "type": "scatterpolargl"
           }
          ],
          "scatterternary": [
           {
            "marker": {
             "colorbar": {
              "outlinewidth": 0,
              "ticks": ""
             }
            },
            "type": "scatterternary"
           }
          ],
          "surface": [
           {
            "colorbar": {
             "outlinewidth": 0,
             "ticks": ""
            },
            "colorscale": [
             [
              0,
              "#0d0887"
             ],
             [
              0.1111111111111111,
              "#46039f"
             ],
             [
              0.2222222222222222,
              "#7201a8"
             ],
             [
              0.3333333333333333,
              "#9c179e"
             ],
             [
              0.4444444444444444,
              "#bd3786"
             ],
             [
              0.5555555555555556,
              "#d8576b"
             ],
             [
              0.6666666666666666,
              "#ed7953"
             ],
             [
              0.7777777777777778,
              "#fb9f3a"
             ],
             [
              0.8888888888888888,
              "#fdca26"
             ],
             [
              1,
              "#f0f921"
             ]
            ],
            "type": "surface"
           }
          ],
          "table": [
           {
            "cells": {
             "fill": {
              "color": "#EBF0F8"
             },
             "line": {
              "color": "white"
             }
            },
            "header": {
             "fill": {
              "color": "#C8D4E3"
             },
             "line": {
              "color": "white"
             }
            },
            "type": "table"
           }
          ]
         },
         "layout": {
          "annotationdefaults": {
           "arrowcolor": "#2a3f5f",
           "arrowhead": 0,
           "arrowwidth": 1
          },
          "coloraxis": {
           "colorbar": {
            "outlinewidth": 0,
            "ticks": ""
           }
          },
          "colorscale": {
           "diverging": [
            [
             0,
             "#8e0152"
            ],
            [
             0.1,
             "#c51b7d"
            ],
            [
             0.2,
             "#de77ae"
            ],
            [
             0.3,
             "#f1b6da"
            ],
            [
             0.4,
             "#fde0ef"
            ],
            [
             0.5,
             "#f7f7f7"
            ],
            [
             0.6,
             "#e6f5d0"
            ],
            [
             0.7,
             "#b8e186"
            ],
            [
             0.8,
             "#7fbc41"
            ],
            [
             0.9,
             "#4d9221"
            ],
            [
             1,
             "#276419"
            ]
           ],
           "sequential": [
            [
             0,
             "#0d0887"
            ],
            [
             0.1111111111111111,
             "#46039f"
            ],
            [
             0.2222222222222222,
             "#7201a8"
            ],
            [
             0.3333333333333333,
             "#9c179e"
            ],
            [
             0.4444444444444444,
             "#bd3786"
            ],
            [
             0.5555555555555556,
             "#d8576b"
            ],
            [
             0.6666666666666666,
             "#ed7953"
            ],
            [
             0.7777777777777778,
             "#fb9f3a"
            ],
            [
             0.8888888888888888,
             "#fdca26"
            ],
            [
             1,
             "#f0f921"
            ]
           ],
           "sequentialminus": [
            [
             0,
             "#0d0887"
            ],
            [
             0.1111111111111111,
             "#46039f"
            ],
            [
             0.2222222222222222,
             "#7201a8"
            ],
            [
             0.3333333333333333,
             "#9c179e"
            ],
            [
             0.4444444444444444,
             "#bd3786"
            ],
            [
             0.5555555555555556,
             "#d8576b"
            ],
            [
             0.6666666666666666,
             "#ed7953"
            ],
            [
             0.7777777777777778,
             "#fb9f3a"
            ],
            [
             0.8888888888888888,
             "#fdca26"
            ],
            [
             1,
             "#f0f921"
            ]
           ]
          },
          "colorway": [
           "#636efa",
           "#EF553B",
           "#00cc96",
           "#ab63fa",
           "#FFA15A",
           "#19d3f3",
           "#FF6692",
           "#B6E880",
           "#FF97FF",
           "#FECB52"
          ],
          "font": {
           "color": "#2a3f5f"
          },
          "geo": {
           "bgcolor": "white",
           "lakecolor": "white",
           "landcolor": "#E5ECF6",
           "showlakes": true,
           "showland": true,
           "subunitcolor": "white"
          },
          "hoverlabel": {
           "align": "left"
          },
          "hovermode": "closest",
          "mapbox": {
           "style": "light"
          },
          "paper_bgcolor": "white",
          "plot_bgcolor": "#E5ECF6",
          "polar": {
           "angularaxis": {
            "gridcolor": "white",
            "linecolor": "white",
            "ticks": ""
           },
           "bgcolor": "#E5ECF6",
           "radialaxis": {
            "gridcolor": "white",
            "linecolor": "white",
            "ticks": ""
           }
          },
          "scene": {
           "xaxis": {
            "backgroundcolor": "#E5ECF6",
            "gridcolor": "white",
            "gridwidth": 2,
            "linecolor": "white",
            "showbackground": true,
            "ticks": "",
            "zerolinecolor": "white"
           },
           "yaxis": {
            "backgroundcolor": "#E5ECF6",
            "gridcolor": "white",
            "gridwidth": 2,
            "linecolor": "white",
            "showbackground": true,
            "ticks": "",
            "zerolinecolor": "white"
           },
           "zaxis": {
            "backgroundcolor": "#E5ECF6",
            "gridcolor": "white",
            "gridwidth": 2,
            "linecolor": "white",
            "showbackground": true,
            "ticks": "",
            "zerolinecolor": "white"
           }
          },
          "shapedefaults": {
           "line": {
            "color": "#2a3f5f"
           }
          },
          "ternary": {
           "aaxis": {
            "gridcolor": "white",
            "linecolor": "white",
            "ticks": ""
           },
           "baxis": {
            "gridcolor": "white",
            "linecolor": "white",
            "ticks": ""
           },
           "bgcolor": "#E5ECF6",
           "caxis": {
            "gridcolor": "white",
            "linecolor": "white",
            "ticks": ""
           }
          },
          "title": {
           "x": 0.05
          },
          "xaxis": {
           "automargin": true,
           "gridcolor": "white",
           "linecolor": "white",
           "ticks": "",
           "title": {
            "standoff": 15
           },
           "zerolinecolor": "white",
           "zerolinewidth": 2
          },
          "yaxis": {
           "automargin": true,
           "gridcolor": "white",
           "linecolor": "white",
           "ticks": "",
           "title": {
            "standoff": 15
           },
           "zerolinecolor": "white",
           "zerolinewidth": 2
          }
         }
        },
        "title": {
         "text": "Content added onto Disney+ from Oct. 2019 to Apr. 2020"
        }
       }
      },
      "text/html": [
       "<div>\n",
       "        \n",
       "        \n",
       "            <div id=\"d219fcf1-8aa4-4b82-9a50-faad16d34a6f\" class=\"plotly-graph-div\" style=\"height:525px; width:100%;\"></div>\n",
       "            <script type=\"text/javascript\">\n",
       "                require([\"plotly\"], function(Plotly) {\n",
       "                    window.PLOTLYENV=window.PLOTLYENV || {};\n",
       "                    \n",
       "                if (document.getElementById(\"d219fcf1-8aa4-4b82-9a50-faad16d34a6f\")) {\n",
       "                    Plotly.newPlot(\n",
       "                        'd219fcf1-8aa4-4b82-9a50-faad16d34a6f',\n",
       "                        [{\"marker\": {\"color\": \"#1f77b4\"}, \"name\": \"series\", \"type\": \"scatter\", \"x\": [\"April\", \"December\", \"February\", \"January\", \"March\", \"November\", \"October\"], \"y\": [3, 7, 7, 16, 3, 149, 2]}, {\"marker\": {\"color\": \"#6ad49b\"}, \"name\": \"movies\", \"type\": \"scatter\", \"x\": [\"April\", \"December\", \"February\", \"January\", \"March\", \"November\", \"October\"], \"y\": [25, 10, 13, 19, 10, 574, 9]}, {\"marker\": {\"color\": \"#9370DB\"}, \"name\": \"episode\", \"type\": \"scatter\", \"x\": [\"December\", \"February\", \"January\", \"November\"], \"y\": [2, 2, 9, 10]}],\n",
       "                        {\"legend\": {\"orientation\": \"h\", \"x\": 0.1, \"y\": 1.1}, \"template\": {\"data\": {\"bar\": [{\"error_x\": {\"color\": \"#2a3f5f\"}, \"error_y\": {\"color\": \"#2a3f5f\"}, \"marker\": {\"line\": {\"color\": \"#E5ECF6\", \"width\": 0.5}}, \"type\": \"bar\"}], \"barpolar\": [{\"marker\": {\"line\": {\"color\": \"#E5ECF6\", \"width\": 0.5}}, \"type\": \"barpolar\"}], \"carpet\": [{\"aaxis\": {\"endlinecolor\": \"#2a3f5f\", \"gridcolor\": \"white\", \"linecolor\": \"white\", \"minorgridcolor\": \"white\", \"startlinecolor\": \"#2a3f5f\"}, \"baxis\": {\"endlinecolor\": \"#2a3f5f\", \"gridcolor\": \"white\", \"linecolor\": \"white\", \"minorgridcolor\": \"white\", \"startlinecolor\": \"#2a3f5f\"}, \"type\": \"carpet\"}], \"choropleth\": [{\"colorbar\": {\"outlinewidth\": 0, \"ticks\": \"\"}, \"type\": \"choropleth\"}], \"contour\": [{\"colorbar\": {\"outlinewidth\": 0, \"ticks\": \"\"}, \"colorscale\": [[0.0, \"#0d0887\"], [0.1111111111111111, \"#46039f\"], [0.2222222222222222, \"#7201a8\"], [0.3333333333333333, \"#9c179e\"], [0.4444444444444444, \"#bd3786\"], [0.5555555555555556, \"#d8576b\"], [0.6666666666666666, \"#ed7953\"], [0.7777777777777778, \"#fb9f3a\"], [0.8888888888888888, \"#fdca26\"], [1.0, \"#f0f921\"]], \"type\": \"contour\"}], \"contourcarpet\": [{\"colorbar\": {\"outlinewidth\": 0, \"ticks\": \"\"}, \"type\": \"contourcarpet\"}], \"heatmap\": [{\"colorbar\": {\"outlinewidth\": 0, \"ticks\": \"\"}, \"colorscale\": [[0.0, \"#0d0887\"], [0.1111111111111111, \"#46039f\"], [0.2222222222222222, \"#7201a8\"], [0.3333333333333333, \"#9c179e\"], [0.4444444444444444, \"#bd3786\"], [0.5555555555555556, \"#d8576b\"], [0.6666666666666666, \"#ed7953\"], [0.7777777777777778, \"#fb9f3a\"], [0.8888888888888888, \"#fdca26\"], [1.0, \"#f0f921\"]], \"type\": \"heatmap\"}], \"heatmapgl\": [{\"colorbar\": {\"outlinewidth\": 0, \"ticks\": \"\"}, \"colorscale\": [[0.0, \"#0d0887\"], [0.1111111111111111, \"#46039f\"], [0.2222222222222222, \"#7201a8\"], [0.3333333333333333, \"#9c179e\"], [0.4444444444444444, \"#bd3786\"], [0.5555555555555556, \"#d8576b\"], [0.6666666666666666, \"#ed7953\"], [0.7777777777777778, \"#fb9f3a\"], [0.8888888888888888, \"#fdca26\"], [1.0, \"#f0f921\"]], \"type\": \"heatmapgl\"}], \"histogram\": [{\"marker\": {\"colorbar\": {\"outlinewidth\": 0, \"ticks\": \"\"}}, \"type\": \"histogram\"}], \"histogram2d\": [{\"colorbar\": {\"outlinewidth\": 0, \"ticks\": \"\"}, \"colorscale\": [[0.0, \"#0d0887\"], [0.1111111111111111, \"#46039f\"], [0.2222222222222222, \"#7201a8\"], [0.3333333333333333, \"#9c179e\"], [0.4444444444444444, \"#bd3786\"], [0.5555555555555556, \"#d8576b\"], [0.6666666666666666, \"#ed7953\"], [0.7777777777777778, \"#fb9f3a\"], [0.8888888888888888, \"#fdca26\"], [1.0, \"#f0f921\"]], \"type\": \"histogram2d\"}], \"histogram2dcontour\": [{\"colorbar\": {\"outlinewidth\": 0, \"ticks\": \"\"}, \"colorscale\": [[0.0, \"#0d0887\"], [0.1111111111111111, \"#46039f\"], [0.2222222222222222, \"#7201a8\"], [0.3333333333333333, \"#9c179e\"], [0.4444444444444444, \"#bd3786\"], [0.5555555555555556, \"#d8576b\"], [0.6666666666666666, \"#ed7953\"], [0.7777777777777778, \"#fb9f3a\"], [0.8888888888888888, \"#fdca26\"], [1.0, \"#f0f921\"]], \"type\": \"histogram2dcontour\"}], \"mesh3d\": [{\"colorbar\": {\"outlinewidth\": 0, \"ticks\": \"\"}, \"type\": \"mesh3d\"}], \"parcoords\": [{\"line\": {\"colorbar\": {\"outlinewidth\": 0, \"ticks\": \"\"}}, \"type\": \"parcoords\"}], \"pie\": [{\"automargin\": true, \"type\": \"pie\"}], \"scatter\": [{\"marker\": {\"colorbar\": {\"outlinewidth\": 0, \"ticks\": \"\"}}, \"type\": \"scatter\"}], \"scatter3d\": [{\"line\": {\"colorbar\": {\"outlinewidth\": 0, \"ticks\": \"\"}}, \"marker\": {\"colorbar\": {\"outlinewidth\": 0, \"ticks\": \"\"}}, \"type\": \"scatter3d\"}], \"scattercarpet\": [{\"marker\": {\"colorbar\": {\"outlinewidth\": 0, \"ticks\": \"\"}}, \"type\": \"scattercarpet\"}], \"scattergeo\": [{\"marker\": {\"colorbar\": {\"outlinewidth\": 0, \"ticks\": \"\"}}, \"type\": \"scattergeo\"}], \"scattergl\": [{\"marker\": {\"colorbar\": {\"outlinewidth\": 0, \"ticks\": \"\"}}, \"type\": \"scattergl\"}], \"scattermapbox\": [{\"marker\": {\"colorbar\": {\"outlinewidth\": 0, \"ticks\": \"\"}}, \"type\": \"scattermapbox\"}], \"scatterpolar\": [{\"marker\": {\"colorbar\": {\"outlinewidth\": 0, \"ticks\": \"\"}}, \"type\": \"scatterpolar\"}], \"scatterpolargl\": [{\"marker\": {\"colorbar\": {\"outlinewidth\": 0, \"ticks\": \"\"}}, \"type\": \"scatterpolargl\"}], \"scatterternary\": [{\"marker\": {\"colorbar\": {\"outlinewidth\": 0, \"ticks\": \"\"}}, \"type\": \"scatterternary\"}], \"surface\": [{\"colorbar\": {\"outlinewidth\": 0, \"ticks\": \"\"}, \"colorscale\": [[0.0, \"#0d0887\"], [0.1111111111111111, \"#46039f\"], [0.2222222222222222, \"#7201a8\"], [0.3333333333333333, \"#9c179e\"], [0.4444444444444444, \"#bd3786\"], [0.5555555555555556, \"#d8576b\"], [0.6666666666666666, \"#ed7953\"], [0.7777777777777778, \"#fb9f3a\"], [0.8888888888888888, \"#fdca26\"], [1.0, \"#f0f921\"]], \"type\": \"surface\"}], \"table\": [{\"cells\": {\"fill\": {\"color\": \"#EBF0F8\"}, \"line\": {\"color\": \"white\"}}, \"header\": {\"fill\": {\"color\": \"#C8D4E3\"}, \"line\": {\"color\": \"white\"}}, \"type\": \"table\"}]}, \"layout\": {\"annotationdefaults\": {\"arrowcolor\": \"#2a3f5f\", \"arrowhead\": 0, \"arrowwidth\": 1}, \"coloraxis\": {\"colorbar\": {\"outlinewidth\": 0, \"ticks\": \"\"}}, \"colorscale\": {\"diverging\": [[0, \"#8e0152\"], [0.1, \"#c51b7d\"], [0.2, \"#de77ae\"], [0.3, \"#f1b6da\"], [0.4, \"#fde0ef\"], [0.5, \"#f7f7f7\"], [0.6, \"#e6f5d0\"], [0.7, \"#b8e186\"], [0.8, \"#7fbc41\"], [0.9, \"#4d9221\"], [1, \"#276419\"]], \"sequential\": [[0.0, \"#0d0887\"], [0.1111111111111111, \"#46039f\"], [0.2222222222222222, \"#7201a8\"], [0.3333333333333333, \"#9c179e\"], [0.4444444444444444, \"#bd3786\"], [0.5555555555555556, \"#d8576b\"], [0.6666666666666666, \"#ed7953\"], [0.7777777777777778, \"#fb9f3a\"], [0.8888888888888888, \"#fdca26\"], [1.0, \"#f0f921\"]], \"sequentialminus\": [[0.0, \"#0d0887\"], [0.1111111111111111, \"#46039f\"], [0.2222222222222222, \"#7201a8\"], [0.3333333333333333, \"#9c179e\"], [0.4444444444444444, \"#bd3786\"], [0.5555555555555556, \"#d8576b\"], [0.6666666666666666, \"#ed7953\"], [0.7777777777777778, \"#fb9f3a\"], [0.8888888888888888, \"#fdca26\"], [1.0, \"#f0f921\"]]}, \"colorway\": [\"#636efa\", \"#EF553B\", \"#00cc96\", \"#ab63fa\", \"#FFA15A\", \"#19d3f3\", \"#FF6692\", \"#B6E880\", \"#FF97FF\", \"#FECB52\"], \"font\": {\"color\": \"#2a3f5f\"}, \"geo\": {\"bgcolor\": \"white\", \"lakecolor\": \"white\", \"landcolor\": \"#E5ECF6\", \"showlakes\": true, \"showland\": true, \"subunitcolor\": \"white\"}, \"hoverlabel\": {\"align\": \"left\"}, \"hovermode\": \"closest\", \"mapbox\": {\"style\": \"light\"}, \"paper_bgcolor\": \"white\", \"plot_bgcolor\": \"#E5ECF6\", \"polar\": {\"angularaxis\": {\"gridcolor\": \"white\", \"linecolor\": \"white\", \"ticks\": \"\"}, \"bgcolor\": \"#E5ECF6\", \"radialaxis\": {\"gridcolor\": \"white\", \"linecolor\": \"white\", \"ticks\": \"\"}}, \"scene\": {\"xaxis\": {\"backgroundcolor\": \"#E5ECF6\", \"gridcolor\": \"white\", \"gridwidth\": 2, \"linecolor\": \"white\", \"showbackground\": true, \"ticks\": \"\", \"zerolinecolor\": \"white\"}, \"yaxis\": {\"backgroundcolor\": \"#E5ECF6\", \"gridcolor\": \"white\", \"gridwidth\": 2, \"linecolor\": \"white\", \"showbackground\": true, \"ticks\": \"\", \"zerolinecolor\": \"white\"}, \"zaxis\": {\"backgroundcolor\": \"#E5ECF6\", \"gridcolor\": \"white\", \"gridwidth\": 2, \"linecolor\": \"white\", \"showbackground\": true, \"ticks\": \"\", \"zerolinecolor\": \"white\"}}, \"shapedefaults\": {\"line\": {\"color\": \"#2a3f5f\"}}, \"ternary\": {\"aaxis\": {\"gridcolor\": \"white\", \"linecolor\": \"white\", \"ticks\": \"\"}, \"baxis\": {\"gridcolor\": \"white\", \"linecolor\": \"white\", \"ticks\": \"\"}, \"bgcolor\": \"#E5ECF6\", \"caxis\": {\"gridcolor\": \"white\", \"linecolor\": \"white\", \"ticks\": \"\"}}, \"title\": {\"x\": 0.05}, \"xaxis\": {\"automargin\": true, \"gridcolor\": \"white\", \"linecolor\": \"white\", \"ticks\": \"\", \"title\": {\"standoff\": 15}, \"zerolinecolor\": \"white\", \"zerolinewidth\": 2}, \"yaxis\": {\"automargin\": true, \"gridcolor\": \"white\", \"linecolor\": \"white\", \"ticks\": \"\", \"title\": {\"standoff\": 15}, \"zerolinecolor\": \"white\", \"zerolinewidth\": 2}}}, \"title\": {\"text\": \"Content added onto Disney+ from Oct. 2019 to Apr. 2020\"}},\n",
       "                        {\"responsive\": true}\n",
       "                    ).then(function(){\n",
       "                            \n",
       "var gd = document.getElementById('d219fcf1-8aa4-4b82-9a50-faad16d34a6f');\n",
       "var x = new MutationObserver(function (mutations, observer) {{\n",
       "        var display = window.getComputedStyle(gd).display;\n",
       "        if (!display || display === 'none') {{\n",
       "            console.log([gd, 'removed!']);\n",
       "            Plotly.purge(gd);\n",
       "            observer.disconnect();\n",
       "        }}\n",
       "}});\n",
       "\n",
       "// Listen for the removal of the full notebook cells\n",
       "var notebookContainer = gd.closest('#notebook-container');\n",
       "if (notebookContainer) {{\n",
       "    x.observe(notebookContainer, {childList: true});\n",
       "}}\n",
       "\n",
       "// Listen for the clearing of the current output cell\n",
       "var outputEl = gd.closest('.output');\n",
       "if (outputEl) {{\n",
       "    x.observe(outputEl, {childList: true});\n",
       "}}\n",
       "\n",
       "                        })\n",
       "                };\n",
       "                });\n",
       "            </script>\n",
       "        </div>"
      ]
     },
     "metadata": {},
     "output_type": "display_data"
    }
   ],
   "source": [
    "d1 = disney_plus[disney_plus[\"type\"] == \"series\"]\n",
    "d2 = disney_plus[disney_plus[\"type\"] == \"movie\"]\n",
    "d3 = disney_plus[disney_plus[\"type\"] == \"episode\"]\n",
    "\n",
    "col = \"month_added\"\n",
    "\n",
    "vc1 = d1[col].value_counts().reset_index()\n",
    "vc1 = vc1.rename(columns = {col : \"count\", \"index\" : col})\n",
    "vc1['percent'] = vc1['count'].apply(lambda x : 100*x/sum(vc1['count']))\n",
    "vc1 = vc1.sort_values(col)\n",
    "\n",
    "vc2 = d2[col].value_counts().reset_index()\n",
    "vc2 = vc2.rename(columns = {col : \"count\", \"index\" : col})\n",
    "vc2['percent'] = vc2['count'].apply(lambda x : 100*x/sum(vc2['count']))\n",
    "vc2 = vc2.sort_values(col)\n",
    "\n",
    "vc3 = d3[col].value_counts().reset_index()\n",
    "vc3 = vc3.rename(columns = {col : \"count\", \"index\" : col})\n",
    "vc3['percent'] = vc3['count'].apply(lambda x : 100*x/sum(vc3['count']))\n",
    "vc3 = vc3.sort_values(col)\n",
    "\n",
    "\n",
    "trace1 = go.Scatter(x=vc1[col], y=vc1[\"count\"], name=\"series\", marker=dict(color=\"#1f77b4\"))\n",
    "trace2 = go.Scatter(x=vc2[col], y=vc2[\"count\"], name=\"movies\", marker=dict(color=\"#6ad49b\"))\n",
    "trace3 = go.Scatter(x=vc3[col], y=vc3[\"count\"], name=\"episode\", marker=dict(color=\"#9370DB\"))\n",
    "\n",
    "data = [trace1, trace2, trace3]\n",
    "layout = go.Layout(title=\"Content added onto Disney+ from Oct. 2019 to Apr. 2020\", legend=dict(x=0.1, y=1.1, orientation=\"h\"))\n",
    "fig = go.Figure(data, layout=layout)\n",
    "fig.show()"
   ]
  },
  {
   "cell_type": "code",
   "execution_count": 61,
   "metadata": {},
   "outputs": [
    {
     "data": {
      "text/plain": [
       "Text(0.5, 1.0, 'Content Original Release Years')"
      ]
     },
     "execution_count": 61,
     "metadata": {},
     "output_type": "execute_result"
    },
    {
     "data": {
      "image/png": "[encoded data removed]",
      "text/plain": [
       "<Figure size 864x720 with 1 Axes>"
      ]
     },
     "metadata": {},
     "output_type": "display_data"
    }
   ],
   "source": [
    "plt.figure(figsize=(12,10))\n",
    "sns.set(style=\"darkgrid\")\n",
    "ax = sns.countplot(y=\"original_release_year\", data=disney_plus, palette=\"Set2\", order=disney_plus['original_release_year'].value_counts().index[0:15])\n",
    "ax.set_title(\"Content Original Release Years\", fontsize=18)"
   ]
  },
  {
   "cell_type": "markdown",
   "metadata": {},
   "source": [
    "Disney + officially launched in the United States on November 12, 2019. This explains the intial surge in content added. However, it was interesting to see that some content was added in early October 2019, which was more than a month prior to the official release date. This could be a mistake in the data entry process. \n"
   ]
  },
  {
   "cell_type": "code",
   "execution_count": 57,
   "metadata": {},
   "outputs": [
    {
     "data": {
      "application/vnd.plotly.v1+json": {
       "config": {
        "plotlyServerURL": "https://plot.ly"
       },
       "data": [
        {
         "marker": {
          "color": "rgb(65,105,225)"
         },
         "name": "TV Shows",
         "type": "bar",
         "x": [
          "Unrated",
          "TV-PG",
          "NOT RATED",
          "UNRATED",
          "TV-G"
         ],
         "y": [
          2,
          1,
          1,
          1,
          1
         ]
        },
        {
         "marker": {
          "color": "rgb(0,255,127)"
         },
         "name": "Movies",
         "type": "bar",
         "x": [
          "G",
          "PG",
          "TV-G",
          "Approved",
          "PG-13",
          "TV-PG",
          "Not Rated",
          "APPROVED",
          "Passed",
          "TV-Y7",
          "PASSED",
          "TV-Y7-FV",
          "TV-14",
          "UNRATED"
         ],
         "y": [
          197,
          149,
          89,
          45,
          35,
          22,
          16,
          8,
          4,
          3,
          1,
          1,
          1,
          1
         ]
        }
       ],
       "layout": {
        "template": {
         "data": {
          "bar": [
           {
            "error_x": {
             "color": "#f2f5fa"
            },
            "error_y": {
             "color": "#f2f5fa"
            },
            "marker": {
             "line": {
              "color": "rgb(17,17,17)",
              "width": 0.5
             }
            },
            "type": "bar"
           }
          ],
          "barpolar": [
           {
            "marker": {
             "line": {
              "color": "rgb(17,17,17)",
              "width": 0.5
             }
            },
            "type": "barpolar"
           }
          ],
          "carpet": [
           {
            "aaxis": {
             "endlinecolor": "#A2B1C6",
             "gridcolor": "#506784",
             "linecolor": "#506784",
             "minorgridcolor": "#506784",
             "startlinecolor": "#A2B1C6"
            },
            "baxis": {
             "endlinecolor": "#A2B1C6",
             "gridcolor": "#506784",
             "linecolor": "#506784",
             "minorgridcolor": "#506784",
             "startlinecolor": "#A2B1C6"
            },
            "type": "carpet"
           }
          ],
          "choropleth": [
           {
            "colorbar": {
             "outlinewidth": 0,
             "ticks": ""
            },
            "type": "choropleth"
           }
          ],
          "contour": [
           {
            "colorbar": {
             "outlinewidth": 0,
             "ticks": ""
            },
            "colorscale": [
             [
              0,
              "#0d0887"
             ],
             [
              0.1111111111111111,
              "#46039f"
             ],
             [
              0.2222222222222222,
              "#7201a8"
             ],
             [
              0.3333333333333333,
              "#9c179e"
             ],
             [
              0.4444444444444444,
              "#bd3786"
             ],
             [
              0.5555555555555556,
              "#d8576b"
             ],
             [
              0.6666666666666666,
              "#ed7953"
             ],
             [
              0.7777777777777778,
              "#fb9f3a"
             ],
             [
              0.8888888888888888,
              "#fdca26"
             ],
             [
              1,
              "#f0f921"
             ]
            ],
            "type": "contour"
           }
          ],
          "contourcarpet": [
           {
            "colorbar": {
             "outlinewidth": 0,
             "ticks": ""
            },
            "type": "contourcarpet"
           }
          ],
          "heatmap": [
           {
            "colorbar": {
             "outlinewidth": 0,
             "ticks": ""
            },
            "colorscale": [
             [
              0,
              "#0d0887"
             ],
             [
              0.1111111111111111,
              "#46039f"
             ],
             [
              0.2222222222222222,
              "#7201a8"
             ],
             [
              0.3333333333333333,
              "#9c179e"
             ],
             [
              0.4444444444444444,
              "#bd3786"
             ],
             [
              0.5555555555555556,
              "#d8576b"
             ],
             [
              0.6666666666666666,
              "#ed7953"
             ],
             [
              0.7777777777777778,
              "#fb9f3a"
             ],
             [
              0.8888888888888888,
              "#fdca26"
             ],
             [
              1,
              "#f0f921"
             ]
            ],
            "type": "heatmap"
           }
          ],
          "heatmapgl": [
           {
            "colorbar": {
             "outlinewidth": 0,
             "ticks": ""
            },
            "colorscale": [
             [
              0,
              "#0d0887"
             ],
             [
              0.1111111111111111,
              "#46039f"
             ],
             [
              0.2222222222222222,
              "#7201a8"
             ],
             [
              0.3333333333333333,
              "#9c179e"
             ],
             [
              0.4444444444444444,
              "#bd3786"
             ],
             [
              0.5555555555555556,
              "#d8576b"
             ],
             [
              0.6666666666666666,
              "#ed7953"
             ],
             [
              0.7777777777777778,
              "#fb9f3a"
             ],
             [
              0.8888888888888888,
              "#fdca26"
             ],
             [
              1,
              "#f0f921"
             ]
            ],
            "type": "heatmapgl"
           }
          ],
          "histogram": [
           {
            "marker": {
             "colorbar": {
              "outlinewidth": 0,
              "ticks": ""
             }
            },
            "type": "histogram"
           }
          ],
          "histogram2d": [
           {
            "colorbar": {
             "outlinewidth": 0,
             "ticks": ""
            },
            "colorscale": [
             [
              0,
              "#0d0887"
             ],
             [
              0.1111111111111111,
              "#46039f"
             ],
             [
              0.2222222222222222,
              "#7201a8"
             ],
             [
              0.3333333333333333,
              "#9c179e"
             ],
             [
              0.4444444444444444,
              "#bd3786"
             ],
             [
              0.5555555555555556,
              "#d8576b"
             ],
             [
              0.6666666666666666,
              "#ed7953"
             ],
             [
              0.7777777777777778,
              "#fb9f3a"
             ],
             [
              0.8888888888888888,
              "#fdca26"
             ],
             [
              1,
              "#f0f921"
             ]
            ],
            "type": "histogram2d"
           }
          ],
          "histogram2dcontour": [
           {
            "colorbar": {
             "outlinewidth": 0,
             "ticks": ""
            },
            "colorscale": [
             [
              0,
              "#0d0887"
             ],
             [
              0.1111111111111111,
              "#46039f"
             ],
             [
              0.2222222222222222,
              "#7201a8"
             ],
             [
              0.3333333333333333,
              "#9c179e"
             ],
             [
              0.4444444444444444,
              "#bd3786"
             ],
             [
              0.5555555555555556,
              "#d8576b"
             ],
             [
              0.6666666666666666,
              "#ed7953"
             ],
             [
              0.7777777777777778,
              "#fb9f3a"
             ],
             [
              0.8888888888888888,
              "#fdca26"
             ],
             [
              1,
              "#f0f921"
             ]
            ],
            "type": "histogram2dcontour"
           }
          ],
          "mesh3d": [
           {
            "colorbar": {
             "outlinewidth": 0,
             "ticks": ""
            },
            "type": "mesh3d"
           }
          ],
          "parcoords": [
           {
            "line": {
             "colorbar": {
              "outlinewidth": 0,
              "ticks": ""
             }
            },
            "type": "parcoords"
           }
          ],
          "pie": [
           {
            "automargin": true,
            "type": "pie"
           }
          ],
          "scatter": [
           {
            "marker": {
             "line": {
              "color": "#283442"
             }
            },
            "type": "scatter"
           }
          ],
          "scatter3d": [
           {
            "line": {
             "colorbar": {
              "outlinewidth": 0,
              "ticks": ""
             }
            },
            "marker": {
             "colorbar": {
              "outlinewidth": 0,
              "ticks": ""
             }
            },
            "type": "scatter3d"
           }
          ],
          "scattercarpet": [
           {
            "marker": {
             "colorbar": {
              "outlinewidth": 0,
              "ticks": ""
             }
            },
            "type": "scattercarpet"
           }
          ],
          "scattergeo": [
           {
            "marker": {
             "colorbar": {
              "outlinewidth": 0,
              "ticks": ""
             }
            },
            "type": "scattergeo"
           }
          ],
          "scattergl": [
           {
            "marker": {
             "line": {
              "color": "#283442"
             }
            },
            "type": "scattergl"
           }
          ],
          "scattermapbox": [
           {
            "marker": {
             "colorbar": {
              "outlinewidth": 0,
              "ticks": ""
             }
            },
            "type": "scattermapbox"
           }
          ],
          "scatterpolar": [
           {
            "marker": {
             "colorbar": {
              "outlinewidth": 0,
              "ticks": ""
             }
            },
            "type": "scatterpolar"
           }
          ],
          "scatterpolargl": [
           {
            "marker": {
             "colorbar": {
              "outlinewidth": 0,
              "ticks": ""
             }
            },
            "type": "scatterpolargl"
           }
          ],
          "scatterternary": [
           {
            "marker": {
             "colorbar": {
              "outlinewidth": 0,
              "ticks": ""
             }
            },
            "type": "scatterternary"
           }
          ],
          "surface": [
           {
            "colorbar": {
             "outlinewidth": 0,
             "ticks": ""
            },
            "colorscale": [
             [
              0,
              "#0d0887"
             ],
             [
              0.1111111111111111,
              "#46039f"
             ],
             [
              0.2222222222222222,
              "#7201a8"
             ],
             [
              0.3333333333333333,
              "#9c179e"
             ],
             [
              0.4444444444444444,
              "#bd3786"
             ],
             [
              0.5555555555555556,
              "#d8576b"
             ],
             [
              0.6666666666666666,
              "#ed7953"
             ],
             [
              0.7777777777777778,
              "#fb9f3a"
             ],
             [
              0.8888888888888888,
              "#fdca26"
             ],
             [
              1,
              "#f0f921"
             ]
            ],
            "type": "surface"
           }
          ],
          "table": [
           {
            "cells": {
             "fill": {
              "color": "#506784"
             },
             "line": {
              "color": "rgb(17,17,17)"
             }
            },
            "header": {
             "fill": {
              "color": "#2a3f5f"
             },
             "line": {
              "color": "rgb(17,17,17)"
             }
            },
            "type": "table"
           }
          ]
         },
         "layout": {
          "annotationdefaults": {
           "arrowcolor": "#f2f5fa",
           "arrowhead": 0,
           "arrowwidth": 1
          },
          "coloraxis": {
           "colorbar": {
            "outlinewidth": 0,
            "ticks": ""
           }
          },
          "colorscale": {
           "diverging": [
            [
             0,
             "#8e0152"
            ],
            [
             0.1,
             "#c51b7d"
            ],
            [
             0.2,
             "#de77ae"
            ],
            [
             0.3,
             "#f1b6da"
            ],
            [
             0.4,
             "#fde0ef"
            ],
            [
             0.5,
             "#f7f7f7"
            ],
            [
             0.6,
             "#e6f5d0"
            ],
            [
             0.7,
             "#b8e186"
            ],
            [
             0.8,
             "#7fbc41"
            ],
            [
             0.9,
             "#4d9221"
            ],
            [
             1,
             "#276419"
            ]
           ],
           "sequential": [
            [
             0,
             "#0d0887"
            ],
            [
             0.1111111111111111,
             "#46039f"
            ],
            [
             0.2222222222222222,
             "#7201a8"
            ],
            [
             0.3333333333333333,
             "#9c179e"
            ],
            [
             0.4444444444444444,
             "#bd3786"
            ],
            [
             0.5555555555555556,
             "#d8576b"
            ],
            [
             0.6666666666666666,
             "#ed7953"
            ],
            [
             0.7777777777777778,
             "#fb9f3a"
            ],
            [
             0.8888888888888888,
             "#fdca26"
            ],
            [
             1,
             "#f0f921"
            ]
           ],
           "sequentialminus": [
            [
             0,
             "#0d0887"
            ],
            [
             0.1111111111111111,
             "#46039f"
            ],
            [
             0.2222222222222222,
             "#7201a8"
            ],
            [
             0.3333333333333333,
             "#9c179e"
            ],
            [
             0.4444444444444444,
             "#bd3786"
            ],
            [
             0.5555555555555556,
             "#d8576b"
            ],
            [
             0.6666666666666666,
             "#ed7953"
            ],
            [
             0.7777777777777778,
             "#fb9f3a"
            ],
            [
             0.8888888888888888,
             "#fdca26"
            ],
            [
             1,
             "#f0f921"
            ]
           ]
          },
          "colorway": [
           "#636efa",
           "#EF553B",
           "#00cc96",
           "#ab63fa",
           "#FFA15A",
           "#19d3f3",
           "#FF6692",
           "#B6E880",
           "#FF97FF",
           "#FECB52"
          ],
          "font": {
           "color": "#f2f5fa"
          },
          "geo": {
           "bgcolor": "rgb(17,17,17)",
           "lakecolor": "rgb(17,17,17)",
           "landcolor": "rgb(17,17,17)",
           "showlakes": true,
           "showland": true,
           "subunitcolor": "#506784"
          },
          "hoverlabel": {
           "align": "left"
          },
          "hovermode": "closest",
          "mapbox": {
           "style": "dark"
          },
          "paper_bgcolor": "rgb(17,17,17)",
          "plot_bgcolor": "rgb(17,17,17)",
          "polar": {
           "angularaxis": {
            "gridcolor": "#506784",
            "linecolor": "#506784",
            "ticks": ""
           },
           "bgcolor": "rgb(17,17,17)",
           "radialaxis": {
            "gridcolor": "#506784",
            "linecolor": "#506784",
            "ticks": ""
           }
          },
          "scene": {
           "xaxis": {
            "backgroundcolor": "rgb(17,17,17)",
            "gridcolor": "#506784",
            "gridwidth": 2,
            "linecolor": "#506784",
            "showbackground": true,
            "ticks": "",
            "zerolinecolor": "#C8D4E3"
           },
           "yaxis": {
            "backgroundcolor": "rgb(17,17,17)",
            "gridcolor": "#506784",
            "gridwidth": 2,
            "linecolor": "#506784",
            "showbackground": true,
            "ticks": "",
            "zerolinecolor": "#C8D4E3"
           },
           "zaxis": {
            "backgroundcolor": "rgb(17,17,17)",
            "gridcolor": "#506784",
            "gridwidth": 2,
            "linecolor": "#506784",
            "showbackground": true,
            "ticks": "",
            "zerolinecolor": "#C8D4E3"
           }
          },
          "shapedefaults": {
           "line": {
            "color": "#f2f5fa"
           }
          },
          "sliderdefaults": {
           "bgcolor": "#C8D4E3",
           "bordercolor": "rgb(17,17,17)",
           "borderwidth": 1,
           "tickwidth": 0
          },
          "ternary": {
           "aaxis": {
            "gridcolor": "#506784",
            "linecolor": "#506784",
            "ticks": ""
           },
           "baxis": {
            "gridcolor": "#506784",
            "linecolor": "#506784",
            "ticks": ""
           },
           "bgcolor": "rgb(17,17,17)",
           "caxis": {
            "gridcolor": "#506784",
            "linecolor": "#506784",
            "ticks": ""
           }
          },
          "title": {
           "x": 0.05
          },
          "updatemenudefaults": {
           "bgcolor": "#506784",
           "borderwidth": 0
          },
          "xaxis": {
           "automargin": true,
           "gridcolor": "#283442",
           "linecolor": "#506784",
           "ticks": "",
           "title": {
            "standoff": 15
           },
           "zerolinecolor": "#283442",
           "zerolinewidth": 2
          },
          "yaxis": {
           "automargin": true,
           "gridcolor": "#283442",
           "linecolor": "#506784",
           "ticks": "",
           "title": {
            "standoff": 15
           },
           "zerolinecolor": "#283442",
           "zerolinewidth": 2
          }
         }
        },
        "title": {
         "text": "Ratings of Disney+ Content"
        },
        "xaxis": {
         "title": {
          "text": "Film Rating"
         }
        },
        "yaxis": {
         "title": {
          "text": "Count"
         }
        }
       }
      },
      "text/html": [
       "<div>\n",
       "        \n",
       "        \n",
       "            <div id=\"2cd3eaf7-fafa-4e69-8b47-1cf0dfbb5c4f\" class=\"plotly-graph-div\" style=\"height:525px; width:100%;\"></div>\n",
       "            <script type=\"text/javascript\">\n",
       "                require([\"plotly\"], function(Plotly) {\n",
       "                    window.PLOTLYENV=window.PLOTLYENV || {};\n",
       "                    \n",
       "                if (document.getElementById(\"2cd3eaf7-fafa-4e69-8b47-1cf0dfbb5c4f\")) {\n",
       "                    Plotly.newPlot(\n",
       "                        '2cd3eaf7-fafa-4e69-8b47-1cf0dfbb5c4f',\n",
       "                        [{\"marker\": {\"color\": \"rgb(65,105,225)\"}, \"name\": \"TV Shows\", \"type\": \"bar\", \"x\": [\"Unrated\", \"TV-PG\", \"NOT RATED\", \"UNRATED\", \"TV-G\"], \"y\": [2, 1, 1, 1, 1]}, {\"marker\": {\"color\": \"rgb(0,255,127)\"}, \"name\": \"Movies\", \"type\": \"bar\", \"x\": [\"G\", \"PG\", \"TV-G\", \"Approved\", \"PG-13\", \"TV-PG\", \"Not Rated\", \"APPROVED\", \"Passed\", \"TV-Y7\", \"PASSED\", \"TV-Y7-FV\", \"TV-14\", \"UNRATED\"], \"y\": [197, 149, 89, 45, 35, 22, 16, 8, 4, 3, 1, 1, 1, 1]}],\n",
       "                        {\"template\": {\"data\": {\"bar\": [{\"error_x\": {\"color\": \"#f2f5fa\"}, \"error_y\": {\"color\": \"#f2f5fa\"}, \"marker\": {\"line\": {\"color\": \"rgb(17,17,17)\", \"width\": 0.5}}, \"type\": \"bar\"}], \"barpolar\": [{\"marker\": {\"line\": {\"color\": \"rgb(17,17,17)\", \"width\": 0.5}}, \"type\": \"barpolar\"}], \"carpet\": [{\"aaxis\": {\"endlinecolor\": \"#A2B1C6\", \"gridcolor\": \"#506784\", \"linecolor\": \"#506784\", \"minorgridcolor\": \"#506784\", \"startlinecolor\": \"#A2B1C6\"}, \"baxis\": {\"endlinecolor\": \"#A2B1C6\", \"gridcolor\": \"#506784\", \"linecolor\": \"#506784\", \"minorgridcolor\": \"#506784\", \"startlinecolor\": \"#A2B1C6\"}, \"type\": \"carpet\"}], \"choropleth\": [{\"colorbar\": {\"outlinewidth\": 0, \"ticks\": \"\"}, \"type\": \"choropleth\"}], \"contour\": [{\"colorbar\": {\"outlinewidth\": 0, \"ticks\": \"\"}, \"colorscale\": [[0.0, \"#0d0887\"], [0.1111111111111111, \"#46039f\"], [0.2222222222222222, \"#7201a8\"], [0.3333333333333333, \"#9c179e\"], [0.4444444444444444, \"#bd3786\"], [0.5555555555555556, \"#d8576b\"], [0.6666666666666666, \"#ed7953\"], [0.7777777777777778, \"#fb9f3a\"], [0.8888888888888888, \"#fdca26\"], [1.0, \"#f0f921\"]], \"type\": \"contour\"}], \"contourcarpet\": [{\"colorbar\": {\"outlinewidth\": 0, \"ticks\": \"\"}, \"type\": \"contourcarpet\"}], \"heatmap\": [{\"colorbar\": {\"outlinewidth\": 0, \"ticks\": \"\"}, \"colorscale\": [[0.0, \"#0d0887\"], [0.1111111111111111, \"#46039f\"], [0.2222222222222222, \"#7201a8\"], [0.3333333333333333, \"#9c179e\"], [0.4444444444444444, \"#bd3786\"], [0.5555555555555556, \"#d8576b\"], [0.6666666666666666, \"#ed7953\"], [0.7777777777777778, \"#fb9f3a\"], [0.8888888888888888, \"#fdca26\"], [1.0, \"#f0f921\"]], \"type\": \"heatmap\"}], \"heatmapgl\": [{\"colorbar\": {\"outlinewidth\": 0, \"ticks\": \"\"}, \"colorscale\": [[0.0, \"#0d0887\"], [0.1111111111111111, \"#46039f\"], [0.2222222222222222, \"#7201a8\"], [0.3333333333333333, \"#9c179e\"], [0.4444444444444444, \"#bd3786\"], [0.5555555555555556, \"#d8576b\"], [0.6666666666666666, \"#ed7953\"], [0.7777777777777778, \"#fb9f3a\"], [0.8888888888888888, \"#fdca26\"], [1.0, \"#f0f921\"]], \"type\": \"heatmapgl\"}], \"histogram\": [{\"marker\": {\"colorbar\": {\"outlinewidth\": 0, \"ticks\": \"\"}}, \"type\": \"histogram\"}], \"histogram2d\": [{\"colorbar\": {\"outlinewidth\": 0, \"ticks\": \"\"}, \"colorscale\": [[0.0, \"#0d0887\"], [0.1111111111111111, \"#46039f\"], [0.2222222222222222, \"#7201a8\"], [0.3333333333333333, \"#9c179e\"], [0.4444444444444444, \"#bd3786\"], [0.5555555555555556, \"#d8576b\"], [0.6666666666666666, \"#ed7953\"], [0.7777777777777778, \"#fb9f3a\"], [0.8888888888888888, \"#fdca26\"], [1.0, \"#f0f921\"]], \"type\": \"histogram2d\"}], \"histogram2dcontour\": [{\"colorbar\": {\"outlinewidth\": 0, \"ticks\": \"\"}, \"colorscale\": [[0.0, \"#0d0887\"], [0.1111111111111111, \"#46039f\"], [0.2222222222222222, \"#7201a8\"], [0.3333333333333333, \"#9c179e\"], [0.4444444444444444, \"#bd3786\"], [0.5555555555555556, \"#d8576b\"], [0.6666666666666666, \"#ed7953\"], [0.7777777777777778, \"#fb9f3a\"], [0.8888888888888888, \"#fdca26\"], [1.0, \"#f0f921\"]], \"type\": \"histogram2dcontour\"}], \"mesh3d\": [{\"colorbar\": {\"outlinewidth\": 0, \"ticks\": \"\"}, \"type\": \"mesh3d\"}], \"parcoords\": [{\"line\": {\"colorbar\": {\"outlinewidth\": 0, \"ticks\": \"\"}}, \"type\": \"parcoords\"}], \"pie\": [{\"automargin\": true, \"type\": \"pie\"}], \"scatter\": [{\"marker\": {\"line\": {\"color\": \"#283442\"}}, \"type\": \"scatter\"}], \"scatter3d\": [{\"line\": {\"colorbar\": {\"outlinewidth\": 0, \"ticks\": \"\"}}, \"marker\": {\"colorbar\": {\"outlinewidth\": 0, \"ticks\": \"\"}}, \"type\": \"scatter3d\"}], \"scattercarpet\": [{\"marker\": {\"colorbar\": {\"outlinewidth\": 0, \"ticks\": \"\"}}, \"type\": \"scattercarpet\"}], \"scattergeo\": [{\"marker\": {\"colorbar\": {\"outlinewidth\": 0, \"ticks\": \"\"}}, \"type\": \"scattergeo\"}], \"scattergl\": [{\"marker\": {\"line\": {\"color\": \"#283442\"}}, \"type\": \"scattergl\"}], \"scattermapbox\": [{\"marker\": {\"colorbar\": {\"outlinewidth\": 0, \"ticks\": \"\"}}, \"type\": \"scattermapbox\"}], \"scatterpolar\": [{\"marker\": {\"colorbar\": {\"outlinewidth\": 0, \"ticks\": \"\"}}, \"type\": \"scatterpolar\"}], \"scatterpolargl\": [{\"marker\": {\"colorbar\": {\"outlinewidth\": 0, \"ticks\": \"\"}}, \"type\": \"scatterpolargl\"}], \"scatterternary\": [{\"marker\": {\"colorbar\": {\"outlinewidth\": 0, \"ticks\": \"\"}}, \"type\": \"scatterternary\"}], \"surface\": [{\"colorbar\": {\"outlinewidth\": 0, \"ticks\": \"\"}, \"colorscale\": [[0.0, \"#0d0887\"], [0.1111111111111111, \"#46039f\"], [0.2222222222222222, \"#7201a8\"], [0.3333333333333333, \"#9c179e\"], [0.4444444444444444, \"#bd3786\"], [0.5555555555555556, \"#d8576b\"], [0.6666666666666666, \"#ed7953\"], [0.7777777777777778, \"#fb9f3a\"], [0.8888888888888888, \"#fdca26\"], [1.0, \"#f0f921\"]], \"type\": \"surface\"}], \"table\": [{\"cells\": {\"fill\": {\"color\": \"#506784\"}, \"line\": {\"color\": \"rgb(17,17,17)\"}}, \"header\": {\"fill\": {\"color\": \"#2a3f5f\"}, \"line\": {\"color\": \"rgb(17,17,17)\"}}, \"type\": \"table\"}]}, \"layout\": {\"annotationdefaults\": {\"arrowcolor\": \"#f2f5fa\", \"arrowhead\": 0, \"arrowwidth\": 1}, \"coloraxis\": {\"colorbar\": {\"outlinewidth\": 0, \"ticks\": \"\"}}, \"colorscale\": {\"diverging\": [[0, \"#8e0152\"], [0.1, \"#c51b7d\"], [0.2, \"#de77ae\"], [0.3, \"#f1b6da\"], [0.4, \"#fde0ef\"], [0.5, \"#f7f7f7\"], [0.6, \"#e6f5d0\"], [0.7, \"#b8e186\"], [0.8, \"#7fbc41\"], [0.9, \"#4d9221\"], [1, \"#276419\"]], \"sequential\": [[0.0, \"#0d0887\"], [0.1111111111111111, \"#46039f\"], [0.2222222222222222, \"#7201a8\"], [0.3333333333333333, \"#9c179e\"], [0.4444444444444444, \"#bd3786\"], [0.5555555555555556, \"#d8576b\"], [0.6666666666666666, \"#ed7953\"], [0.7777777777777778, \"#fb9f3a\"], [0.8888888888888888, \"#fdca26\"], [1.0, \"#f0f921\"]], \"sequentialminus\": [[0.0, \"#0d0887\"], [0.1111111111111111, \"#46039f\"], [0.2222222222222222, \"#7201a8\"], [0.3333333333333333, \"#9c179e\"], [0.4444444444444444, \"#bd3786\"], [0.5555555555555556, \"#d8576b\"], [0.6666666666666666, \"#ed7953\"], [0.7777777777777778, \"#fb9f3a\"], [0.8888888888888888, \"#fdca26\"], [1.0, \"#f0f921\"]]}, \"colorway\": [\"#636efa\", \"#EF553B\", \"#00cc96\", \"#ab63fa\", \"#FFA15A\", \"#19d3f3\", \"#FF6692\", \"#B6E880\", \"#FF97FF\", \"#FECB52\"], \"font\": {\"color\": \"#f2f5fa\"}, \"geo\": {\"bgcolor\": \"rgb(17,17,17)\", \"lakecolor\": \"rgb(17,17,17)\", \"landcolor\": \"rgb(17,17,17)\", \"showlakes\": true, \"showland\": true, \"subunitcolor\": \"#506784\"}, \"hoverlabel\": {\"align\": \"left\"}, \"hovermode\": \"closest\", \"mapbox\": {\"style\": \"dark\"}, \"paper_bgcolor\": \"rgb(17,17,17)\", \"plot_bgcolor\": \"rgb(17,17,17)\", \"polar\": {\"angularaxis\": {\"gridcolor\": \"#506784\", \"linecolor\": \"#506784\", \"ticks\": \"\"}, \"bgcolor\": \"rgb(17,17,17)\", \"radialaxis\": {\"gridcolor\": \"#506784\", \"linecolor\": \"#506784\", \"ticks\": \"\"}}, \"scene\": {\"xaxis\": {\"backgroundcolor\": \"rgb(17,17,17)\", \"gridcolor\": \"#506784\", \"gridwidth\": 2, \"linecolor\": \"#506784\", \"showbackground\": true, \"ticks\": \"\", \"zerolinecolor\": \"#C8D4E3\"}, \"yaxis\": {\"backgroundcolor\": \"rgb(17,17,17)\", \"gridcolor\": \"#506784\", \"gridwidth\": 2, \"linecolor\": \"#506784\", \"showbackground\": true, \"ticks\": \"\", \"zerolinecolor\": \"#C8D4E3\"}, \"zaxis\": {\"backgroundcolor\": \"rgb(17,17,17)\", \"gridcolor\": \"#506784\", \"gridwidth\": 2, \"linecolor\": \"#506784\", \"showbackground\": true, \"ticks\": \"\", \"zerolinecolor\": \"#C8D4E3\"}}, \"shapedefaults\": {\"line\": {\"color\": \"#f2f5fa\"}}, \"sliderdefaults\": {\"bgcolor\": \"#C8D4E3\", \"bordercolor\": \"rgb(17,17,17)\", \"borderwidth\": 1, \"tickwidth\": 0}, \"ternary\": {\"aaxis\": {\"gridcolor\": \"#506784\", \"linecolor\": \"#506784\", \"ticks\": \"\"}, \"baxis\": {\"gridcolor\": \"#506784\", \"linecolor\": \"#506784\", \"ticks\": \"\"}, \"bgcolor\": \"rgb(17,17,17)\", \"caxis\": {\"gridcolor\": \"#506784\", \"linecolor\": \"#506784\", \"ticks\": \"\"}}, \"title\": {\"x\": 0.05}, \"updatemenudefaults\": {\"bgcolor\": \"#506784\", \"borderwidth\": 0}, \"xaxis\": {\"automargin\": true, \"gridcolor\": \"#283442\", \"linecolor\": \"#506784\", \"ticks\": \"\", \"title\": {\"standoff\": 15}, \"zerolinecolor\": \"#283442\", \"zerolinewidth\": 2}, \"yaxis\": {\"automargin\": true, \"gridcolor\": \"#283442\", \"linecolor\": \"#506784\", \"ticks\": \"\", \"title\": {\"standoff\": 15}, \"zerolinecolor\": \"#283442\", \"zerolinewidth\": 2}}}, \"title\": {\"text\": \"Ratings of Disney+ Content\"}, \"xaxis\": {\"title\": {\"text\": \"Film Rating\"}}, \"yaxis\": {\"title\": {\"text\": \"Count\"}}},\n",
       "                        {\"responsive\": true}\n",
       "                    ).then(function(){\n",
       "                            \n",
       "var gd = document.getElementById('2cd3eaf7-fafa-4e69-8b47-1cf0dfbb5c4f');\n",
       "var x = new MutationObserver(function (mutations, observer) {{\n",
       "        var display = window.getComputedStyle(gd).display;\n",
       "        if (!display || display === 'none') {{\n",
       "            console.log([gd, 'removed!']);\n",
       "            Plotly.purge(gd);\n",
       "            observer.disconnect();\n",
       "        }}\n",
       "}});\n",
       "\n",
       "// Listen for the removal of the full notebook cells\n",
       "var notebookContainer = gd.closest('#notebook-container');\n",
       "if (notebookContainer) {{\n",
       "    x.observe(notebookContainer, {childList: true});\n",
       "}}\n",
       "\n",
       "// Listen for the clearing of the current output cell\n",
       "var outputEl = gd.closest('.output');\n",
       "if (outputEl) {{\n",
       "    x.observe(outputEl, {childList: true});\n",
       "}}\n",
       "\n",
       "                        })\n",
       "                };\n",
       "                });\n",
       "            </script>\n",
       "        </div>"
      ]
     },
     "metadata": {},
     "output_type": "display_data"
    }
   ],
   "source": [
    "df_tv = disney_df_copy[disney_df_copy['show_type'] == 'episode']\n",
    "df_mov = disney_df_copy[disney_df_copy['show_type'] == 'movie']\n",
    "\n",
    "df_temp_tv = df_tv['film_rating'].value_counts().reset_index()\n",
    "df_mov_tv = df_mov['film_rating'].value_counts().reset_index()\n",
    "\n",
    "trace_1 = go.Bar(\n",
    "                x = df_temp_tv['index'],\n",
    "                y= df_temp_tv['film_rating'],\n",
    "                name= 'TV Shows',\n",
    "                marker = dict(color = 'rgb(65,105,225)'))\n",
    "\n",
    "trace_2 = go.Bar(\n",
    "                x = df_mov_tv['index'],\n",
    "                y= df_mov_tv['film_rating'],\n",
    "                name= 'Movies',\n",
    "                marker = dict(color='rgb(0,255,127)'))\n",
    "\n",
    "layout = go.Layout(template = 'plotly_dark', title = 'Ratings of Disney+ Content',\n",
    "                  xaxis=dict(title='Film Rating'), yaxis=dict(title='Count'))\n",
    "\n",
    "fig = go.Figure(data = [trace_1, trace_2], layout = layout)\n",
    "fig.show()"
   ]
  },
  {
   "cell_type": "markdown",
   "metadata": {},
   "source": [
    "Disney+ is the exclusive home for your favorite movies and TV shows from Disney, Pixar, Marvel, Star Wars, and National Geographic. All these studio productions are catered to children and young teens"
   ]
  },
  {
   "cell_type": "code",
   "execution_count": 58,
   "metadata": {},
   "outputs": [
    {
     "data": {
      "application/vnd.plotly.v1+json": {
       "config": {
        "plotlyServerURL": "https://plot.ly"
       },
       "data": [
        {
         "marker": {
          "color": "#F0FFF0",
          "line": {
           "color": "rgb(0,0,0)",
           "width": 1.5
          }
         },
         "type": "bar",
         "x": [
          "Kenny Ortega",
          "John Lasseter",
          "Robert Stevenson",
          "James Algar",
          "Vincent McEveety",
          "Hamilton Luske",
          "Paul Hoen",
          "Jack Kinney",
          "Jack Hannah",
          "Clyde Geronimi",
          "Wilfred Jackson"
         ],
         "y": [
          9,
          9,
          10,
          10,
          10,
          12,
          13,
          14,
          15,
          16,
          18
         ]
        }
       ],
       "layout": {
        "template": {
         "data": {
          "bar": [
           {
            "error_x": {
             "color": "#f2f5fa"
            },
            "error_y": {
             "color": "#f2f5fa"
            },
            "marker": {
             "line": {
              "color": "rgb(17,17,17)",
              "width": 0.5
             }
            },
            "type": "bar"
           }
          ],
          "barpolar": [
           {
            "marker": {
             "line": {
              "color": "rgb(17,17,17)",
              "width": 0.5
             }
            },
            "type": "barpolar"
           }
          ],
          "carpet": [
           {
            "aaxis": {
             "endlinecolor": "#A2B1C6",
             "gridcolor": "#506784",
             "linecolor": "#506784",
             "minorgridcolor": "#506784",
             "startlinecolor": "#A2B1C6"
            },
            "baxis": {
             "endlinecolor": "#A2B1C6",
             "gridcolor": "#506784",
             "linecolor": "#506784",
             "minorgridcolor": "#506784",
             "startlinecolor": "#A2B1C6"
            },
            "type": "carpet"
           }
          ],
          "choropleth": [
           {
            "colorbar": {
             "outlinewidth": 0,
             "ticks": ""
            },
            "type": "choropleth"
           }
          ],
          "contour": [
           {
            "colorbar": {
             "outlinewidth": 0,
             "ticks": ""
            },
            "colorscale": [
             [
              0,
              "#0d0887"
             ],
             [
              0.1111111111111111,
              "#46039f"
             ],
             [
              0.2222222222222222,
              "#7201a8"
             ],
             [
              0.3333333333333333,
              "#9c179e"
             ],
             [
              0.4444444444444444,
              "#bd3786"
             ],
             [
              0.5555555555555556,
              "#d8576b"
             ],
             [
              0.6666666666666666,
              "#ed7953"
             ],
             [
              0.7777777777777778,
              "#fb9f3a"
             ],
             [
              0.8888888888888888,
              "#fdca26"
             ],
             [
              1,
              "#f0f921"
             ]
            ],
            "type": "contour"
           }
          ],
          "contourcarpet": [
           {
            "colorbar": {
             "outlinewidth": 0,
             "ticks": ""
            },
            "type": "contourcarpet"
           }
          ],
          "heatmap": [
           {
            "colorbar": {
             "outlinewidth": 0,
             "ticks": ""
            },
            "colorscale": [
             [
              0,
              "#0d0887"
             ],
             [
              0.1111111111111111,
              "#46039f"
             ],
             [
              0.2222222222222222,
              "#7201a8"
             ],
             [
              0.3333333333333333,
              "#9c179e"
             ],
             [
              0.4444444444444444,
              "#bd3786"
             ],
             [
              0.5555555555555556,
              "#d8576b"
             ],
             [
              0.6666666666666666,
              "#ed7953"
             ],
             [
              0.7777777777777778,
              "#fb9f3a"
             ],
             [
              0.8888888888888888,
              "#fdca26"
             ],
             [
              1,
              "#f0f921"
             ]
            ],
            "type": "heatmap"
           }
          ],
          "heatmapgl": [
           {
            "colorbar": {
             "outlinewidth": 0,
             "ticks": ""
            },
            "colorscale": [
             [
              0,
              "#0d0887"
             ],
             [
              0.1111111111111111,
              "#46039f"
             ],
             [
              0.2222222222222222,
              "#7201a8"
             ],
             [
              0.3333333333333333,
              "#9c179e"
             ],
             [
              0.4444444444444444,
              "#bd3786"
             ],
             [
              0.5555555555555556,
              "#d8576b"
             ],
             [
              0.6666666666666666,
              "#ed7953"
             ],
             [
              0.7777777777777778,
              "#fb9f3a"
             ],
             [
              0.8888888888888888,
              "#fdca26"
             ],
             [
              1,
              "#f0f921"
             ]
            ],
            "type": "heatmapgl"
           }
          ],
          "histogram": [
           {
            "marker": {
             "colorbar": {
              "outlinewidth": 0,
              "ticks": ""
             }
            },
            "type": "histogram"
           }
          ],
          "histogram2d": [
           {
            "colorbar": {
             "outlinewidth": 0,
             "ticks": ""
            },
            "colorscale": [
             [
              0,
              "#0d0887"
             ],
             [
              0.1111111111111111,
              "#46039f"
             ],
             [
              0.2222222222222222,
              "#7201a8"
             ],
             [
              0.3333333333333333,
              "#9c179e"
             ],
             [
              0.4444444444444444,
              "#bd3786"
             ],
             [
              0.5555555555555556,
              "#d8576b"
             ],
             [
              0.6666666666666666,
              "#ed7953"
             ],
             [
              0.7777777777777778,
              "#fb9f3a"
             ],
             [
              0.8888888888888888,
              "#fdca26"
             ],
             [
              1,
              "#f0f921"
             ]
            ],
            "type": "histogram2d"
           }
          ],
          "histogram2dcontour": [
           {
            "colorbar": {
             "outlinewidth": 0,
             "ticks": ""
            },
            "colorscale": [
             [
              0,
              "#0d0887"
             ],
             [
              0.1111111111111111,
              "#46039f"
             ],
             [
              0.2222222222222222,
              "#7201a8"
             ],
             [
              0.3333333333333333,
              "#9c179e"
             ],
             [
              0.4444444444444444,
              "#bd3786"
             ],
             [
              0.5555555555555556,
              "#d8576b"
             ],
             [
              0.6666666666666666,
              "#ed7953"
             ],
             [
              0.7777777777777778,
              "#fb9f3a"
             ],
             [
              0.8888888888888888,
              "#fdca26"
             ],
             [
              1,
              "#f0f921"
             ]
            ],
            "type": "histogram2dcontour"
           }
          ],
          "mesh3d": [
           {
            "colorbar": {
             "outlinewidth": 0,
             "ticks": ""
            },
            "type": "mesh3d"
           }
          ],
          "parcoords": [
           {
            "line": {
             "colorbar": {
              "outlinewidth": 0,
              "ticks": ""
             }
            },
            "type": "parcoords"
           }
          ],
          "pie": [
           {
            "automargin": true,
            "type": "pie"
           }
          ],
          "scatter": [
           {
            "marker": {
             "line": {
              "color": "#283442"
             }
            },
            "type": "scatter"
           }
          ],
          "scatter3d": [
           {
            "line": {
             "colorbar": {
              "outlinewidth": 0,
              "ticks": ""
             }
            },
            "marker": {
             "colorbar": {
              "outlinewidth": 0,
              "ticks": ""
             }
            },
            "type": "scatter3d"
           }
          ],
          "scattercarpet": [
           {
            "marker": {
             "colorbar": {
              "outlinewidth": 0,
              "ticks": ""
             }
            },
            "type": "scattercarpet"
           }
          ],
          "scattergeo": [
           {
            "marker": {
             "colorbar": {
              "outlinewidth": 0,
              "ticks": ""
             }
            },
            "type": "scattergeo"
           }
          ],
          "scattergl": [
           {
            "marker": {
             "line": {
              "color": "#283442"
             }
            },
            "type": "scattergl"
           }
          ],
          "scattermapbox": [
           {
            "marker": {
             "colorbar": {
              "outlinewidth": 0,
              "ticks": ""
             }
            },
            "type": "scattermapbox"
           }
          ],
          "scatterpolar": [
           {
            "marker": {
             "colorbar": {
              "outlinewidth": 0,
              "ticks": ""
             }
            },
            "type": "scatterpolar"
           }
          ],
          "scatterpolargl": [
           {
            "marker": {
             "colorbar": {
              "outlinewidth": 0,
              "ticks": ""
             }
            },
            "type": "scatterpolargl"
           }
          ],
          "scatterternary": [
           {
            "marker": {
             "colorbar": {
              "outlinewidth": 0,
              "ticks": ""
             }
            },
            "type": "scatterternary"
           }
          ],
          "surface": [
           {
            "colorbar": {
             "outlinewidth": 0,
             "ticks": ""
            },
            "colorscale": [
             [
              0,
              "#0d0887"
             ],
             [
              0.1111111111111111,
              "#46039f"
             ],
             [
              0.2222222222222222,
              "#7201a8"
             ],
             [
              0.3333333333333333,
              "#9c179e"
             ],
             [
              0.4444444444444444,
              "#bd3786"
             ],
             [
              0.5555555555555556,
              "#d8576b"
             ],
             [
              0.6666666666666666,
              "#ed7953"
             ],
             [
              0.7777777777777778,
              "#fb9f3a"
             ],
             [
              0.8888888888888888,
              "#fdca26"
             ],
             [
              1,
              "#f0f921"
             ]
            ],
            "type": "surface"
           }
          ],
          "table": [
           {
            "cells": {
             "fill": {
              "color": "#506784"
             },
             "line": {
              "color": "rgb(17,17,17)"
             }
            },
            "header": {
             "fill": {
              "color": "#2a3f5f"
             },
             "line": {
              "color": "rgb(17,17,17)"
             }
            },
            "type": "table"
           }
          ]
         },
         "layout": {
          "annotationdefaults": {
           "arrowcolor": "#f2f5fa",
           "arrowhead": 0,
           "arrowwidth": 1
          },
          "coloraxis": {
           "colorbar": {
            "outlinewidth": 0,
            "ticks": ""
           }
          },
          "colorscale": {
           "diverging": [
            [
             0,
             "#8e0152"
            ],
            [
             0.1,
             "#c51b7d"
            ],
            [
             0.2,
             "#de77ae"
            ],
            [
             0.3,
             "#f1b6da"
            ],
            [
             0.4,
             "#fde0ef"
            ],
            [
             0.5,
             "#f7f7f7"
            ],
            [
             0.6,
             "#e6f5d0"
            ],
            [
             0.7,
             "#b8e186"
            ],
            [
             0.8,
             "#7fbc41"
            ],
            [
             0.9,
             "#4d9221"
            ],
            [
             1,
             "#276419"
            ]
           ],
           "sequential": [
            [
             0,
             "#0d0887"
            ],
            [
             0.1111111111111111,
             "#46039f"
            ],
            [
             0.2222222222222222,
             "#7201a8"
            ],
            [
             0.3333333333333333,
             "#9c179e"
            ],
            [
             0.4444444444444444,
             "#bd3786"
            ],
            [
             0.5555555555555556,
             "#d8576b"
            ],
            [
             0.6666666666666666,
             "#ed7953"
            ],
            [
             0.7777777777777778,
             "#fb9f3a"
            ],
            [
             0.8888888888888888,
             "#fdca26"
            ],
            [
             1,
             "#f0f921"
            ]
           ],
           "sequentialminus": [
            [
             0,
             "#0d0887"
            ],
            [
             0.1111111111111111,
             "#46039f"
            ],
            [
             0.2222222222222222,
             "#7201a8"
            ],
            [
             0.3333333333333333,
             "#9c179e"
            ],
            [
             0.4444444444444444,
             "#bd3786"
            ],
            [
             0.5555555555555556,
             "#d8576b"
            ],
            [
             0.6666666666666666,
             "#ed7953"
            ],
            [
             0.7777777777777778,
             "#fb9f3a"
            ],
            [
             0.8888888888888888,
             "#fdca26"
            ],
            [
             1,
             "#f0f921"
            ]
           ]
          },
          "colorway": [
           "#636efa",
           "#EF553B",
           "#00cc96",
           "#ab63fa",
           "#FFA15A",
           "#19d3f3",
           "#FF6692",
           "#B6E880",
           "#FF97FF",
           "#FECB52"
          ],
          "font": {
           "color": "#f2f5fa"
          },
          "geo": {
           "bgcolor": "rgb(17,17,17)",
           "lakecolor": "rgb(17,17,17)",
           "landcolor": "rgb(17,17,17)",
           "showlakes": true,
           "showland": true,
           "subunitcolor": "#506784"
          },
          "hoverlabel": {
           "align": "left"
          },
          "hovermode": "closest",
          "mapbox": {
           "style": "dark"
          },
          "paper_bgcolor": "rgb(17,17,17)",
          "plot_bgcolor": "rgb(17,17,17)",
          "polar": {
           "angularaxis": {
            "gridcolor": "#506784",
            "linecolor": "#506784",
            "ticks": ""
           },
           "bgcolor": "rgb(17,17,17)",
           "radialaxis": {
            "gridcolor": "#506784",
            "linecolor": "#506784",
            "ticks": ""
           }
          },
          "scene": {
           "xaxis": {
            "backgroundcolor": "rgb(17,17,17)",
            "gridcolor": "#506784",
            "gridwidth": 2,
            "linecolor": "#506784",
            "showbackground": true,
            "ticks": "",
            "zerolinecolor": "#C8D4E3"
           },
           "yaxis": {
            "backgroundcolor": "rgb(17,17,17)",
            "gridcolor": "#506784",
            "gridwidth": 2,
            "linecolor": "#506784",
            "showbackground": true,
            "ticks": "",
            "zerolinecolor": "#C8D4E3"
           },
           "zaxis": {
            "backgroundcolor": "rgb(17,17,17)",
            "gridcolor": "#506784",
            "gridwidth": 2,
            "linecolor": "#506784",
            "showbackground": true,
            "ticks": "",
            "zerolinecolor": "#C8D4E3"
           }
          },
          "shapedefaults": {
           "line": {
            "color": "#f2f5fa"
           }
          },
          "sliderdefaults": {
           "bgcolor": "#C8D4E3",
           "bordercolor": "rgb(17,17,17)",
           "borderwidth": 1,
           "tickwidth": 0
          },
          "ternary": {
           "aaxis": {
            "gridcolor": "#506784",
            "linecolor": "#506784",
            "ticks": ""
           },
           "baxis": {
            "gridcolor": "#506784",
            "linecolor": "#506784",
            "ticks": ""
           },
           "bgcolor": "rgb(17,17,17)",
           "caxis": {
            "gridcolor": "#506784",
            "linecolor": "#506784",
            "ticks": ""
           }
          },
          "title": {
           "x": 0.05
          },
          "updatemenudefaults": {
           "bgcolor": "#506784",
           "borderwidth": 0
          },
          "xaxis": {
           "automargin": true,
           "gridcolor": "#283442",
           "linecolor": "#506784",
           "ticks": "",
           "title": {
            "standoff": 15
           },
           "zerolinecolor": "#283442",
           "zerolinewidth": 2
          },
          "yaxis": {
           "automargin": true,
           "gridcolor": "#283442",
           "linecolor": "#506784",
           "ticks": "",
           "title": {
            "standoff": 15
           },
           "zerolinecolor": "#283442",
           "zerolinewidth": 2
          }
         }
        },
        "title": {
         "text": "Top 10 U.S. Movie Directors by number of content on Disney+"
        },
        "yaxis": {
         "title": {
          "text": "Count"
         }
        }
       }
      },
      "text/html": [
       "<div>\n",
       "        \n",
       "        \n",
       "            <div id=\"80c7a3c8-0f36-4615-a2a4-6fdb31a519be\" class=\"plotly-graph-div\" style=\"height:525px; width:100%;\"></div>\n",
       "            <script type=\"text/javascript\">\n",
       "                require([\"plotly\"], function(Plotly) {\n",
       "                    window.PLOTLYENV=window.PLOTLYENV || {};\n",
       "                    \n",
       "                if (document.getElementById(\"80c7a3c8-0f36-4615-a2a4-6fdb31a519be\")) {\n",
       "                    Plotly.newPlot(\n",
       "                        '80c7a3c8-0f36-4615-a2a4-6fdb31a519be',\n",
       "                        [{\"marker\": {\"color\": \"#F0FFF0\", \"line\": {\"color\": \"rgb(0,0,0)\", \"width\": 1.5}}, \"type\": \"bar\", \"x\": [\"Kenny Ortega\", \"John Lasseter\", \"Robert Stevenson\", \"James Algar\", \"Vincent McEveety\", \"Hamilton Luske\", \"Paul Hoen\", \"Jack Kinney\", \"Jack Hannah\", \"Clyde Geronimi\", \"Wilfred Jackson\"], \"y\": [9, 9, 10, 10, 10, 12, 13, 14, 15, 16, 18]}],\n",
       "                        {\"template\": {\"data\": {\"bar\": [{\"error_x\": {\"color\": \"#f2f5fa\"}, \"error_y\": {\"color\": \"#f2f5fa\"}, \"marker\": {\"line\": {\"color\": \"rgb(17,17,17)\", \"width\": 0.5}}, \"type\": \"bar\"}], \"barpolar\": [{\"marker\": {\"line\": {\"color\": \"rgb(17,17,17)\", \"width\": 0.5}}, \"type\": \"barpolar\"}], \"carpet\": [{\"aaxis\": {\"endlinecolor\": \"#A2B1C6\", \"gridcolor\": \"#506784\", \"linecolor\": \"#506784\", \"minorgridcolor\": \"#506784\", \"startlinecolor\": \"#A2B1C6\"}, \"baxis\": {\"endlinecolor\": \"#A2B1C6\", \"gridcolor\": \"#506784\", \"linecolor\": \"#506784\", \"minorgridcolor\": \"#506784\", \"startlinecolor\": \"#A2B1C6\"}, \"type\": \"carpet\"}], \"choropleth\": [{\"colorbar\": {\"outlinewidth\": 0, \"ticks\": \"\"}, \"type\": \"choropleth\"}], \"contour\": [{\"colorbar\": {\"outlinewidth\": 0, \"ticks\": \"\"}, \"colorscale\": [[0.0, \"#0d0887\"], [0.1111111111111111, \"#46039f\"], [0.2222222222222222, \"#7201a8\"], [0.3333333333333333, \"#9c179e\"], [0.4444444444444444, \"#bd3786\"], [0.5555555555555556, \"#d8576b\"], [0.6666666666666666, \"#ed7953\"], [0.7777777777777778, \"#fb9f3a\"], [0.8888888888888888, \"#fdca26\"], [1.0, \"#f0f921\"]], \"type\": \"contour\"}], \"contourcarpet\": [{\"colorbar\": {\"outlinewidth\": 0, \"ticks\": \"\"}, \"type\": \"contourcarpet\"}], \"heatmap\": [{\"colorbar\": {\"outlinewidth\": 0, \"ticks\": \"\"}, \"colorscale\": [[0.0, \"#0d0887\"], [0.1111111111111111, \"#46039f\"], [0.2222222222222222, \"#7201a8\"], [0.3333333333333333, \"#9c179e\"], [0.4444444444444444, \"#bd3786\"], [0.5555555555555556, \"#d8576b\"], [0.6666666666666666, \"#ed7953\"], [0.7777777777777778, \"#fb9f3a\"], [0.8888888888888888, \"#fdca26\"], [1.0, \"#f0f921\"]], \"type\": \"heatmap\"}], \"heatmapgl\": [{\"colorbar\": {\"outlinewidth\": 0, \"ticks\": \"\"}, \"colorscale\": [[0.0, \"#0d0887\"], [0.1111111111111111, \"#46039f\"], [0.2222222222222222, \"#7201a8\"], [0.3333333333333333, \"#9c179e\"], [0.4444444444444444, \"#bd3786\"], [0.5555555555555556, \"#d8576b\"], [0.6666666666666666, \"#ed7953\"], [0.7777777777777778, \"#fb9f3a\"], [0.8888888888888888, \"#fdca26\"], [1.0, \"#f0f921\"]], \"type\": \"heatmapgl\"}], \"histogram\": [{\"marker\": {\"colorbar\": {\"outlinewidth\": 0, \"ticks\": \"\"}}, \"type\": \"histogram\"}], \"histogram2d\": [{\"colorbar\": {\"outlinewidth\": 0, \"ticks\": \"\"}, \"colorscale\": [[0.0, \"#0d0887\"], [0.1111111111111111, \"#46039f\"], [0.2222222222222222, \"#7201a8\"], [0.3333333333333333, \"#9c179e\"], [0.4444444444444444, \"#bd3786\"], [0.5555555555555556, \"#d8576b\"], [0.6666666666666666, \"#ed7953\"], [0.7777777777777778, \"#fb9f3a\"], [0.8888888888888888, \"#fdca26\"], [1.0, \"#f0f921\"]], \"type\": \"histogram2d\"}], \"histogram2dcontour\": [{\"colorbar\": {\"outlinewidth\": 0, \"ticks\": \"\"}, \"colorscale\": [[0.0, \"#0d0887\"], [0.1111111111111111, \"#46039f\"], [0.2222222222222222, \"#7201a8\"], [0.3333333333333333, \"#9c179e\"], [0.4444444444444444, \"#bd3786\"], [0.5555555555555556, \"#d8576b\"], [0.6666666666666666, \"#ed7953\"], [0.7777777777777778, \"#fb9f3a\"], [0.8888888888888888, \"#fdca26\"], [1.0, \"#f0f921\"]], \"type\": \"histogram2dcontour\"}], \"mesh3d\": [{\"colorbar\": {\"outlinewidth\": 0, \"ticks\": \"\"}, \"type\": \"mesh3d\"}], \"parcoords\": [{\"line\": {\"colorbar\": {\"outlinewidth\": 0, \"ticks\": \"\"}}, \"type\": \"parcoords\"}], \"pie\": [{\"automargin\": true, \"type\": \"pie\"}], \"scatter\": [{\"marker\": {\"line\": {\"color\": \"#283442\"}}, \"type\": \"scatter\"}], \"scatter3d\": [{\"line\": {\"colorbar\": {\"outlinewidth\": 0, \"ticks\": \"\"}}, \"marker\": {\"colorbar\": {\"outlinewidth\": 0, \"ticks\": \"\"}}, \"type\": \"scatter3d\"}], \"scattercarpet\": [{\"marker\": {\"colorbar\": {\"outlinewidth\": 0, \"ticks\": \"\"}}, \"type\": \"scattercarpet\"}], \"scattergeo\": [{\"marker\": {\"colorbar\": {\"outlinewidth\": 0, \"ticks\": \"\"}}, \"type\": \"scattergeo\"}], \"scattergl\": [{\"marker\": {\"line\": {\"color\": \"#283442\"}}, \"type\": \"scattergl\"}], \"scattermapbox\": [{\"marker\": {\"colorbar\": {\"outlinewidth\": 0, \"ticks\": \"\"}}, \"type\": \"scattermapbox\"}], \"scatterpolar\": [{\"marker\": {\"colorbar\": {\"outlinewidth\": 0, \"ticks\": \"\"}}, \"type\": \"scatterpolar\"}], \"scatterpolargl\": [{\"marker\": {\"colorbar\": {\"outlinewidth\": 0, \"ticks\": \"\"}}, \"type\": \"scatterpolargl\"}], \"scatterternary\": [{\"marker\": {\"colorbar\": {\"outlinewidth\": 0, \"ticks\": \"\"}}, \"type\": \"scatterternary\"}], \"surface\": [{\"colorbar\": {\"outlinewidth\": 0, \"ticks\": \"\"}, \"colorscale\": [[0.0, \"#0d0887\"], [0.1111111111111111, \"#46039f\"], [0.2222222222222222, \"#7201a8\"], [0.3333333333333333, \"#9c179e\"], [0.4444444444444444, \"#bd3786\"], [0.5555555555555556, \"#d8576b\"], [0.6666666666666666, \"#ed7953\"], [0.7777777777777778, \"#fb9f3a\"], [0.8888888888888888, \"#fdca26\"], [1.0, \"#f0f921\"]], \"type\": \"surface\"}], \"table\": [{\"cells\": {\"fill\": {\"color\": \"#506784\"}, \"line\": {\"color\": \"rgb(17,17,17)\"}}, \"header\": {\"fill\": {\"color\": \"#2a3f5f\"}, \"line\": {\"color\": \"rgb(17,17,17)\"}}, \"type\": \"table\"}]}, \"layout\": {\"annotationdefaults\": {\"arrowcolor\": \"#f2f5fa\", \"arrowhead\": 0, \"arrowwidth\": 1}, \"coloraxis\": {\"colorbar\": {\"outlinewidth\": 0, \"ticks\": \"\"}}, \"colorscale\": {\"diverging\": [[0, \"#8e0152\"], [0.1, \"#c51b7d\"], [0.2, \"#de77ae\"], [0.3, \"#f1b6da\"], [0.4, \"#fde0ef\"], [0.5, \"#f7f7f7\"], [0.6, \"#e6f5d0\"], [0.7, \"#b8e186\"], [0.8, \"#7fbc41\"], [0.9, \"#4d9221\"], [1, \"#276419\"]], \"sequential\": [[0.0, \"#0d0887\"], [0.1111111111111111, \"#46039f\"], [0.2222222222222222, \"#7201a8\"], [0.3333333333333333, \"#9c179e\"], [0.4444444444444444, \"#bd3786\"], [0.5555555555555556, \"#d8576b\"], [0.6666666666666666, \"#ed7953\"], [0.7777777777777778, \"#fb9f3a\"], [0.8888888888888888, \"#fdca26\"], [1.0, \"#f0f921\"]], \"sequentialminus\": [[0.0, \"#0d0887\"], [0.1111111111111111, \"#46039f\"], [0.2222222222222222, \"#7201a8\"], [0.3333333333333333, \"#9c179e\"], [0.4444444444444444, \"#bd3786\"], [0.5555555555555556, \"#d8576b\"], [0.6666666666666666, \"#ed7953\"], [0.7777777777777778, \"#fb9f3a\"], [0.8888888888888888, \"#fdca26\"], [1.0, \"#f0f921\"]]}, \"colorway\": [\"#636efa\", \"#EF553B\", \"#00cc96\", \"#ab63fa\", \"#FFA15A\", \"#19d3f3\", \"#FF6692\", \"#B6E880\", \"#FF97FF\", \"#FECB52\"], \"font\": {\"color\": \"#f2f5fa\"}, \"geo\": {\"bgcolor\": \"rgb(17,17,17)\", \"lakecolor\": \"rgb(17,17,17)\", \"landcolor\": \"rgb(17,17,17)\", \"showlakes\": true, \"showland\": true, \"subunitcolor\": \"#506784\"}, \"hoverlabel\": {\"align\": \"left\"}, \"hovermode\": \"closest\", \"mapbox\": {\"style\": \"dark\"}, \"paper_bgcolor\": \"rgb(17,17,17)\", \"plot_bgcolor\": \"rgb(17,17,17)\", \"polar\": {\"angularaxis\": {\"gridcolor\": \"#506784\", \"linecolor\": \"#506784\", \"ticks\": \"\"}, \"bgcolor\": \"rgb(17,17,17)\", \"radialaxis\": {\"gridcolor\": \"#506784\", \"linecolor\": \"#506784\", \"ticks\": \"\"}}, \"scene\": {\"xaxis\": {\"backgroundcolor\": \"rgb(17,17,17)\", \"gridcolor\": \"#506784\", \"gridwidth\": 2, \"linecolor\": \"#506784\", \"showbackground\": true, \"ticks\": \"\", \"zerolinecolor\": \"#C8D4E3\"}, \"yaxis\": {\"backgroundcolor\": \"rgb(17,17,17)\", \"gridcolor\": \"#506784\", \"gridwidth\": 2, \"linecolor\": \"#506784\", \"showbackground\": true, \"ticks\": \"\", \"zerolinecolor\": \"#C8D4E3\"}, \"zaxis\": {\"backgroundcolor\": \"rgb(17,17,17)\", \"gridcolor\": \"#506784\", \"gridwidth\": 2, \"linecolor\": \"#506784\", \"showbackground\": true, \"ticks\": \"\", \"zerolinecolor\": \"#C8D4E3\"}}, \"shapedefaults\": {\"line\": {\"color\": \"#f2f5fa\"}}, \"sliderdefaults\": {\"bgcolor\": \"#C8D4E3\", \"bordercolor\": \"rgb(17,17,17)\", \"borderwidth\": 1, \"tickwidth\": 0}, \"ternary\": {\"aaxis\": {\"gridcolor\": \"#506784\", \"linecolor\": \"#506784\", \"ticks\": \"\"}, \"baxis\": {\"gridcolor\": \"#506784\", \"linecolor\": \"#506784\", \"ticks\": \"\"}, \"bgcolor\": \"rgb(17,17,17)\", \"caxis\": {\"gridcolor\": \"#506784\", \"linecolor\": \"#506784\", \"ticks\": \"\"}}, \"title\": {\"x\": 0.05}, \"updatemenudefaults\": {\"bgcolor\": \"#506784\", \"borderwidth\": 0}, \"xaxis\": {\"automargin\": true, \"gridcolor\": \"#283442\", \"linecolor\": \"#506784\", \"ticks\": \"\", \"title\": {\"standoff\": 15}, \"zerolinecolor\": \"#283442\", \"zerolinewidth\": 2}, \"yaxis\": {\"automargin\": true, \"gridcolor\": \"#283442\", \"linecolor\": \"#506784\", \"ticks\": \"\", \"title\": {\"standoff\": 15}, \"zerolinecolor\": \"#283442\", \"zerolinewidth\": 2}}}, \"title\": {\"text\": \"Top 10 U.S. Movie Directors by number of content on Disney+\"}, \"yaxis\": {\"title\": {\"text\": \"Count\"}}},\n",
       "                        {\"responsive\": true}\n",
       "                    ).then(function(){\n",
       "                            \n",
       "var gd = document.getElementById('80c7a3c8-0f36-4615-a2a4-6fdb31a519be');\n",
       "var x = new MutationObserver(function (mutations, observer) {{\n",
       "        var display = window.getComputedStyle(gd).display;\n",
       "        if (!display || display === 'none') {{\n",
       "            console.log([gd, 'removed!']);\n",
       "            Plotly.purge(gd);\n",
       "            observer.disconnect();\n",
       "        }}\n",
       "}});\n",
       "\n",
       "// Listen for the removal of the full notebook cells\n",
       "var notebookContainer = gd.closest('#notebook-container');\n",
       "if (notebookContainer) {{\n",
       "    x.observe(notebookContainer, {childList: true});\n",
       "}}\n",
       "\n",
       "// Listen for the clearing of the current output cell\n",
       "var outputEl = gd.closest('.output');\n",
       "if (outputEl) {{\n",
       "    x.observe(outputEl, {childList: true});\n",
       "}}\n",
       "\n",
       "                        })\n",
       "                };\n",
       "                });\n",
       "            </script>\n",
       "        </div>"
      ]
     },
     "metadata": {},
     "output_type": "display_data"
    }
   ],
   "source": [
    "us_mov_dct = disney_df_copy[disney_df_copy['show_type'] == 'movie'] \n",
    "us_mov_dct = us_mov_dct[us_mov_dct['country'] == 'USA']\n",
    "\n",
    "\n",
    "categories = \", \".join(us_mov_dct['director'].fillna(\"\")).split(\", \")\n",
    "counter_list = Counter(categories).most_common(11)\n",
    "counter_list = [_ for _ in counter_list if _[0] != \"\"]\n",
    "labels = [_[0] for _ in counter_list][::-1]\n",
    "values = [_[1] for _ in counter_list][::-1]\n",
    "trace1 = go.Bar(\n",
    "                x = labels,\n",
    "                y = values,\n",
    "                marker = dict(color = '#F0FFF0',\n",
    "                              line=dict(color='rgb(0,0,0)',width=1.5)))\n",
    "layout = go.Layout(template= \"plotly_dark\",title = 'Top 10 U.S. Movie Directors by number of content on Disney+', yaxis = dict(title = 'Count'))\n",
    "fig = go.Figure(data = [trace1], layout = layout)\n",
    "fig.show()"
   ]
  },
  {
   "cell_type": "code",
   "execution_count": 59,
   "metadata": {},
   "outputs": [
    {
     "data": {
      "application/vnd.plotly.v1+json": {
       "config": {
        "plotlyServerURL": "https://plot.ly"
       },
       "data": [
        {
         "marker": {
          "color": "#FFF5EE",
          "line": {
           "color": "rgb(0,0,0)",
           "width": 1.5
          }
         },
         "type": "bar",
         "x": [
          "Natalie Portman",
          "Robert Downey Jr.",
          "Dove Cameron",
          "Tom Hanks",
          "Dessie Flynn",
          "Dean Jones",
          "James MacDonald",
          "Jim Cummings",
          "Walt Disney",
          "Pinto Colvig",
          "Clarence Nash"
         ],
         "y": [
          6,
          7,
          7,
          8,
          8,
          9,
          12,
          13,
          15,
          23,
          29
         ]
        }
       ],
       "layout": {
        "template": {
         "data": {
          "bar": [
           {
            "error_x": {
             "color": "#f2f5fa"
            },
            "error_y": {
             "color": "#f2f5fa"
            },
            "marker": {
             "line": {
              "color": "rgb(17,17,17)",
              "width": 0.5
             }
            },
            "type": "bar"
           }
          ],
          "barpolar": [
           {
            "marker": {
             "line": {
              "color": "rgb(17,17,17)",
              "width": 0.5
             }
            },
            "type": "barpolar"
           }
          ],
          "carpet": [
           {
            "aaxis": {
             "endlinecolor": "#A2B1C6",
             "gridcolor": "#506784",
             "linecolor": "#506784",
             "minorgridcolor": "#506784",
             "startlinecolor": "#A2B1C6"
            },
            "baxis": {
             "endlinecolor": "#A2B1C6",
             "gridcolor": "#506784",
             "linecolor": "#506784",
             "minorgridcolor": "#506784",
             "startlinecolor": "#A2B1C6"
            },
            "type": "carpet"
           }
          ],
          "choropleth": [
           {
            "colorbar": {
             "outlinewidth": 0,
             "ticks": ""
            },
            "type": "choropleth"
           }
          ],
          "contour": [
           {
            "colorbar": {
             "outlinewidth": 0,
             "ticks": ""
            },
            "colorscale": [
             [
              0,
              "#0d0887"
             ],
             [
              0.1111111111111111,
              "#46039f"
             ],
             [
              0.2222222222222222,
              "#7201a8"
             ],
             [
              0.3333333333333333,
              "#9c179e"
             ],
             [
              0.4444444444444444,
              "#bd3786"
             ],
             [
              0.5555555555555556,
              "#d8576b"
             ],
             [
              0.6666666666666666,
              "#ed7953"
             ],
             [
              0.7777777777777778,
              "#fb9f3a"
             ],
             [
              0.8888888888888888,
              "#fdca26"
             ],
             [
              1,
              "#f0f921"
             ]
            ],
            "type": "contour"
           }
          ],
          "contourcarpet": [
           {
            "colorbar": {
             "outlinewidth": 0,
             "ticks": ""
            },
            "type": "contourcarpet"
           }
          ],
          "heatmap": [
           {
            "colorbar": {
             "outlinewidth": 0,
             "ticks": ""
            },
            "colorscale": [
             [
              0,
              "#0d0887"
             ],
             [
              0.1111111111111111,
              "#46039f"
             ],
             [
              0.2222222222222222,
              "#7201a8"
             ],
             [
              0.3333333333333333,
              "#9c179e"
             ],
             [
              0.4444444444444444,
              "#bd3786"
             ],
             [
              0.5555555555555556,
              "#d8576b"
             ],
             [
              0.6666666666666666,
              "#ed7953"
             ],
             [
              0.7777777777777778,
              "#fb9f3a"
             ],
             [
              0.8888888888888888,
              "#fdca26"
             ],
             [
              1,
              "#f0f921"
             ]
            ],
            "type": "heatmap"
           }
          ],
          "heatmapgl": [
           {
            "colorbar": {
             "outlinewidth": 0,
             "ticks": ""
            },
            "colorscale": [
             [
              0,
              "#0d0887"
             ],
             [
              0.1111111111111111,
              "#46039f"
             ],
             [
              0.2222222222222222,
              "#7201a8"
             ],
             [
              0.3333333333333333,
              "#9c179e"
             ],
             [
              0.4444444444444444,
              "#bd3786"
             ],
             [
              0.5555555555555556,
              "#d8576b"
             ],
             [
              0.6666666666666666,
              "#ed7953"
             ],
             [
              0.7777777777777778,
              "#fb9f3a"
             ],
             [
              0.8888888888888888,
              "#fdca26"
             ],
             [
              1,
              "#f0f921"
             ]
            ],
            "type": "heatmapgl"
           }
          ],
          "histogram": [
           {
            "marker": {
             "colorbar": {
              "outlinewidth": 0,
              "ticks": ""
             }
            },
            "type": "histogram"
           }
          ],
          "histogram2d": [
           {
            "colorbar": {
             "outlinewidth": 0,
             "ticks": ""
            },
            "colorscale": [
             [
              0,
              "#0d0887"
             ],
             [
              0.1111111111111111,
              "#46039f"
             ],
             [
              0.2222222222222222,
              "#7201a8"
             ],
             [
              0.3333333333333333,
              "#9c179e"
             ],
             [
              0.4444444444444444,
              "#bd3786"
             ],
             [
              0.5555555555555556,
              "#d8576b"
             ],
             [
              0.6666666666666666,
              "#ed7953"
             ],
             [
              0.7777777777777778,
              "#fb9f3a"
             ],
             [
              0.8888888888888888,
              "#fdca26"
             ],
             [
              1,
              "#f0f921"
             ]
            ],
            "type": "histogram2d"
           }
          ],
          "histogram2dcontour": [
           {
            "colorbar": {
             "outlinewidth": 0,
             "ticks": ""
            },
            "colorscale": [
             [
              0,
              "#0d0887"
             ],
             [
              0.1111111111111111,
              "#46039f"
             ],
             [
              0.2222222222222222,
              "#7201a8"
             ],
             [
              0.3333333333333333,
              "#9c179e"
             ],
             [
              0.4444444444444444,
              "#bd3786"
             ],
             [
              0.5555555555555556,
              "#d8576b"
             ],
             [
              0.6666666666666666,
              "#ed7953"
             ],
             [
              0.7777777777777778,
              "#fb9f3a"
             ],
             [
              0.8888888888888888,
              "#fdca26"
             ],
             [
              1,
              "#f0f921"
             ]
            ],
            "type": "histogram2dcontour"
           }
          ],
          "mesh3d": [
           {
            "colorbar": {
             "outlinewidth": 0,
             "ticks": ""
            },
            "type": "mesh3d"
           }
          ],
          "parcoords": [
           {
            "line": {
             "colorbar": {
              "outlinewidth": 0,
              "ticks": ""
             }
            },
            "type": "parcoords"
           }
          ],
          "pie": [
           {
            "automargin": true,
            "type": "pie"
           }
          ],
          "scatter": [
           {
            "marker": {
             "line": {
              "color": "#283442"
             }
            },
            "type": "scatter"
           }
          ],
          "scatter3d": [
           {
            "line": {
             "colorbar": {
              "outlinewidth": 0,
              "ticks": ""
             }
            },
            "marker": {
             "colorbar": {
              "outlinewidth": 0,
              "ticks": ""
             }
            },
            "type": "scatter3d"
           }
          ],
          "scattercarpet": [
           {
            "marker": {
             "colorbar": {
              "outlinewidth": 0,
              "ticks": ""
             }
            },
            "type": "scattercarpet"
           }
          ],
          "scattergeo": [
           {
            "marker": {
             "colorbar": {
              "outlinewidth": 0,
              "ticks": ""
             }
            },
            "type": "scattergeo"
           }
          ],
          "scattergl": [
           {
            "marker": {
             "line": {
              "color": "#283442"
             }
            },
            "type": "scattergl"
           }
          ],
          "scattermapbox": [
           {
            "marker": {
             "colorbar": {
              "outlinewidth": 0,
              "ticks": ""
             }
            },
            "type": "scattermapbox"
           }
          ],
          "scatterpolar": [
           {
            "marker": {
             "colorbar": {
              "outlinewidth": 0,
              "ticks": ""
             }
            },
            "type": "scatterpolar"
           }
          ],
          "scatterpolargl": [
           {
            "marker": {
             "colorbar": {
              "outlinewidth": 0,
              "ticks": ""
             }
            },
            "type": "scatterpolargl"
           }
          ],
          "scatterternary": [
           {
            "marker": {
             "colorbar": {
              "outlinewidth": 0,
              "ticks": ""
             }
            },
            "type": "scatterternary"
           }
          ],
          "surface": [
           {
            "colorbar": {
             "outlinewidth": 0,
             "ticks": ""
            },
            "colorscale": [
             [
              0,
              "#0d0887"
             ],
             [
              0.1111111111111111,
              "#46039f"
             ],
             [
              0.2222222222222222,
              "#7201a8"
             ],
             [
              0.3333333333333333,
              "#9c179e"
             ],
             [
              0.4444444444444444,
              "#bd3786"
             ],
             [
              0.5555555555555556,
              "#d8576b"
             ],
             [
              0.6666666666666666,
              "#ed7953"
             ],
             [
              0.7777777777777778,
              "#fb9f3a"
             ],
             [
              0.8888888888888888,
              "#fdca26"
             ],
             [
              1,
              "#f0f921"
             ]
            ],
            "type": "surface"
           }
          ],
          "table": [
           {
            "cells": {
             "fill": {
              "color": "#506784"
             },
             "line": {
              "color": "rgb(17,17,17)"
             }
            },
            "header": {
             "fill": {
              "color": "#2a3f5f"
             },
             "line": {
              "color": "rgb(17,17,17)"
             }
            },
            "type": "table"
           }
          ]
         },
         "layout": {
          "annotationdefaults": {
           "arrowcolor": "#f2f5fa",
           "arrowhead": 0,
           "arrowwidth": 1
          },
          "coloraxis": {
           "colorbar": {
            "outlinewidth": 0,
            "ticks": ""
           }
          },
          "colorscale": {
           "diverging": [
            [
             0,
             "#8e0152"
            ],
            [
             0.1,
             "#c51b7d"
            ],
            [
             0.2,
             "#de77ae"
            ],
            [
             0.3,
             "#f1b6da"
            ],
            [
             0.4,
             "#fde0ef"
            ],
            [
             0.5,
             "#f7f7f7"
            ],
            [
             0.6,
             "#e6f5d0"
            ],
            [
             0.7,
             "#b8e186"
            ],
            [
             0.8,
             "#7fbc41"
            ],
            [
             0.9,
             "#4d9221"
            ],
            [
             1,
             "#276419"
            ]
           ],
           "sequential": [
            [
             0,
             "#0d0887"
            ],
            [
             0.1111111111111111,
             "#46039f"
            ],
            [
             0.2222222222222222,
             "#7201a8"
            ],
            [
             0.3333333333333333,
             "#9c179e"
            ],
            [
             0.4444444444444444,
             "#bd3786"
            ],
            [
             0.5555555555555556,
             "#d8576b"
            ],
            [
             0.6666666666666666,
             "#ed7953"
            ],
            [
             0.7777777777777778,
             "#fb9f3a"
            ],
            [
             0.8888888888888888,
             "#fdca26"
            ],
            [
             1,
             "#f0f921"
            ]
           ],
           "sequentialminus": [
            [
             0,
             "#0d0887"
            ],
            [
             0.1111111111111111,
             "#46039f"
            ],
            [
             0.2222222222222222,
             "#7201a8"
            ],
            [
             0.3333333333333333,
             "#9c179e"
            ],
            [
             0.4444444444444444,
             "#bd3786"
            ],
            [
             0.5555555555555556,
             "#d8576b"
            ],
            [
             0.6666666666666666,
             "#ed7953"
            ],
            [
             0.7777777777777778,
             "#fb9f3a"
            ],
            [
             0.8888888888888888,
             "#fdca26"
            ],
            [
             1,
             "#f0f921"
            ]
           ]
          },
          "colorway": [
           "#636efa",
           "#EF553B",
           "#00cc96",
           "#ab63fa",
           "#FFA15A",
           "#19d3f3",
           "#FF6692",
           "#B6E880",
           "#FF97FF",
           "#FECB52"
          ],
          "font": {
           "color": "#f2f5fa"
          },
          "geo": {
           "bgcolor": "rgb(17,17,17)",
           "lakecolor": "rgb(17,17,17)",
           "landcolor": "rgb(17,17,17)",
           "showlakes": true,
           "showland": true,
           "subunitcolor": "#506784"
          },
          "hoverlabel": {
           "align": "left"
          },
          "hovermode": "closest",
          "mapbox": {
           "style": "dark"
          },
          "paper_bgcolor": "rgb(17,17,17)",
          "plot_bgcolor": "rgb(17,17,17)",
          "polar": {
           "angularaxis": {
            "gridcolor": "#506784",
            "linecolor": "#506784",
            "ticks": ""
           },
           "bgcolor": "rgb(17,17,17)",
           "radialaxis": {
            "gridcolor": "#506784",
            "linecolor": "#506784",
            "ticks": ""
           }
          },
          "scene": {
           "xaxis": {
            "backgroundcolor": "rgb(17,17,17)",
            "gridcolor": "#506784",
            "gridwidth": 2,
            "linecolor": "#506784",
            "showbackground": true,
            "ticks": "",
            "zerolinecolor": "#C8D4E3"
           },
           "yaxis": {
            "backgroundcolor": "rgb(17,17,17)",
            "gridcolor": "#506784",
            "gridwidth": 2,
            "linecolor": "#506784",
            "showbackground": true,
            "ticks": "",
            "zerolinecolor": "#C8D4E3"
           },
           "zaxis": {
            "backgroundcolor": "rgb(17,17,17)",
            "gridcolor": "#506784",
            "gridwidth": 2,
            "linecolor": "#506784",
            "showbackground": true,
            "ticks": "",
            "zerolinecolor": "#C8D4E3"
           }
          },
          "shapedefaults": {
           "line": {
            "color": "#f2f5fa"
           }
          },
          "sliderdefaults": {
           "bgcolor": "#C8D4E3",
           "bordercolor": "rgb(17,17,17)",
           "borderwidth": 1,
           "tickwidth": 0
          },
          "ternary": {
           "aaxis": {
            "gridcolor": "#506784",
            "linecolor": "#506784",
            "ticks": ""
           },
           "baxis": {
            "gridcolor": "#506784",
            "linecolor": "#506784",
            "ticks": ""
           },
           "bgcolor": "rgb(17,17,17)",
           "caxis": {
            "gridcolor": "#506784",
            "linecolor": "#506784",
            "ticks": ""
           }
          },
          "title": {
           "x": 0.05
          },
          "updatemenudefaults": {
           "bgcolor": "#506784",
           "borderwidth": 0
          },
          "xaxis": {
           "automargin": true,
           "gridcolor": "#283442",
           "linecolor": "#506784",
           "ticks": "",
           "title": {
            "standoff": 15
           },
           "zerolinecolor": "#283442",
           "zerolinewidth": 2
          },
          "yaxis": {
           "automargin": true,
           "gridcolor": "#283442",
           "linecolor": "#506784",
           "ticks": "",
           "title": {
            "standoff": 15
           },
           "zerolinecolor": "#283442",
           "zerolinewidth": 2
          }
         }
        },
        "title": {
         "text": "Top 10 US Actors and Actresses by appearances on Disney+"
        },
        "yaxis": {
         "title": {
          "text": "Count"
         }
        }
       }
      },
      "text/html": [
       "<div>\n",
       "        \n",
       "        \n",
       "            <div id=\"21276867-1681-4751-aa81-2f601416bac8\" class=\"plotly-graph-div\" style=\"height:525px; width:100%;\"></div>\n",
       "            <script type=\"text/javascript\">\n",
       "                require([\"plotly\"], function(Plotly) {\n",
       "                    window.PLOTLYENV=window.PLOTLYENV || {};\n",
       "                    \n",
       "                if (document.getElementById(\"21276867-1681-4751-aa81-2f601416bac8\")) {\n",
       "                    Plotly.newPlot(\n",
       "                        '21276867-1681-4751-aa81-2f601416bac8',\n",
       "                        [{\"marker\": {\"color\": \"#FFF5EE\", \"line\": {\"color\": \"rgb(0,0,0)\", \"width\": 1.5}}, \"type\": \"bar\", \"x\": [\"Natalie Portman\", \"Robert Downey Jr.\", \"Dove Cameron\", \"Tom Hanks\", \"Dessie Flynn\", \"Dean Jones\", \"James MacDonald\", \"Jim Cummings\", \"Walt Disney\", \"Pinto Colvig\", \"Clarence Nash\"], \"y\": [6, 7, 7, 8, 8, 9, 12, 13, 15, 23, 29]}],\n",
       "                        {\"template\": {\"data\": {\"bar\": [{\"error_x\": {\"color\": \"#f2f5fa\"}, \"error_y\": {\"color\": \"#f2f5fa\"}, \"marker\": {\"line\": {\"color\": \"rgb(17,17,17)\", \"width\": 0.5}}, \"type\": \"bar\"}], \"barpolar\": [{\"marker\": {\"line\": {\"color\": \"rgb(17,17,17)\", \"width\": 0.5}}, \"type\": \"barpolar\"}], \"carpet\": [{\"aaxis\": {\"endlinecolor\": \"#A2B1C6\", \"gridcolor\": \"#506784\", \"linecolor\": \"#506784\", \"minorgridcolor\": \"#506784\", \"startlinecolor\": \"#A2B1C6\"}, \"baxis\": {\"endlinecolor\": \"#A2B1C6\", \"gridcolor\": \"#506784\", \"linecolor\": \"#506784\", \"minorgridcolor\": \"#506784\", \"startlinecolor\": \"#A2B1C6\"}, \"type\": \"carpet\"}], \"choropleth\": [{\"colorbar\": {\"outlinewidth\": 0, \"ticks\": \"\"}, \"type\": \"choropleth\"}], \"contour\": [{\"colorbar\": {\"outlinewidth\": 0, \"ticks\": \"\"}, \"colorscale\": [[0.0, \"#0d0887\"], [0.1111111111111111, \"#46039f\"], [0.2222222222222222, \"#7201a8\"], [0.3333333333333333, \"#9c179e\"], [0.4444444444444444, \"#bd3786\"], [0.5555555555555556, \"#d8576b\"], [0.6666666666666666, \"#ed7953\"], [0.7777777777777778, \"#fb9f3a\"], [0.8888888888888888, \"#fdca26\"], [1.0, \"#f0f921\"]], \"type\": \"contour\"}], \"contourcarpet\": [{\"colorbar\": {\"outlinewidth\": 0, \"ticks\": \"\"}, \"type\": \"contourcarpet\"}], \"heatmap\": [{\"colorbar\": {\"outlinewidth\": 0, \"ticks\": \"\"}, \"colorscale\": [[0.0, \"#0d0887\"], [0.1111111111111111, \"#46039f\"], [0.2222222222222222, \"#7201a8\"], [0.3333333333333333, \"#9c179e\"], [0.4444444444444444, \"#bd3786\"], [0.5555555555555556, \"#d8576b\"], [0.6666666666666666, \"#ed7953\"], [0.7777777777777778, \"#fb9f3a\"], [0.8888888888888888, \"#fdca26\"], [1.0, \"#f0f921\"]], \"type\": \"heatmap\"}], \"heatmapgl\": [{\"colorbar\": {\"outlinewidth\": 0, \"ticks\": \"\"}, \"colorscale\": [[0.0, \"#0d0887\"], [0.1111111111111111, \"#46039f\"], [0.2222222222222222, \"#7201a8\"], [0.3333333333333333, \"#9c179e\"], [0.4444444444444444, \"#bd3786\"], [0.5555555555555556, \"#d8576b\"], [0.6666666666666666, \"#ed7953\"], [0.7777777777777778, \"#fb9f3a\"], [0.8888888888888888, \"#fdca26\"], [1.0, \"#f0f921\"]], \"type\": \"heatmapgl\"}], \"histogram\": [{\"marker\": {\"colorbar\": {\"outlinewidth\": 0, \"ticks\": \"\"}}, \"type\": \"histogram\"}], \"histogram2d\": [{\"colorbar\": {\"outlinewidth\": 0, \"ticks\": \"\"}, \"colorscale\": [[0.0, \"#0d0887\"], [0.1111111111111111, \"#46039f\"], [0.2222222222222222, \"#7201a8\"], [0.3333333333333333, \"#9c179e\"], [0.4444444444444444, \"#bd3786\"], [0.5555555555555556, \"#d8576b\"], [0.6666666666666666, \"#ed7953\"], [0.7777777777777778, \"#fb9f3a\"], [0.8888888888888888, \"#fdca26\"], [1.0, \"#f0f921\"]], \"type\": \"histogram2d\"}], \"histogram2dcontour\": [{\"colorbar\": {\"outlinewidth\": 0, \"ticks\": \"\"}, \"colorscale\": [[0.0, \"#0d0887\"], [0.1111111111111111, \"#46039f\"], [0.2222222222222222, \"#7201a8\"], [0.3333333333333333, \"#9c179e\"], [0.4444444444444444, \"#bd3786\"], [0.5555555555555556, \"#d8576b\"], [0.6666666666666666, \"#ed7953\"], [0.7777777777777778, \"#fb9f3a\"], [0.8888888888888888, \"#fdca26\"], [1.0, \"#f0f921\"]], \"type\": \"histogram2dcontour\"}], \"mesh3d\": [{\"colorbar\": {\"outlinewidth\": 0, \"ticks\": \"\"}, \"type\": \"mesh3d\"}], \"parcoords\": [{\"line\": {\"colorbar\": {\"outlinewidth\": 0, \"ticks\": \"\"}}, \"type\": \"parcoords\"}], \"pie\": [{\"automargin\": true, \"type\": \"pie\"}], \"scatter\": [{\"marker\": {\"line\": {\"color\": \"#283442\"}}, \"type\": \"scatter\"}], \"scatter3d\": [{\"line\": {\"colorbar\": {\"outlinewidth\": 0, \"ticks\": \"\"}}, \"marker\": {\"colorbar\": {\"outlinewidth\": 0, \"ticks\": \"\"}}, \"type\": \"scatter3d\"}], \"scattercarpet\": [{\"marker\": {\"colorbar\": {\"outlinewidth\": 0, \"ticks\": \"\"}}, \"type\": \"scattercarpet\"}], \"scattergeo\": [{\"marker\": {\"colorbar\": {\"outlinewidth\": 0, \"ticks\": \"\"}}, \"type\": \"scattergeo\"}], \"scattergl\": [{\"marker\": {\"line\": {\"color\": \"#283442\"}}, \"type\": \"scattergl\"}], \"scattermapbox\": [{\"marker\": {\"colorbar\": {\"outlinewidth\": 0, \"ticks\": \"\"}}, \"type\": \"scattermapbox\"}], \"scatterpolar\": [{\"marker\": {\"colorbar\": {\"outlinewidth\": 0, \"ticks\": \"\"}}, \"type\": \"scatterpolar\"}], \"scatterpolargl\": [{\"marker\": {\"colorbar\": {\"outlinewidth\": 0, \"ticks\": \"\"}}, \"type\": \"scatterpolargl\"}], \"scatterternary\": [{\"marker\": {\"colorbar\": {\"outlinewidth\": 0, \"ticks\": \"\"}}, \"type\": \"scatterternary\"}], \"surface\": [{\"colorbar\": {\"outlinewidth\": 0, \"ticks\": \"\"}, \"colorscale\": [[0.0, \"#0d0887\"], [0.1111111111111111, \"#46039f\"], [0.2222222222222222, \"#7201a8\"], [0.3333333333333333, \"#9c179e\"], [0.4444444444444444, \"#bd3786\"], [0.5555555555555556, \"#d8576b\"], [0.6666666666666666, \"#ed7953\"], [0.7777777777777778, \"#fb9f3a\"], [0.8888888888888888, \"#fdca26\"], [1.0, \"#f0f921\"]], \"type\": \"surface\"}], \"table\": [{\"cells\": {\"fill\": {\"color\": \"#506784\"}, \"line\": {\"color\": \"rgb(17,17,17)\"}}, \"header\": {\"fill\": {\"color\": \"#2a3f5f\"}, \"line\": {\"color\": \"rgb(17,17,17)\"}}, \"type\": \"table\"}]}, \"layout\": {\"annotationdefaults\": {\"arrowcolor\": \"#f2f5fa\", \"arrowhead\": 0, \"arrowwidth\": 1}, \"coloraxis\": {\"colorbar\": {\"outlinewidth\": 0, \"ticks\": \"\"}}, \"colorscale\": {\"diverging\": [[0, \"#8e0152\"], [0.1, \"#c51b7d\"], [0.2, \"#de77ae\"], [0.3, \"#f1b6da\"], [0.4, \"#fde0ef\"], [0.5, \"#f7f7f7\"], [0.6, \"#e6f5d0\"], [0.7, \"#b8e186\"], [0.8, \"#7fbc41\"], [0.9, \"#4d9221\"], [1, \"#276419\"]], \"sequential\": [[0.0, \"#0d0887\"], [0.1111111111111111, \"#46039f\"], [0.2222222222222222, \"#7201a8\"], [0.3333333333333333, \"#9c179e\"], [0.4444444444444444, \"#bd3786\"], [0.5555555555555556, \"#d8576b\"], [0.6666666666666666, \"#ed7953\"], [0.7777777777777778, \"#fb9f3a\"], [0.8888888888888888, \"#fdca26\"], [1.0, \"#f0f921\"]], \"sequentialminus\": [[0.0, \"#0d0887\"], [0.1111111111111111, \"#46039f\"], [0.2222222222222222, \"#7201a8\"], [0.3333333333333333, \"#9c179e\"], [0.4444444444444444, \"#bd3786\"], [0.5555555555555556, \"#d8576b\"], [0.6666666666666666, \"#ed7953\"], [0.7777777777777778, \"#fb9f3a\"], [0.8888888888888888, \"#fdca26\"], [1.0, \"#f0f921\"]]}, \"colorway\": [\"#636efa\", \"#EF553B\", \"#00cc96\", \"#ab63fa\", \"#FFA15A\", \"#19d3f3\", \"#FF6692\", \"#B6E880\", \"#FF97FF\", \"#FECB52\"], \"font\": {\"color\": \"#f2f5fa\"}, \"geo\": {\"bgcolor\": \"rgb(17,17,17)\", \"lakecolor\": \"rgb(17,17,17)\", \"landcolor\": \"rgb(17,17,17)\", \"showlakes\": true, \"showland\": true, \"subunitcolor\": \"#506784\"}, \"hoverlabel\": {\"align\": \"left\"}, \"hovermode\": \"closest\", \"mapbox\": {\"style\": \"dark\"}, \"paper_bgcolor\": \"rgb(17,17,17)\", \"plot_bgcolor\": \"rgb(17,17,17)\", \"polar\": {\"angularaxis\": {\"gridcolor\": \"#506784\", \"linecolor\": \"#506784\", \"ticks\": \"\"}, \"bgcolor\": \"rgb(17,17,17)\", \"radialaxis\": {\"gridcolor\": \"#506784\", \"linecolor\": \"#506784\", \"ticks\": \"\"}}, \"scene\": {\"xaxis\": {\"backgroundcolor\": \"rgb(17,17,17)\", \"gridcolor\": \"#506784\", \"gridwidth\": 2, \"linecolor\": \"#506784\", \"showbackground\": true, \"ticks\": \"\", \"zerolinecolor\": \"#C8D4E3\"}, \"yaxis\": {\"backgroundcolor\": \"rgb(17,17,17)\", \"gridcolor\": \"#506784\", \"gridwidth\": 2, \"linecolor\": \"#506784\", \"showbackground\": true, \"ticks\": \"\", \"zerolinecolor\": \"#C8D4E3\"}, \"zaxis\": {\"backgroundcolor\": \"rgb(17,17,17)\", \"gridcolor\": \"#506784\", \"gridwidth\": 2, \"linecolor\": \"#506784\", \"showbackground\": true, \"ticks\": \"\", \"zerolinecolor\": \"#C8D4E3\"}}, \"shapedefaults\": {\"line\": {\"color\": \"#f2f5fa\"}}, \"sliderdefaults\": {\"bgcolor\": \"#C8D4E3\", \"bordercolor\": \"rgb(17,17,17)\", \"borderwidth\": 1, \"tickwidth\": 0}, \"ternary\": {\"aaxis\": {\"gridcolor\": \"#506784\", \"linecolor\": \"#506784\", \"ticks\": \"\"}, \"baxis\": {\"gridcolor\": \"#506784\", \"linecolor\": \"#506784\", \"ticks\": \"\"}, \"bgcolor\": \"rgb(17,17,17)\", \"caxis\": {\"gridcolor\": \"#506784\", \"linecolor\": \"#506784\", \"ticks\": \"\"}}, \"title\": {\"x\": 0.05}, \"updatemenudefaults\": {\"bgcolor\": \"#506784\", \"borderwidth\": 0}, \"xaxis\": {\"automargin\": true, \"gridcolor\": \"#283442\", \"linecolor\": \"#506784\", \"ticks\": \"\", \"title\": {\"standoff\": 15}, \"zerolinecolor\": \"#283442\", \"zerolinewidth\": 2}, \"yaxis\": {\"automargin\": true, \"gridcolor\": \"#283442\", \"linecolor\": \"#506784\", \"ticks\": \"\", \"title\": {\"standoff\": 15}, \"zerolinecolor\": \"#283442\", \"zerolinewidth\": 2}}}, \"title\": {\"text\": \"Top 10 US Actors and Actresses by appearances on Disney+\"}, \"yaxis\": {\"title\": {\"text\": \"Count\"}}},\n",
       "                        {\"responsive\": true}\n",
       "                    ).then(function(){\n",
       "                            \n",
       "var gd = document.getElementById('21276867-1681-4751-aa81-2f601416bac8');\n",
       "var x = new MutationObserver(function (mutations, observer) {{\n",
       "        var display = window.getComputedStyle(gd).display;\n",
       "        if (!display || display === 'none') {{\n",
       "            console.log([gd, 'removed!']);\n",
       "            Plotly.purge(gd);\n",
       "            observer.disconnect();\n",
       "        }}\n",
       "}});\n",
       "\n",
       "// Listen for the removal of the full notebook cells\n",
       "var notebookContainer = gd.closest('#notebook-container');\n",
       "if (notebookContainer) {{\n",
       "    x.observe(notebookContainer, {childList: true});\n",
       "}}\n",
       "\n",
       "// Listen for the clearing of the current output cell\n",
       "var outputEl = gd.closest('.output');\n",
       "if (outputEl) {{\n",
       "    x.observe(outputEl, {childList: true});\n",
       "}}\n",
       "\n",
       "                        })\n",
       "                };\n",
       "                });\n",
       "            </script>\n",
       "        </div>"
      ]
     },
     "metadata": {},
     "output_type": "display_data"
    }
   ],
   "source": [
    "us_mov_cast = disney_df_copy[disney_df_copy['show_type'] == 'movie'] \n",
    "us_mov_df = us_mov_cast[us_mov_cast['country'] == 'USA']\n",
    "\n",
    "\n",
    "categories = \", \".join(us_mov_df['cast'].fillna(\"\")).split(\", \")\n",
    "counter_list = Counter(categories).most_common(11)\n",
    "counter_list = [_ for _ in counter_list if _[0] != \"\"]\n",
    "labels = [_[0] for _ in counter_list][::-1]\n",
    "values = [_[1] for _ in counter_list][::-1]\n",
    "trace1 = go.Bar(\n",
    "                x = labels,\n",
    "                y = values,\n",
    "                marker = dict(color = '#FFF5EE',\n",
    "                              line=dict(color='rgb(0,0,0)',width=1.5)))\n",
    "layout = go.Layout(template= \"plotly_dark\",title = 'Top 10 US Actors and Actresses by appearances on Disney+', yaxis =  dict(title = 'Count'))\n",
    "fig = go.Figure(data = [trace1], layout = layout)\n",
    "fig.show()"
   ]
  },
  {
   "cell_type": "code",
   "execution_count": 60,
   "metadata": {},
   "outputs": [
    {
     "data": {
      "image/png": "[encoded data removed]",
      "text/plain": [
       "<Figure size 1200x800 with 1 Axes>"
      ]
     },
     "metadata": {},
     "output_type": "display_data"
    }
   ],
   "source": [
    "disney_genre = disney_df_copy['genre'].value_counts().reset_index()[:10]\n",
    "disney_genre = disney_genre.rename(columns={'index': 'Genre',\n",
    "                           'genre':'Count'})\n",
    "disney_genre['Genre'] = disney_genre['Genre'].str.replace('Comedy, ', '')\n",
    "\n",
    "\n",
    "sizes=np.array(disney_genre['Count'])\n",
    "labels=disney_genre['Genre']\n",
    "colors = [plt.cm.Paired(i/float(len(labels))) for i in range(len(labels))]\n",
    "plt.figure(figsize=(12,8), dpi= 100)\n",
    "squarify.plot(sizes=sizes, label=labels, color = colors, alpha=.5, edgecolor=\"black\", linewidth=3, text_kwargs={'fontsize':10})\n",
    "plt.title('Top Ten Genres on Disney Plus', fontsize = 15)\n",
    "plt.axis('off')\n",
    "plt.show()"
   ]
  },
  {
   "cell_type": "code",
   "execution_count": null,
   "metadata": {
    "scrolled": true
   },
   "outputs": [],
   "source": [
    "plt.rcParams['figure.figsize'] = (10,10)\n",
    "\n",
    "wordcloud = WordCloud(stopwords=STOPWORDS, background_color= 'black',\n",
    "                     width= 800, height=800, max_words = 100).generate(' '.join(disney_df['title']))\n",
    "\n",
    "plt.imshow(wordcloud)\n",
    "plt.axis('off')\n",
    "plt.title('Popular Words in Disney Plus Titles', fontsize =24)\n",
    "plt.show()"
   ]
  },
  {
   "cell_type": "markdown",
   "metadata": {},
   "source": [
    "# IMDB Rating of Disney Plus Content"
   ]
  },
  {
   "cell_type": "code",
   "execution_count": null,
   "metadata": {},
   "outputs": [],
   "source": [
    "imdb_movies = pd.read_csv('Resources/IMDb movies.csv', usecols=['title', 'year', 'genre'])\n",
    "imdb_rating = pd.read_csv('Resources/IMDb ratings.csv', usecols=['weighted_average_vote'])\n",
    "\n",
    "movie_ratings = pd.DataFrame({'Title': imdb_movies.title,\n",
    "                             'Release Year': imdb_movies.year,\n",
    "                             'Genre': imdb_movies.genre,\n",
    "                             'Rating': imdb_rating.weighted_average_vote})\n",
    "\n",
    "# Drop the duplicate records \n",
    "movie_ratings.drop_duplicates(subset=['Title','Release Year', 'Rating'], inplace=True)\n",
    "movie_ratings.dropna()"
   ]
  },
  {
   "cell_type": "code",
   "execution_count": null,
   "metadata": {},
   "outputs": [],
   "source": [
    "imdb_disney = movie_ratings.merge(disney_df, left_on = 'Title', right_on = 'title', how='inner')\n",
    "\n",
    "imdb_disney= imdb_disney.sort_values('Rating', ascending=False)\n",
    "imdb_disney.head()"
   ]
  },
  {
   "cell_type": "code",
   "execution_count": null,
   "metadata": {},
   "outputs": [],
   "source": [
    "imdb_disney_cleaned = imdb_disney.drop_duplicates(['Title'], keep='last')\n",
    "imdb_disney_cleaned['Genre'] = imdb_disney_cleaned['Genre'].str.split(\",\").apply(lambda x:x[0])\n",
    "\n",
    "imdb_disney_cleaned.head()"
   ]
  },
  {
   "cell_type": "code",
   "execution_count": null,
   "metadata": {},
   "outputs": [],
   "source": [
    "top_rated_disney =imdb_disney_cleaned[:10]\n",
    "fig = plt.figure(figsize=(15,15))\n",
    "fig = pex.sunburst(top_rated_disney, path=['Title'], values='Rating', color='Rating', color_continuous_scale='RdBu')\n",
    "fig.show()"
   ]
  },
  {
   "cell_type": "code",
   "execution_count": null,
   "metadata": {},
   "outputs": [],
   "source": []
  },
  {
   "cell_type": "code",
   "execution_count": null,
   "metadata": {},
   "outputs": [],
   "source": []
  },
  {
   "cell_type": "code",
   "execution_count": null,
   "metadata": {},
   "outputs": [],
   "source": []
  },
  {
   "cell_type": "code",
   "execution_count": null,
   "metadata": {},
   "outputs": [],
   "source": []
  }
 ],
 "metadata": {
  "kernelspec": {
   "display_name": "Python 3",
   "language": "python",
   "name": "python3"
  },
  "language_info": {
   "codemirror_mode": {
    "name": "ipython",
    "version": 3
   },
   "file_extension": ".py",
   "mimetype": "text/x-python",
   "name": "python",
   "nbconvert_exporter": "python",
   "pygments_lexer": "ipython3",
   "version": "3.7.3"
  }
 },
 "nbformat": 4,
 "nbformat_minor": 2
}
